{
  "nbformat": 4,
  "nbformat_minor": 0,
  "metadata": {
    "colab": {
      "name": "Copy of CIFAR_10_Image_Classifier.ipynb",
      "provenance": [],
      "include_colab_link": true
    },
    "kernelspec": {
      "name": "python3",
      "display_name": "Python 3"
    },
    "accelerator": "GPU"
  },
  "cells": [
    {
      "cell_type": "markdown",
      "metadata": {
        "id": "view-in-github",
        "colab_type": "text"
      },
      "source": [
        "<a href=\"https://colab.research.google.com/github/hansal-trivedi/DeepLearning/blob/Hansal/Copy_of_CIFAR_10_Image_Classifier.ipynb\" target=\"_parent\"><img src=\"https://colab.research.google.com/assets/colab-badge.svg\" alt=\"Open In Colab\"/></a>"
      ]
    },
    {
      "cell_type": "code",
      "metadata": {
        "id": "DItw-Vd2qvDs"
      },
      "source": [
        "import tensorflow as tf\r\n",
        "import tensorflow_datasets as tfds\r\n",
        "import numpy as np\r\n",
        "import matplotlib.pyplot as plt\r\n",
        "import seaborn as sns\r\n",
        "import os\r\n",
        "from sklearn.model_selection import train_test_split\r\n",
        "\r\n",
        "from tensorflow.keras import models, layers\r\n",
        "from sklearn.metrics import accuracy_score"
      ],
      "execution_count": 1,
      "outputs": []
    },
    {
      "cell_type": "code",
      "metadata": {
        "colab": {
          "base_uri": "https://localhost:8080/"
        },
        "id": "O4r1kR8js4Fn",
        "outputId": "5cc808b8-f58a-4a9f-9cfc-0cbaea60f3ab"
      },
      "source": [
        "!wget https://www.cs.toronto.edu/~kriz/cifar-10-python.tar.gz"
      ],
      "execution_count": 2,
      "outputs": [
        {
          "output_type": "stream",
          "text": [
            "--2021-02-13 13:44:27--  https://www.cs.toronto.edu/~kriz/cifar-10-python.tar.gz\n",
            "Resolving www.cs.toronto.edu (www.cs.toronto.edu)... 128.100.3.30\n",
            "Connecting to www.cs.toronto.edu (www.cs.toronto.edu)|128.100.3.30|:443... connected.\n",
            "HTTP request sent, awaiting response... 200 OK\n",
            "Length: 170498071 (163M) [application/x-gzip]\n",
            "Saving to: ‘cifar-10-python.tar.gz’\n",
            "\n",
            "cifar-10-python.tar 100%[===================>] 162.60M  52.4MB/s    in 3.4s    \n",
            "\n",
            "2021-02-13 13:44:30 (47.7 MB/s) - ‘cifar-10-python.tar.gz’ saved [170498071/170498071]\n",
            "\n"
          ],
          "name": "stdout"
        }
      ]
    },
    {
      "cell_type": "code",
      "metadata": {
        "id": "l1pyQL-1vsJc"
      },
      "source": [
        "!mkdir ./cifar_10/\r\n",
        "!tar -xf cifar-10-python.tar.gz -C ./cifar_10/\r\n",
        "!rm -rf cifar-10-python.tar.gz"
      ],
      "execution_count": 3,
      "outputs": []
    },
    {
      "cell_type": "code",
      "metadata": {
        "colab": {
          "base_uri": "https://localhost:8080/"
        },
        "id": "jC7BdyRFwq3s",
        "outputId": "3b8502f5-d325-44fe-f23a-abe790de7f27"
      },
      "source": [
        "!ls -l ./cifar_10/cifar-10-batches-py/"
      ],
      "execution_count": 4,
      "outputs": [
        {
          "output_type": "stream",
          "text": [
            "total 181876\n",
            "-rw-r--r-- 1 2156 1103      158 Mar 31  2009 batches.meta\n",
            "-rw-r--r-- 1 2156 1103 31035704 Mar 31  2009 data_batch_1\n",
            "-rw-r--r-- 1 2156 1103 31035320 Mar 31  2009 data_batch_2\n",
            "-rw-r--r-- 1 2156 1103 31035999 Mar 31  2009 data_batch_3\n",
            "-rw-r--r-- 1 2156 1103 31035696 Mar 31  2009 data_batch_4\n",
            "-rw-r--r-- 1 2156 1103 31035623 Mar 31  2009 data_batch_5\n",
            "-rw-r--r-- 1 2156 1103       88 Jun  4  2009 readme.html\n",
            "-rw-r--r-- 1 2156 1103 31035526 Mar 31  2009 test_batch\n"
          ],
          "name": "stdout"
        }
      ]
    },
    {
      "cell_type": "code",
      "metadata": {
        "id": "KHdHegNBwU-G"
      },
      "source": [
        "workdir = os.curdir\r\n",
        "datadir = os.path.join(workdir,'cifar_10','cifar-10-batches-py')\r\n",
        "train_files = [os.path.join(datadir,f'data_batch_{i}') for i in range(1,6)]\r\n",
        "test_file = 'test_batch'"
      ],
      "execution_count": 5,
      "outputs": []
    },
    {
      "cell_type": "code",
      "metadata": {
        "id": "kpZnA1gJxZvk"
      },
      "source": [
        "# unpickle the data file containing the image\r\n",
        "def unpickle(file):\r\n",
        "    import pickle\r\n",
        "    with open(file, 'rb') as fo:\r\n",
        "        dict = pickle.load(fo, encoding='bytes')\r\n",
        "    return dict"
      ],
      "execution_count": 6,
      "outputs": []
    },
    {
      "cell_type": "code",
      "metadata": {
        "colab": {
          "base_uri": "https://localhost:8080/"
        },
        "id": "GSbBhdKMxjbV",
        "outputId": "ce096ae3-81d6-4586-e632-939ede2dc100"
      },
      "source": [
        "data_dict = unpickle(train_files[0])\r\n",
        "data_dict.keys()"
      ],
      "execution_count": 7,
      "outputs": [
        {
          "output_type": "execute_result",
          "data": {
            "text/plain": [
              "dict_keys([b'batch_label', b'labels', b'data', b'filenames'])"
            ]
          },
          "metadata": {
            "tags": []
          },
          "execution_count": 7
        }
      ]
    },
    {
      "cell_type": "code",
      "metadata": {
        "colab": {
          "base_uri": "https://localhost:8080/"
        },
        "id": "7qNTQodt57Q8",
        "outputId": "9170c1b1-190f-4cb6-83da-78690a9d33f5"
      },
      "source": [
        "# read all files into a dataset\r\n",
        "data = np.empty(data_dict[b'data'].shape)\r\n",
        "labels = list()\r\n",
        "for fl in train_files:\r\n",
        "  print(f\"Loading File {fl}\")\r\n",
        "  df = unpickle(fl)\r\n",
        "  print(df[b'batch_label'])\r\n",
        "  print(f\"Geting Data\")\r\n",
        "  if df[b'batch_label'] == b'training batch 1 of 5':\r\n",
        "    data = df[b'data']\r\n",
        "  else:\r\n",
        "    data = np.concatenate([data,df[b'data']])\r\n",
        "  print(\"Geting labels\")\r\n",
        "  labels = labels + df[b'labels']\r\n",
        "  print(f\"Shape of Data is {data.shape}\")\r\n",
        "  print(\"=\"*50)"
      ],
      "execution_count": 8,
      "outputs": [
        {
          "output_type": "stream",
          "text": [
            "Loading File ./cifar_10/cifar-10-batches-py/data_batch_1\n",
            "b'training batch 1 of 5'\n",
            "Geting Data\n",
            "Geting labels\n",
            "Shape of Data is (10000, 3072)\n",
            "==================================================\n",
            "Loading File ./cifar_10/cifar-10-batches-py/data_batch_2\n",
            "b'training batch 2 of 5'\n",
            "Geting Data\n",
            "Geting labels\n",
            "Shape of Data is (20000, 3072)\n",
            "==================================================\n",
            "Loading File ./cifar_10/cifar-10-batches-py/data_batch_3\n",
            "b'training batch 3 of 5'\n",
            "Geting Data\n",
            "Geting labels\n",
            "Shape of Data is (30000, 3072)\n",
            "==================================================\n",
            "Loading File ./cifar_10/cifar-10-batches-py/data_batch_4\n",
            "b'training batch 4 of 5'\n",
            "Geting Data\n",
            "Geting labels\n",
            "Shape of Data is (40000, 3072)\n",
            "==================================================\n",
            "Loading File ./cifar_10/cifar-10-batches-py/data_batch_5\n",
            "b'training batch 5 of 5'\n",
            "Geting Data\n",
            "Geting labels\n",
            "Shape of Data is (50000, 3072)\n",
            "==================================================\n"
          ],
          "name": "stdout"
        }
      ]
    },
    {
      "cell_type": "code",
      "metadata": {
        "colab": {
          "base_uri": "https://localhost:8080/"
        },
        "id": "9008aWLS_s20",
        "outputId": "bc7f06d2-0355-4cf2-aea7-682f5c02d41c"
      },
      "source": [
        "# Reading Metadata\r\n",
        "label_meta = unpickle(os.path.join(datadir,'batches.meta'))[b'label_names']\r\n",
        "label_meta_mapping = {i:label_meta[i].decode('utf-8') for i in range(len(label_meta))}\r\n",
        "label_meta_mapping"
      ],
      "execution_count": 9,
      "outputs": [
        {
          "output_type": "execute_result",
          "data": {
            "text/plain": [
              "{0: 'airplane',\n",
              " 1: 'automobile',\n",
              " 2: 'bird',\n",
              " 3: 'cat',\n",
              " 4: 'deer',\n",
              " 5: 'dog',\n",
              " 6: 'frog',\n",
              " 7: 'horse',\n",
              " 8: 'ship',\n",
              " 9: 'truck'}"
            ]
          },
          "metadata": {
            "tags": []
          },
          "execution_count": 9
        }
      ]
    },
    {
      "cell_type": "code",
      "metadata": {
        "colab": {
          "base_uri": "https://localhost:8080/"
        },
        "id": "AcX-aCfmxmuM",
        "outputId": "4348b3f3-c5ce-46d4-b79f-fcb4ed83380c"
      },
      "source": [
        "labels = np.array(labels)\r\n",
        "for i in range(0,10):\r\n",
        "  lb_count = np.sum((labels == i)*1)\r\n",
        "  print(f\"{label_meta_mapping[i]}: {lb_count}\")"
      ],
      "execution_count": 10,
      "outputs": [
        {
          "output_type": "stream",
          "text": [
            "airplane: 5000\n",
            "automobile: 5000\n",
            "bird: 5000\n",
            "cat: 5000\n",
            "deer: 5000\n",
            "dog: 5000\n",
            "frog: 5000\n",
            "horse: 5000\n",
            "ship: 5000\n",
            "truck: 5000\n"
          ],
          "name": "stdout"
        }
      ]
    },
    {
      "cell_type": "code",
      "metadata": {
        "id": "yZ5IvZ17Ksd3"
      },
      "source": [
        "data_rgb = np.reshape(data, (data.shape[0], 3, 32, 32)).transpose(0, 2, 3, 1)"
      ],
      "execution_count": 11,
      "outputs": []
    },
    {
      "cell_type": "code",
      "metadata": {
        "colab": {
          "base_uri": "https://localhost:8080/",
          "height": 343
        },
        "id": "UPuCiBVlYwQf",
        "outputId": "23b93edd-aa1e-4bdd-ffd8-f923e836c195"
      },
      "source": [
        "rnd_idx = np.random.randint(1,5000)\r\n",
        "fig, ax = plt.subplots(nrows=2, ncols=5, figsize=(12,6))\r\n",
        "for i in range(10):\r\n",
        "  samp = data_rgb[labels == i][rnd_idx,:,:,:]\r\n",
        "  ax[int(i/5)][i%5].imshow(samp)"
      ],
      "execution_count": 12,
      "outputs": [
        {
          "output_type": "display_data",
          "data": {
            "image/png": "[encoded data removed]",
            "text/plain": [
              "<Figure size 864x432 with 10 Axes>"
            ]
          },
          "metadata": {
            "tags": [],
            "needs_background": "light"
          }
        }
      ]
    },
    {
      "cell_type": "code",
      "metadata": {
        "id": "gmDrzXI5DPR3"
      },
      "source": [
        "def prep_pixels(data):\r\n",
        "  data_norm = data.astype('float32')\r\n",
        "\r\n",
        "  data_norm = data_norm / 255.0\r\n",
        "\r\n",
        "  return data_norm"
      ],
      "execution_count": 13,
      "outputs": []
    },
    {
      "cell_type": "code",
      "metadata": {
        "id": "yBmXv7AkD6fa"
      },
      "source": [
        "data_rgb_norm = prep_pixels(data_rgb)"
      ],
      "execution_count": 14,
      "outputs": []
    },
    {
      "cell_type": "code",
      "metadata": {
        "id": "F617ERavEIt8"
      },
      "source": [
        "labels_b = tf.keras.utils.to_categorical(labels)"
      ],
      "execution_count": 15,
      "outputs": []
    },
    {
      "cell_type": "code",
      "metadata": {
        "colab": {
          "base_uri": "https://localhost:8080/"
        },
        "id": "dlBd-n2wCnbj",
        "outputId": "ce6a2b93-9b70-46e3-c579-0506fc227d2f"
      },
      "source": [
        "train_X, val_X, train_y, val_y = train_test_split(data_rgb_norm, labels_b, test_size=0.3)\r\n",
        "#test_X, val_X, test_y, val_y = train_test_split(test_X, test_y, test_size=0.7)\r\n",
        "print(f\"Training Data Size : {train_X.shape[0]}\")\r\n",
        "print(f\"Validation Data Size : {val_X.shape[0]}\")\r\n",
        "#print(f\"Testing Data Size : {test_X.shape[0]}\")"
      ],
      "execution_count": 16,
      "outputs": [
        {
          "output_type": "stream",
          "text": [
            "Training Data Size : 35000\n",
            "Validation Data Size : 15000\n"
          ],
          "name": "stdout"
        }
      ]
    },
    {
      "cell_type": "code",
      "metadata": {
        "id": "rtI_7kvJyEYl"
      },
      "source": [
        "model = models.Sequential()\r\n",
        "model.add(layers.Input(shape=train_X.shape[1:], batch_size=32))\r\n",
        "model.add(layers.Dense(3072, activation='elu'))\r\n",
        "model.add(layers.Dense(768, activation='elu'))\r\n",
        "model.add(layers.Dense(196, activation='elu'))\r\n",
        "model.add(layers.Dense(64, activation='elu'))\r\n",
        "model.add(layers.Dense(10, activation='sigmoid'))"
      ],
      "execution_count": null,
      "outputs": []
    },
    {
      "cell_type": "code",
      "metadata": {
        "id": "U3a8HBQOLesF"
      },
      "source": [
        "model.compile(optimizer='adam',\r\n",
        "              loss=tf.keras.losses.SparseCategoricalCrossentropy(from_logits=True),\r\n",
        "              metrics=['accuracy'])"
      ],
      "execution_count": null,
      "outputs": []
    },
    {
      "cell_type": "code",
      "metadata": {
        "colab": {
          "base_uri": "https://localhost:8080/"
        },
        "id": "42qZBhycG-Ov",
        "outputId": "ac443a02-4380-4b11-e88f-10475acdba18"
      },
      "source": [
        "model.summary()"
      ],
      "execution_count": null,
      "outputs": [
        {
          "output_type": "stream",
          "text": [
            "Model: \"sequential_10\"\n",
            "_________________________________________________________________\n",
            "Layer (type)                 Output Shape              Param #   \n",
            "=================================================================\n",
            "dense_47 (Dense)             (32, 3072)                9440256   \n",
            "_________________________________________________________________\n",
            "dense_48 (Dense)             (32, 768)                 2360064   \n",
            "_________________________________________________________________\n",
            "dense_49 (Dense)             (32, 196)                 150724    \n",
            "_________________________________________________________________\n",
            "dense_50 (Dense)             (32, 64)                  12608     \n",
            "_________________________________________________________________\n",
            "dense_51 (Dense)             (32, 10)                  650       \n",
            "=================================================================\n",
            "Total params: 11,964,302\n",
            "Trainable params: 11,964,302\n",
            "Non-trainable params: 0\n",
            "_________________________________________________________________\n"
          ],
          "name": "stdout"
        }
      ]
    },
    {
      "cell_type": "code",
      "metadata": {
        "colab": {
          "base_uri": "https://localhost:8080/"
        },
        "id": "nKCOyZofL9QH",
        "outputId": "7973de2c-646c-4a70-c946-cb88cbf2a81f"
      },
      "source": [
        "model.fit(x=train_X, y=train_y, batch_size=32, epochs=10, validation_data=(val_X, val_y), workers=-1,use_multiprocessing=True)"
      ],
      "execution_count": null,
      "outputs": [
        {
          "output_type": "stream",
          "text": [
            "Epoch 1/10\n",
            "1250/1250 [==============================] - 6s 4ms/step - loss: 2.4595 - accuracy: 0.2263 - val_loss: 1.7882 - val_accuracy: 0.3438\n",
            "Epoch 2/10\n",
            "1250/1250 [==============================] - 5s 4ms/step - loss: 1.8031 - accuracy: 0.3406 - val_loss: 1.7150 - val_accuracy: 0.3763\n",
            "Epoch 3/10\n",
            "1250/1250 [==============================] - 5s 4ms/step - loss: 1.7085 - accuracy: 0.3820 - val_loss: 1.6243 - val_accuracy: 0.4130\n",
            "Epoch 4/10\n",
            "1250/1250 [==============================] - 5s 4ms/step - loss: 1.6413 - accuracy: 0.4063 - val_loss: 1.5587 - val_accuracy: 0.4352\n",
            "Epoch 5/10\n",
            "1250/1250 [==============================] - 5s 4ms/step - loss: 1.5763 - accuracy: 0.4307 - val_loss: 1.5330 - val_accuracy: 0.4495\n",
            "Epoch 6/10\n",
            "1250/1250 [==============================] - 5s 4ms/step - loss: 1.5210 - accuracy: 0.4560 - val_loss: 1.5172 - val_accuracy: 0.4463\n",
            "Epoch 7/10\n",
            "1250/1250 [==============================] - 5s 4ms/step - loss: 1.5043 - accuracy: 0.4613 - val_loss: 1.4881 - val_accuracy: 0.4688\n",
            "Epoch 8/10\n",
            "1250/1250 [==============================] - 5s 4ms/step - loss: 1.4593 - accuracy: 0.4762 - val_loss: 1.4634 - val_accuracy: 0.4790\n",
            "Epoch 9/10\n",
            "1250/1250 [==============================] - 5s 4ms/step - loss: 1.4328 - accuracy: 0.4884 - val_loss: 1.4441 - val_accuracy: 0.4819\n",
            "Epoch 10/10\n",
            "1250/1250 [==============================] - 5s 4ms/step - loss: 1.3810 - accuracy: 0.5041 - val_loss: 1.4241 - val_accuracy: 0.4850\n"
          ],
          "name": "stdout"
        },
        {
          "output_type": "execute_result",
          "data": {
            "text/plain": [
              "<tensorflow.python.keras.callbacks.History at 0x7f8c2de9f438>"
            ]
          },
          "metadata": {
            "tags": []
          },
          "execution_count": 111
        }
      ]
    },
    {
      "cell_type": "code",
      "metadata": {
        "id": "Ahcl3XCAOH_W"
      },
      "source": [
        "def top_5_error_rate(predict_proba, y_true):\r\n",
        "  result = 0\r\n",
        "  for i in range(len(y_true)):\r\n",
        "    row = predict_proba[i,:]\r\n",
        "    top_5 = sorted(range(len(row)), key = lambda x: row[x], reverse=True)[:5]\r\n",
        "    if y_true[i] in top_5:\r\n",
        "      result = result + 1\r\n",
        "  \r\n",
        "  return result/len(y_true)"
      ],
      "execution_count": null,
      "outputs": []
    },
    {
      "cell_type": "code",
      "metadata": {
        "colab": {
          "base_uri": "https://localhost:8080/"
        },
        "id": "QTXGUCkQO0zs",
        "outputId": "0e80fb91-9a51-4f65-cc35-85744872099b"
      },
      "source": [
        "proba_train_X = model.predict(test_X)\r\n",
        "print(f'Accuracy Score : {model.evaluate(test_X, test_y)}')\r\n",
        "print(top_5_error_rate(proba_train_X, test_y))"
      ],
      "execution_count": null,
      "outputs": [
        {
          "output_type": "stream",
          "text": [
            "94/94 [==============================] - 0s 2ms/step - loss: 1.4332 - accuracy: 0.5017\n",
            "Accuracy Score : [1.4332008361816406, 0.5016622543334961]\n",
            "0.9163333333333333\n"
          ],
          "name": "stdout"
        }
      ]
    },
    {
      "cell_type": "code",
      "metadata": {
        "id": "FPy-x08_Rqrr"
      },
      "source": [
        "test_batch = unpickle(os.path.join(datadir,'test_batch'))\r\n",
        "test_data = test_batch[b'data']\r\n",
        "test_labels = test_batch[b'labels']"
      ],
      "execution_count": null,
      "outputs": []
    },
    {
      "cell_type": "code",
      "metadata": {
        "id": "QSbPOBk5T0iW"
      },
      "source": [
        "test_data = np.reshape(test_data, (test_data.shape[0], 3, 32, 32)).transpose(0, 2, 3, 1)"
      ],
      "execution_count": null,
      "outputs": []
    },
    {
      "cell_type": "code",
      "metadata": {
        "colab": {
          "base_uri": "https://localhost:8080/",
          "height": 284
        },
        "id": "eOnuDiESw_Pm",
        "outputId": "5f308dcb-03b6-456b-a3ee-c2d2be918802"
      },
      "source": [
        "idx = np.random.randint(200)\r\n",
        "plt.imshow(test_data[idx])\r\n",
        "label_meta_mapping[test_labels[idx]]"
      ],
      "execution_count": null,
      "outputs": [
        {
          "output_type": "execute_result",
          "data": {
            "application/vnd.google.colaboratory.intrinsic+json": {
              "type": "string"
            },
            "text/plain": [
              "'horse'"
            ]
          },
          "metadata": {
            "tags": []
          },
          "execution_count": 116
        },
        {
          "output_type": "display_data",
          "data": {
            "image/png": "[encoded data removed]",
            "text/plain": [
              "<Figure size 432x288 with 1 Axes>"
            ]
          },
          "metadata": {
            "tags": [],
            "needs_background": "light"
          }
        }
      ]
    },
    {
      "cell_type": "code",
      "metadata": {
        "colab": {
          "base_uri": "https://localhost:8080/"
        },
        "id": "jaY38UrkTpw9",
        "outputId": "102ede88-cbbd-496e-a0c9-b3794b1a0628"
      },
      "source": [
        "proba_train_X = model.predict(np.reshape(test_data, (test_data.shape[0], 3072))/255)\r\n",
        "print(f'Accuracy Score : {model.evaluate(np.reshape(test_data, (test_data.shape[0], 3072))/255, np.array(test_labels))}')\r\n",
        "print(top_5_error_rate(proba_train_X, test_labels))"
      ],
      "execution_count": null,
      "outputs": [
        {
          "output_type": "stream",
          "text": [
            "313/313 [==============================] - 1s 2ms/step - loss: 1.4188 - accuracy: 0.4946\n",
            "Accuracy Score : [1.4188294410705566, 0.49460864067077637]\n",
            "0.9177\n"
          ],
          "name": "stdout"
        }
      ]
    },
    {
      "cell_type": "code",
      "metadata": {
        "id": "hmuBgK4dFUUd"
      },
      "source": [
        "from tensorflow.keras.models import Sequential\r\n",
        "from tensorflow.keras.layers import Conv2D\r\n",
        "from tensorflow.keras.layers import Dense\r\n",
        "from tensorflow.keras.layers import MaxPooling2D\r\n",
        "from tensorflow.keras.layers import Flatten\r\n",
        "from tensorflow.keras.layers import Dropout\r\n",
        "from tensorflow.keras.layers import BatchNormalization\r\n"
      ],
      "execution_count": 19,
      "outputs": []
    },
    {
      "cell_type": "code",
      "metadata": {
        "id": "mr-G3bTZx2ew"
      },
      "source": [
        "def define_model(opt = 'adam',loss = 'categorical_crossentropy'):\r\n",
        "  model = Sequential()\r\n",
        "  model.add(Conv2D(32,(3,3), activation='relu', kernel_initializer='he_uniform', padding='same', input_shape=(32,32,3)))\r\n",
        "  model.add(Conv2D(32,(3,3), activation='relu',kernel_initializer='he_uniform', padding='same'))\r\n",
        "  model.add(MaxPooling2D(2,2))\r\n",
        "  model.add(Dropout(0.2))\r\n",
        "  model.add(Conv2D(64,(3,3), activation='relu', kernel_initializer='he_uniform', padding='same'))\r\n",
        "  model.add(Conv2D(64,(3,3), activation='relu', kernel_initializer='he_uniform', padding='same'))\r\n",
        "  model.add(MaxPooling2D(2,2))\r\n",
        "  model.add(Dropout(0.2))\r\n",
        "  model.add(Conv2D(128,(3,3), activation='relu',kernel_initializer='he_uniform', padding='same'))\r\n",
        "  model.add(Conv2D(128,(3,3), activation='relu',kernel_initializer='he_uniform', padding='same'))\r\n",
        "  model.add(MaxPooling2D(2,2))\r\n",
        "  model.add(Dropout(0.2))\r\n",
        "  model.add(Flatten())\r\n",
        "  model.add(Dense(128, activation='relu', kernel_initializer='he_uniform'))\r\n",
        "  model.add(Dense(10, activation='softmax'))\r\n",
        "\r\n",
        "  model.compile(optimizer=opt, loss=loss, metrics = ['accuracy'])\r\n",
        "  print(model.summary())\r\n",
        "  return model"
      ],
      "execution_count": 22,
      "outputs": []
    },
    {
      "cell_type": "code",
      "metadata": {
        "colab": {
          "base_uri": "https://localhost:8080/"
        },
        "id": "-O4Ik0NCHmv1",
        "outputId": "329b6a06-e768-4d92-9651-346c3112e905"
      },
      "source": [
        "model = define_model()\r\n"
      ],
      "execution_count": 23,
      "outputs": [
        {
          "output_type": "stream",
          "text": [
            "Model: \"sequential_1\"\n",
            "_________________________________________________________________\n",
            "Layer (type)                 Output Shape              Param #   \n",
            "=================================================================\n",
            "conv2d (Conv2D)              (None, 32, 32, 32)        896       \n",
            "_________________________________________________________________\n",
            "conv2d_1 (Conv2D)            (None, 32, 32, 32)        9248      \n",
            "_________________________________________________________________\n",
            "max_pooling2d (MaxPooling2D) (None, 16, 16, 32)        0         \n",
            "_________________________________________________________________\n",
            "dropout (Dropout)            (None, 16, 16, 32)        0         \n",
            "_________________________________________________________________\n",
            "conv2d_2 (Conv2D)            (None, 16, 16, 64)        18496     \n",
            "_________________________________________________________________\n",
            "conv2d_3 (Conv2D)            (None, 16, 16, 64)        36928     \n",
            "_________________________________________________________________\n",
            "max_pooling2d_1 (MaxPooling2 (None, 8, 8, 64)          0         \n",
            "_________________________________________________________________\n",
            "dropout_1 (Dropout)          (None, 8, 8, 64)          0         \n",
            "_________________________________________________________________\n",
            "conv2d_4 (Conv2D)            (None, 8, 8, 128)         73856     \n",
            "_________________________________________________________________\n",
            "conv2d_5 (Conv2D)            (None, 8, 8, 128)         147584    \n",
            "_________________________________________________________________\n",
            "max_pooling2d_2 (MaxPooling2 (None, 4, 4, 128)         0         \n",
            "_________________________________________________________________\n",
            "dropout_2 (Dropout)          (None, 4, 4, 128)         0         \n",
            "_________________________________________________________________\n",
            "flatten (Flatten)            (None, 2048)              0         \n",
            "_________________________________________________________________\n",
            "dense (Dense)                (None, 128)               262272    \n",
            "_________________________________________________________________\n",
            "dense_1 (Dense)              (None, 10)                1290      \n",
            "=================================================================\n",
            "Total params: 550,570\n",
            "Trainable params: 550,570\n",
            "Non-trainable params: 0\n",
            "_________________________________________________________________\n",
            "None\n"
          ],
          "name": "stdout"
        }
      ]
    },
    {
      "cell_type": "code",
      "metadata": {
        "colab": {
          "base_uri": "https://localhost:8080/"
        },
        "id": "5xJ-HPWeH75o",
        "outputId": "811f78c9-80c6-4359-95ca-648f6d7a557d"
      },
      "source": [
        "history = model.fit(train_X, train_y, epochs=50, batch_size=64, validation_data=(val_X,val_y), verbose=1)\r\n",
        "_,acc= model.evaluate(val_X,val_y, verbose=0)\r\n",
        "print('> %.3f' % (acc * 100.0))"
      ],
      "execution_count": 24,
      "outputs": [
        {
          "output_type": "stream",
          "text": [
            "Epoch 1/50\n",
            "547/547 [==============================] - 12s 9ms/step - loss: 2.0474 - accuracy: 0.2669 - val_loss: 1.3857 - val_accuracy: 0.4977\n",
            "Epoch 2/50\n",
            "547/547 [==============================] - 4s 8ms/step - loss: 1.3431 - accuracy: 0.5178 - val_loss: 1.1118 - val_accuracy: 0.6019\n",
            "Epoch 3/50\n",
            "547/547 [==============================] - 4s 8ms/step - loss: 1.0941 - accuracy: 0.6146 - val_loss: 0.9962 - val_accuracy: 0.6495\n",
            "Epoch 4/50\n",
            "547/547 [==============================] - 4s 8ms/step - loss: 0.9394 - accuracy: 0.6700 - val_loss: 0.8882 - val_accuracy: 0.6852\n",
            "Epoch 5/50\n",
            "547/547 [==============================] - 4s 8ms/step - loss: 0.8117 - accuracy: 0.7116 - val_loss: 0.7926 - val_accuracy: 0.7245\n",
            "Epoch 6/50\n",
            "547/547 [==============================] - 4s 8ms/step - loss: 0.7319 - accuracy: 0.7417 - val_loss: 0.7828 - val_accuracy: 0.7290\n",
            "Epoch 7/50\n",
            "547/547 [==============================] - 4s 8ms/step - loss: 0.6544 - accuracy: 0.7670 - val_loss: 0.7288 - val_accuracy: 0.7481\n",
            "Epoch 8/50\n",
            "547/547 [==============================] - 4s 8ms/step - loss: 0.5982 - accuracy: 0.7888 - val_loss: 0.7483 - val_accuracy: 0.7470\n",
            "Epoch 9/50\n",
            "547/547 [==============================] - 4s 8ms/step - loss: 0.5623 - accuracy: 0.8022 - val_loss: 0.6980 - val_accuracy: 0.7635\n",
            "Epoch 10/50\n",
            "547/547 [==============================] - 4s 8ms/step - loss: 0.5115 - accuracy: 0.8193 - val_loss: 0.6544 - val_accuracy: 0.7814\n",
            "Epoch 11/50\n",
            "547/547 [==============================] - 4s 8ms/step - loss: 0.4659 - accuracy: 0.8356 - val_loss: 0.6786 - val_accuracy: 0.7713\n",
            "Epoch 12/50\n",
            "547/547 [==============================] - 4s 8ms/step - loss: 0.4337 - accuracy: 0.8488 - val_loss: 0.6730 - val_accuracy: 0.7787\n",
            "Epoch 13/50\n",
            "547/547 [==============================] - 4s 8ms/step - loss: 0.4248 - accuracy: 0.8512 - val_loss: 0.6930 - val_accuracy: 0.7761\n",
            "Epoch 14/50\n",
            "547/547 [==============================] - 5s 8ms/step - loss: 0.3896 - accuracy: 0.8614 - val_loss: 0.7149 - val_accuracy: 0.7755\n",
            "Epoch 15/50\n",
            "547/547 [==============================] - 5s 8ms/step - loss: 0.3624 - accuracy: 0.8703 - val_loss: 0.6692 - val_accuracy: 0.7871\n",
            "Epoch 16/50\n",
            "547/547 [==============================] - 5s 8ms/step - loss: 0.3521 - accuracy: 0.8729 - val_loss: 0.7114 - val_accuracy: 0.7782\n",
            "Epoch 17/50\n",
            "547/547 [==============================] - 4s 8ms/step - loss: 0.3206 - accuracy: 0.8861 - val_loss: 0.7374 - val_accuracy: 0.7778\n",
            "Epoch 18/50\n",
            "547/547 [==============================] - 4s 8ms/step - loss: 0.3084 - accuracy: 0.8917 - val_loss: 0.7165 - val_accuracy: 0.7813\n",
            "Epoch 19/50\n",
            "547/547 [==============================] - 4s 8ms/step - loss: 0.2958 - accuracy: 0.8960 - val_loss: 0.7449 - val_accuracy: 0.7839\n",
            "Epoch 20/50\n",
            "547/547 [==============================] - 4s 8ms/step - loss: 0.2881 - accuracy: 0.8991 - val_loss: 0.7506 - val_accuracy: 0.7860\n",
            "Epoch 21/50\n",
            "547/547 [==============================] - 5s 8ms/step - loss: 0.2699 - accuracy: 0.9023 - val_loss: 0.7271 - val_accuracy: 0.7904\n",
            "Epoch 22/50\n",
            "547/547 [==============================] - 5s 8ms/step - loss: 0.2527 - accuracy: 0.9112 - val_loss: 0.7522 - val_accuracy: 0.7907\n",
            "Epoch 23/50\n",
            "547/547 [==============================] - 5s 8ms/step - loss: 0.2394 - accuracy: 0.9148 - val_loss: 0.7544 - val_accuracy: 0.7912\n",
            "Epoch 24/50\n",
            "547/547 [==============================] - 5s 8ms/step - loss: 0.2500 - accuracy: 0.9119 - val_loss: 0.7788 - val_accuracy: 0.7903\n",
            "Epoch 25/50\n",
            "547/547 [==============================] - 5s 8ms/step - loss: 0.2406 - accuracy: 0.9154 - val_loss: 0.8079 - val_accuracy: 0.7926\n",
            "Epoch 26/50\n",
            "547/547 [==============================] - 4s 8ms/step - loss: 0.2297 - accuracy: 0.9192 - val_loss: 0.7935 - val_accuracy: 0.7896\n",
            "Epoch 27/50\n",
            "547/547 [==============================] - 5s 8ms/step - loss: 0.2209 - accuracy: 0.9218 - val_loss: 0.7895 - val_accuracy: 0.7893\n",
            "Epoch 28/50\n",
            "547/547 [==============================] - 4s 8ms/step - loss: 0.2108 - accuracy: 0.9271 - val_loss: 0.7951 - val_accuracy: 0.7875\n",
            "Epoch 29/50\n",
            "547/547 [==============================] - 5s 8ms/step - loss: 0.2097 - accuracy: 0.9276 - val_loss: 0.8449 - val_accuracy: 0.7880\n",
            "Epoch 30/50\n",
            "547/547 [==============================] - 5s 8ms/step - loss: 0.2034 - accuracy: 0.9283 - val_loss: 0.8147 - val_accuracy: 0.7929\n",
            "Epoch 31/50\n",
            "547/547 [==============================] - 4s 8ms/step - loss: 0.1973 - accuracy: 0.9304 - val_loss: 0.8204 - val_accuracy: 0.7880\n",
            "Epoch 32/50\n",
            "547/547 [==============================] - 4s 8ms/step - loss: 0.2032 - accuracy: 0.9304 - val_loss: 0.8791 - val_accuracy: 0.7815\n",
            "Epoch 33/50\n",
            "547/547 [==============================] - 4s 8ms/step - loss: 0.2025 - accuracy: 0.9289 - val_loss: 0.8467 - val_accuracy: 0.7957\n",
            "Epoch 34/50\n",
            "547/547 [==============================] - 4s 8ms/step - loss: 0.1846 - accuracy: 0.9345 - val_loss: 0.8642 - val_accuracy: 0.7807\n",
            "Epoch 35/50\n",
            "547/547 [==============================] - 4s 8ms/step - loss: 0.1865 - accuracy: 0.9360 - val_loss: 0.8955 - val_accuracy: 0.7817\n",
            "Epoch 36/50\n",
            "547/547 [==============================] - 4s 8ms/step - loss: 0.1934 - accuracy: 0.9308 - val_loss: 0.8964 - val_accuracy: 0.7785\n",
            "Epoch 37/50\n",
            "547/547 [==============================] - 4s 8ms/step - loss: 0.1905 - accuracy: 0.9335 - val_loss: 0.8539 - val_accuracy: 0.7957\n",
            "Epoch 38/50\n",
            "547/547 [==============================] - 4s 8ms/step - loss: 0.1886 - accuracy: 0.9348 - val_loss: 0.8560 - val_accuracy: 0.7904\n",
            "Epoch 39/50\n",
            "547/547 [==============================] - 4s 8ms/step - loss: 0.1687 - accuracy: 0.9414 - val_loss: 0.9139 - val_accuracy: 0.7877\n",
            "Epoch 40/50\n",
            "547/547 [==============================] - 4s 8ms/step - loss: 0.1787 - accuracy: 0.9385 - val_loss: 0.8335 - val_accuracy: 0.7955\n",
            "Epoch 41/50\n",
            "547/547 [==============================] - 4s 8ms/step - loss: 0.1660 - accuracy: 0.9439 - val_loss: 0.8949 - val_accuracy: 0.7877\n",
            "Epoch 42/50\n",
            "547/547 [==============================] - 5s 8ms/step - loss: 0.1686 - accuracy: 0.9420 - val_loss: 0.9152 - val_accuracy: 0.7913\n",
            "Epoch 43/50\n",
            "547/547 [==============================] - 5s 8ms/step - loss: 0.1660 - accuracy: 0.9437 - val_loss: 0.8927 - val_accuracy: 0.7937\n",
            "Epoch 44/50\n",
            "547/547 [==============================] - 5s 8ms/step - loss: 0.1726 - accuracy: 0.9386 - val_loss: 0.9114 - val_accuracy: 0.7922\n",
            "Epoch 45/50\n",
            "547/547 [==============================] - 5s 8ms/step - loss: 0.1585 - accuracy: 0.9459 - val_loss: 0.9539 - val_accuracy: 0.7927\n",
            "Epoch 46/50\n",
            "547/547 [==============================] - 5s 8ms/step - loss: 0.1593 - accuracy: 0.9449 - val_loss: 0.9551 - val_accuracy: 0.7891\n",
            "Epoch 47/50\n",
            "547/547 [==============================] - 5s 8ms/step - loss: 0.1595 - accuracy: 0.9451 - val_loss: 1.0022 - val_accuracy: 0.7895\n",
            "Epoch 48/50\n",
            "547/547 [==============================] - 4s 8ms/step - loss: 0.1629 - accuracy: 0.9450 - val_loss: 0.9487 - val_accuracy: 0.7939\n",
            "Epoch 49/50\n",
            "547/547 [==============================] - 4s 8ms/step - loss: 0.1513 - accuracy: 0.9498 - val_loss: 0.9131 - val_accuracy: 0.7895\n",
            "Epoch 50/50\n",
            "547/547 [==============================] - 4s 8ms/step - loss: 0.1692 - accuracy: 0.9420 - val_loss: 0.9684 - val_accuracy: 0.7909\n",
            "> 79.093\n"
          ],
          "name": "stdout"
        }
      ]
    }
  ]
}