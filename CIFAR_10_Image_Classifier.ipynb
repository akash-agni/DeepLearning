{
  "nbformat": 4,
  "nbformat_minor": 0,
  "metadata": {
    "colab": {
      "name": "CIFAR_10_Image_Classifier.ipynb",
      "provenance": [],
      "authorship_tag": "ABX9TyP1JWLkpnsq+rYvm4B48VQb",
      "include_colab_link": true
    },
    "kernelspec": {
      "name": "python3",
      "display_name": "Python 3"
    },
    "accelerator": "GPU"
  },
  "cells": [
    {
      "cell_type": "markdown",
      "metadata": {
        "id": "view-in-github",
        "colab_type": "text"
      },
      "source": [
        "<a href=\"https://colab.research.google.com/github/akash-agni/DeepLearning/blob/Akash/CIFAR_10_Image_Classifier.ipynb\" target=\"_parent\"><img src=\"https://colab.research.google.com/assets/colab-badge.svg\" alt=\"Open In Colab\"/></a>"
      ]
    },
    {
      "cell_type": "code",
      "metadata": {
        "id": "DItw-Vd2qvDs"
      },
      "source": [
        "import tensorflow as tf\r\n",
        "import tensorflow_datasets as tfds\r\n",
        "import numpy as np\r\n",
        "import matplotlib.pyplot as plt\r\n",
        "import seaborn as sns\r\n",
        "import os\r\n",
        "from sklearn.model_selection import train_test_split\r\n",
        "\r\n",
        "from tensorflow.keras import models, layers\r\n",
        "from sklearn.metrics import accuracy_score"
      ],
      "execution_count": 2,
      "outputs": []
    },
    {
      "cell_type": "code",
      "metadata": {
        "colab": {
          "base_uri": "https://localhost:8080/"
        },
        "id": "O4r1kR8js4Fn",
        "outputId": "80d0a25f-b36b-4222-a824-6d88e03bfb75"
      },
      "source": [
        "!wget https://www.cs.toronto.edu/~kriz/cifar-10-python.tar.gz"
      ],
      "execution_count": 3,
      "outputs": [
        {
          "output_type": "stream",
          "text": [
            "--2021-02-07 15:01:45--  https://www.cs.toronto.edu/~kriz/cifar-10-python.tar.gz\n",
            "Resolving www.cs.toronto.edu (www.cs.toronto.edu)... 128.100.3.30\n",
            "Connecting to www.cs.toronto.edu (www.cs.toronto.edu)|128.100.3.30|:443... connected.\n",
            "HTTP request sent, awaiting response... 200 OK\n",
            "Length: 170498071 (163M) [application/x-gzip]\n",
            "Saving to: ‘cifar-10-python.tar.gz’\n",
            "\n",
            "cifar-10-python.tar 100%[===================>] 162.60M  99.9MB/s    in 1.6s    \n",
            "\n",
            "2021-02-07 15:01:47 (99.9 MB/s) - ‘cifar-10-python.tar.gz’ saved [170498071/170498071]\n",
            "\n"
          ],
          "name": "stdout"
        }
      ]
    },
    {
      "cell_type": "code",
      "metadata": {
        "id": "l1pyQL-1vsJc"
      },
      "source": [
        "!mkdir ./cifar_10/\r\n",
        "!tar -xf cifar-10-python.tar.gz -C ./cifar_10/\r\n",
        "!rm -rf cifar-10-python.tar.gz"
      ],
      "execution_count": 4,
      "outputs": []
    },
    {
      "cell_type": "code",
      "metadata": {
        "colab": {
          "base_uri": "https://localhost:8080/"
        },
        "id": "jC7BdyRFwq3s",
        "outputId": "d6ffc3d3-9a6d-4416-fa6d-eff912d79cdc"
      },
      "source": [
        "!ls -l ./cifar_10/cifar-10-batches-py/"
      ],
      "execution_count": 5,
      "outputs": [
        {
          "output_type": "stream",
          "text": [
            "total 181876\n",
            "-rw-r--r-- 1 2156 1103      158 Mar 31  2009 batches.meta\n",
            "-rw-r--r-- 1 2156 1103 31035704 Mar 31  2009 data_batch_1\n",
            "-rw-r--r-- 1 2156 1103 31035320 Mar 31  2009 data_batch_2\n",
            "-rw-r--r-- 1 2156 1103 31035999 Mar 31  2009 data_batch_3\n",
            "-rw-r--r-- 1 2156 1103 31035696 Mar 31  2009 data_batch_4\n",
            "-rw-r--r-- 1 2156 1103 31035623 Mar 31  2009 data_batch_5\n",
            "-rw-r--r-- 1 2156 1103       88 Jun  4  2009 readme.html\n",
            "-rw-r--r-- 1 2156 1103 31035526 Mar 31  2009 test_batch\n"
          ],
          "name": "stdout"
        }
      ]
    },
    {
      "cell_type": "code",
      "metadata": {
        "id": "KHdHegNBwU-G"
      },
      "source": [
        "workdir = os.curdir\r\n",
        "datadir = os.path.join(workdir,'cifar_10','cifar-10-batches-py')\r\n",
        "train_files = [os.path.join(datadir,f'data_batch_{i}') for i in range(1,6)]\r\n",
        "test_file = 'test_batch'"
      ],
      "execution_count": 6,
      "outputs": []
    },
    {
      "cell_type": "code",
      "metadata": {
        "id": "kpZnA1gJxZvk"
      },
      "source": [
        "# unpickle the data file containing the image\r\n",
        "def unpickle(file):\r\n",
        "    import pickle\r\n",
        "    with open(file, 'rb') as fo:\r\n",
        "        dict = pickle.load(fo, encoding='bytes')\r\n",
        "    return dict"
      ],
      "execution_count": 7,
      "outputs": []
    },
    {
      "cell_type": "code",
      "metadata": {
        "colab": {
          "base_uri": "https://localhost:8080/"
        },
        "id": "GSbBhdKMxjbV",
        "outputId": "cef96400-17b6-4805-fedc-25a736259f73"
      },
      "source": [
        "data_dict = unpickle(train_files[0])\r\n",
        "data_dict.keys()"
      ],
      "execution_count": 8,
      "outputs": [
        {
          "output_type": "execute_result",
          "data": {
            "text/plain": [
              "dict_keys([b'batch_label', b'labels', b'data', b'filenames'])"
            ]
          },
          "metadata": {
            "tags": []
          },
          "execution_count": 8
        }
      ]
    },
    {
      "cell_type": "code",
      "metadata": {
        "colab": {
          "base_uri": "https://localhost:8080/"
        },
        "id": "7qNTQodt57Q8",
        "outputId": "80a37268-558e-40fe-e243-7995bcdcb4c3"
      },
      "source": [
        "# read all files into a dataset\r\n",
        "data = np.empty(data_dict[b'data'].shape)\r\n",
        "labels = list()\r\n",
        "for fl in train_files:\r\n",
        "  print(f\"Loading File {fl}\")\r\n",
        "  df = unpickle(fl)\r\n",
        "  print(df[b'batch_label'])\r\n",
        "  print(f\"Geting Data\")\r\n",
        "  if df[b'batch_label'] == b'training batch 1 of 5':\r\n",
        "    data = df[b'data']\r\n",
        "  else:\r\n",
        "    data = np.concatenate([data,df[b'data']])\r\n",
        "  print(\"Geting labels\")\r\n",
        "  labels = labels + df[b'labels']\r\n",
        "  print(f\"Shape of Data is {data.shape}\")\r\n",
        "  print(\"=\"*50)"
      ],
      "execution_count": 9,
      "outputs": [
        {
          "output_type": "stream",
          "text": [
            "Loading File ./cifar_10/cifar-10-batches-py/data_batch_1\n",
            "b'training batch 1 of 5'\n",
            "Geting Data\n",
            "Geting labels\n",
            "Shape of Data is (10000, 3072)\n",
            "==================================================\n",
            "Loading File ./cifar_10/cifar-10-batches-py/data_batch_2\n",
            "b'training batch 2 of 5'\n",
            "Geting Data\n",
            "Geting labels\n",
            "Shape of Data is (20000, 3072)\n",
            "==================================================\n",
            "Loading File ./cifar_10/cifar-10-batches-py/data_batch_3\n",
            "b'training batch 3 of 5'\n",
            "Geting Data\n",
            "Geting labels\n",
            "Shape of Data is (30000, 3072)\n",
            "==================================================\n",
            "Loading File ./cifar_10/cifar-10-batches-py/data_batch_4\n",
            "b'training batch 4 of 5'\n",
            "Geting Data\n",
            "Geting labels\n",
            "Shape of Data is (40000, 3072)\n",
            "==================================================\n",
            "Loading File ./cifar_10/cifar-10-batches-py/data_batch_5\n",
            "b'training batch 5 of 5'\n",
            "Geting Data\n",
            "Geting labels\n",
            "Shape of Data is (50000, 3072)\n",
            "==================================================\n"
          ],
          "name": "stdout"
        }
      ]
    },
    {
      "cell_type": "code",
      "metadata": {
        "colab": {
          "base_uri": "https://localhost:8080/"
        },
        "id": "9008aWLS_s20",
        "outputId": "640dde05-4676-4b03-e089-a73318b5b5e7"
      },
      "source": [
        "# Reading Metadata\r\n",
        "label_meta = unpickle(os.path.join(datadir,'batches.meta'))[b'label_names']\r\n",
        "label_meta_mapping = {i:label_meta[i].decode('utf-8') for i in range(len(label_meta))}\r\n",
        "label_meta_mapping"
      ],
      "execution_count": 10,
      "outputs": [
        {
          "output_type": "execute_result",
          "data": {
            "text/plain": [
              "{0: 'airplane',\n",
              " 1: 'automobile',\n",
              " 2: 'bird',\n",
              " 3: 'cat',\n",
              " 4: 'deer',\n",
              " 5: 'dog',\n",
              " 6: 'frog',\n",
              " 7: 'horse',\n",
              " 8: 'ship',\n",
              " 9: 'truck'}"
            ]
          },
          "metadata": {
            "tags": []
          },
          "execution_count": 10
        }
      ]
    },
    {
      "cell_type": "code",
      "metadata": {
        "colab": {
          "base_uri": "https://localhost:8080/"
        },
        "id": "AcX-aCfmxmuM",
        "outputId": "3267de71-10db-43e5-cdd3-8013c89f9091"
      },
      "source": [
        "labels = np.array(labels)\r\n",
        "for i in range(0,10):\r\n",
        "  lb_count = np.sum((labels == i)*1)\r\n",
        "  print(f\"{label_meta_mapping[i]}: {lb_count}\")"
      ],
      "execution_count": 11,
      "outputs": [
        {
          "output_type": "stream",
          "text": [
            "airplane: 5000\n",
            "automobile: 5000\n",
            "bird: 5000\n",
            "cat: 5000\n",
            "deer: 5000\n",
            "dog: 5000\n",
            "frog: 5000\n",
            "horse: 5000\n",
            "ship: 5000\n",
            "truck: 5000\n"
          ],
          "name": "stdout"
        }
      ]
    },
    {
      "cell_type": "code",
      "metadata": {
        "id": "yZ5IvZ17Ksd3"
      },
      "source": [
        "data_rgb = np.reshape(data, (data.shape[0], 3, 32, 32)).transpose(0, 2, 3, 1)"
      ],
      "execution_count": 12,
      "outputs": []
    },
    {
      "cell_type": "code",
      "metadata": {
        "colab": {
          "base_uri": "https://localhost:8080/",
          "height": 343
        },
        "id": "UPuCiBVlYwQf",
        "outputId": "3aa31b1e-5fca-4960-bcef-7501da17eacf"
      },
      "source": [
        "rnd_idx = np.random.randint(1,5000)\r\n",
        "fig, ax = plt.subplots(nrows=2, ncols=5, figsize=(12,6))\r\n",
        "for i in range(10):\r\n",
        "  samp = data_rgb[labels == i][rnd_idx,:,:,:]\r\n",
        "  ax[int(i/5)][i%5].imshow(samp)"
      ],
      "execution_count": 13,
      "outputs": [
        {
          "output_type": "display_data",
          "data": {
            "image/png": "[encoded data removed]",
            "text/plain": [
              "<Figure size 864x432 with 10 Axes>"
            ]
          },
          "metadata": {
            "tags": [],
            "needs_background": "light"
          }
        }
      ]
    },
    {
      "cell_type": "code",
      "metadata": {
        "colab": {
          "base_uri": "https://localhost:8080/"
        },
        "id": "dlBd-n2wCnbj",
        "outputId": "3b52a178-1bf9-469a-bc59-c3300f751a98"
      },
      "source": [
        "train_X, test_X, train_y, test_y = train_test_split(data_rgb/255, np.array(labels), test_size=0.2)\r\n",
        "test_X, val_X, test_y, val_y = train_test_split(test_X, test_y, test_size=0.7)\r\n",
        "print(f\"Training Data Size : {train_X.shape[0]}\")\r\n",
        "print(f\"Validation Data Size : {val_X.shape[0]}\")\r\n",
        "print(f\"Testing Data Size : {test_X.shape[0]}\")"
      ],
      "execution_count": 17,
      "outputs": [
        {
          "output_type": "stream",
          "text": [
            "Training Data Size : 40000\n",
            "Validation Data Size : 7000\n",
            "Testing Data Size : 3000\n"
          ],
          "name": "stdout"
        }
      ]
    },
    {
      "cell_type": "code",
      "metadata": {
        "id": "rtI_7kvJyEYl"
      },
      "source": [
        "inputs = tf.keras.Input(shape=train_X.shape[1:])\r\n",
        "columns = list()\r\n",
        "for _ in range(3):\r\n",
        "  x = tf.keras.layers.Conv2D(64, 8, activation='relu', strides=(1,1), padding='same', data_format='channels_last', kernel_regularizer='l2')(inputs)\r\n",
        "  x = tf.keras.layers.Conv2D(64, 8, activation='relu', strides=(1,1), padding='same', data_format='channels_last')(x)\r\n",
        "  x = tf.keras.layers.MaxPool2D(pool_size=(2, 2), data_format='channels_last')(x)\r\n",
        "  \r\n",
        "  x = tf.keras.layers.BatchNormalization()(x)\r\n",
        "  x = tf.keras.layers.Dropout(0.3)(x)\r\n",
        "  x = tf.keras.layers.Conv2D(128, 4, activation='relu', strides=(1,1), padding='same', data_format='channels_last')(x)\r\n",
        "  x = tf.keras.layers.Conv2D(128, 4, activation='relu', strides=(1,1), padding='same', data_format='channels_last')(x)\r\n",
        "  x = tf.keras.layers.MaxPool2D(pool_size=(2, 2), data_format='channels_last')(x)\r\n",
        "\r\n",
        "  x = tf.keras.layers.BatchNormalization()(x)\r\n",
        "  x = tf.keras.layers.Dropout(0.3)(x)\r\n",
        "  x = tf.keras.layers.Conv2D(256, 3, activation='relu', strides=(1,1), padding='same', data_format='channels_last')(x)\r\n",
        "  x = tf.keras.layers.Conv2D(256, 3, activation='relu', strides=(1,1), padding='same', data_format='channels_last')(x)\r\n",
        "  x = tf.keras.layers.MaxPool2D(pool_size=(2, 2), data_format='channels_last')(x)\r\n",
        "\r\n",
        "  x = tf.keras.layers.BatchNormalization()(x)\r\n",
        "  x = tf.keras.layers.Dropout(0.3)(x)\r\n",
        "  x = tf.keras.layers.Conv2D(512, 2, activation='relu', strides=(1,1), padding='same', data_format='channels_last')(x)\r\n",
        "  x = tf.keras.layers.Conv2D(512, 2, activation='relu', strides=(1,1), padding='same', data_format='channels_last')(x)\r\n",
        "  x = tf.keras.layers.MaxPool2D(pool_size=(2, 2), data_format='channels_last')(x)\r\n",
        "\r\n",
        "  x = tf.keras.layers.Flatten()(x)\r\n",
        "  x = tf.keras.layers.BatchNormalization()(x)\r\n",
        "  x = tf.keras.layers.Dense(512, activation='relu')(x)\r\n",
        "\r\n",
        "  x = tf.keras.layers.BatchNormalization()(x)\r\n",
        "  x = tf.keras.layers.Dense(128, activation='relu')(x)\r\n",
        "\r\n",
        "  x = tf.keras.layers.BatchNormalization()(x)\r\n",
        "  x = tf.keras.layers.Dense(64, activation='relu')(x)\r\n",
        "\r\n",
        "  columns.append(x)\r\n",
        "\r\n",
        "x = tf.keras.layers.concatenate(columns)\r\n",
        "x = tf.keras.layers.BatchNormalization()(x)\r\n",
        "x = tf.keras.layers.Dense(64, activation='relu')(x)\r\n",
        "\r\n",
        "x = tf.keras.layers.BatchNormalization()(x)\r\n",
        "x = tf.keras.layers.Dense(32, activation='relu')(x)\r\n",
        "\r\n",
        "outputs = tf.keras.layers.Dense(10, activation='softmax')(x)\r\n",
        "\r\n",
        "model = tf.keras.Model(inputs, outputs)"
      ],
      "execution_count": 170,
      "outputs": []
    },
    {
      "cell_type": "code",
      "metadata": {
        "id": "iITYNexuHs16",
        "outputId": "79827495-c101-4103-ea1f-db8952938e7e",
        "colab": {
          "base_uri": "https://localhost:8080/"
        }
      },
      "source": [
        "%tensorflow_version 2.x\r\n",
        "device_name = tf.test.gpu_device_name()\r\n",
        "if device_name != '/device:GPU:0':\r\n",
        "  raise SystemError('GPU device not found')\r\n",
        "print('Found GPU at: {}'.format(device_name))"
      ],
      "execution_count": 171,
      "outputs": [
        {
          "output_type": "stream",
          "text": [
            "Found GPU at: /device:GPU:0\n"
          ],
          "name": "stdout"
        }
      ]
    },
    {
      "cell_type": "code",
      "metadata": {
        "id": "U3a8HBQOLesF",
        "outputId": "61cb7532-6f37-4775-8470-32991206b5f7",
        "colab": {
          "base_uri": "https://localhost:8080/"
        }
      },
      "source": [
        "model.compile(optimizer='adam',\r\n",
        "              loss=tf.keras.losses.SparseCategoricalCrossentropy(from_logits=True),\r\n",
        "              metrics=['accuracy'])\r\n",
        "#model.build(input_shape=train_X.shape[1:])\r\n",
        "model.summary()"
      ],
      "execution_count": 172,
      "outputs": [
        {
          "output_type": "stream",
          "text": [
            "Model: \"model_17\"\n",
            "__________________________________________________________________________________________________\n",
            "Layer (type)                    Output Shape         Param #     Connected to                     \n",
            "==================================================================================================\n",
            "input_23 (InputLayer)           [(None, 32, 32, 3)]  0                                            \n",
            "__________________________________________________________________________________________________\n",
            "conv2d_62 (Conv2D)              (None, 32, 32, 64)   12352       input_23[0][0]                   \n",
            "__________________________________________________________________________________________________\n",
            "conv2d_70 (Conv2D)              (None, 32, 32, 64)   12352       input_23[0][0]                   \n",
            "__________________________________________________________________________________________________\n",
            "conv2d_78 (Conv2D)              (None, 32, 32, 64)   12352       input_23[0][0]                   \n",
            "__________________________________________________________________________________________________\n",
            "conv2d_63 (Conv2D)              (None, 32, 32, 64)   262208      conv2d_62[0][0]                  \n",
            "__________________________________________________________________________________________________\n",
            "conv2d_71 (Conv2D)              (None, 32, 32, 64)   262208      conv2d_70[0][0]                  \n",
            "__________________________________________________________________________________________________\n",
            "conv2d_79 (Conv2D)              (None, 32, 32, 64)   262208      conv2d_78[0][0]                  \n",
            "__________________________________________________________________________________________________\n",
            "max_pooling2d_39 (MaxPooling2D) (None, 16, 16, 64)   0           conv2d_63[0][0]                  \n",
            "__________________________________________________________________________________________________\n",
            "max_pooling2d_43 (MaxPooling2D) (None, 16, 16, 64)   0           conv2d_71[0][0]                  \n",
            "__________________________________________________________________________________________________\n",
            "max_pooling2d_47 (MaxPooling2D) (None, 16, 16, 64)   0           conv2d_79[0][0]                  \n",
            "__________________________________________________________________________________________________\n",
            "batch_normalization_53 (BatchNo (None, 16, 16, 64)   256         max_pooling2d_39[0][0]           \n",
            "__________________________________________________________________________________________________\n",
            "batch_normalization_59 (BatchNo (None, 16, 16, 64)   256         max_pooling2d_43[0][0]           \n",
            "__________________________________________________________________________________________________\n",
            "batch_normalization_65 (BatchNo (None, 16, 16, 64)   256         max_pooling2d_47[0][0]           \n",
            "__________________________________________________________________________________________________\n",
            "dropout_9 (Dropout)             (None, 16, 16, 64)   0           batch_normalization_53[0][0]     \n",
            "__________________________________________________________________________________________________\n",
            "dropout_12 (Dropout)            (None, 16, 16, 64)   0           batch_normalization_59[0][0]     \n",
            "__________________________________________________________________________________________________\n",
            "dropout_15 (Dropout)            (None, 16, 16, 64)   0           batch_normalization_65[0][0]     \n",
            "__________________________________________________________________________________________________\n",
            "conv2d_64 (Conv2D)              (None, 16, 16, 128)  131200      dropout_9[0][0]                  \n",
            "__________________________________________________________________________________________________\n",
            "conv2d_72 (Conv2D)              (None, 16, 16, 128)  131200      dropout_12[0][0]                 \n",
            "__________________________________________________________________________________________________\n",
            "conv2d_80 (Conv2D)              (None, 16, 16, 128)  131200      dropout_15[0][0]                 \n",
            "__________________________________________________________________________________________________\n",
            "conv2d_65 (Conv2D)              (None, 16, 16, 128)  262272      conv2d_64[0][0]                  \n",
            "__________________________________________________________________________________________________\n",
            "conv2d_73 (Conv2D)              (None, 16, 16, 128)  262272      conv2d_72[0][0]                  \n",
            "__________________________________________________________________________________________________\n",
            "conv2d_81 (Conv2D)              (None, 16, 16, 128)  262272      conv2d_80[0][0]                  \n",
            "__________________________________________________________________________________________________\n",
            "max_pooling2d_40 (MaxPooling2D) (None, 8, 8, 128)    0           conv2d_65[0][0]                  \n",
            "__________________________________________________________________________________________________\n",
            "max_pooling2d_44 (MaxPooling2D) (None, 8, 8, 128)    0           conv2d_73[0][0]                  \n",
            "__________________________________________________________________________________________________\n",
            "max_pooling2d_48 (MaxPooling2D) (None, 8, 8, 128)    0           conv2d_81[0][0]                  \n",
            "__________________________________________________________________________________________________\n",
            "batch_normalization_54 (BatchNo (None, 8, 8, 128)    512         max_pooling2d_40[0][0]           \n",
            "__________________________________________________________________________________________________\n",
            "batch_normalization_60 (BatchNo (None, 8, 8, 128)    512         max_pooling2d_44[0][0]           \n",
            "__________________________________________________________________________________________________\n",
            "batch_normalization_66 (BatchNo (None, 8, 8, 128)    512         max_pooling2d_48[0][0]           \n",
            "__________________________________________________________________________________________________\n",
            "dropout_10 (Dropout)            (None, 8, 8, 128)    0           batch_normalization_54[0][0]     \n",
            "__________________________________________________________________________________________________\n",
            "dropout_13 (Dropout)            (None, 8, 8, 128)    0           batch_normalization_60[0][0]     \n",
            "__________________________________________________________________________________________________\n",
            "dropout_16 (Dropout)            (None, 8, 8, 128)    0           batch_normalization_66[0][0]     \n",
            "__________________________________________________________________________________________________\n",
            "conv2d_66 (Conv2D)              (None, 8, 8, 256)    295168      dropout_10[0][0]                 \n",
            "__________________________________________________________________________________________________\n",
            "conv2d_74 (Conv2D)              (None, 8, 8, 256)    295168      dropout_13[0][0]                 \n",
            "__________________________________________________________________________________________________\n",
            "conv2d_82 (Conv2D)              (None, 8, 8, 256)    295168      dropout_16[0][0]                 \n",
            "__________________________________________________________________________________________________\n",
            "conv2d_67 (Conv2D)              (None, 8, 8, 256)    590080      conv2d_66[0][0]                  \n",
            "__________________________________________________________________________________________________\n",
            "conv2d_75 (Conv2D)              (None, 8, 8, 256)    590080      conv2d_74[0][0]                  \n",
            "__________________________________________________________________________________________________\n",
            "conv2d_83 (Conv2D)              (None, 8, 8, 256)    590080      conv2d_82[0][0]                  \n",
            "__________________________________________________________________________________________________\n",
            "max_pooling2d_41 (MaxPooling2D) (None, 4, 4, 256)    0           conv2d_67[0][0]                  \n",
            "__________________________________________________________________________________________________\n",
            "max_pooling2d_45 (MaxPooling2D) (None, 4, 4, 256)    0           conv2d_75[0][0]                  \n",
            "__________________________________________________________________________________________________\n",
            "max_pooling2d_49 (MaxPooling2D) (None, 4, 4, 256)    0           conv2d_83[0][0]                  \n",
            "__________________________________________________________________________________________________\n",
            "batch_normalization_55 (BatchNo (None, 4, 4, 256)    1024        max_pooling2d_41[0][0]           \n",
            "__________________________________________________________________________________________________\n",
            "batch_normalization_61 (BatchNo (None, 4, 4, 256)    1024        max_pooling2d_45[0][0]           \n",
            "__________________________________________________________________________________________________\n",
            "batch_normalization_67 (BatchNo (None, 4, 4, 256)    1024        max_pooling2d_49[0][0]           \n",
            "__________________________________________________________________________________________________\n",
            "dropout_11 (Dropout)            (None, 4, 4, 256)    0           batch_normalization_55[0][0]     \n",
            "__________________________________________________________________________________________________\n",
            "dropout_14 (Dropout)            (None, 4, 4, 256)    0           batch_normalization_61[0][0]     \n",
            "__________________________________________________________________________________________________\n",
            "dropout_17 (Dropout)            (None, 4, 4, 256)    0           batch_normalization_67[0][0]     \n",
            "__________________________________________________________________________________________________\n",
            "conv2d_68 (Conv2D)              (None, 4, 4, 512)    524800      dropout_11[0][0]                 \n",
            "__________________________________________________________________________________________________\n",
            "conv2d_76 (Conv2D)              (None, 4, 4, 512)    524800      dropout_14[0][0]                 \n",
            "__________________________________________________________________________________________________\n",
            "conv2d_84 (Conv2D)              (None, 4, 4, 512)    524800      dropout_17[0][0]                 \n",
            "__________________________________________________________________________________________________\n",
            "conv2d_69 (Conv2D)              (None, 4, 4, 512)    1049088     conv2d_68[0][0]                  \n",
            "__________________________________________________________________________________________________\n",
            "conv2d_77 (Conv2D)              (None, 4, 4, 512)    1049088     conv2d_76[0][0]                  \n",
            "__________________________________________________________________________________________________\n",
            "conv2d_85 (Conv2D)              (None, 4, 4, 512)    1049088     conv2d_84[0][0]                  \n",
            "__________________________________________________________________________________________________\n",
            "max_pooling2d_42 (MaxPooling2D) (None, 2, 2, 512)    0           conv2d_69[0][0]                  \n",
            "__________________________________________________________________________________________________\n",
            "max_pooling2d_46 (MaxPooling2D) (None, 2, 2, 512)    0           conv2d_77[0][0]                  \n",
            "__________________________________________________________________________________________________\n",
            "max_pooling2d_50 (MaxPooling2D) (None, 2, 2, 512)    0           conv2d_85[0][0]                  \n",
            "__________________________________________________________________________________________________\n",
            "flatten_19 (Flatten)            (None, 2048)         0           max_pooling2d_42[0][0]           \n",
            "__________________________________________________________________________________________________\n",
            "flatten_20 (Flatten)            (None, 2048)         0           max_pooling2d_46[0][0]           \n",
            "__________________________________________________________________________________________________\n",
            "flatten_21 (Flatten)            (None, 2048)         0           max_pooling2d_50[0][0]           \n",
            "__________________________________________________________________________________________________\n",
            "batch_normalization_56 (BatchNo (None, 2048)         8192        flatten_19[0][0]                 \n",
            "__________________________________________________________________________________________________\n",
            "batch_normalization_62 (BatchNo (None, 2048)         8192        flatten_20[0][0]                 \n",
            "__________________________________________________________________________________________________\n",
            "batch_normalization_68 (BatchNo (None, 2048)         8192        flatten_21[0][0]                 \n",
            "__________________________________________________________________________________________________\n",
            "dense_42 (Dense)                (None, 512)          1049088     batch_normalization_56[0][0]     \n",
            "__________________________________________________________________________________________________\n",
            "dense_45 (Dense)                (None, 512)          1049088     batch_normalization_62[0][0]     \n",
            "__________________________________________________________________________________________________\n",
            "dense_48 (Dense)                (None, 512)          1049088     batch_normalization_68[0][0]     \n",
            "__________________________________________________________________________________________________\n",
            "batch_normalization_57 (BatchNo (None, 512)          2048        dense_42[0][0]                   \n",
            "__________________________________________________________________________________________________\n",
            "batch_normalization_63 (BatchNo (None, 512)          2048        dense_45[0][0]                   \n",
            "__________________________________________________________________________________________________\n",
            "batch_normalization_69 (BatchNo (None, 512)          2048        dense_48[0][0]                   \n",
            "__________________________________________________________________________________________________\n",
            "dense_43 (Dense)                (None, 128)          65664       batch_normalization_57[0][0]     \n",
            "__________________________________________________________________________________________________\n",
            "dense_46 (Dense)                (None, 128)          65664       batch_normalization_63[0][0]     \n",
            "__________________________________________________________________________________________________\n",
            "dense_49 (Dense)                (None, 128)          65664       batch_normalization_69[0][0]     \n",
            "__________________________________________________________________________________________________\n",
            "batch_normalization_58 (BatchNo (None, 128)          512         dense_43[0][0]                   \n",
            "__________________________________________________________________________________________________\n",
            "batch_normalization_64 (BatchNo (None, 128)          512         dense_46[0][0]                   \n",
            "__________________________________________________________________________________________________\n",
            "batch_normalization_70 (BatchNo (None, 128)          512         dense_49[0][0]                   \n",
            "__________________________________________________________________________________________________\n",
            "dense_44 (Dense)                (None, 64)           8256        batch_normalization_58[0][0]     \n",
            "__________________________________________________________________________________________________\n",
            "dense_47 (Dense)                (None, 64)           8256        batch_normalization_64[0][0]     \n",
            "__________________________________________________________________________________________________\n",
            "dense_50 (Dense)                (None, 64)           8256        batch_normalization_70[0][0]     \n",
            "__________________________________________________________________________________________________\n",
            "concatenate (Concatenate)       (None, 192)          0           dense_44[0][0]                   \n",
            "                                                                 dense_47[0][0]                   \n",
            "                                                                 dense_50[0][0]                   \n",
            "__________________________________________________________________________________________________\n",
            "batch_normalization_71 (BatchNo (None, 192)          768         concatenate[0][0]                \n",
            "__________________________________________________________________________________________________\n",
            "dense_51 (Dense)                (None, 64)           12352       batch_normalization_71[0][0]     \n",
            "__________________________________________________________________________________________________\n",
            "batch_normalization_72 (BatchNo (None, 64)           256         dense_51[0][0]                   \n",
            "__________________________________________________________________________________________________\n",
            "dense_52 (Dense)                (None, 32)           2080        batch_normalization_72[0][0]     \n",
            "__________________________________________________________________________________________________\n",
            "dense_53 (Dense)                (None, 10)           330         dense_52[0][0]                   \n",
            "==================================================================================================\n",
            "Total params: 12,803,946\n",
            "Trainable params: 12,784,618\n",
            "Non-trainable params: 19,328\n",
            "__________________________________________________________________________________________________\n"
          ],
          "name": "stdout"
        }
      ]
    },
    {
      "cell_type": "code",
      "metadata": {
        "id": "dTUI6TF5IiTG"
      },
      "source": [
        "erly_stop = tf.keras.callbacks.EarlyStopping(\r\n",
        "    monitor='val_loss', min_delta=0.0001, patience=10, verbose=1,\r\n",
        "    mode='auto', baseline=None, restore_best_weights=True,\r\n",
        ")"
      ],
      "execution_count": 173,
      "outputs": []
    },
    {
      "cell_type": "code",
      "metadata": {
        "colab": {
          "base_uri": "https://localhost:8080/"
        },
        "id": "nKCOyZofL9QH",
        "outputId": "38eb1971-e82c-482a-c20c-02c436a08735"
      },
      "source": [
        "history = model.fit(x=train_X, y=train_y, batch_size=32, epochs=100, validation_data=(val_X, val_y), workers=-1, callbacks=erly_stop)"
      ],
      "execution_count": 174,
      "outputs": [
        {
          "output_type": "stream",
          "text": [
            "Epoch 1/100\n",
            "1250/1250 [==============================] - 83s 64ms/step - loss: 2.1601 - accuracy: 0.2684 - val_loss: 1.6915 - val_accuracy: 0.3917\n",
            "Epoch 2/100\n",
            "1250/1250 [==============================] - 80s 64ms/step - loss: 1.5498 - accuracy: 0.4459 - val_loss: 1.7754 - val_accuracy: 0.4071\n",
            "Epoch 3/100\n",
            "1250/1250 [==============================] - 80s 64ms/step - loss: 1.3571 - accuracy: 0.5179 - val_loss: 1.2197 - val_accuracy: 0.5737\n",
            "Epoch 4/100\n",
            "1250/1250 [==============================] - 80s 64ms/step - loss: 1.1995 - accuracy: 0.5804 - val_loss: 1.2456 - val_accuracy: 0.5714\n",
            "Epoch 5/100\n",
            "1250/1250 [==============================] - 80s 64ms/step - loss: 1.0730 - accuracy: 0.6241 - val_loss: 1.3731 - val_accuracy: 0.5619\n",
            "Epoch 6/100\n",
            "1250/1250 [==============================] - 80s 64ms/step - loss: 0.9837 - accuracy: 0.6608 - val_loss: 1.0440 - val_accuracy: 0.6407\n",
            "Epoch 7/100\n",
            "1250/1250 [==============================] - 80s 64ms/step - loss: 0.9040 - accuracy: 0.6882 - val_loss: 1.0085 - val_accuracy: 0.6579\n",
            "Epoch 8/100\n",
            "1250/1250 [==============================] - 80s 64ms/step - loss: 0.8469 - accuracy: 0.7085 - val_loss: 0.9478 - val_accuracy: 0.6874\n",
            "Epoch 9/100\n",
            "1250/1250 [==============================] - 80s 64ms/step - loss: 0.7581 - accuracy: 0.7442 - val_loss: 0.9733 - val_accuracy: 0.6810\n",
            "Epoch 10/100\n",
            "1250/1250 [==============================] - 80s 64ms/step - loss: 0.7366 - accuracy: 0.7527 - val_loss: 1.0056 - val_accuracy: 0.6651\n",
            "Epoch 11/100\n",
            "1250/1250 [==============================] - 80s 64ms/step - loss: 0.6723 - accuracy: 0.7748 - val_loss: 0.9089 - val_accuracy: 0.6986\n",
            "Epoch 12/100\n",
            "1250/1250 [==============================] - 80s 64ms/step - loss: 0.6253 - accuracy: 0.7883 - val_loss: 1.0222 - val_accuracy: 0.6766\n",
            "Epoch 13/100\n",
            "1250/1250 [==============================] - 80s 64ms/step - loss: 0.5708 - accuracy: 0.8112 - val_loss: 0.8284 - val_accuracy: 0.7317\n",
            "Epoch 14/100\n",
            "1250/1250 [==============================] - 80s 64ms/step - loss: 0.5417 - accuracy: 0.8201 - val_loss: 0.8064 - val_accuracy: 0.7447\n",
            "Epoch 15/100\n",
            "1250/1250 [==============================] - 80s 64ms/step - loss: 0.4776 - accuracy: 0.8408 - val_loss: 0.7783 - val_accuracy: 0.7516\n",
            "Epoch 16/100\n",
            "1250/1250 [==============================] - 80s 64ms/step - loss: 0.4676 - accuracy: 0.8456 - val_loss: 0.7925 - val_accuracy: 0.7499\n",
            "Epoch 17/100\n",
            "1250/1250 [==============================] - 80s 64ms/step - loss: 0.4390 - accuracy: 0.8532 - val_loss: 0.8609 - val_accuracy: 0.7386\n",
            "Epoch 18/100\n",
            "1250/1250 [==============================] - 80s 64ms/step - loss: 0.3996 - accuracy: 0.8685 - val_loss: 0.7896 - val_accuracy: 0.7566\n",
            "Epoch 19/100\n",
            "1250/1250 [==============================] - 80s 64ms/step - loss: 0.3782 - accuracy: 0.8757 - val_loss: 0.9185 - val_accuracy: 0.7260\n",
            "Epoch 20/100\n",
            "1250/1250 [==============================] - 80s 64ms/step - loss: 0.3491 - accuracy: 0.8888 - val_loss: 0.8713 - val_accuracy: 0.7487\n",
            "Epoch 21/100\n",
            "1250/1250 [==============================] - 80s 64ms/step - loss: 0.3230 - accuracy: 0.8944 - val_loss: 0.8754 - val_accuracy: 0.7533\n",
            "Epoch 22/100\n",
            "1250/1250 [==============================] - 80s 64ms/step - loss: 0.2873 - accuracy: 0.9084 - val_loss: 0.8957 - val_accuracy: 0.7566\n",
            "Epoch 23/100\n",
            "1250/1250 [==============================] - 80s 64ms/step - loss: 0.2685 - accuracy: 0.9117 - val_loss: 0.9374 - val_accuracy: 0.7446\n",
            "Epoch 24/100\n",
            "1250/1250 [==============================] - 80s 64ms/step - loss: 0.2490 - accuracy: 0.9206 - val_loss: 0.9583 - val_accuracy: 0.7439\n",
            "Epoch 25/100\n",
            "1250/1250 [==============================] - 80s 64ms/step - loss: 0.2382 - accuracy: 0.9231 - val_loss: 0.9918 - val_accuracy: 0.7461\n",
            "Restoring model weights from the end of the best epoch.\n",
            "Epoch 00025: early stopping\n"
          ],
          "name": "stdout"
        }
      ]
    },
    {
      "cell_type": "code",
      "metadata": {
        "id": "zgp1erMiF5qq"
      },
      "source": [
        ""
      ],
      "execution_count": null,
      "outputs": []
    },
    {
      "cell_type": "code",
      "metadata": {
        "id": "Ahcl3XCAOH_W"
      },
      "source": [
        "def top_5_error_rate(predict_proba, y_true):\r\n",
        "  result = 0\r\n",
        "  for i in range(len(y_true)):\r\n",
        "    row = predict_proba[i,:]\r\n",
        "    top_5 = sorted(range(len(row)), key = lambda x: row[x], reverse=True)[:5]\r\n",
        "    if y_true[i] in top_5:\r\n",
        "      result = result + 1\r\n",
        "  \r\n",
        "  return result/len(y_true)"
      ],
      "execution_count": 175,
      "outputs": []
    },
    {
      "cell_type": "code",
      "metadata": {
        "colab": {
          "base_uri": "https://localhost:8080/"
        },
        "id": "QTXGUCkQO0zs",
        "outputId": "f4d5b7a6-5899-403a-b9a7-7cde81a4d8dd"
      },
      "source": [
        "proba_train_X = model.predict(test_X)\r\n",
        "print(f'Accuracy Score : {model.evaluate(test_X, test_y)}')\r\n",
        "print(top_5_error_rate(proba_train_X, test_y))"
      ],
      "execution_count": 176,
      "outputs": [
        {
          "output_type": "stream",
          "text": [
            "94/94 [==============================] - 2s 17ms/step - loss: 0.7576 - accuracy: 0.7513\n",
            "Accuracy Score : [0.7576127052307129, 0.7513333559036255]\n",
            "0.9846666666666667\n"
          ],
          "name": "stdout"
        }
      ]
    },
    {
      "cell_type": "code",
      "metadata": {
        "id": "FPy-x08_Rqrr"
      },
      "source": [
        "test_batch = unpickle(os.path.join(datadir,'test_batch'))\r\n",
        "test_data = test_batch[b'data']\r\n",
        "test_labels = test_batch[b'labels']"
      ],
      "execution_count": 177,
      "outputs": []
    },
    {
      "cell_type": "code",
      "metadata": {
        "id": "QSbPOBk5T0iW"
      },
      "source": [
        "test_data = np.reshape(test_data, (test_data.shape[0], 3, 32, 32)).transpose(0, 2, 3, 1)"
      ],
      "execution_count": 149,
      "outputs": []
    },
    {
      "cell_type": "code",
      "metadata": {
        "colab": {
          "base_uri": "https://localhost:8080/",
          "height": 284
        },
        "id": "eOnuDiESw_Pm",
        "outputId": "3b9c4fab-861c-4fad-83be-d97808307de7"
      },
      "source": [
        "idx = np.random.randint(200)\r\n",
        "plt.imshow(test_data[idx])\r\n",
        "label_meta_mapping[test_labels[idx]]"
      ],
      "execution_count": 150,
      "outputs": [
        {
          "output_type": "execute_result",
          "data": {
            "application/vnd.google.colaboratory.intrinsic+json": {
              "type": "string"
            },
            "text/plain": [
              "'deer'"
            ]
          },
          "metadata": {
            "tags": []
          },
          "execution_count": 150
        },
        {
          "output_type": "display_data",
          "data": {
            "image/png": "[encoded data removed]",
            "text/plain": [
              "<Figure size 432x288 with 1 Axes>"
            ]
          },
          "metadata": {
            "tags": [],
            "needs_background": "light"
          }
        }
      ]
    },
    {
      "cell_type": "code",
      "metadata": {
        "colab": {
          "base_uri": "https://localhost:8080/"
        },
        "id": "jaY38UrkTpw9",
        "outputId": "6ec12d71-6097-443a-dd67-9c20feb1fcc5"
      },
      "source": [
        "proba_train_X = model.predict(test_data/255)\r\n",
        "print(f'Accuracy Score : {model.evaluate(test_data/255, np.array(test_labels))}')\r\n",
        "print(top_5_error_rate(proba_train_X, test_labels))"
      ],
      "execution_count": 151,
      "outputs": [
        {
          "output_type": "stream",
          "text": [
            "313/313 [==============================] - 2s 7ms/step - loss: 0.7458 - accuracy: 0.7688\n",
            "Accuracy Score : [0.745808482170105, 0.7688000202178955]\n",
            "0.9833\n"
          ],
          "name": "stdout"
        }
      ]
    },
    {
      "cell_type": "code",
      "metadata": {
        "id": "mr-G3bTZx2ew",
        "outputId": "cbcff9c7-a630-4501-9484-def1d0a4d388",
        "colab": {
          "base_uri": "https://localhost:8080/",
          "height": 317
        }
      },
      "source": [
        "idx = np.random.randint(200)\r\n",
        "prediction = model.predict(np.array([test_data[idx]]))\r\n",
        "prediction = label_meta_mapping[np.argmax(prediction)]\r\n",
        "actual = label_meta_mapping[test_labels[idx]]\r\n",
        "print(f\"Acutal Label: {actual}\\nPredicted Label: {prediction}\")\r\n",
        "row = model.predict(np.array([test_data[idx]]))[0]\r\n",
        "top_5 = sorted(range(len(row)), key = lambda x: row[x], reverse=True)[:5]\r\n",
        "top_5 = [label_meta_mapping[i] for i in top_5]\r\n",
        "print(top_5)\r\n",
        "fig = plt.imshow(test_data[idx])"
      ],
      "execution_count": 168,
      "outputs": [
        {
          "output_type": "stream",
          "text": [
            "Acutal Label: cat\n",
            "Predicted Label: dog\n",
            "['dog', 'horse', 'cat', 'airplane', 'automobile']\n"
          ],
          "name": "stdout"
        },
        {
          "output_type": "display_data",
          "data": {
            "image/png": "[encoded data removed]",
            "text/plain": [
              "<Figure size 432x288 with 1 Axes>"
            ]
          },
          "metadata": {
            "tags": [],
            "needs_background": "light"
          }
        }
      ]
    },
    {
      "cell_type": "code",
      "metadata": {
        "id": "KAAbbTlGNDOK"
      },
      "source": [
        ""
      ],
      "execution_count": 159,
      "outputs": []
    },
    {
      "cell_type": "code",
      "metadata": {
        "id": "Jmlv4vFlNLAW",
        "outputId": "7e46f029-34d6-4669-fefc-4529d558ebe0",
        "colab": {
          "base_uri": "https://localhost:8080/"
        }
      },
      "source": [
        ""
      ],
      "execution_count": 163,
      "outputs": [
        {
          "output_type": "execute_result",
          "data": {
            "text/plain": [
              "['dog', 'cat', 'horse', 'airplane', 'automobile']"
            ]
          },
          "metadata": {
            "tags": []
          },
          "execution_count": 163
        }
      ]
    },
    {
      "cell_type": "code",
      "metadata": {
        "id": "ZO8EYj-8iG2W"
      },
      "source": [
        ""
      ],
      "execution_count": null,
      "outputs": []
    }
  ]
}