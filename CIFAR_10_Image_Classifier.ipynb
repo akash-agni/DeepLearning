{
  "nbformat": 4,
  "nbformat_minor": 0,
  "metadata": {
    "colab": {
      "name": "CIFAR_10_Image_Classifier.ipynb",
      "provenance": [],
      "authorship_tag": "ABX9TyPW2VQs18ZAAF500djU41Ap",
      "include_colab_link": true
    },
    "kernelspec": {
      "name": "python3",
      "display_name": "Python 3"
    },
    "accelerator": "GPU"
  },
  "cells": [
    {
      "cell_type": "markdown",
      "metadata": {
        "id": "view-in-github",
        "colab_type": "text"
      },
      "source": [
        "<a href=\"https://colab.research.google.com/github/akash-agni/DeepLearning/blob/Akash/CIFAR_10_Image_Classifier.ipynb\" target=\"_parent\"><img src=\"https://colab.research.google.com/assets/colab-badge.svg\" alt=\"Open In Colab\"/></a>"
      ]
    },
    {
      "cell_type": "code",
      "metadata": {
        "id": "DItw-Vd2qvDs"
      },
      "source": [
        "import tensorflow as tf\r\n",
        "import tensorflow_datasets as tfds\r\n",
        "import numpy as np\r\n",
        "import matplotlib.pyplot as plt\r\n",
        "import seaborn as sns\r\n",
        "import os\r\n",
        "from sklearn.model_selection import train_test_split\r\n",
        "from sklearn.preprocessing import LabelBinarizer\r\n",
        "\r\n",
        "from tensorflow.keras import models, layers\r\n",
        "from sklearn.metrics import accuracy_score"
      ],
      "execution_count": 1,
      "outputs": []
    },
    {
      "cell_type": "code",
      "metadata": {
        "colab": {
          "base_uri": "https://localhost:8080/"
        },
        "id": "O4r1kR8js4Fn",
        "outputId": "74841d43-0279-402e-c274-dd08d7e37980"
      },
      "source": [
        "!wget https://www.cs.toronto.edu/~kriz/cifar-10-python.tar.gz"
      ],
      "execution_count": 2,
      "outputs": [
        {
          "output_type": "stream",
          "text": [
            "--2021-02-10 19:18:12--  https://www.cs.toronto.edu/~kriz/cifar-10-python.tar.gz\n",
            "Resolving www.cs.toronto.edu (www.cs.toronto.edu)... 128.100.3.30\n",
            "Connecting to www.cs.toronto.edu (www.cs.toronto.edu)|128.100.3.30|:443... connected.\n",
            "HTTP request sent, awaiting response... 200 OK\n",
            "Length: 170498071 (163M) [application/x-gzip]\n",
            "Saving to: ‘cifar-10-python.tar.gz’\n",
            "\n",
            "cifar-10-python.tar 100%[===================>] 162.60M  51.5MB/s    in 3.5s    \n",
            "\n",
            "2021-02-10 19:18:16 (46.9 MB/s) - ‘cifar-10-python.tar.gz’ saved [170498071/170498071]\n",
            "\n"
          ],
          "name": "stdout"
        }
      ]
    },
    {
      "cell_type": "code",
      "metadata": {
        "id": "l1pyQL-1vsJc"
      },
      "source": [
        "!mkdir ./cifar_10/\r\n",
        "!tar -xf cifar-10-python.tar.gz -C ./cifar_10/\r\n",
        "!rm -rf cifar-10-python.tar.gz"
      ],
      "execution_count": 3,
      "outputs": []
    },
    {
      "cell_type": "code",
      "metadata": {
        "colab": {
          "base_uri": "https://localhost:8080/"
        },
        "id": "jC7BdyRFwq3s",
        "outputId": "02e28968-a0cc-4fc3-e1eb-689893deca55"
      },
      "source": [
        "!ls -l ./cifar_10/cifar-10-batches-py/"
      ],
      "execution_count": 4,
      "outputs": [
        {
          "output_type": "stream",
          "text": [
            "total 181876\n",
            "-rw-r--r-- 1 2156 1103      158 Mar 31  2009 batches.meta\n",
            "-rw-r--r-- 1 2156 1103 31035704 Mar 31  2009 data_batch_1\n",
            "-rw-r--r-- 1 2156 1103 31035320 Mar 31  2009 data_batch_2\n",
            "-rw-r--r-- 1 2156 1103 31035999 Mar 31  2009 data_batch_3\n",
            "-rw-r--r-- 1 2156 1103 31035696 Mar 31  2009 data_batch_4\n",
            "-rw-r--r-- 1 2156 1103 31035623 Mar 31  2009 data_batch_5\n",
            "-rw-r--r-- 1 2156 1103       88 Jun  4  2009 readme.html\n",
            "-rw-r--r-- 1 2156 1103 31035526 Mar 31  2009 test_batch\n"
          ],
          "name": "stdout"
        }
      ]
    },
    {
      "cell_type": "code",
      "metadata": {
        "id": "KHdHegNBwU-G"
      },
      "source": [
        "workdir = os.curdir\r\n",
        "datadir = os.path.join(workdir,'cifar_10','cifar-10-batches-py')\r\n",
        "train_files = [os.path.join(datadir,f'data_batch_{i}') for i in range(1,6)]\r\n",
        "test_file = 'test_batch'"
      ],
      "execution_count": 5,
      "outputs": []
    },
    {
      "cell_type": "code",
      "metadata": {
        "id": "kpZnA1gJxZvk"
      },
      "source": [
        "# unpickle the data file containing the image\r\n",
        "def unpickle(file):\r\n",
        "    import pickle\r\n",
        "    with open(file, 'rb') as fo:\r\n",
        "        dict = pickle.load(fo, encoding='bytes')\r\n",
        "    return dict"
      ],
      "execution_count": 6,
      "outputs": []
    },
    {
      "cell_type": "code",
      "metadata": {
        "colab": {
          "base_uri": "https://localhost:8080/"
        },
        "id": "GSbBhdKMxjbV",
        "outputId": "477716c1-2f46-4ed2-cf10-d72c0f8feb8e"
      },
      "source": [
        "data_dict = unpickle(train_files[0])\r\n",
        "data_dict.keys()"
      ],
      "execution_count": 7,
      "outputs": [
        {
          "output_type": "execute_result",
          "data": {
            "text/plain": [
              "dict_keys([b'batch_label', b'labels', b'data', b'filenames'])"
            ]
          },
          "metadata": {
            "tags": []
          },
          "execution_count": 7
        }
      ]
    },
    {
      "cell_type": "code",
      "metadata": {
        "colab": {
          "base_uri": "https://localhost:8080/"
        },
        "id": "7qNTQodt57Q8",
        "outputId": "0a760bf9-0a54-49a3-c797-5544fccb1d1a"
      },
      "source": [
        "# read all files into a dataset\r\n",
        "data = np.empty(data_dict[b'data'].shape)\r\n",
        "labels = list()\r\n",
        "for fl in train_files:\r\n",
        "  print(f\"Loading File {fl}\")\r\n",
        "  df = unpickle(fl)\r\n",
        "  print(df[b'batch_label'])\r\n",
        "  print(f\"Geting Data\")\r\n",
        "  if df[b'batch_label'] == b'training batch 1 of 5':\r\n",
        "    data = df[b'data']\r\n",
        "  else:\r\n",
        "    data = np.concatenate([data,df[b'data']])\r\n",
        "  print(\"Geting labels\")\r\n",
        "  labels = labels + df[b'labels']\r\n",
        "  print(f\"Shape of Data is {data.shape}\")\r\n",
        "  print(\"=\"*50)"
      ],
      "execution_count": 8,
      "outputs": [
        {
          "output_type": "stream",
          "text": [
            "Loading File ./cifar_10/cifar-10-batches-py/data_batch_1\n",
            "b'training batch 1 of 5'\n",
            "Geting Data\n",
            "Geting labels\n",
            "Shape of Data is (10000, 3072)\n",
            "==================================================\n",
            "Loading File ./cifar_10/cifar-10-batches-py/data_batch_2\n",
            "b'training batch 2 of 5'\n",
            "Geting Data\n",
            "Geting labels\n",
            "Shape of Data is (20000, 3072)\n",
            "==================================================\n",
            "Loading File ./cifar_10/cifar-10-batches-py/data_batch_3\n",
            "b'training batch 3 of 5'\n",
            "Geting Data\n",
            "Geting labels\n",
            "Shape of Data is (30000, 3072)\n",
            "==================================================\n",
            "Loading File ./cifar_10/cifar-10-batches-py/data_batch_4\n",
            "b'training batch 4 of 5'\n",
            "Geting Data\n",
            "Geting labels\n",
            "Shape of Data is (40000, 3072)\n",
            "==================================================\n",
            "Loading File ./cifar_10/cifar-10-batches-py/data_batch_5\n",
            "b'training batch 5 of 5'\n",
            "Geting Data\n",
            "Geting labels\n",
            "Shape of Data is (50000, 3072)\n",
            "==================================================\n"
          ],
          "name": "stdout"
        }
      ]
    },
    {
      "cell_type": "code",
      "metadata": {
        "colab": {
          "base_uri": "https://localhost:8080/"
        },
        "id": "9008aWLS_s20",
        "outputId": "9fe391c6-3e05-48cf-ced8-696bf5f7f378"
      },
      "source": [
        "# Reading Metadata\r\n",
        "label_meta = unpickle(os.path.join(datadir,'batches.meta'))[b'label_names']\r\n",
        "label_meta_mapping = {i:label_meta[i].decode('utf-8') for i in range(len(label_meta))}\r\n",
        "label_meta_mapping"
      ],
      "execution_count": 9,
      "outputs": [
        {
          "output_type": "execute_result",
          "data": {
            "text/plain": [
              "{0: 'airplane',\n",
              " 1: 'automobile',\n",
              " 2: 'bird',\n",
              " 3: 'cat',\n",
              " 4: 'deer',\n",
              " 5: 'dog',\n",
              " 6: 'frog',\n",
              " 7: 'horse',\n",
              " 8: 'ship',\n",
              " 9: 'truck'}"
            ]
          },
          "metadata": {
            "tags": []
          },
          "execution_count": 9
        }
      ]
    },
    {
      "cell_type": "code",
      "metadata": {
        "colab": {
          "base_uri": "https://localhost:8080/"
        },
        "id": "AcX-aCfmxmuM",
        "outputId": "a00302ea-4030-41cd-a8f0-03d2427d7182"
      },
      "source": [
        "labels = np.array(labels)\r\n",
        "for i in range(0,10):\r\n",
        "  lb_count = np.sum((labels == i)*1)\r\n",
        "  print(f\"{label_meta_mapping[i]}: {lb_count}\")"
      ],
      "execution_count": 10,
      "outputs": [
        {
          "output_type": "stream",
          "text": [
            "airplane: 5000\n",
            "automobile: 5000\n",
            "bird: 5000\n",
            "cat: 5000\n",
            "deer: 5000\n",
            "dog: 5000\n",
            "frog: 5000\n",
            "horse: 5000\n",
            "ship: 5000\n",
            "truck: 5000\n"
          ],
          "name": "stdout"
        }
      ]
    },
    {
      "cell_type": "code",
      "metadata": {
        "id": "yZ5IvZ17Ksd3"
      },
      "source": [
        "data_rgb = np.reshape(data, (data.shape[0], 3, 32, 32)).transpose(0, 2, 3, 1)"
      ],
      "execution_count": 11,
      "outputs": []
    },
    {
      "cell_type": "code",
      "metadata": {
        "colab": {
          "base_uri": "https://localhost:8080/",
          "height": 343
        },
        "id": "UPuCiBVlYwQf",
        "outputId": "cb4512e5-cc0e-479b-8c00-3a8de89b6ebb"
      },
      "source": [
        "rnd_idx = np.random.randint(1,5000)\r\n",
        "fig, ax = plt.subplots(nrows=2, ncols=5, figsize=(12,6))\r\n",
        "for i in range(10):\r\n",
        "  samp = data_rgb[labels == i][rnd_idx,:,:,:]\r\n",
        "  ax[int(i/5)][i%5].imshow(samp)"
      ],
      "execution_count": 12,
      "outputs": [
        {
          "output_type": "display_data",
          "data": {
            "image/png": "[encoded data removed]",
            "text/plain": [
              "<Figure size 864x432 with 10 Axes>"
            ]
          },
          "metadata": {
            "tags": [],
            "needs_background": "light"
          }
        }
      ]
    },
    {
      "cell_type": "code",
      "metadata": {
        "colab": {
          "base_uri": "https://localhost:8080/"
        },
        "id": "dlBd-n2wCnbj",
        "outputId": "9863f09b-f910-4221-ab93-cacf904aaf74"
      },
      "source": [
        "X = data_rgb/255\r\n",
        "lb_bin = LabelBinarizer().fit(np.array(labels))\r\n",
        "y = lb_bin.transform(np.array(labels))\r\n",
        "train_X, test_X, train_y, test_y = train_test_split(X, y, test_size=0.2)\r\n",
        "test_X, val_X, test_y, val_y = train_test_split(test_X, test_y, test_size=0.7)\r\n",
        "print(f\"Training Data Size : {train_X.shape[0]}\")\r\n",
        "print(f\"Validation Data Size : {val_X.shape[0]}\")\r\n",
        "print(f\"Testing Data Size : {test_X.shape[0]}\")"
      ],
      "execution_count": 13,
      "outputs": [
        {
          "output_type": "stream",
          "text": [
            "Training Data Size : 40000\n",
            "Validation Data Size : 7000\n",
            "Testing Data Size : 3000\n"
          ],
          "name": "stdout"
        }
      ]
    },
    {
      "cell_type": "code",
      "metadata": {
        "id": "rtI_7kvJyEYl"
      },
      "source": [
        "def Residual_Layer(input_layer, filters, stride):\r\n",
        "  # Main Branch\r\n",
        "  x1 = tf.keras.layers.Conv2D(filters=filters, kernel_size = 3, strides=strd, padding = 'same')(input_layer)\r\n",
        "  x1 = tf.keras.layers.BatchNormalization()(x1)\r\n",
        "  x1 = tf.keras.layers.Activation('relu')(x1)\r\n",
        "  x1 = tf.keras.layers.Conv2D(filters=filters, kernel_size = 3, strides=1, padding =  'same')(x1)\r\n",
        "  x1 = tf.keras.layers.BatchNormalization()(x1)\r\n",
        "  x1 = tf.keras.layers.Activation('relu')(x1)\r\n",
        "  end_layer = x1\r\n",
        "  # Skip Branch\r\n",
        "  if stride > 1:\r\n",
        "    x2 = tf.keras.layers.Conv2D(filters=filters, kernel_size = 1, strides=strd, padding =  'same')(input_layer)\r\n",
        "    x2 = tf.keras.layers.BatchNormalization()(x2)\r\n",
        "    x2 = tf.keras.layers.Activation('relu')(x2)\r\n",
        "    end_layer = tf.keras.layers.add([x1, x2])\r\n",
        "  return end_layer"
      ],
      "execution_count": 14,
      "outputs": []
    },
    {
      "cell_type": "code",
      "metadata": {
        "id": "F411kW4X3vXY"
      },
      "source": [
        "LRN_Layer = tf.keras.layers.Lambda(tf.nn.local_response_normalization)"
      ],
      "execution_count": 15,
      "outputs": []
    },
    {
      "cell_type": "code",
      "metadata": {
        "id": "s5e4HEdL18_8"
      },
      "source": [
        "inputs = tf.keras.Input(shape=train_X.shape[1:])\r\n",
        "\r\n",
        "x = tf.keras.layers.Conv2D(64, 7, strides=2, padding='same')(inputs)\r\n",
        "x = tf.keras.layers.BatchNormalization()(x)\r\n",
        "x = tf.keras.layers.Activation('relu')(x)\r\n",
        "x = tf.keras.layers.MaxPool2D(pool_size=3, strides=2, padding='same')(x)\r\n",
        "\r\n",
        "prev_filters = 64\r\n",
        "for filters in [64]*3 + [128]*4 + [256]*6 + [512]*3:\r\n",
        "  strd = 1 if filters == prev_filters else 2\r\n",
        "  x = Residual_Layer(x, filters, strd)\r\n",
        "  prev_filters = filters\r\n",
        "\r\n",
        "x = tf.keras.layers.GlobalAveragePooling2D()(x)\r\n",
        "x = tf.keras.layers.Flatten()(x)\r\n",
        "x = tf.keras.layers.Dense(128)(x)\r\n",
        "x = tf.keras.layers.Dense(32)(x)\r\n",
        "x = tf.keras.layers.Dropout(0.6)(x)\r\n",
        "outputs = tf.keras.layers.Dense(10, activation='softmax')(x)\r\n",
        "\r\n",
        "model = tf.keras.Model(inputs, outputs)"
      ],
      "execution_count": 54,
      "outputs": []
    },
    {
      "cell_type": "code",
      "metadata": {
        "id": "iITYNexuHs16"
      },
      "source": [
        "#%tensorflow_version 2.x\r\n",
        "#device_name = tf.test.\r\n",
        "#if device_name != '/device:TPU:0':\r\n",
        "#  raise SystemError('GPU device not found')\r\n",
        "#print('Found GPU at: {}'.format(device_name))"
      ],
      "execution_count": 55,
      "outputs": []
    },
    {
      "cell_type": "code",
      "metadata": {
        "id": "U3a8HBQOLesF",
        "colab": {
          "base_uri": "https://localhost:8080/"
        },
        "outputId": "7062b338-c5e9-46a4-b54c-401684d5d3d4"
      },
      "source": [
        "model.compile(optimizer='adam',\r\n",
        "              loss='categorical_crossentropy',\r\n",
        "              metrics=['accuracy'])\r\n",
        "#model.build(input_shape=train_X.shape[1:])\r\n",
        "model.summary()"
      ],
      "execution_count": 56,
      "outputs": [
        {
          "output_type": "stream",
          "text": [
            "Model: \"model_7\"\n",
            "__________________________________________________________________________________________________\n",
            "Layer (type)                    Output Shape         Param #     Connected to                     \n",
            "==================================================================================================\n",
            "input_8 (InputLayer)            [(None, 32, 32, 3)]  0                                            \n",
            "__________________________________________________________________________________________________\n",
            "conv2d_257 (Conv2D)             (None, 16, 16, 64)   9472        input_8[0][0]                    \n",
            "__________________________________________________________________________________________________\n",
            "batch_normalization_257 (BatchN (None, 16, 16, 64)   256         conv2d_257[0][0]                 \n",
            "__________________________________________________________________________________________________\n",
            "activation_257 (Activation)     (None, 16, 16, 64)   0           batch_normalization_257[0][0]    \n",
            "__________________________________________________________________________________________________\n",
            "max_pooling2d_7 (MaxPooling2D)  (None, 8, 8, 64)     0           activation_257[0][0]             \n",
            "__________________________________________________________________________________________________\n",
            "conv2d_258 (Conv2D)             (None, 8, 8, 64)     36928       max_pooling2d_7[0][0]            \n",
            "__________________________________________________________________________________________________\n",
            "batch_normalization_258 (BatchN (None, 8, 8, 64)     256         conv2d_258[0][0]                 \n",
            "__________________________________________________________________________________________________\n",
            "activation_258 (Activation)     (None, 8, 8, 64)     0           batch_normalization_258[0][0]    \n",
            "__________________________________________________________________________________________________\n",
            "conv2d_259 (Conv2D)             (None, 8, 8, 64)     36928       activation_258[0][0]             \n",
            "__________________________________________________________________________________________________\n",
            "batch_normalization_259 (BatchN (None, 8, 8, 64)     256         conv2d_259[0][0]                 \n",
            "__________________________________________________________________________________________________\n",
            "activation_259 (Activation)     (None, 8, 8, 64)     0           batch_normalization_259[0][0]    \n",
            "__________________________________________________________________________________________________\n",
            "conv2d_260 (Conv2D)             (None, 8, 8, 64)     36928       activation_259[0][0]             \n",
            "__________________________________________________________________________________________________\n",
            "batch_normalization_260 (BatchN (None, 8, 8, 64)     256         conv2d_260[0][0]                 \n",
            "__________________________________________________________________________________________________\n",
            "activation_260 (Activation)     (None, 8, 8, 64)     0           batch_normalization_260[0][0]    \n",
            "__________________________________________________________________________________________________\n",
            "conv2d_261 (Conv2D)             (None, 8, 8, 64)     36928       activation_260[0][0]             \n",
            "__________________________________________________________________________________________________\n",
            "batch_normalization_261 (BatchN (None, 8, 8, 64)     256         conv2d_261[0][0]                 \n",
            "__________________________________________________________________________________________________\n",
            "activation_261 (Activation)     (None, 8, 8, 64)     0           batch_normalization_261[0][0]    \n",
            "__________________________________________________________________________________________________\n",
            "conv2d_262 (Conv2D)             (None, 8, 8, 64)     36928       activation_261[0][0]             \n",
            "__________________________________________________________________________________________________\n",
            "batch_normalization_262 (BatchN (None, 8, 8, 64)     256         conv2d_262[0][0]                 \n",
            "__________________________________________________________________________________________________\n",
            "activation_262 (Activation)     (None, 8, 8, 64)     0           batch_normalization_262[0][0]    \n",
            "__________________________________________________________________________________________________\n",
            "conv2d_263 (Conv2D)             (None, 8, 8, 64)     36928       activation_262[0][0]             \n",
            "__________________________________________________________________________________________________\n",
            "batch_normalization_263 (BatchN (None, 8, 8, 64)     256         conv2d_263[0][0]                 \n",
            "__________________________________________________________________________________________________\n",
            "activation_263 (Activation)     (None, 8, 8, 64)     0           batch_normalization_263[0][0]    \n",
            "__________________________________________________________________________________________________\n",
            "conv2d_264 (Conv2D)             (None, 4, 4, 128)    73856       activation_263[0][0]             \n",
            "__________________________________________________________________________________________________\n",
            "batch_normalization_264 (BatchN (None, 4, 4, 128)    512         conv2d_264[0][0]                 \n",
            "__________________________________________________________________________________________________\n",
            "activation_264 (Activation)     (None, 4, 4, 128)    0           batch_normalization_264[0][0]    \n",
            "__________________________________________________________________________________________________\n",
            "conv2d_265 (Conv2D)             (None, 4, 4, 128)    147584      activation_264[0][0]             \n",
            "__________________________________________________________________________________________________\n",
            "conv2d_266 (Conv2D)             (None, 4, 4, 128)    8320        activation_263[0][0]             \n",
            "__________________________________________________________________________________________________\n",
            "batch_normalization_265 (BatchN (None, 4, 4, 128)    512         conv2d_265[0][0]                 \n",
            "__________________________________________________________________________________________________\n",
            "batch_normalization_266 (BatchN (None, 4, 4, 128)    512         conv2d_266[0][0]                 \n",
            "__________________________________________________________________________________________________\n",
            "activation_265 (Activation)     (None, 4, 4, 128)    0           batch_normalization_265[0][0]    \n",
            "__________________________________________________________________________________________________\n",
            "activation_266 (Activation)     (None, 4, 4, 128)    0           batch_normalization_266[0][0]    \n",
            "__________________________________________________________________________________________________\n",
            "add_22 (Add)                    (None, 4, 4, 128)    0           activation_265[0][0]             \n",
            "                                                                 activation_266[0][0]             \n",
            "__________________________________________________________________________________________________\n",
            "conv2d_267 (Conv2D)             (None, 4, 4, 128)    147584      add_22[0][0]                     \n",
            "__________________________________________________________________________________________________\n",
            "batch_normalization_267 (BatchN (None, 4, 4, 128)    512         conv2d_267[0][0]                 \n",
            "__________________________________________________________________________________________________\n",
            "activation_267 (Activation)     (None, 4, 4, 128)    0           batch_normalization_267[0][0]    \n",
            "__________________________________________________________________________________________________\n",
            "conv2d_268 (Conv2D)             (None, 4, 4, 128)    147584      activation_267[0][0]             \n",
            "__________________________________________________________________________________________________\n",
            "batch_normalization_268 (BatchN (None, 4, 4, 128)    512         conv2d_268[0][0]                 \n",
            "__________________________________________________________________________________________________\n",
            "activation_268 (Activation)     (None, 4, 4, 128)    0           batch_normalization_268[0][0]    \n",
            "__________________________________________________________________________________________________\n",
            "conv2d_269 (Conv2D)             (None, 4, 4, 128)    147584      activation_268[0][0]             \n",
            "__________________________________________________________________________________________________\n",
            "batch_normalization_269 (BatchN (None, 4, 4, 128)    512         conv2d_269[0][0]                 \n",
            "__________________________________________________________________________________________________\n",
            "activation_269 (Activation)     (None, 4, 4, 128)    0           batch_normalization_269[0][0]    \n",
            "__________________________________________________________________________________________________\n",
            "conv2d_270 (Conv2D)             (None, 4, 4, 128)    147584      activation_269[0][0]             \n",
            "__________________________________________________________________________________________________\n",
            "batch_normalization_270 (BatchN (None, 4, 4, 128)    512         conv2d_270[0][0]                 \n",
            "__________________________________________________________________________________________________\n",
            "activation_270 (Activation)     (None, 4, 4, 128)    0           batch_normalization_270[0][0]    \n",
            "__________________________________________________________________________________________________\n",
            "conv2d_271 (Conv2D)             (None, 4, 4, 128)    147584      activation_270[0][0]             \n",
            "__________________________________________________________________________________________________\n",
            "batch_normalization_271 (BatchN (None, 4, 4, 128)    512         conv2d_271[0][0]                 \n",
            "__________________________________________________________________________________________________\n",
            "activation_271 (Activation)     (None, 4, 4, 128)    0           batch_normalization_271[0][0]    \n",
            "__________________________________________________________________________________________________\n",
            "conv2d_272 (Conv2D)             (None, 4, 4, 128)    147584      activation_271[0][0]             \n",
            "__________________________________________________________________________________________________\n",
            "batch_normalization_272 (BatchN (None, 4, 4, 128)    512         conv2d_272[0][0]                 \n",
            "__________________________________________________________________________________________________\n",
            "activation_272 (Activation)     (None, 4, 4, 128)    0           batch_normalization_272[0][0]    \n",
            "__________________________________________________________________________________________________\n",
            "conv2d_273 (Conv2D)             (None, 2, 2, 256)    295168      activation_272[0][0]             \n",
            "__________________________________________________________________________________________________\n",
            "batch_normalization_273 (BatchN (None, 2, 2, 256)    1024        conv2d_273[0][0]                 \n",
            "__________________________________________________________________________________________________\n",
            "activation_273 (Activation)     (None, 2, 2, 256)    0           batch_normalization_273[0][0]    \n",
            "__________________________________________________________________________________________________\n",
            "conv2d_274 (Conv2D)             (None, 2, 2, 256)    590080      activation_273[0][0]             \n",
            "__________________________________________________________________________________________________\n",
            "conv2d_275 (Conv2D)             (None, 2, 2, 256)    33024       activation_272[0][0]             \n",
            "__________________________________________________________________________________________________\n",
            "batch_normalization_274 (BatchN (None, 2, 2, 256)    1024        conv2d_274[0][0]                 \n",
            "__________________________________________________________________________________________________\n",
            "batch_normalization_275 (BatchN (None, 2, 2, 256)    1024        conv2d_275[0][0]                 \n",
            "__________________________________________________________________________________________________\n",
            "activation_274 (Activation)     (None, 2, 2, 256)    0           batch_normalization_274[0][0]    \n",
            "__________________________________________________________________________________________________\n",
            "activation_275 (Activation)     (None, 2, 2, 256)    0           batch_normalization_275[0][0]    \n",
            "__________________________________________________________________________________________________\n",
            "add_23 (Add)                    (None, 2, 2, 256)    0           activation_274[0][0]             \n",
            "                                                                 activation_275[0][0]             \n",
            "__________________________________________________________________________________________________\n",
            "conv2d_276 (Conv2D)             (None, 2, 2, 256)    590080      add_23[0][0]                     \n",
            "__________________________________________________________________________________________________\n",
            "batch_normalization_276 (BatchN (None, 2, 2, 256)    1024        conv2d_276[0][0]                 \n",
            "__________________________________________________________________________________________________\n",
            "activation_276 (Activation)     (None, 2, 2, 256)    0           batch_normalization_276[0][0]    \n",
            "__________________________________________________________________________________________________\n",
            "conv2d_277 (Conv2D)             (None, 2, 2, 256)    590080      activation_276[0][0]             \n",
            "__________________________________________________________________________________________________\n",
            "batch_normalization_277 (BatchN (None, 2, 2, 256)    1024        conv2d_277[0][0]                 \n",
            "__________________________________________________________________________________________________\n",
            "activation_277 (Activation)     (None, 2, 2, 256)    0           batch_normalization_277[0][0]    \n",
            "__________________________________________________________________________________________________\n",
            "conv2d_278 (Conv2D)             (None, 2, 2, 256)    590080      activation_277[0][0]             \n",
            "__________________________________________________________________________________________________\n",
            "batch_normalization_278 (BatchN (None, 2, 2, 256)    1024        conv2d_278[0][0]                 \n",
            "__________________________________________________________________________________________________\n",
            "activation_278 (Activation)     (None, 2, 2, 256)    0           batch_normalization_278[0][0]    \n",
            "__________________________________________________________________________________________________\n",
            "conv2d_279 (Conv2D)             (None, 2, 2, 256)    590080      activation_278[0][0]             \n",
            "__________________________________________________________________________________________________\n",
            "batch_normalization_279 (BatchN (None, 2, 2, 256)    1024        conv2d_279[0][0]                 \n",
            "__________________________________________________________________________________________________\n",
            "activation_279 (Activation)     (None, 2, 2, 256)    0           batch_normalization_279[0][0]    \n",
            "__________________________________________________________________________________________________\n",
            "conv2d_280 (Conv2D)             (None, 2, 2, 256)    590080      activation_279[0][0]             \n",
            "__________________________________________________________________________________________________\n",
            "batch_normalization_280 (BatchN (None, 2, 2, 256)    1024        conv2d_280[0][0]                 \n",
            "__________________________________________________________________________________________________\n",
            "activation_280 (Activation)     (None, 2, 2, 256)    0           batch_normalization_280[0][0]    \n",
            "__________________________________________________________________________________________________\n",
            "conv2d_281 (Conv2D)             (None, 2, 2, 256)    590080      activation_280[0][0]             \n",
            "__________________________________________________________________________________________________\n",
            "batch_normalization_281 (BatchN (None, 2, 2, 256)    1024        conv2d_281[0][0]                 \n",
            "__________________________________________________________________________________________________\n",
            "activation_281 (Activation)     (None, 2, 2, 256)    0           batch_normalization_281[0][0]    \n",
            "__________________________________________________________________________________________________\n",
            "conv2d_282 (Conv2D)             (None, 2, 2, 256)    590080      activation_281[0][0]             \n",
            "__________________________________________________________________________________________________\n",
            "batch_normalization_282 (BatchN (None, 2, 2, 256)    1024        conv2d_282[0][0]                 \n",
            "__________________________________________________________________________________________________\n",
            "activation_282 (Activation)     (None, 2, 2, 256)    0           batch_normalization_282[0][0]    \n",
            "__________________________________________________________________________________________________\n",
            "conv2d_283 (Conv2D)             (None, 2, 2, 256)    590080      activation_282[0][0]             \n",
            "__________________________________________________________________________________________________\n",
            "batch_normalization_283 (BatchN (None, 2, 2, 256)    1024        conv2d_283[0][0]                 \n",
            "__________________________________________________________________________________________________\n",
            "activation_283 (Activation)     (None, 2, 2, 256)    0           batch_normalization_283[0][0]    \n",
            "__________________________________________________________________________________________________\n",
            "conv2d_284 (Conv2D)             (None, 2, 2, 256)    590080      activation_283[0][0]             \n",
            "__________________________________________________________________________________________________\n",
            "batch_normalization_284 (BatchN (None, 2, 2, 256)    1024        conv2d_284[0][0]                 \n",
            "__________________________________________________________________________________________________\n",
            "activation_284 (Activation)     (None, 2, 2, 256)    0           batch_normalization_284[0][0]    \n",
            "__________________________________________________________________________________________________\n",
            "conv2d_285 (Conv2D)             (None, 2, 2, 256)    590080      activation_284[0][0]             \n",
            "__________________________________________________________________________________________________\n",
            "batch_normalization_285 (BatchN (None, 2, 2, 256)    1024        conv2d_285[0][0]                 \n",
            "__________________________________________________________________________________________________\n",
            "activation_285 (Activation)     (None, 2, 2, 256)    0           batch_normalization_285[0][0]    \n",
            "__________________________________________________________________________________________________\n",
            "conv2d_286 (Conv2D)             (None, 1, 1, 512)    1180160     activation_285[0][0]             \n",
            "__________________________________________________________________________________________________\n",
            "batch_normalization_286 (BatchN (None, 1, 1, 512)    2048        conv2d_286[0][0]                 \n",
            "__________________________________________________________________________________________________\n",
            "activation_286 (Activation)     (None, 1, 1, 512)    0           batch_normalization_286[0][0]    \n",
            "__________________________________________________________________________________________________\n",
            "conv2d_287 (Conv2D)             (None, 1, 1, 512)    2359808     activation_286[0][0]             \n",
            "__________________________________________________________________________________________________\n",
            "conv2d_288 (Conv2D)             (None, 1, 1, 512)    131584      activation_285[0][0]             \n",
            "__________________________________________________________________________________________________\n",
            "batch_normalization_287 (BatchN (None, 1, 1, 512)    2048        conv2d_287[0][0]                 \n",
            "__________________________________________________________________________________________________\n",
            "batch_normalization_288 (BatchN (None, 1, 1, 512)    2048        conv2d_288[0][0]                 \n",
            "__________________________________________________________________________________________________\n",
            "activation_287 (Activation)     (None, 1, 1, 512)    0           batch_normalization_287[0][0]    \n",
            "__________________________________________________________________________________________________\n",
            "activation_288 (Activation)     (None, 1, 1, 512)    0           batch_normalization_288[0][0]    \n",
            "__________________________________________________________________________________________________\n",
            "add_24 (Add)                    (None, 1, 1, 512)    0           activation_287[0][0]             \n",
            "                                                                 activation_288[0][0]             \n",
            "__________________________________________________________________________________________________\n",
            "conv2d_289 (Conv2D)             (None, 1, 1, 512)    2359808     add_24[0][0]                     \n",
            "__________________________________________________________________________________________________\n",
            "batch_normalization_289 (BatchN (None, 1, 1, 512)    2048        conv2d_289[0][0]                 \n",
            "__________________________________________________________________________________________________\n",
            "activation_289 (Activation)     (None, 1, 1, 512)    0           batch_normalization_289[0][0]    \n",
            "__________________________________________________________________________________________________\n",
            "conv2d_290 (Conv2D)             (None, 1, 1, 512)    2359808     activation_289[0][0]             \n",
            "__________________________________________________________________________________________________\n",
            "batch_normalization_290 (BatchN (None, 1, 1, 512)    2048        conv2d_290[0][0]                 \n",
            "__________________________________________________________________________________________________\n",
            "activation_290 (Activation)     (None, 1, 1, 512)    0           batch_normalization_290[0][0]    \n",
            "__________________________________________________________________________________________________\n",
            "conv2d_291 (Conv2D)             (None, 1, 1, 512)    2359808     activation_290[0][0]             \n",
            "__________________________________________________________________________________________________\n",
            "batch_normalization_291 (BatchN (None, 1, 1, 512)    2048        conv2d_291[0][0]                 \n",
            "__________________________________________________________________________________________________\n",
            "activation_291 (Activation)     (None, 1, 1, 512)    0           batch_normalization_291[0][0]    \n",
            "__________________________________________________________________________________________________\n",
            "conv2d_292 (Conv2D)             (None, 1, 1, 512)    2359808     activation_291[0][0]             \n",
            "__________________________________________________________________________________________________\n",
            "batch_normalization_292 (BatchN (None, 1, 1, 512)    2048        conv2d_292[0][0]                 \n",
            "__________________________________________________________________________________________________\n",
            "activation_292 (Activation)     (None, 1, 1, 512)    0           batch_normalization_292[0][0]    \n",
            "__________________________________________________________________________________________________\n",
            "global_average_pooling2d_7 (Glo (None, 512)          0           activation_292[0][0]             \n",
            "__________________________________________________________________________________________________\n",
            "flatten_7 (Flatten)             (None, 512)          0           global_average_pooling2d_7[0][0] \n",
            "__________________________________________________________________________________________________\n",
            "dense_21 (Dense)                (None, 128)          65664       flatten_7[0][0]                  \n",
            "__________________________________________________________________________________________________\n",
            "dense_22 (Dense)                (None, 32)           4128        dense_21[0][0]                   \n",
            "__________________________________________________________________________________________________\n",
            "dropout_19 (Dropout)            (None, 32)           0           dense_22[0][0]                   \n",
            "__________________________________________________________________________________________________\n",
            "dense_23 (Dense)                (None, 10)           330         dropout_19[0][0]                 \n",
            "==================================================================================================\n",
            "Total params: 21,380,330\n",
            "Trainable params: 21,363,306\n",
            "Non-trainable params: 17,024\n",
            "__________________________________________________________________________________________________\n"
          ],
          "name": "stdout"
        }
      ]
    },
    {
      "cell_type": "code",
      "metadata": {
        "id": "dTUI6TF5IiTG"
      },
      "source": [
        "erly_stop = tf.keras.callbacks.EarlyStopping(\r\n",
        "    monitor='val_loss', min_delta=0.0001, patience=10, verbose=1,\r\n",
        "    mode='auto', baseline=None, restore_best_weights=True,\r\n",
        ")\r\n",
        "\r\n",
        "model_monit = tf.keras.callbacks.ModelCheckpoint(\r\n",
        "    os.path.join(os.curdir), monitor='val_loss', verbose=0, save_best_only=True,\r\n",
        "    save_weights_only=True, mode='min'\r\n",
        ")\r\n",
        "\r\n",
        "def exponential_decay(lr0, s):\r\n",
        "    def exponential_decay_fn(epoch):\r\n",
        "        return lr0 * 0.1**(epoch / s)\r\n",
        "    return exponential_decay_fn\r\n",
        "\r\n",
        "exponential_decay_fn = exponential_decay(lr0=0.1, s=10)\r\n",
        "lr_scheduler = tf.keras.callbacks.LearningRateScheduler(exponential_decay_fn)"
      ],
      "execution_count": 51,
      "outputs": []
    },
    {
      "cell_type": "code",
      "metadata": {
        "id": "lUDNDI5KrcdL",
        "colab": {
          "base_uri": "https://localhost:8080/",
          "height": 69
        },
        "outputId": "d0206872-a728-4162-c057-5f719c76e470"
      },
      "source": [
        "\"\"\"\r\n",
        "base_model = tf.keras.applications.ResNet152(include_top=False, input_shape=train_X.shape[1:], weights=None)\r\n",
        "avg = tf.keras.layers.GlobalAveragePooling2D()(base_model.output)\r\n",
        "outputs = tf.keras.layers.Dense(10, activation='softmax')(avg)\r\n",
        "model = tf.keras.Model(base_model.inputs, outputs)\r\n",
        "model.compile(optimizer='adam',\r\n",
        "              loss='categorical_crossentropy',\r\n",
        "              metrics=['accuracy'])\r\n",
        "model.summary()\r\n",
        "\"\"\""
      ],
      "execution_count": 52,
      "outputs": [
        {
          "output_type": "execute_result",
          "data": {
            "application/vnd.google.colaboratory.intrinsic+json": {
              "type": "string"
            },
            "text/plain": [
              "\"\\nbase_model = tf.keras.applications.ResNet152(include_top=False, input_shape=train_X.shape[1:], weights=None)\\navg = tf.keras.layers.GlobalAveragePooling2D()(base_model.output)\\noutputs = tf.keras.layers.Dense(10, activation='softmax')(avg)\\nmodel = tf.keras.Model(base_model.inputs, outputs)\\nmodel.compile(optimizer='adam',\\n              loss='categorical_crossentropy',\\n              metrics=['accuracy'])\\nmodel.summary()\\n\""
            ]
          },
          "metadata": {
            "tags": []
          },
          "execution_count": 52
        }
      ]
    },
    {
      "cell_type": "code",
      "metadata": {
        "colab": {
          "base_uri": "https://localhost:8080/",
          "height": 425
        },
        "id": "nKCOyZofL9QH",
        "outputId": "86a4cb49-3329-494e-fc66-84a5b2793011"
      },
      "source": [
        "history = model.fit(x=train_X, y=train_y, batch_size=64, epochs=100, validation_data=(val_X, val_y),\r\n",
        "                    callbacks=[erly_stop, model_monit])"
      ],
      "execution_count": 53,
      "outputs": [
        {
          "output_type": "stream",
          "text": [
            "Epoch 1/100\n",
            "625/625 [==============================] - 24s 38ms/step - loss: 2.3653 - accuracy: 0.1018 - val_loss: 849462.0625 - val_accuracy: 0.1039\n",
            "Epoch 2/100\n",
            "625/625 [==============================] - 24s 38ms/step - loss: 2.3542 - accuracy: 0.1017 - val_loss: 399294.6875 - val_accuracy: 0.1000\n",
            "Epoch 3/100\n",
            "167/625 [=======>......................] - ETA: 16s - loss: 2.3491 - accuracy: 0.0974"
          ],
          "name": "stdout"
        },
        {
          "output_type": "error",
          "ename": "KeyboardInterrupt",
          "evalue": "ignored",
          "traceback": [
            "\u001b[0;31m---------------------------------------------------------------------------\u001b[0m",
            "\u001b[0;31mKeyboardInterrupt\u001b[0m                         Traceback (most recent call last)",
            "\u001b[0;32m<ipython-input-53-fef19cde20c3>\u001b[0m in \u001b[0;36m<module>\u001b[0;34m()\u001b[0m\n\u001b[1;32m      1\u001b[0m history = model.fit(x=train_X, y=train_y, batch_size=64, epochs=100, validation_data=(val_X, val_y),\n\u001b[0;32m----> 2\u001b[0;31m                     callbacks=[lr_scheduler, erly_stop, model_monit])\n\u001b[0m",
            "\u001b[0;32m/usr/local/lib/python3.6/dist-packages/tensorflow/python/keras/engine/training.py\u001b[0m in \u001b[0;36mfit\u001b[0;34m(self, x, y, batch_size, epochs, verbose, callbacks, validation_split, validation_data, shuffle, class_weight, sample_weight, initial_epoch, steps_per_epoch, validation_steps, validation_batch_size, validation_freq, max_queue_size, workers, use_multiprocessing)\u001b[0m\n\u001b[1;32m   1103\u001b[0m               \u001b[0mlogs\u001b[0m \u001b[0;34m=\u001b[0m \u001b[0mtmp_logs\u001b[0m  \u001b[0;31m# No error, now safe to assign to logs.\u001b[0m\u001b[0;34m\u001b[0m\u001b[0;34m\u001b[0m\u001b[0m\n\u001b[1;32m   1104\u001b[0m               \u001b[0mend_step\u001b[0m \u001b[0;34m=\u001b[0m \u001b[0mstep\u001b[0m \u001b[0;34m+\u001b[0m \u001b[0mdata_handler\u001b[0m\u001b[0;34m.\u001b[0m\u001b[0mstep_increment\u001b[0m\u001b[0;34m\u001b[0m\u001b[0;34m\u001b[0m\u001b[0m\n\u001b[0;32m-> 1105\u001b[0;31m               \u001b[0mcallbacks\u001b[0m\u001b[0;34m.\u001b[0m\u001b[0mon_train_batch_end\u001b[0m\u001b[0;34m(\u001b[0m\u001b[0mend_step\u001b[0m\u001b[0;34m,\u001b[0m \u001b[0mlogs\u001b[0m\u001b[0;34m)\u001b[0m\u001b[0;34m\u001b[0m\u001b[0;34m\u001b[0m\u001b[0m\n\u001b[0m\u001b[1;32m   1106\u001b[0m               \u001b[0;32mif\u001b[0m \u001b[0mself\u001b[0m\u001b[0;34m.\u001b[0m\u001b[0mstop_training\u001b[0m\u001b[0;34m:\u001b[0m\u001b[0;34m\u001b[0m\u001b[0;34m\u001b[0m\u001b[0m\n\u001b[1;32m   1107\u001b[0m                 \u001b[0;32mbreak\u001b[0m\u001b[0;34m\u001b[0m\u001b[0;34m\u001b[0m\u001b[0m\n",
            "\u001b[0;32m/usr/local/lib/python3.6/dist-packages/tensorflow/python/keras/callbacks.py\u001b[0m in \u001b[0;36mon_train_batch_end\u001b[0;34m(self, batch, logs)\u001b[0m\n\u001b[1;32m    452\u001b[0m     \"\"\"\n\u001b[1;32m    453\u001b[0m     \u001b[0;32mif\u001b[0m \u001b[0mself\u001b[0m\u001b[0;34m.\u001b[0m\u001b[0m_should_call_train_batch_hooks\u001b[0m\u001b[0;34m:\u001b[0m\u001b[0;34m\u001b[0m\u001b[0;34m\u001b[0m\u001b[0m\n\u001b[0;32m--> 454\u001b[0;31m       \u001b[0mself\u001b[0m\u001b[0;34m.\u001b[0m\u001b[0m_call_batch_hook\u001b[0m\u001b[0;34m(\u001b[0m\u001b[0mModeKeys\u001b[0m\u001b[0;34m.\u001b[0m\u001b[0mTRAIN\u001b[0m\u001b[0;34m,\u001b[0m \u001b[0;34m'end'\u001b[0m\u001b[0;34m,\u001b[0m \u001b[0mbatch\u001b[0m\u001b[0;34m,\u001b[0m \u001b[0mlogs\u001b[0m\u001b[0;34m=\u001b[0m\u001b[0mlogs\u001b[0m\u001b[0;34m)\u001b[0m\u001b[0;34m\u001b[0m\u001b[0;34m\u001b[0m\u001b[0m\n\u001b[0m\u001b[1;32m    455\u001b[0m \u001b[0;34m\u001b[0m\u001b[0m\n\u001b[1;32m    456\u001b[0m   \u001b[0;32mdef\u001b[0m \u001b[0mon_test_batch_begin\u001b[0m\u001b[0;34m(\u001b[0m\u001b[0mself\u001b[0m\u001b[0;34m,\u001b[0m \u001b[0mbatch\u001b[0m\u001b[0;34m,\u001b[0m \u001b[0mlogs\u001b[0m\u001b[0;34m=\u001b[0m\u001b[0;32mNone\u001b[0m\u001b[0;34m)\u001b[0m\u001b[0;34m:\u001b[0m\u001b[0;34m\u001b[0m\u001b[0;34m\u001b[0m\u001b[0m\n",
            "\u001b[0;32m/usr/local/lib/python3.6/dist-packages/tensorflow/python/keras/callbacks.py\u001b[0m in \u001b[0;36m_call_batch_hook\u001b[0;34m(self, mode, hook, batch, logs)\u001b[0m\n\u001b[1;32m    294\u001b[0m       \u001b[0mself\u001b[0m\u001b[0;34m.\u001b[0m\u001b[0m_call_batch_begin_hook\u001b[0m\u001b[0;34m(\u001b[0m\u001b[0mmode\u001b[0m\u001b[0;34m,\u001b[0m \u001b[0mbatch\u001b[0m\u001b[0;34m,\u001b[0m \u001b[0mlogs\u001b[0m\u001b[0;34m)\u001b[0m\u001b[0;34m\u001b[0m\u001b[0;34m\u001b[0m\u001b[0m\n\u001b[1;32m    295\u001b[0m     \u001b[0;32melif\u001b[0m \u001b[0mhook\u001b[0m \u001b[0;34m==\u001b[0m \u001b[0;34m'end'\u001b[0m\u001b[0;34m:\u001b[0m\u001b[0;34m\u001b[0m\u001b[0;34m\u001b[0m\u001b[0m\n\u001b[0;32m--> 296\u001b[0;31m       \u001b[0mself\u001b[0m\u001b[0;34m.\u001b[0m\u001b[0m_call_batch_end_hook\u001b[0m\u001b[0;34m(\u001b[0m\u001b[0mmode\u001b[0m\u001b[0;34m,\u001b[0m \u001b[0mbatch\u001b[0m\u001b[0;34m,\u001b[0m \u001b[0mlogs\u001b[0m\u001b[0;34m)\u001b[0m\u001b[0;34m\u001b[0m\u001b[0;34m\u001b[0m\u001b[0m\n\u001b[0m\u001b[1;32m    297\u001b[0m     \u001b[0;32melse\u001b[0m\u001b[0;34m:\u001b[0m\u001b[0;34m\u001b[0m\u001b[0;34m\u001b[0m\u001b[0m\n\u001b[1;32m    298\u001b[0m       \u001b[0;32mraise\u001b[0m \u001b[0mValueError\u001b[0m\u001b[0;34m(\u001b[0m\u001b[0;34m'Unrecognized hook: {}'\u001b[0m\u001b[0;34m.\u001b[0m\u001b[0mformat\u001b[0m\u001b[0;34m(\u001b[0m\u001b[0mhook\u001b[0m\u001b[0;34m)\u001b[0m\u001b[0;34m)\u001b[0m\u001b[0;34m\u001b[0m\u001b[0;34m\u001b[0m\u001b[0m\n",
            "\u001b[0;32m/usr/local/lib/python3.6/dist-packages/tensorflow/python/keras/callbacks.py\u001b[0m in \u001b[0;36m_call_batch_end_hook\u001b[0;34m(self, mode, batch, logs)\u001b[0m\n\u001b[1;32m    314\u001b[0m       \u001b[0mself\u001b[0m\u001b[0;34m.\u001b[0m\u001b[0m_batch_times\u001b[0m\u001b[0;34m.\u001b[0m\u001b[0mappend\u001b[0m\u001b[0;34m(\u001b[0m\u001b[0mbatch_time\u001b[0m\u001b[0;34m)\u001b[0m\u001b[0;34m\u001b[0m\u001b[0;34m\u001b[0m\u001b[0m\n\u001b[1;32m    315\u001b[0m \u001b[0;34m\u001b[0m\u001b[0m\n\u001b[0;32m--> 316\u001b[0;31m     \u001b[0mself\u001b[0m\u001b[0;34m.\u001b[0m\u001b[0m_call_batch_hook_helper\u001b[0m\u001b[0;34m(\u001b[0m\u001b[0mhook_name\u001b[0m\u001b[0;34m,\u001b[0m \u001b[0mbatch\u001b[0m\u001b[0;34m,\u001b[0m \u001b[0mlogs\u001b[0m\u001b[0;34m)\u001b[0m\u001b[0;34m\u001b[0m\u001b[0;34m\u001b[0m\u001b[0m\n\u001b[0m\u001b[1;32m    317\u001b[0m \u001b[0;34m\u001b[0m\u001b[0m\n\u001b[1;32m    318\u001b[0m     \u001b[0;32mif\u001b[0m \u001b[0mlen\u001b[0m\u001b[0;34m(\u001b[0m\u001b[0mself\u001b[0m\u001b[0;34m.\u001b[0m\u001b[0m_batch_times\u001b[0m\u001b[0;34m)\u001b[0m \u001b[0;34m>=\u001b[0m \u001b[0mself\u001b[0m\u001b[0;34m.\u001b[0m\u001b[0m_num_batches_for_timing_check\u001b[0m\u001b[0;34m:\u001b[0m\u001b[0;34m\u001b[0m\u001b[0;34m\u001b[0m\u001b[0m\n",
            "\u001b[0;32m/usr/local/lib/python3.6/dist-packages/tensorflow/python/keras/callbacks.py\u001b[0m in \u001b[0;36m_call_batch_hook_helper\u001b[0;34m(self, hook_name, batch, logs)\u001b[0m\n\u001b[1;32m    354\u001b[0m       \u001b[0mhook\u001b[0m \u001b[0;34m=\u001b[0m \u001b[0mgetattr\u001b[0m\u001b[0;34m(\u001b[0m\u001b[0mcallback\u001b[0m\u001b[0;34m,\u001b[0m \u001b[0mhook_name\u001b[0m\u001b[0;34m)\u001b[0m\u001b[0;34m\u001b[0m\u001b[0;34m\u001b[0m\u001b[0m\n\u001b[1;32m    355\u001b[0m       \u001b[0;32mif\u001b[0m \u001b[0mgetattr\u001b[0m\u001b[0;34m(\u001b[0m\u001b[0mcallback\u001b[0m\u001b[0;34m,\u001b[0m \u001b[0;34m'_supports_tf_logs'\u001b[0m\u001b[0;34m,\u001b[0m \u001b[0;32mFalse\u001b[0m\u001b[0;34m)\u001b[0m\u001b[0;34m:\u001b[0m\u001b[0;34m\u001b[0m\u001b[0;34m\u001b[0m\u001b[0m\n\u001b[0;32m--> 356\u001b[0;31m         \u001b[0mhook\u001b[0m\u001b[0;34m(\u001b[0m\u001b[0mbatch\u001b[0m\u001b[0;34m,\u001b[0m \u001b[0mlogs\u001b[0m\u001b[0;34m)\u001b[0m\u001b[0;34m\u001b[0m\u001b[0;34m\u001b[0m\u001b[0m\n\u001b[0m\u001b[1;32m    357\u001b[0m       \u001b[0;32melse\u001b[0m\u001b[0;34m:\u001b[0m\u001b[0;34m\u001b[0m\u001b[0;34m\u001b[0m\u001b[0m\n\u001b[1;32m    358\u001b[0m         \u001b[0;32mif\u001b[0m \u001b[0mnumpy_logs\u001b[0m \u001b[0;32mis\u001b[0m \u001b[0;32mNone\u001b[0m\u001b[0;34m:\u001b[0m  \u001b[0;31m# Only convert once.\u001b[0m\u001b[0;34m\u001b[0m\u001b[0;34m\u001b[0m\u001b[0m\n",
            "\u001b[0;32m/usr/local/lib/python3.6/dist-packages/tensorflow/python/keras/callbacks.py\u001b[0m in \u001b[0;36mon_train_batch_end\u001b[0;34m(self, batch, logs)\u001b[0m\n\u001b[1;32m   1018\u001b[0m \u001b[0;34m\u001b[0m\u001b[0m\n\u001b[1;32m   1019\u001b[0m   \u001b[0;32mdef\u001b[0m \u001b[0mon_train_batch_end\u001b[0m\u001b[0;34m(\u001b[0m\u001b[0mself\u001b[0m\u001b[0;34m,\u001b[0m \u001b[0mbatch\u001b[0m\u001b[0;34m,\u001b[0m \u001b[0mlogs\u001b[0m\u001b[0;34m=\u001b[0m\u001b[0;32mNone\u001b[0m\u001b[0;34m)\u001b[0m\u001b[0;34m:\u001b[0m\u001b[0;34m\u001b[0m\u001b[0;34m\u001b[0m\u001b[0m\n\u001b[0;32m-> 1020\u001b[0;31m     \u001b[0mself\u001b[0m\u001b[0;34m.\u001b[0m\u001b[0m_batch_update_progbar\u001b[0m\u001b[0;34m(\u001b[0m\u001b[0mbatch\u001b[0m\u001b[0;34m,\u001b[0m \u001b[0mlogs\u001b[0m\u001b[0;34m)\u001b[0m\u001b[0;34m\u001b[0m\u001b[0;34m\u001b[0m\u001b[0m\n\u001b[0m\u001b[1;32m   1021\u001b[0m \u001b[0;34m\u001b[0m\u001b[0m\n\u001b[1;32m   1022\u001b[0m   \u001b[0;32mdef\u001b[0m \u001b[0mon_test_batch_end\u001b[0m\u001b[0;34m(\u001b[0m\u001b[0mself\u001b[0m\u001b[0;34m,\u001b[0m \u001b[0mbatch\u001b[0m\u001b[0;34m,\u001b[0m \u001b[0mlogs\u001b[0m\u001b[0;34m=\u001b[0m\u001b[0;32mNone\u001b[0m\u001b[0;34m)\u001b[0m\u001b[0;34m:\u001b[0m\u001b[0;34m\u001b[0m\u001b[0;34m\u001b[0m\u001b[0m\n",
            "\u001b[0;32m/usr/local/lib/python3.6/dist-packages/tensorflow/python/keras/callbacks.py\u001b[0m in \u001b[0;36m_batch_update_progbar\u001b[0;34m(self, batch, logs)\u001b[0m\n\u001b[1;32m   1082\u001b[0m     \u001b[0;32mif\u001b[0m \u001b[0mself\u001b[0m\u001b[0;34m.\u001b[0m\u001b[0mverbose\u001b[0m \u001b[0;34m==\u001b[0m \u001b[0;36m1\u001b[0m\u001b[0;34m:\u001b[0m\u001b[0;34m\u001b[0m\u001b[0;34m\u001b[0m\u001b[0m\n\u001b[1;32m   1083\u001b[0m       \u001b[0;31m# Only block async when verbose = 1.\u001b[0m\u001b[0;34m\u001b[0m\u001b[0;34m\u001b[0m\u001b[0;34m\u001b[0m\u001b[0m\n\u001b[0;32m-> 1084\u001b[0;31m       \u001b[0mlogs\u001b[0m \u001b[0;34m=\u001b[0m \u001b[0mtf_utils\u001b[0m\u001b[0;34m.\u001b[0m\u001b[0mto_numpy_or_python_type\u001b[0m\u001b[0;34m(\u001b[0m\u001b[0mlogs\u001b[0m\u001b[0;34m)\u001b[0m\u001b[0;34m\u001b[0m\u001b[0;34m\u001b[0m\u001b[0m\n\u001b[0m\u001b[1;32m   1085\u001b[0m       \u001b[0mself\u001b[0m\u001b[0;34m.\u001b[0m\u001b[0mprogbar\u001b[0m\u001b[0;34m.\u001b[0m\u001b[0mupdate\u001b[0m\u001b[0;34m(\u001b[0m\u001b[0mself\u001b[0m\u001b[0;34m.\u001b[0m\u001b[0mseen\u001b[0m\u001b[0;34m,\u001b[0m \u001b[0mlist\u001b[0m\u001b[0;34m(\u001b[0m\u001b[0mlogs\u001b[0m\u001b[0;34m.\u001b[0m\u001b[0mitems\u001b[0m\u001b[0;34m(\u001b[0m\u001b[0;34m)\u001b[0m\u001b[0;34m)\u001b[0m\u001b[0;34m,\u001b[0m \u001b[0mfinalize\u001b[0m\u001b[0;34m=\u001b[0m\u001b[0;32mFalse\u001b[0m\u001b[0;34m)\u001b[0m\u001b[0;34m\u001b[0m\u001b[0;34m\u001b[0m\u001b[0m\n\u001b[1;32m   1086\u001b[0m \u001b[0;34m\u001b[0m\u001b[0m\n",
            "\u001b[0;32m/usr/local/lib/python3.6/dist-packages/tensorflow/python/keras/utils/tf_utils.py\u001b[0m in \u001b[0;36mto_numpy_or_python_type\u001b[0;34m(tensors)\u001b[0m\n\u001b[1;32m    512\u001b[0m     \u001b[0;32mreturn\u001b[0m \u001b[0mt\u001b[0m  \u001b[0;31m# Don't turn ragged or sparse tensors to NumPy.\u001b[0m\u001b[0;34m\u001b[0m\u001b[0;34m\u001b[0m\u001b[0m\n\u001b[1;32m    513\u001b[0m \u001b[0;34m\u001b[0m\u001b[0m\n\u001b[0;32m--> 514\u001b[0;31m   \u001b[0;32mreturn\u001b[0m \u001b[0mnest\u001b[0m\u001b[0;34m.\u001b[0m\u001b[0mmap_structure\u001b[0m\u001b[0;34m(\u001b[0m\u001b[0m_to_single_numpy_or_python_type\u001b[0m\u001b[0;34m,\u001b[0m \u001b[0mtensors\u001b[0m\u001b[0;34m)\u001b[0m\u001b[0;34m\u001b[0m\u001b[0;34m\u001b[0m\u001b[0m\n\u001b[0m\u001b[1;32m    515\u001b[0m \u001b[0;34m\u001b[0m\u001b[0m\n\u001b[1;32m    516\u001b[0m \u001b[0;34m\u001b[0m\u001b[0m\n",
            "\u001b[0;32m/usr/local/lib/python3.6/dist-packages/tensorflow/python/util/nest.py\u001b[0m in \u001b[0;36mmap_structure\u001b[0;34m(func, *structure, **kwargs)\u001b[0m\n\u001b[1;32m    657\u001b[0m \u001b[0;34m\u001b[0m\u001b[0m\n\u001b[1;32m    658\u001b[0m   return pack_sequence_as(\n\u001b[0;32m--> 659\u001b[0;31m       \u001b[0mstructure\u001b[0m\u001b[0;34m[\u001b[0m\u001b[0;36m0\u001b[0m\u001b[0;34m]\u001b[0m\u001b[0;34m,\u001b[0m \u001b[0;34m[\u001b[0m\u001b[0mfunc\u001b[0m\u001b[0;34m(\u001b[0m\u001b[0;34m*\u001b[0m\u001b[0mx\u001b[0m\u001b[0;34m)\u001b[0m \u001b[0;32mfor\u001b[0m \u001b[0mx\u001b[0m \u001b[0;32min\u001b[0m \u001b[0mentries\u001b[0m\u001b[0;34m]\u001b[0m\u001b[0;34m,\u001b[0m\u001b[0;34m\u001b[0m\u001b[0;34m\u001b[0m\u001b[0m\n\u001b[0m\u001b[1;32m    660\u001b[0m       expand_composites=expand_composites)\n\u001b[1;32m    661\u001b[0m \u001b[0;34m\u001b[0m\u001b[0m\n",
            "\u001b[0;32m/usr/local/lib/python3.6/dist-packages/tensorflow/python/util/nest.py\u001b[0m in \u001b[0;36m<listcomp>\u001b[0;34m(.0)\u001b[0m\n\u001b[1;32m    657\u001b[0m \u001b[0;34m\u001b[0m\u001b[0m\n\u001b[1;32m    658\u001b[0m   return pack_sequence_as(\n\u001b[0;32m--> 659\u001b[0;31m       \u001b[0mstructure\u001b[0m\u001b[0;34m[\u001b[0m\u001b[0;36m0\u001b[0m\u001b[0;34m]\u001b[0m\u001b[0;34m,\u001b[0m \u001b[0;34m[\u001b[0m\u001b[0mfunc\u001b[0m\u001b[0;34m(\u001b[0m\u001b[0;34m*\u001b[0m\u001b[0mx\u001b[0m\u001b[0;34m)\u001b[0m \u001b[0;32mfor\u001b[0m \u001b[0mx\u001b[0m \u001b[0;32min\u001b[0m \u001b[0mentries\u001b[0m\u001b[0;34m]\u001b[0m\u001b[0;34m,\u001b[0m\u001b[0;34m\u001b[0m\u001b[0;34m\u001b[0m\u001b[0m\n\u001b[0m\u001b[1;32m    660\u001b[0m       expand_composites=expand_composites)\n\u001b[1;32m    661\u001b[0m \u001b[0;34m\u001b[0m\u001b[0m\n",
            "\u001b[0;32m/usr/local/lib/python3.6/dist-packages/tensorflow/python/keras/utils/tf_utils.py\u001b[0m in \u001b[0;36m_to_single_numpy_or_python_type\u001b[0;34m(t)\u001b[0m\n\u001b[1;32m    508\u001b[0m   \u001b[0;32mdef\u001b[0m \u001b[0m_to_single_numpy_or_python_type\u001b[0m\u001b[0;34m(\u001b[0m\u001b[0mt\u001b[0m\u001b[0;34m)\u001b[0m\u001b[0;34m:\u001b[0m\u001b[0;34m\u001b[0m\u001b[0;34m\u001b[0m\u001b[0m\n\u001b[1;32m    509\u001b[0m     \u001b[0;32mif\u001b[0m \u001b[0misinstance\u001b[0m\u001b[0;34m(\u001b[0m\u001b[0mt\u001b[0m\u001b[0;34m,\u001b[0m \u001b[0mops\u001b[0m\u001b[0;34m.\u001b[0m\u001b[0mTensor\u001b[0m\u001b[0;34m)\u001b[0m\u001b[0;34m:\u001b[0m\u001b[0;34m\u001b[0m\u001b[0;34m\u001b[0m\u001b[0m\n\u001b[0;32m--> 510\u001b[0;31m       \u001b[0mx\u001b[0m \u001b[0;34m=\u001b[0m \u001b[0mt\u001b[0m\u001b[0;34m.\u001b[0m\u001b[0mnumpy\u001b[0m\u001b[0;34m(\u001b[0m\u001b[0;34m)\u001b[0m\u001b[0;34m\u001b[0m\u001b[0;34m\u001b[0m\u001b[0m\n\u001b[0m\u001b[1;32m    511\u001b[0m       \u001b[0;32mreturn\u001b[0m \u001b[0mx\u001b[0m\u001b[0;34m.\u001b[0m\u001b[0mitem\u001b[0m\u001b[0;34m(\u001b[0m\u001b[0;34m)\u001b[0m \u001b[0;32mif\u001b[0m \u001b[0mnp\u001b[0m\u001b[0;34m.\u001b[0m\u001b[0mndim\u001b[0m\u001b[0;34m(\u001b[0m\u001b[0mx\u001b[0m\u001b[0;34m)\u001b[0m \u001b[0;34m==\u001b[0m \u001b[0;36m0\u001b[0m \u001b[0;32melse\u001b[0m \u001b[0mx\u001b[0m\u001b[0;34m\u001b[0m\u001b[0;34m\u001b[0m\u001b[0m\n\u001b[1;32m    512\u001b[0m     \u001b[0;32mreturn\u001b[0m \u001b[0mt\u001b[0m  \u001b[0;31m# Don't turn ragged or sparse tensors to NumPy.\u001b[0m\u001b[0;34m\u001b[0m\u001b[0;34m\u001b[0m\u001b[0m\n",
            "\u001b[0;32m/usr/local/lib/python3.6/dist-packages/tensorflow/python/framework/ops.py\u001b[0m in \u001b[0;36mnumpy\u001b[0;34m(self)\u001b[0m\n\u001b[1;32m   1069\u001b[0m     \"\"\"\n\u001b[1;32m   1070\u001b[0m     \u001b[0;31m# TODO(slebedev): Consider avoiding a copy for non-CPU or remote tensors.\u001b[0m\u001b[0;34m\u001b[0m\u001b[0;34m\u001b[0m\u001b[0;34m\u001b[0m\u001b[0m\n\u001b[0;32m-> 1071\u001b[0;31m     \u001b[0mmaybe_arr\u001b[0m \u001b[0;34m=\u001b[0m \u001b[0mself\u001b[0m\u001b[0;34m.\u001b[0m\u001b[0m_numpy\u001b[0m\u001b[0;34m(\u001b[0m\u001b[0;34m)\u001b[0m  \u001b[0;31m# pylint: disable=protected-access\u001b[0m\u001b[0;34m\u001b[0m\u001b[0;34m\u001b[0m\u001b[0m\n\u001b[0m\u001b[1;32m   1072\u001b[0m     \u001b[0;32mreturn\u001b[0m \u001b[0mmaybe_arr\u001b[0m\u001b[0;34m.\u001b[0m\u001b[0mcopy\u001b[0m\u001b[0;34m(\u001b[0m\u001b[0;34m)\u001b[0m \u001b[0;32mif\u001b[0m \u001b[0misinstance\u001b[0m\u001b[0;34m(\u001b[0m\u001b[0mmaybe_arr\u001b[0m\u001b[0;34m,\u001b[0m \u001b[0mnp\u001b[0m\u001b[0;34m.\u001b[0m\u001b[0mndarray\u001b[0m\u001b[0;34m)\u001b[0m \u001b[0;32melse\u001b[0m \u001b[0mmaybe_arr\u001b[0m\u001b[0;34m\u001b[0m\u001b[0;34m\u001b[0m\u001b[0m\n\u001b[1;32m   1073\u001b[0m \u001b[0;34m\u001b[0m\u001b[0m\n",
            "\u001b[0;32m/usr/local/lib/python3.6/dist-packages/tensorflow/python/framework/ops.py\u001b[0m in \u001b[0;36m_numpy\u001b[0;34m(self)\u001b[0m\n\u001b[1;32m   1035\u001b[0m   \u001b[0;32mdef\u001b[0m \u001b[0m_numpy\u001b[0m\u001b[0;34m(\u001b[0m\u001b[0mself\u001b[0m\u001b[0;34m)\u001b[0m\u001b[0;34m:\u001b[0m\u001b[0;34m\u001b[0m\u001b[0;34m\u001b[0m\u001b[0m\n\u001b[1;32m   1036\u001b[0m     \u001b[0;32mtry\u001b[0m\u001b[0;34m:\u001b[0m\u001b[0;34m\u001b[0m\u001b[0;34m\u001b[0m\u001b[0m\n\u001b[0;32m-> 1037\u001b[0;31m       \u001b[0;32mreturn\u001b[0m \u001b[0mself\u001b[0m\u001b[0;34m.\u001b[0m\u001b[0m_numpy_internal\u001b[0m\u001b[0;34m(\u001b[0m\u001b[0;34m)\u001b[0m\u001b[0;34m\u001b[0m\u001b[0;34m\u001b[0m\u001b[0m\n\u001b[0m\u001b[1;32m   1038\u001b[0m     \u001b[0;32mexcept\u001b[0m \u001b[0mcore\u001b[0m\u001b[0;34m.\u001b[0m\u001b[0m_NotOkStatusException\u001b[0m \u001b[0;32mas\u001b[0m \u001b[0me\u001b[0m\u001b[0;34m:\u001b[0m  \u001b[0;31m# pylint: disable=protected-access\u001b[0m\u001b[0;34m\u001b[0m\u001b[0;34m\u001b[0m\u001b[0m\n\u001b[1;32m   1039\u001b[0m       \u001b[0msix\u001b[0m\u001b[0;34m.\u001b[0m\u001b[0mraise_from\u001b[0m\u001b[0;34m(\u001b[0m\u001b[0mcore\u001b[0m\u001b[0;34m.\u001b[0m\u001b[0m_status_to_exception\u001b[0m\u001b[0;34m(\u001b[0m\u001b[0me\u001b[0m\u001b[0;34m.\u001b[0m\u001b[0mcode\u001b[0m\u001b[0;34m,\u001b[0m \u001b[0me\u001b[0m\u001b[0;34m.\u001b[0m\u001b[0mmessage\u001b[0m\u001b[0;34m)\u001b[0m\u001b[0;34m,\u001b[0m \u001b[0;32mNone\u001b[0m\u001b[0;34m)\u001b[0m  \u001b[0;31m# pylint: disable=protected-access\u001b[0m\u001b[0;34m\u001b[0m\u001b[0;34m\u001b[0m\u001b[0m\n",
            "\u001b[0;31mKeyboardInterrupt\u001b[0m: "
          ]
        }
      ]
    },
    {
      "cell_type": "code",
      "metadata": {
        "id": "zgp1erMiF5qq",
        "colab": {
          "base_uri": "https://localhost:8080/"
        },
        "outputId": "a2b42fcc-4a96-4406-dae9-513d6a3f797b"
      },
      "source": [
        "model.evaluate(test_X, test_y)"
      ],
      "execution_count": null,
      "outputs": [
        {
          "output_type": "stream",
          "text": [
            "94/94 [==============================] - 2s 23ms/step - loss: 1.8050 - accuracy: 0.6913\n"
          ],
          "name": "stdout"
        },
        {
          "output_type": "execute_result",
          "data": {
            "text/plain": [
              "[1.8050097227096558, 0.6913333535194397]"
            ]
          },
          "metadata": {
            "tags": []
          },
          "execution_count": 127
        }
      ]
    },
    {
      "cell_type": "code",
      "metadata": {
        "id": "Ahcl3XCAOH_W"
      },
      "source": [
        "def top_5_error_rate(predict_proba, y_true):\r\n",
        "  result = 0\r\n",
        "  for i in range(len(y_true)):\r\n",
        "    row = predict_proba[i,:]\r\n",
        "    top_5 = sorted(range(len(row)), key = lambda x: row[x], reverse=True)[:5]\r\n",
        "    if np.argmax(y_true[i]) in top_5:\r\n",
        "      result = result + 1\r\n",
        "  \r\n",
        "  return result/len(y_true)"
      ],
      "execution_count": null,
      "outputs": []
    },
    {
      "cell_type": "code",
      "metadata": {
        "colab": {
          "base_uri": "https://localhost:8080/"
        },
        "id": "QTXGUCkQO0zs",
        "outputId": "ffc3eebe-7a91-45f6-f2d5-a3edcb657b66"
      },
      "source": [
        "proba = model.predict(test_X)\r\n",
        "print(f'Accuracy Score : {model.evaluate(test_X, test_y)}')\r\n",
        "print(top_5_error_rate(proba, test_y))"
      ],
      "execution_count": null,
      "outputs": [
        {
          "output_type": "stream",
          "text": [
            "94/94 [==============================] - 2s 22ms/step - loss: 1.8050 - accuracy: 0.6913\n",
            "Accuracy Score : [1.8050097227096558, 0.6913333535194397]\n",
            "0.962\n"
          ],
          "name": "stdout"
        }
      ]
    },
    {
      "cell_type": "code",
      "metadata": {
        "id": "FPy-x08_Rqrr"
      },
      "source": [
        "test_batch = unpickle(os.path.join(datadir,'test_batch'))\r\n",
        "test_data = test_batch[b'data']\r\n",
        "test_labels = test_batch[b'labels']"
      ],
      "execution_count": null,
      "outputs": []
    },
    {
      "cell_type": "code",
      "metadata": {
        "id": "QSbPOBk5T0iW"
      },
      "source": [
        "test_data = np.reshape(test_data, (test_data.shape[0], 3, 32, 32)).transpose(0, 2, 3, 1)"
      ],
      "execution_count": null,
      "outputs": []
    },
    {
      "cell_type": "code",
      "metadata": {
        "colab": {
          "base_uri": "https://localhost:8080/",
          "height": 284
        },
        "id": "eOnuDiESw_Pm",
        "outputId": "e189e143-c77b-46d0-b279-0ac83227d199"
      },
      "source": [
        "idx = np.random.randint(200)\r\n",
        "plt.imshow(test_data[idx])\r\n",
        "label_meta_mapping[test_labels[idx]]"
      ],
      "execution_count": null,
      "outputs": [
        {
          "output_type": "execute_result",
          "data": {
            "application/vnd.google.colaboratory.intrinsic+json": {
              "type": "string"
            },
            "text/plain": [
              "'airplane'"
            ]
          },
          "metadata": {
            "tags": []
          },
          "execution_count": 143
        },
        {
          "output_type": "display_data",
          "data": {
            "image/png": "[encoded data removed]",
            "text/plain": [
              "<Figure size 432x288 with 1 Axes>"
            ]
          },
          "metadata": {
            "tags": [],
            "needs_background": "light"
          }
        }
      ]
    },
    {
      "cell_type": "code",
      "metadata": {
        "colab": {
          "base_uri": "https://localhost:8080/"
        },
        "id": "jaY38UrkTpw9",
        "outputId": "e8ecf463-0646-41c9-d2f0-5c937f375bea"
      },
      "source": [
        "proba_test = model.predict(test_data/255)\r\n",
        "y_test_bat = lb_bin.transform(np.array(test_labels))\r\n",
        "print(f'Accuracy Score : {model.evaluate(test_data/255, y_test_bat)}')\r\n",
        "print(top_5_error_rate(proba_test, y_test_bat))"
      ],
      "execution_count": null,
      "outputs": [
        {
          "output_type": "stream",
          "text": [
            "313/313 [==============================] - 7s 22ms/step - loss: 1.7557 - accuracy: 0.6854\n",
            "Accuracy Score : [1.7556718587875366, 0.6854000091552734]\n",
            "0.9606\n"
          ],
          "name": "stdout"
        }
      ]
    },
    {
      "cell_type": "code",
      "metadata": {
        "id": "mr-G3bTZx2ew",
        "colab": {
          "base_uri": "https://localhost:8080/",
          "height": 317
        },
        "outputId": "fed93c82-f773-4214-e6e5-bcc0ec45a8ed"
      },
      "source": [
        "idx = np.random.randint(1000)\r\n",
        "prediction = proba_test[idx]\r\n",
        "prediction_label = label_meta_mapping[np.argmax(prediction)]\r\n",
        "actual = label_meta_mapping[test_labels[idx]]\r\n",
        "print(f\"Acutal Label: {actual}\\nPredicted Label: {prediction_label}\")\r\n",
        "row = prediction\r\n",
        "top_5 = sorted(range(len(row)), key = lambda x: row[x], reverse=True)[:5]\r\n",
        "top_5 = [label_meta_mapping[i] for i in top_5]\r\n",
        "top_5 = dict(zip(top_5, list(np.sort(prediction))[-1:-5:-1]))\r\n",
        "print(top_5)\r\n",
        "fig = plt.imshow(test_data[idx])"
      ],
      "execution_count": null,
      "outputs": [
        {
          "output_type": "stream",
          "text": [
            "Acutal Label: frog\n",
            "Predicted Label: frog\n",
            "{'frog': 0.9836076, 'airplane': 0.009326594, 'dog': 0.005141229, 'automobile': 0.0010521332}\n"
          ],
          "name": "stdout"
        },
        {
          "output_type": "display_data",
          "data": {
            "image/png": "[encoded data removed]",
            "text/plain": [
              "<Figure size 432x288 with 1 Axes>"
            ]
          },
          "metadata": {
            "tags": [],
            "needs_background": "light"
          }
        }
      ]
    },
    {
      "cell_type": "code",
      "metadata": {
        "id": "7s0BB0cMPioq"
      },
      "source": [
        ""
      ],
      "execution_count": null,
      "outputs": []
    }
  ]
}