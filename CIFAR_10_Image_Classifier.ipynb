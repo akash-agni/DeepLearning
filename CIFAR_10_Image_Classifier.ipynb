{
  "nbformat": 4,
  "nbformat_minor": 0,
  "metadata": {
    "colab": {
      "name": "CIFAR_10_Image_Classifier.ipynb",
      "provenance": [],
      "authorship_tag": "ABX9TyN530R2UiDcJ+S484bskGg+",
      "include_colab_link": true
    },
    "kernelspec": {
      "name": "python3",
      "display_name": "Python 3"
    },
    "accelerator": "GPU"
  },
  "cells": [
    {
      "cell_type": "markdown",
      "metadata": {
        "id": "view-in-github",
        "colab_type": "text"
      },
      "source": [
        "<a href=\"https://colab.research.google.com/github/akash-agni/DeepLearning/blob/Development/CIFAR_10_Image_Classifier.ipynb\" target=\"_parent\"><img src=\"https://colab.research.google.com/assets/colab-badge.svg\" alt=\"Open In Colab\"/></a>"
      ]
    },
    {
      "cell_type": "code",
      "metadata": {
        "id": "DItw-Vd2qvDs"
      },
      "source": [
        "import tensorflow as tf\r\n",
        "import tensorflow_datasets as tfds\r\n",
        "import numpy as np\r\n",
        "import matplotlib.pyplot as plt\r\n",
        "import seaborn as sns\r\n",
        "import os\r\n",
        "from sklearn.model_selection import train_test_split\r\n",
        "from sklearn.preprocessing import LabelBinarizer\r\n",
        "\r\n",
        "from tensorflow.keras import models, layers\r\n",
        "from sklearn.metrics import accuracy_score"
      ],
      "execution_count": 166,
      "outputs": []
    },
    {
      "cell_type": "code",
      "metadata": {
        "colab": {
          "base_uri": "https://localhost:8080/"
        },
        "id": "O4r1kR8js4Fn",
        "outputId": "370ec64f-0549-43e9-af1e-e9ced0d2c7fa"
      },
      "source": [
        "!wget https://www.cs.toronto.edu/~kriz/cifar-10-python.tar.gz"
      ],
      "execution_count": 167,
      "outputs": [
        {
          "output_type": "stream",
          "text": [
            "--2021-02-14 15:09:57--  https://www.cs.toronto.edu/~kriz/cifar-10-python.tar.gz\n",
            "Resolving www.cs.toronto.edu (www.cs.toronto.edu)... 128.100.3.30\n",
            "Connecting to www.cs.toronto.edu (www.cs.toronto.edu)|128.100.3.30|:443... connected.\n",
            "HTTP request sent, awaiting response... 200 OK\n",
            "Length: 170498071 (163M) [application/x-gzip]\n",
            "Saving to: ‘cifar-10-python.tar.gz’\n",
            "\n",
            "cifar-10-python.tar 100%[===================>] 162.60M  31.2MB/s    in 5.8s    \n",
            "\n",
            "2021-02-14 15:10:03 (28.0 MB/s) - ‘cifar-10-python.tar.gz’ saved [170498071/170498071]\n",
            "\n"
          ],
          "name": "stdout"
        }
      ]
    },
    {
      "cell_type": "code",
      "metadata": {
        "id": "l1pyQL-1vsJc",
        "colab": {
          "base_uri": "https://localhost:8080/"
        },
        "outputId": "6670f5fc-7f8b-411a-d50c-770f15b335ba"
      },
      "source": [
        "!mkdir ./cifar_10/\r\n",
        "!tar -xf cifar-10-python.tar.gz -C ./cifar_10/\r\n",
        "!rm -rf cifar-10-python.tar.gz"
      ],
      "execution_count": 168,
      "outputs": [
        {
          "output_type": "stream",
          "text": [
            "mkdir: cannot create directory ‘./cifar_10/’: File exists\n"
          ],
          "name": "stdout"
        }
      ]
    },
    {
      "cell_type": "code",
      "metadata": {
        "colab": {
          "base_uri": "https://localhost:8080/"
        },
        "id": "jC7BdyRFwq3s",
        "outputId": "a013b8c6-e054-41f2-b7e7-fca21279596d"
      },
      "source": [
        "!ls -l ./cifar_10/cifar-10-batches-py/"
      ],
      "execution_count": 169,
      "outputs": [
        {
          "output_type": "stream",
          "text": [
            "total 181876\n",
            "-rw-r--r-- 1 2156 1103      158 Mar 31  2009 batches.meta\n",
            "-rw-r--r-- 1 2156 1103 31035704 Mar 31  2009 data_batch_1\n",
            "-rw-r--r-- 1 2156 1103 31035320 Mar 31  2009 data_batch_2\n",
            "-rw-r--r-- 1 2156 1103 31035999 Mar 31  2009 data_batch_3\n",
            "-rw-r--r-- 1 2156 1103 31035696 Mar 31  2009 data_batch_4\n",
            "-rw-r--r-- 1 2156 1103 31035623 Mar 31  2009 data_batch_5\n",
            "-rw-r--r-- 1 2156 1103       88 Jun  4  2009 readme.html\n",
            "-rw-r--r-- 1 2156 1103 31035526 Mar 31  2009 test_batch\n"
          ],
          "name": "stdout"
        }
      ]
    },
    {
      "cell_type": "code",
      "metadata": {
        "id": "KHdHegNBwU-G"
      },
      "source": [
        "workdir = os.curdir\r\n",
        "datadir = os.path.join(workdir,'cifar_10','cifar-10-batches-py')\r\n",
        "train_files = [os.path.join(datadir,f'data_batch_{i}') for i in range(1,6)]\r\n",
        "test_file = 'test_batch'"
      ],
      "execution_count": 170,
      "outputs": []
    },
    {
      "cell_type": "code",
      "metadata": {
        "id": "kpZnA1gJxZvk"
      },
      "source": [
        "# unpickle the data file containing the image\r\n",
        "def unpickle(file):\r\n",
        "    import pickle\r\n",
        "    with open(file, 'rb') as fo:\r\n",
        "        dict = pickle.load(fo, encoding='bytes')\r\n",
        "    return dict"
      ],
      "execution_count": 171,
      "outputs": []
    },
    {
      "cell_type": "code",
      "metadata": {
        "colab": {
          "base_uri": "https://localhost:8080/"
        },
        "id": "GSbBhdKMxjbV",
        "outputId": "17e80788-9a32-4a1d-9961-edb0dd06724b"
      },
      "source": [
        "data_dict = unpickle(train_files[0])\r\n",
        "data_dict.keys()"
      ],
      "execution_count": 172,
      "outputs": [
        {
          "output_type": "execute_result",
          "data": {
            "text/plain": [
              "dict_keys([b'batch_label', b'labels', b'data', b'filenames'])"
            ]
          },
          "metadata": {
            "tags": []
          },
          "execution_count": 172
        }
      ]
    },
    {
      "cell_type": "code",
      "metadata": {
        "colab": {
          "base_uri": "https://localhost:8080/"
        },
        "id": "7qNTQodt57Q8",
        "outputId": "530a5154-cad1-49f8-b3b2-a12d29224e4b"
      },
      "source": [
        "# read all files into a dataset\r\n",
        "data = np.empty(data_dict[b'data'].shape)\r\n",
        "labels = list()\r\n",
        "for fl in train_files:\r\n",
        "  print(f\"Loading File {fl}\")\r\n",
        "  df = unpickle(fl)\r\n",
        "  print(df[b'batch_label'])\r\n",
        "  print(f\"Geting Data\")\r\n",
        "  if df[b'batch_label'] == b'training batch 1 of 5':\r\n",
        "    data = df[b'data']\r\n",
        "  else:\r\n",
        "    data = np.concatenate([data,df[b'data']])\r\n",
        "  print(\"Geting labels\")\r\n",
        "  labels = labels + df[b'labels']\r\n",
        "  print(f\"Shape of Data is {data.shape}\")\r\n",
        "  print(\"=\"*50)"
      ],
      "execution_count": 173,
      "outputs": [
        {
          "output_type": "stream",
          "text": [
            "Loading File ./cifar_10/cifar-10-batches-py/data_batch_1\n",
            "b'training batch 1 of 5'\n",
            "Geting Data\n",
            "Geting labels\n",
            "Shape of Data is (10000, 3072)\n",
            "==================================================\n",
            "Loading File ./cifar_10/cifar-10-batches-py/data_batch_2\n",
            "b'training batch 2 of 5'\n",
            "Geting Data\n",
            "Geting labels\n",
            "Shape of Data is (20000, 3072)\n",
            "==================================================\n",
            "Loading File ./cifar_10/cifar-10-batches-py/data_batch_3\n",
            "b'training batch 3 of 5'\n",
            "Geting Data\n",
            "Geting labels\n",
            "Shape of Data is (30000, 3072)\n",
            "==================================================\n",
            "Loading File ./cifar_10/cifar-10-batches-py/data_batch_4\n",
            "b'training batch 4 of 5'\n",
            "Geting Data\n",
            "Geting labels\n",
            "Shape of Data is (40000, 3072)\n",
            "==================================================\n",
            "Loading File ./cifar_10/cifar-10-batches-py/data_batch_5\n",
            "b'training batch 5 of 5'\n",
            "Geting Data\n",
            "Geting labels\n",
            "Shape of Data is (50000, 3072)\n",
            "==================================================\n"
          ],
          "name": "stdout"
        }
      ]
    },
    {
      "cell_type": "code",
      "metadata": {
        "colab": {
          "base_uri": "https://localhost:8080/"
        },
        "id": "9008aWLS_s20",
        "outputId": "382de47b-1683-4dc8-8642-8b3d63c9fccd"
      },
      "source": [
        "# Reading Metadata\r\n",
        "label_meta = unpickle(os.path.join(datadir,'batches.meta'))[b'label_names']\r\n",
        "label_meta_mapping = {i:label_meta[i].decode('utf-8') for i in range(len(label_meta))}\r\n",
        "label_meta_mapping"
      ],
      "execution_count": 174,
      "outputs": [
        {
          "output_type": "execute_result",
          "data": {
            "text/plain": [
              "{0: 'airplane',\n",
              " 1: 'automobile',\n",
              " 2: 'bird',\n",
              " 3: 'cat',\n",
              " 4: 'deer',\n",
              " 5: 'dog',\n",
              " 6: 'frog',\n",
              " 7: 'horse',\n",
              " 8: 'ship',\n",
              " 9: 'truck'}"
            ]
          },
          "metadata": {
            "tags": []
          },
          "execution_count": 174
        }
      ]
    },
    {
      "cell_type": "code",
      "metadata": {
        "colab": {
          "base_uri": "https://localhost:8080/"
        },
        "id": "AcX-aCfmxmuM",
        "outputId": "298d239d-af9c-4735-818b-cd17173b061d"
      },
      "source": [
        "labels = np.array(labels)\r\n",
        "for i in range(0,10):\r\n",
        "  lb_count = np.sum((labels == i)*1)\r\n",
        "  print(f\"{label_meta_mapping[i]}: {lb_count}\")"
      ],
      "execution_count": 175,
      "outputs": [
        {
          "output_type": "stream",
          "text": [
            "airplane: 5000\n",
            "automobile: 5000\n",
            "bird: 5000\n",
            "cat: 5000\n",
            "deer: 5000\n",
            "dog: 5000\n",
            "frog: 5000\n",
            "horse: 5000\n",
            "ship: 5000\n",
            "truck: 5000\n"
          ],
          "name": "stdout"
        }
      ]
    },
    {
      "cell_type": "code",
      "metadata": {
        "id": "yZ5IvZ17Ksd3"
      },
      "source": [
        "data_rgb = np.reshape(data, (data.shape[0], 3, 32, 32)).transpose(0, 2, 3, 1)"
      ],
      "execution_count": 176,
      "outputs": []
    },
    {
      "cell_type": "code",
      "metadata": {
        "colab": {
          "base_uri": "https://localhost:8080/",
          "height": 343
        },
        "id": "UPuCiBVlYwQf",
        "outputId": "d8ef4f6f-6e5d-487a-df6c-15d94fbd442f"
      },
      "source": [
        "rnd_idx = np.random.randint(1,5000)\r\n",
        "fig, ax = plt.subplots(nrows=2, ncols=5, figsize=(12,6))\r\n",
        "for i in range(10):\r\n",
        "  samp = data_rgb[labels == i][rnd_idx,:,:,:]\r\n",
        "  ax[int(i/5)][i%5].imshow(samp)"
      ],
      "execution_count": 177,
      "outputs": [
        {
          "output_type": "display_data",
          "data": {
            "image/png": "[encoded data removed]",
            "text/plain": [
              "<Figure size 864x432 with 10 Axes>"
            ]
          },
          "metadata": {
            "tags": [],
            "needs_background": "light"
          }
        }
      ]
    },
    {
      "cell_type": "code",
      "metadata": {
        "colab": {
          "base_uri": "https://localhost:8080/"
        },
        "id": "dlBd-n2wCnbj",
        "outputId": "acc89977-e8f4-428e-91da-5046a57b8380"
      },
      "source": [
        "X = data_rgb/255\r\n",
        "lb_bin = LabelBinarizer().fit(np.array(labels))\r\n",
        "y = lb_bin.transform(np.array(labels))\r\n",
        "train_X, test_X, train_y, test_y = train_test_split(X, y, test_size=0.2)\r\n",
        "#test_X, val_X, test_y, val_y = train_test_split(test_X, test_y, test_size=0.7)\r\n",
        "print(f\"Training Data Size : {train_X.shape[0]}\")\r\n",
        "#print(f\"Validation Data Size : {val_X.shape[0]}\")\r\n",
        "print(f\"Testing Data Size : {test_X.shape[0]}\")"
      ],
      "execution_count": 178,
      "outputs": [
        {
          "output_type": "stream",
          "text": [
            "Training Data Size : 40000\n",
            "Testing Data Size : 10000\n"
          ],
          "name": "stdout"
        }
      ]
    },
    {
      "cell_type": "code",
      "metadata": {
        "id": "rtI_7kvJyEYl"
      },
      "source": [
        "def Residual_Layer(input_layer, filters, layer_len, reg, dr):\r\n",
        "  print(filters, layer_len)\r\n",
        "  # Main Branch\r\n",
        "  x = tf.keras.layers.Conv2D(filters=filters, kernel_size=(3, 3), strides=1, padding='same', kernel_regularizer=reg)(input_layer)\r\n",
        "  x = tf.keras.layers.BatchNormalization()(x)\r\n",
        "\r\n",
        "  for i in range(1, layer_len):\r\n",
        "    x = tf.keras.layers.Activation('relu')(x)\r\n",
        "    x = tf.keras.layers.Conv2D(filters=filters, kernel_size=(3, 3), strides=1, padding='same', kernel_regularizer=reg)(x)\r\n",
        "    x = tf.keras.layers.BatchNormalization()(x)\r\n",
        "\r\n",
        "  # Skip Branch\r\n",
        "  x1 = tf.keras.layers.Conv2D(filters=filters, kernel_size=(1, 1), strides=1, padding='same', kernel_regularizer=reg)(input_layer)\r\n",
        "  x1 = tf.keras.layers.BatchNormalization()(x1)\r\n",
        "\r\n",
        "  # join the 2 branches\r\n",
        "  x = tf.keras.layers.add([x, x1])\r\n",
        "  x = tf.keras.layers.Activation('relu')(x)\r\n",
        "  x = tf.keras.layers.MaxPool2D(pool_size=(2, 2), strides=2)(x)\r\n",
        "  x = tf.keras.layers.Dropout(dr)(x)\r\n",
        "  return x"
      ],
      "execution_count": 179,
      "outputs": []
    },
    {
      "cell_type": "code",
      "metadata": {
        "id": "s5e4HEdL18_8"
      },
      "source": [
        "def define_model(main_layer, reg=None, dr=0.0, dr2=0.0):\r\n",
        "  inputs = tf.keras.Input(shape=train_X.shape[1:])\r\n",
        "  \r\n",
        "  x = tf.keras.layers.Conv2D(32, 7, strides=1, padding='same')(inputs)\r\n",
        "  x = tf.keras.layers.BatchNormalization()(x)\r\n",
        "  x = tf.keras.layers.Activation('relu')(x)\r\n",
        "  x = tf.keras.layers.MaxPool2D(pool_size=(2, 2), strides=2)(x)\r\n",
        "\r\n",
        "  for filters, layer_len in main_layer:\r\n",
        "    x = Residual_Layer(x, filters, layer_len, reg, dr)\r\n",
        "\r\n",
        "  x = tf.keras.layers.GlobalAveragePooling2D()(x)\r\n",
        "  x = tf.keras.layers.Flatten()(x)\r\n",
        "  x = tf.keras.layers.Dropout(dr2)(x)\r\n",
        "  x = tf.keras.layers.Dense(128, kernel_regularizer=reg)(x)\r\n",
        "  x = tf.keras.layers.Dropout(dr2)(x)\r\n",
        "  x = tf.keras.layers.Dense(64, kernel_regularizer=reg)(x)\r\n",
        "  x = tf.keras.layers.Dropout(dr2)(x)\r\n",
        "  x = tf.keras.layers.Dense(32, kernel_regularizer=reg)(x)\r\n",
        "  outputs = tf.keras.layers.Dense(10, activation='softmax')(x)\r\n",
        "\r\n",
        "  model = tf.keras.Model(inputs, outputs)\r\n",
        "  return model"
      ],
      "execution_count": 180,
      "outputs": []
    },
    {
      "cell_type": "code",
      "metadata": {
        "id": "U3a8HBQOLesF",
        "colab": {
          "base_uri": "https://localhost:8080/"
        },
        "outputId": "0a6ead2e-a5ae-4f69-b3f7-4031ceaebf7d"
      },
      "source": [
        "reg = tf.keras.regularizers.L2(l2=0.001)\r\n",
        "main_layer = [(64,6), (128,6), (256,6), (512, 8)]\r\n",
        "dr = 0.3\r\n",
        "dr2 = 0.4\r\n",
        "model = define_model(main_layer, reg, dr, dr2)\r\n",
        "model.compile(optimizer='adam',\r\n",
        "              loss='categorical_crossentropy',\r\n",
        "              metrics=['accuracy'])\r\n",
        "model.summary()"
      ],
      "execution_count": 181,
      "outputs": [
        {
          "output_type": "stream",
          "text": [
            "64 6\n",
            "128 6\n",
            "256 6\n",
            "512 8\n",
            "Model: \"model_15\"\n",
            "__________________________________________________________________________________________________\n",
            "Layer (type)                    Output Shape         Param #     Connected to                     \n",
            "==================================================================================================\n",
            "input_24 (InputLayer)           [(None, 32, 32, 3)]  0                                            \n",
            "__________________________________________________________________________________________________\n",
            "conv2d_258 (Conv2D)             (None, 32, 32, 32)   4736        input_24[0][0]                   \n",
            "__________________________________________________________________________________________________\n",
            "batch_normalization_255 (BatchN (None, 32, 32, 32)   128         conv2d_258[0][0]                 \n",
            "__________________________________________________________________________________________________\n",
            "activation_199 (Activation)     (None, 32, 32, 32)   0           batch_normalization_255[0][0]    \n",
            "__________________________________________________________________________________________________\n",
            "max_pooling2d_79 (MaxPooling2D) (None, 16, 16, 32)   0           activation_199[0][0]             \n",
            "__________________________________________________________________________________________________\n",
            "conv2d_259 (Conv2D)             (None, 16, 16, 64)   18496       max_pooling2d_79[0][0]           \n",
            "__________________________________________________________________________________________________\n",
            "batch_normalization_256 (BatchN (None, 16, 16, 64)   256         conv2d_259[0][0]                 \n",
            "__________________________________________________________________________________________________\n",
            "activation_200 (Activation)     (None, 16, 16, 64)   0           batch_normalization_256[0][0]    \n",
            "__________________________________________________________________________________________________\n",
            "conv2d_260 (Conv2D)             (None, 16, 16, 64)   36928       activation_200[0][0]             \n",
            "__________________________________________________________________________________________________\n",
            "batch_normalization_257 (BatchN (None, 16, 16, 64)   256         conv2d_260[0][0]                 \n",
            "__________________________________________________________________________________________________\n",
            "activation_201 (Activation)     (None, 16, 16, 64)   0           batch_normalization_257[0][0]    \n",
            "__________________________________________________________________________________________________\n",
            "conv2d_261 (Conv2D)             (None, 16, 16, 64)   36928       activation_201[0][0]             \n",
            "__________________________________________________________________________________________________\n",
            "batch_normalization_258 (BatchN (None, 16, 16, 64)   256         conv2d_261[0][0]                 \n",
            "__________________________________________________________________________________________________\n",
            "activation_202 (Activation)     (None, 16, 16, 64)   0           batch_normalization_258[0][0]    \n",
            "__________________________________________________________________________________________________\n",
            "conv2d_262 (Conv2D)             (None, 16, 16, 64)   36928       activation_202[0][0]             \n",
            "__________________________________________________________________________________________________\n",
            "batch_normalization_259 (BatchN (None, 16, 16, 64)   256         conv2d_262[0][0]                 \n",
            "__________________________________________________________________________________________________\n",
            "activation_203 (Activation)     (None, 16, 16, 64)   0           batch_normalization_259[0][0]    \n",
            "__________________________________________________________________________________________________\n",
            "conv2d_263 (Conv2D)             (None, 16, 16, 64)   36928       activation_203[0][0]             \n",
            "__________________________________________________________________________________________________\n",
            "batch_normalization_260 (BatchN (None, 16, 16, 64)   256         conv2d_263[0][0]                 \n",
            "__________________________________________________________________________________________________\n",
            "activation_204 (Activation)     (None, 16, 16, 64)   0           batch_normalization_260[0][0]    \n",
            "__________________________________________________________________________________________________\n",
            "conv2d_264 (Conv2D)             (None, 16, 16, 64)   36928       activation_204[0][0]             \n",
            "__________________________________________________________________________________________________\n",
            "conv2d_265 (Conv2D)             (None, 16, 16, 64)   2112        max_pooling2d_79[0][0]           \n",
            "__________________________________________________________________________________________________\n",
            "batch_normalization_261 (BatchN (None, 16, 16, 64)   256         conv2d_264[0][0]                 \n",
            "__________________________________________________________________________________________________\n",
            "batch_normalization_262 (BatchN (None, 16, 16, 64)   256         conv2d_265[0][0]                 \n",
            "__________________________________________________________________________________________________\n",
            "add_54 (Add)                    (None, 16, 16, 64)   0           batch_normalization_261[0][0]    \n",
            "                                                                 batch_normalization_262[0][0]    \n",
            "__________________________________________________________________________________________________\n",
            "activation_205 (Activation)     (None, 16, 16, 64)   0           add_54[0][0]                     \n",
            "__________________________________________________________________________________________________\n",
            "max_pooling2d_80 (MaxPooling2D) (None, 8, 8, 64)     0           activation_205[0][0]             \n",
            "__________________________________________________________________________________________________\n",
            "dropout_101 (Dropout)           (None, 8, 8, 64)     0           max_pooling2d_80[0][0]           \n",
            "__________________________________________________________________________________________________\n",
            "conv2d_266 (Conv2D)             (None, 8, 8, 128)    73856       dropout_101[0][0]                \n",
            "__________________________________________________________________________________________________\n",
            "batch_normalization_263 (BatchN (None, 8, 8, 128)    512         conv2d_266[0][0]                 \n",
            "__________________________________________________________________________________________________\n",
            "activation_206 (Activation)     (None, 8, 8, 128)    0           batch_normalization_263[0][0]    \n",
            "__________________________________________________________________________________________________\n",
            "conv2d_267 (Conv2D)             (None, 8, 8, 128)    147584      activation_206[0][0]             \n",
            "__________________________________________________________________________________________________\n",
            "batch_normalization_264 (BatchN (None, 8, 8, 128)    512         conv2d_267[0][0]                 \n",
            "__________________________________________________________________________________________________\n",
            "activation_207 (Activation)     (None, 8, 8, 128)    0           batch_normalization_264[0][0]    \n",
            "__________________________________________________________________________________________________\n",
            "conv2d_268 (Conv2D)             (None, 8, 8, 128)    147584      activation_207[0][0]             \n",
            "__________________________________________________________________________________________________\n",
            "batch_normalization_265 (BatchN (None, 8, 8, 128)    512         conv2d_268[0][0]                 \n",
            "__________________________________________________________________________________________________\n",
            "activation_208 (Activation)     (None, 8, 8, 128)    0           batch_normalization_265[0][0]    \n",
            "__________________________________________________________________________________________________\n",
            "conv2d_269 (Conv2D)             (None, 8, 8, 128)    147584      activation_208[0][0]             \n",
            "__________________________________________________________________________________________________\n",
            "batch_normalization_266 (BatchN (None, 8, 8, 128)    512         conv2d_269[0][0]                 \n",
            "__________________________________________________________________________________________________\n",
            "activation_209 (Activation)     (None, 8, 8, 128)    0           batch_normalization_266[0][0]    \n",
            "__________________________________________________________________________________________________\n",
            "conv2d_270 (Conv2D)             (None, 8, 8, 128)    147584      activation_209[0][0]             \n",
            "__________________________________________________________________________________________________\n",
            "batch_normalization_267 (BatchN (None, 8, 8, 128)    512         conv2d_270[0][0]                 \n",
            "__________________________________________________________________________________________________\n",
            "activation_210 (Activation)     (None, 8, 8, 128)    0           batch_normalization_267[0][0]    \n",
            "__________________________________________________________________________________________________\n",
            "conv2d_271 (Conv2D)             (None, 8, 8, 128)    147584      activation_210[0][0]             \n",
            "__________________________________________________________________________________________________\n",
            "conv2d_272 (Conv2D)             (None, 8, 8, 128)    8320        dropout_101[0][0]                \n",
            "__________________________________________________________________________________________________\n",
            "batch_normalization_268 (BatchN (None, 8, 8, 128)    512         conv2d_271[0][0]                 \n",
            "__________________________________________________________________________________________________\n",
            "batch_normalization_269 (BatchN (None, 8, 8, 128)    512         conv2d_272[0][0]                 \n",
            "__________________________________________________________________________________________________\n",
            "add_55 (Add)                    (None, 8, 8, 128)    0           batch_normalization_268[0][0]    \n",
            "                                                                 batch_normalization_269[0][0]    \n",
            "__________________________________________________________________________________________________\n",
            "activation_211 (Activation)     (None, 8, 8, 128)    0           add_55[0][0]                     \n",
            "__________________________________________________________________________________________________\n",
            "max_pooling2d_81 (MaxPooling2D) (None, 4, 4, 128)    0           activation_211[0][0]             \n",
            "__________________________________________________________________________________________________\n",
            "dropout_102 (Dropout)           (None, 4, 4, 128)    0           max_pooling2d_81[0][0]           \n",
            "__________________________________________________________________________________________________\n",
            "conv2d_273 (Conv2D)             (None, 4, 4, 256)    295168      dropout_102[0][0]                \n",
            "__________________________________________________________________________________________________\n",
            "batch_normalization_270 (BatchN (None, 4, 4, 256)    1024        conv2d_273[0][0]                 \n",
            "__________________________________________________________________________________________________\n",
            "activation_212 (Activation)     (None, 4, 4, 256)    0           batch_normalization_270[0][0]    \n",
            "__________________________________________________________________________________________________\n",
            "conv2d_274 (Conv2D)             (None, 4, 4, 256)    590080      activation_212[0][0]             \n",
            "__________________________________________________________________________________________________\n",
            "batch_normalization_271 (BatchN (None, 4, 4, 256)    1024        conv2d_274[0][0]                 \n",
            "__________________________________________________________________________________________________\n",
            "activation_213 (Activation)     (None, 4, 4, 256)    0           batch_normalization_271[0][0]    \n",
            "__________________________________________________________________________________________________\n",
            "conv2d_275 (Conv2D)             (None, 4, 4, 256)    590080      activation_213[0][0]             \n",
            "__________________________________________________________________________________________________\n",
            "batch_normalization_272 (BatchN (None, 4, 4, 256)    1024        conv2d_275[0][0]                 \n",
            "__________________________________________________________________________________________________\n",
            "activation_214 (Activation)     (None, 4, 4, 256)    0           batch_normalization_272[0][0]    \n",
            "__________________________________________________________________________________________________\n",
            "conv2d_276 (Conv2D)             (None, 4, 4, 256)    590080      activation_214[0][0]             \n",
            "__________________________________________________________________________________________________\n",
            "batch_normalization_273 (BatchN (None, 4, 4, 256)    1024        conv2d_276[0][0]                 \n",
            "__________________________________________________________________________________________________\n",
            "activation_215 (Activation)     (None, 4, 4, 256)    0           batch_normalization_273[0][0]    \n",
            "__________________________________________________________________________________________________\n",
            "conv2d_277 (Conv2D)             (None, 4, 4, 256)    590080      activation_215[0][0]             \n",
            "__________________________________________________________________________________________________\n",
            "batch_normalization_274 (BatchN (None, 4, 4, 256)    1024        conv2d_277[0][0]                 \n",
            "__________________________________________________________________________________________________\n",
            "activation_216 (Activation)     (None, 4, 4, 256)    0           batch_normalization_274[0][0]    \n",
            "__________________________________________________________________________________________________\n",
            "conv2d_278 (Conv2D)             (None, 4, 4, 256)    590080      activation_216[0][0]             \n",
            "__________________________________________________________________________________________________\n",
            "conv2d_279 (Conv2D)             (None, 4, 4, 256)    33024       dropout_102[0][0]                \n",
            "__________________________________________________________________________________________________\n",
            "batch_normalization_275 (BatchN (None, 4, 4, 256)    1024        conv2d_278[0][0]                 \n",
            "__________________________________________________________________________________________________\n",
            "batch_normalization_276 (BatchN (None, 4, 4, 256)    1024        conv2d_279[0][0]                 \n",
            "__________________________________________________________________________________________________\n",
            "add_56 (Add)                    (None, 4, 4, 256)    0           batch_normalization_275[0][0]    \n",
            "                                                                 batch_normalization_276[0][0]    \n",
            "__________________________________________________________________________________________________\n",
            "activation_217 (Activation)     (None, 4, 4, 256)    0           add_56[0][0]                     \n",
            "__________________________________________________________________________________________________\n",
            "max_pooling2d_82 (MaxPooling2D) (None, 2, 2, 256)    0           activation_217[0][0]             \n",
            "__________________________________________________________________________________________________\n",
            "dropout_103 (Dropout)           (None, 2, 2, 256)    0           max_pooling2d_82[0][0]           \n",
            "__________________________________________________________________________________________________\n",
            "conv2d_280 (Conv2D)             (None, 2, 2, 512)    1180160     dropout_103[0][0]                \n",
            "__________________________________________________________________________________________________\n",
            "batch_normalization_277 (BatchN (None, 2, 2, 512)    2048        conv2d_280[0][0]                 \n",
            "__________________________________________________________________________________________________\n",
            "activation_218 (Activation)     (None, 2, 2, 512)    0           batch_normalization_277[0][0]    \n",
            "__________________________________________________________________________________________________\n",
            "conv2d_281 (Conv2D)             (None, 2, 2, 512)    2359808     activation_218[0][0]             \n",
            "__________________________________________________________________________________________________\n",
            "batch_normalization_278 (BatchN (None, 2, 2, 512)    2048        conv2d_281[0][0]                 \n",
            "__________________________________________________________________________________________________\n",
            "activation_219 (Activation)     (None, 2, 2, 512)    0           batch_normalization_278[0][0]    \n",
            "__________________________________________________________________________________________________\n",
            "conv2d_282 (Conv2D)             (None, 2, 2, 512)    2359808     activation_219[0][0]             \n",
            "__________________________________________________________________________________________________\n",
            "batch_normalization_279 (BatchN (None, 2, 2, 512)    2048        conv2d_282[0][0]                 \n",
            "__________________________________________________________________________________________________\n",
            "activation_220 (Activation)     (None, 2, 2, 512)    0           batch_normalization_279[0][0]    \n",
            "__________________________________________________________________________________________________\n",
            "conv2d_283 (Conv2D)             (None, 2, 2, 512)    2359808     activation_220[0][0]             \n",
            "__________________________________________________________________________________________________\n",
            "batch_normalization_280 (BatchN (None, 2, 2, 512)    2048        conv2d_283[0][0]                 \n",
            "__________________________________________________________________________________________________\n",
            "activation_221 (Activation)     (None, 2, 2, 512)    0           batch_normalization_280[0][0]    \n",
            "__________________________________________________________________________________________________\n",
            "conv2d_284 (Conv2D)             (None, 2, 2, 512)    2359808     activation_221[0][0]             \n",
            "__________________________________________________________________________________________________\n",
            "batch_normalization_281 (BatchN (None, 2, 2, 512)    2048        conv2d_284[0][0]                 \n",
            "__________________________________________________________________________________________________\n",
            "activation_222 (Activation)     (None, 2, 2, 512)    0           batch_normalization_281[0][0]    \n",
            "__________________________________________________________________________________________________\n",
            "conv2d_285 (Conv2D)             (None, 2, 2, 512)    2359808     activation_222[0][0]             \n",
            "__________________________________________________________________________________________________\n",
            "batch_normalization_282 (BatchN (None, 2, 2, 512)    2048        conv2d_285[0][0]                 \n",
            "__________________________________________________________________________________________________\n",
            "activation_223 (Activation)     (None, 2, 2, 512)    0           batch_normalization_282[0][0]    \n",
            "__________________________________________________________________________________________________\n",
            "conv2d_286 (Conv2D)             (None, 2, 2, 512)    2359808     activation_223[0][0]             \n",
            "__________________________________________________________________________________________________\n",
            "batch_normalization_283 (BatchN (None, 2, 2, 512)    2048        conv2d_286[0][0]                 \n",
            "__________________________________________________________________________________________________\n",
            "activation_224 (Activation)     (None, 2, 2, 512)    0           batch_normalization_283[0][0]    \n",
            "__________________________________________________________________________________________________\n",
            "conv2d_287 (Conv2D)             (None, 2, 2, 512)    2359808     activation_224[0][0]             \n",
            "__________________________________________________________________________________________________\n",
            "conv2d_288 (Conv2D)             (None, 2, 2, 512)    131584      dropout_103[0][0]                \n",
            "__________________________________________________________________________________________________\n",
            "batch_normalization_284 (BatchN (None, 2, 2, 512)    2048        conv2d_287[0][0]                 \n",
            "__________________________________________________________________________________________________\n",
            "batch_normalization_285 (BatchN (None, 2, 2, 512)    2048        conv2d_288[0][0]                 \n",
            "__________________________________________________________________________________________________\n",
            "add_57 (Add)                    (None, 2, 2, 512)    0           batch_normalization_284[0][0]    \n",
            "                                                                 batch_normalization_285[0][0]    \n",
            "__________________________________________________________________________________________________\n",
            "activation_225 (Activation)     (None, 2, 2, 512)    0           add_57[0][0]                     \n",
            "__________________________________________________________________________________________________\n",
            "max_pooling2d_83 (MaxPooling2D) (None, 1, 1, 512)    0           activation_225[0][0]             \n",
            "__________________________________________________________________________________________________\n",
            "dropout_104 (Dropout)           (None, 1, 1, 512)    0           max_pooling2d_83[0][0]           \n",
            "__________________________________________________________________________________________________\n",
            "global_average_pooling2d_16 (Gl (None, 512)          0           dropout_104[0][0]                \n",
            "__________________________________________________________________________________________________\n",
            "flatten_15 (Flatten)            (None, 512)          0           global_average_pooling2d_16[0][0]\n",
            "__________________________________________________________________________________________________\n",
            "dropout_105 (Dropout)           (None, 512)          0           flatten_15[0][0]                 \n",
            "__________________________________________________________________________________________________\n",
            "dense_60 (Dense)                (None, 128)          65664       dropout_105[0][0]                \n",
            "__________________________________________________________________________________________________\n",
            "dropout_106 (Dropout)           (None, 128)          0           dense_60[0][0]                   \n",
            "__________________________________________________________________________________________________\n",
            "dense_61 (Dense)                (None, 64)           8256        dropout_106[0][0]                \n",
            "__________________________________________________________________________________________________\n",
            "dropout_107 (Dropout)           (None, 64)           0           dense_61[0][0]                   \n",
            "__________________________________________________________________________________________________\n",
            "dense_62 (Dense)                (None, 32)           2080        dropout_107[0][0]                \n",
            "__________________________________________________________________________________________________\n",
            "dense_63 (Dense)                (None, 10)           330         dense_62[0][0]                   \n",
            "==================================================================================================\n",
            "Total params: 22,246,506\n",
            "Trainable params: 22,230,954\n",
            "Non-trainable params: 15,552\n",
            "__________________________________________________________________________________________________\n"
          ],
          "name": "stdout"
        }
      ]
    },
    {
      "cell_type": "code",
      "metadata": {
        "id": "R1PVjFEqm2sI"
      },
      "source": [
        "erly_stop = tf.keras.callbacks.EarlyStopping(\r\n",
        "    monitor='val_loss', min_delta=0.0001, patience=10, verbose=1,\r\n",
        "    mode='auto', baseline=None, restore_best_weights=True,\r\n",
        ")\r\n",
        "\r\n",
        "model_monit = tf.keras.callbacks.ModelCheckpoint(\r\n",
        "    os.path.join(os.curdir,'Checkpoint.model'), monitor='val_loss', verbose=0, save_best_only=True,\r\n",
        "    save_weights_only=True, mode='min'\r\n",
        ")\r\n",
        "\r\n",
        "def exponential_decay(lr0, s):\r\n",
        "    def exponential_decay_fn(epoch):\r\n",
        "        return lr0 * 0.1**(epoch / s)\r\n",
        "    return exponential_decay_fn\r\n",
        "\r\n",
        "#exponential_decay_fn = exponential_decay(lr0=0.01, s=10)\r\n",
        "#lr_scheduler = tf.keras.callbacks.LearningRateScheduler(lambda x: 0.01)\r\n",
        "val_loss, loss, accuracy, val_accuracy = list(), list(), list(), list()"
      ],
      "execution_count": 182,
      "outputs": []
    },
    {
      "cell_type": "code",
      "metadata": {
        "colab": {
          "base_uri": "https://localhost:8080/"
        },
        "id": "nKCOyZofL9QH",
        "outputId": "51eb408c-628e-405c-fa9f-6860c2b9d335"
      },
      "source": [
        "lr_scheduler = tf.keras.callbacks.LearningRateScheduler(lambda x: 0.00001)\r\n",
        "history = model.fit(x=train_X, y=train_y, batch_size=256, epochs=50, validation_split=0.15,\r\n",
        "                    callbacks=[lr_scheduler, erly_stop, model_monit])\r\n",
        "val_loss = val_loss + history.history['val_loss']\r\n",
        "val_accuracy = val_accuracy + history.history['val_accuracy']\r\n",
        "loss = loss +  history.history['loss']\r\n",
        "accuracy = accuracy + history.history['accuracy']"
      ],
      "execution_count": 196,
      "outputs": [
        {
          "output_type": "stream",
          "text": [
            "Epoch 1/50\n",
            "133/133 [==============================] - 11s 80ms/step - loss: 0.5752 - accuracy: 0.9347 - val_loss: 0.9982 - val_accuracy: 0.8210\n",
            "Epoch 2/50\n",
            "133/133 [==============================] - 11s 79ms/step - loss: 0.5652 - accuracy: 0.9381 - val_loss: 1.0037 - val_accuracy: 0.8202\n",
            "Epoch 3/50\n",
            "133/133 [==============================] - 11s 79ms/step - loss: 0.5607 - accuracy: 0.9391 - val_loss: 1.0110 - val_accuracy: 0.8208\n",
            "Epoch 4/50\n",
            "133/133 [==============================] - 11s 79ms/step - loss: 0.5532 - accuracy: 0.9408 - val_loss: 1.0158 - val_accuracy: 0.8227\n",
            "Epoch 5/50\n",
            "133/133 [==============================] - 10s 79ms/step - loss: 0.5516 - accuracy: 0.9403 - val_loss: 1.0154 - val_accuracy: 0.8230\n",
            "Epoch 6/50\n",
            "133/133 [==============================] - 11s 79ms/step - loss: 0.5449 - accuracy: 0.9415 - val_loss: 1.0183 - val_accuracy: 0.8220\n",
            "Epoch 7/50\n",
            "133/133 [==============================] - 11s 79ms/step - loss: 0.5414 - accuracy: 0.9435 - val_loss: 1.0220 - val_accuracy: 0.8213\n",
            "Epoch 8/50\n",
            "133/133 [==============================] - 11s 79ms/step - loss: 0.5365 - accuracy: 0.9449 - val_loss: 1.0248 - val_accuracy: 0.8210\n",
            "Epoch 9/50\n",
            "133/133 [==============================] - 11s 79ms/step - loss: 0.5331 - accuracy: 0.9448 - val_loss: 1.0262 - val_accuracy: 0.8230\n",
            "Epoch 10/50\n",
            "133/133 [==============================] - 11s 79ms/step - loss: 0.5303 - accuracy: 0.9450 - val_loss: 1.0240 - val_accuracy: 0.8215\n",
            "Epoch 11/50\n",
            "133/133 [==============================] - 11s 79ms/step - loss: 0.5260 - accuracy: 0.9483 - val_loss: 1.0296 - val_accuracy: 0.8240\n",
            "Restoring model weights from the end of the best epoch.\n",
            "Epoch 00011: early stopping\n"
          ],
          "name": "stdout"
        }
      ]
    },
    {
      "cell_type": "code",
      "metadata": {
        "colab": {
          "base_uri": "https://localhost:8080/",
          "height": 392
        },
        "id": "LEhLNyVjrsjR",
        "outputId": "d772da6a-31ef-4b8c-b9a0-6adf7f8642b8"
      },
      "source": [
        "fig, ax = plt.subplots(ncols=2, figsize=(14,6))\r\n",
        "x = list(range(len(val_loss)))\r\n",
        "\r\n",
        "sns.lineplot(x=x, y=loss, ax=ax[0], color='skyblue')\r\n",
        "sns.lineplot(x=x, y=val_loss, ax=ax[0], color='orange')\r\n",
        "\r\n",
        "sns.lineplot(x=x, y=accuracy, ax=ax[1], color='skyblue')\r\n",
        "sns.lineplot(x=x, y=val_accuracy, ax=ax[1], color='orange')"
      ],
      "execution_count": 197,
      "outputs": [
        {
          "output_type": "execute_result",
          "data": {
            "text/plain": [
              "<matplotlib.axes._subplots.AxesSubplot at 0x7faf36f4a780>"
            ]
          },
          "metadata": {
            "tags": []
          },
          "execution_count": 197
        },
        {
          "output_type": "display_data",
          "data": {
            "image/png": "[encoded data removed]",
            "text/plain": [
              "<Figure size 1008x432 with 2 Axes>"
            ]
          },
          "metadata": {
            "tags": [],
            "needs_background": "light"
          }
        }
      ]
    },
    {
      "cell_type": "code",
      "metadata": {
        "id": "Ahcl3XCAOH_W"
      },
      "source": [
        "def top_5_error_rate(predict_proba, y_true):\r\n",
        "  result = 0\r\n",
        "  for i in range(len(y_true)):\r\n",
        "    row = predict_proba[i,:]\r\n",
        "    top_5 = sorted(range(len(row)), key = lambda x: row[x], reverse=True)[:5]\r\n",
        "    if np.argmax(y_true[i]) in top_5:\r\n",
        "      result = result + 1\r\n",
        "  \r\n",
        "  return result/len(y_true)"
      ],
      "execution_count": 198,
      "outputs": []
    },
    {
      "cell_type": "code",
      "metadata": {
        "colab": {
          "base_uri": "https://localhost:8080/"
        },
        "id": "QTXGUCkQO0zs",
        "outputId": "8a98bdcb-31b2-46b3-874b-a5f46a4c22f9"
      },
      "source": [
        "proba = model.predict(test_X)\r\n",
        "print(f'Accuracy Score : {model.evaluate(test_X, test_y)}')\r\n",
        "print(top_5_error_rate(proba, test_y))"
      ],
      "execution_count": 199,
      "outputs": [
        {
          "output_type": "stream",
          "text": [
            "313/313 [==============================] - 3s 11ms/step - loss: 1.0112 - accuracy: 0.8191\n",
            "Accuracy Score : [1.0111867189407349, 0.819100022315979]\n",
            "0.9796\n"
          ],
          "name": "stdout"
        }
      ]
    },
    {
      "cell_type": "code",
      "metadata": {
        "id": "FPy-x08_Rqrr"
      },
      "source": [
        "test_batch = unpickle(os.path.join(datadir,'test_batch'))\r\n",
        "test_data = test_batch[b'data']\r\n",
        "test_labels = test_batch[b'labels']"
      ],
      "execution_count": 200,
      "outputs": []
    },
    {
      "cell_type": "code",
      "metadata": {
        "id": "QSbPOBk5T0iW"
      },
      "source": [
        "test_data = np.reshape(test_data, (test_data.shape[0], 3, 32, 32)).transpose(0, 2, 3, 1)"
      ],
      "execution_count": 201,
      "outputs": []
    },
    {
      "cell_type": "code",
      "metadata": {
        "colab": {
          "base_uri": "https://localhost:8080/",
          "height": 285
        },
        "id": "eOnuDiESw_Pm",
        "outputId": "9208d987-0bdb-4dd0-b1d2-cd2179eebcb3"
      },
      "source": [
        "idx = np.random.randint(200)\r\n",
        "plt.imshow(test_data[idx])\r\n",
        "label_meta_mapping[test_labels[idx]]"
      ],
      "execution_count": 202,
      "outputs": [
        {
          "output_type": "execute_result",
          "data": {
            "application/vnd.google.colaboratory.intrinsic+json": {
              "type": "string"
            },
            "text/plain": [
              "'airplane'"
            ]
          },
          "metadata": {
            "tags": []
          },
          "execution_count": 202
        },
        {
          "output_type": "display_data",
          "data": {
            "image/png": "[encoded data removed]",
            "text/plain": [
              "<Figure size 432x288 with 1 Axes>"
            ]
          },
          "metadata": {
            "tags": [],
            "needs_background": "light"
          }
        }
      ]
    },
    {
      "cell_type": "code",
      "metadata": {
        "colab": {
          "base_uri": "https://localhost:8080/"
        },
        "id": "jaY38UrkTpw9",
        "outputId": "652fb98c-f023-45be-ddfb-47de3afc1336"
      },
      "source": [
        "proba_test = model.predict(test_data/255)\r\n",
        "y_test_bat = lb_bin.transform(np.array(test_labels))\r\n",
        "print(f'Accuracy Score : {model.evaluate(test_data/255, y_test_bat)}')\r\n",
        "print(top_5_error_rate(proba_test, y_test_bat))"
      ],
      "execution_count": 203,
      "outputs": [
        {
          "output_type": "stream",
          "text": [
            "313/313 [==============================] - 3s 11ms/step - loss: 1.0037 - accuracy: 0.8160\n",
            "Accuracy Score : [1.0037339925765991, 0.8159999847412109]\n",
            "0.9791\n"
          ],
          "name": "stdout"
        }
      ]
    },
    {
      "cell_type": "code",
      "metadata": {
        "id": "mr-G3bTZx2ew",
        "colab": {
          "base_uri": "https://localhost:8080/",
          "height": 321
        },
        "outputId": "c87682c2-075d-4340-e31f-abfb0ef98547"
      },
      "source": [
        "idx = np.random.randint(1000)\r\n",
        "prediction = proba_test[idx]\r\n",
        "prediction_label = label_meta_mapping[np.argmax(prediction)]\r\n",
        "actual = label_meta_mapping[test_labels[idx]]\r\n",
        "print(f\"Acutal Label: {actual}\\nPredicted Label: {prediction_label}\")\r\n",
        "row = prediction\r\n",
        "top_5 = sorted(range(len(row)), key = lambda x: row[x], reverse=True)[:5]\r\n",
        "top_5 = [label_meta_mapping[i] for i in top_5]\r\n",
        "top_5 = dict(zip(top_5, list(np.sort(prediction))[-1:-5:-1]))\r\n",
        "print(top_5)\r\n",
        "fig = plt.imshow(test_data[idx])"
      ],
      "execution_count": 231,
      "outputs": [
        {
          "output_type": "stream",
          "text": [
            "Acutal Label: cat\n",
            "Predicted Label: cat\n",
            "{'cat': 0.83091015, 'dog': 0.15147288, 'frog': 0.00763227, 'horse': 0.0045598424}\n"
          ],
          "name": "stdout"
        },
        {
          "output_type": "display_data",
          "data": {
            "image/png": "[encoded data removed]",
            "text/plain": [
              "<Figure size 432x288 with 1 Axes>"
            ]
          },
          "metadata": {
            "tags": [],
            "needs_background": "light"
          }
        }
      ]
    },
    {
      "cell_type": "code",
      "metadata": {
        "id": "K-8klC49YbSq"
      },
      "source": [
        ""
      ],
      "execution_count": null,
      "outputs": []
    }
  ]
}