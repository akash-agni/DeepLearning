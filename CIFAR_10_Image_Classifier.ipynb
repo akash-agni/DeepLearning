{
  "nbformat": 4,
  "nbformat_minor": 0,
  "metadata": {
    "colab": {
      "name": "CIFAR_10_Image_Classifier.ipynb",
      "provenance": [],
      "authorship_tag": "ABX9TyNMDl+OUnIWMM4LIaniTvkR",
      "include_colab_link": true
    },
    "kernelspec": {
      "name": "python3",
      "display_name": "Python 3"
    },
    "accelerator": "GPU"
  },
  "cells": [
    {
      "cell_type": "markdown",
      "metadata": {
        "id": "view-in-github",
        "colab_type": "text"
      },
      "source": [
        "<a href=\"https://colab.research.google.com/github/akash-agni/DeepLearning/blob/Development/CIFAR_10_Image_Classifier.ipynb\" target=\"_parent\"><img src=\"https://colab.research.google.com/assets/colab-badge.svg\" alt=\"Open In Colab\"/></a>"
      ]
    },
    {
      "cell_type": "code",
      "metadata": {
        "id": "DItw-Vd2qvDs"
      },
      "source": [
        "import tensorflow as tf\r\n",
        "import tensorflow_datasets as tfds\r\n",
        "import numpy as np\r\n",
        "import matplotlib.pyplot as plt\r\n",
        "import seaborn as sns\r\n",
        "import os\r\n",
        "from sklearn.model_selection import train_test_split\r\n",
        "from sklearn.preprocessing import LabelBinarizer\r\n",
        "\r\n",
        "from tensorflow.keras import models, layers\r\n",
        "from sklearn.metrics import accuracy_score"
      ],
      "execution_count": 1,
      "outputs": []
    },
    {
      "cell_type": "code",
      "metadata": {
        "colab": {
          "base_uri": "https://localhost:8080/"
        },
        "id": "O4r1kR8js4Fn",
        "outputId": "4255f1c5-1f5e-4938-ad4b-19711d2a51af"
      },
      "source": [
        "!wget https://www.cs.toronto.edu/~kriz/cifar-10-python.tar.gz"
      ],
      "execution_count": 2,
      "outputs": [
        {
          "output_type": "stream",
          "text": [
            "--2021-02-13 11:36:53--  https://www.cs.toronto.edu/~kriz/cifar-10-python.tar.gz\n",
            "Resolving www.cs.toronto.edu (www.cs.toronto.edu)... 128.100.3.30\n",
            "Connecting to www.cs.toronto.edu (www.cs.toronto.edu)|128.100.3.30|:443... connected.\n",
            "HTTP request sent, awaiting response... 200 OK\n",
            "Length: 170498071 (163M) [application/x-gzip]\n",
            "Saving to: ‘cifar-10-python.tar.gz’\n",
            "\n",
            "cifar-10-python.tar 100%[===================>] 162.60M  98.9MB/s    in 1.6s    \n",
            "\n",
            "2021-02-13 11:36:54 (98.9 MB/s) - ‘cifar-10-python.tar.gz’ saved [170498071/170498071]\n",
            "\n"
          ],
          "name": "stdout"
        }
      ]
    },
    {
      "cell_type": "code",
      "metadata": {
        "id": "l1pyQL-1vsJc"
      },
      "source": [
        "!mkdir ./cifar_10/\r\n",
        "!tar -xf cifar-10-python.tar.gz -C ./cifar_10/\r\n",
        "!rm -rf cifar-10-python.tar.gz"
      ],
      "execution_count": 3,
      "outputs": []
    },
    {
      "cell_type": "code",
      "metadata": {
        "colab": {
          "base_uri": "https://localhost:8080/"
        },
        "id": "jC7BdyRFwq3s",
        "outputId": "0c0eef8b-5f2f-4141-cd8f-991b5ac24e9b"
      },
      "source": [
        "!ls -l ./cifar_10/cifar-10-batches-py/"
      ],
      "execution_count": 4,
      "outputs": [
        {
          "output_type": "stream",
          "text": [
            "total 181876\n",
            "-rw-r--r-- 1 2156 1103      158 Mar 31  2009 batches.meta\n",
            "-rw-r--r-- 1 2156 1103 31035704 Mar 31  2009 data_batch_1\n",
            "-rw-r--r-- 1 2156 1103 31035320 Mar 31  2009 data_batch_2\n",
            "-rw-r--r-- 1 2156 1103 31035999 Mar 31  2009 data_batch_3\n",
            "-rw-r--r-- 1 2156 1103 31035696 Mar 31  2009 data_batch_4\n",
            "-rw-r--r-- 1 2156 1103 31035623 Mar 31  2009 data_batch_5\n",
            "-rw-r--r-- 1 2156 1103       88 Jun  4  2009 readme.html\n",
            "-rw-r--r-- 1 2156 1103 31035526 Mar 31  2009 test_batch\n"
          ],
          "name": "stdout"
        }
      ]
    },
    {
      "cell_type": "code",
      "metadata": {
        "id": "KHdHegNBwU-G"
      },
      "source": [
        "workdir = os.curdir\r\n",
        "datadir = os.path.join(workdir,'cifar_10','cifar-10-batches-py')\r\n",
        "train_files = [os.path.join(datadir,f'data_batch_{i}') for i in range(1,6)]\r\n",
        "test_file = 'test_batch'"
      ],
      "execution_count": 5,
      "outputs": []
    },
    {
      "cell_type": "code",
      "metadata": {
        "id": "kpZnA1gJxZvk"
      },
      "source": [
        "# unpickle the data file containing the image\r\n",
        "def unpickle(file):\r\n",
        "    import pickle\r\n",
        "    with open(file, 'rb') as fo:\r\n",
        "        dict = pickle.load(fo, encoding='bytes')\r\n",
        "    return dict"
      ],
      "execution_count": 6,
      "outputs": []
    },
    {
      "cell_type": "code",
      "metadata": {
        "colab": {
          "base_uri": "https://localhost:8080/"
        },
        "id": "GSbBhdKMxjbV",
        "outputId": "453a9760-862d-42e1-e669-9d4d01099878"
      },
      "source": [
        "data_dict = unpickle(train_files[0])\r\n",
        "data_dict.keys()"
      ],
      "execution_count": 7,
      "outputs": [
        {
          "output_type": "execute_result",
          "data": {
            "text/plain": [
              "dict_keys([b'batch_label', b'labels', b'data', b'filenames'])"
            ]
          },
          "metadata": {
            "tags": []
          },
          "execution_count": 7
        }
      ]
    },
    {
      "cell_type": "code",
      "metadata": {
        "colab": {
          "base_uri": "https://localhost:8080/"
        },
        "id": "7qNTQodt57Q8",
        "outputId": "8ff7b496-690c-4177-ec4e-dbad2d57809f"
      },
      "source": [
        "# read all files into a dataset\r\n",
        "data = np.empty(data_dict[b'data'].shape)\r\n",
        "labels = list()\r\n",
        "for fl in train_files:\r\n",
        "  print(f\"Loading File {fl}\")\r\n",
        "  df = unpickle(fl)\r\n",
        "  print(df[b'batch_label'])\r\n",
        "  print(f\"Geting Data\")\r\n",
        "  if df[b'batch_label'] == b'training batch 1 of 5':\r\n",
        "    data = df[b'data']\r\n",
        "  else:\r\n",
        "    data = np.concatenate([data,df[b'data']])\r\n",
        "  print(\"Geting labels\")\r\n",
        "  labels = labels + df[b'labels']\r\n",
        "  print(f\"Shape of Data is {data.shape}\")\r\n",
        "  print(\"=\"*50)"
      ],
      "execution_count": 8,
      "outputs": [
        {
          "output_type": "stream",
          "text": [
            "Loading File ./cifar_10/cifar-10-batches-py/data_batch_1\n",
            "b'training batch 1 of 5'\n",
            "Geting Data\n",
            "Geting labels\n",
            "Shape of Data is (10000, 3072)\n",
            "==================================================\n",
            "Loading File ./cifar_10/cifar-10-batches-py/data_batch_2\n",
            "b'training batch 2 of 5'\n",
            "Geting Data\n",
            "Geting labels\n",
            "Shape of Data is (20000, 3072)\n",
            "==================================================\n",
            "Loading File ./cifar_10/cifar-10-batches-py/data_batch_3\n",
            "b'training batch 3 of 5'\n",
            "Geting Data\n",
            "Geting labels\n",
            "Shape of Data is (30000, 3072)\n",
            "==================================================\n",
            "Loading File ./cifar_10/cifar-10-batches-py/data_batch_4\n",
            "b'training batch 4 of 5'\n",
            "Geting Data\n",
            "Geting labels\n",
            "Shape of Data is (40000, 3072)\n",
            "==================================================\n",
            "Loading File ./cifar_10/cifar-10-batches-py/data_batch_5\n",
            "b'training batch 5 of 5'\n",
            "Geting Data\n",
            "Geting labels\n",
            "Shape of Data is (50000, 3072)\n",
            "==================================================\n"
          ],
          "name": "stdout"
        }
      ]
    },
    {
      "cell_type": "code",
      "metadata": {
        "colab": {
          "base_uri": "https://localhost:8080/"
        },
        "id": "9008aWLS_s20",
        "outputId": "bc0c5734-36bd-495d-b790-1ba9d20c2598"
      },
      "source": [
        "# Reading Metadata\r\n",
        "label_meta = unpickle(os.path.join(datadir,'batches.meta'))[b'label_names']\r\n",
        "label_meta_mapping = {i:label_meta[i].decode('utf-8') for i in range(len(label_meta))}\r\n",
        "label_meta_mapping"
      ],
      "execution_count": 9,
      "outputs": [
        {
          "output_type": "execute_result",
          "data": {
            "text/plain": [
              "{0: 'airplane',\n",
              " 1: 'automobile',\n",
              " 2: 'bird',\n",
              " 3: 'cat',\n",
              " 4: 'deer',\n",
              " 5: 'dog',\n",
              " 6: 'frog',\n",
              " 7: 'horse',\n",
              " 8: 'ship',\n",
              " 9: 'truck'}"
            ]
          },
          "metadata": {
            "tags": []
          },
          "execution_count": 9
        }
      ]
    },
    {
      "cell_type": "code",
      "metadata": {
        "colab": {
          "base_uri": "https://localhost:8080/"
        },
        "id": "AcX-aCfmxmuM",
        "outputId": "ba2cc5dc-8524-4cd7-a882-ca7b4c45af4b"
      },
      "source": [
        "labels = np.array(labels)\r\n",
        "for i in range(0,10):\r\n",
        "  lb_count = np.sum((labels == i)*1)\r\n",
        "  print(f\"{label_meta_mapping[i]}: {lb_count}\")"
      ],
      "execution_count": 10,
      "outputs": [
        {
          "output_type": "stream",
          "text": [
            "airplane: 5000\n",
            "automobile: 5000\n",
            "bird: 5000\n",
            "cat: 5000\n",
            "deer: 5000\n",
            "dog: 5000\n",
            "frog: 5000\n",
            "horse: 5000\n",
            "ship: 5000\n",
            "truck: 5000\n"
          ],
          "name": "stdout"
        }
      ]
    },
    {
      "cell_type": "code",
      "metadata": {
        "id": "yZ5IvZ17Ksd3"
      },
      "source": [
        "data_rgb = np.reshape(data, (data.shape[0], 3, 32, 32)).transpose(0, 2, 3, 1)"
      ],
      "execution_count": 11,
      "outputs": []
    },
    {
      "cell_type": "code",
      "metadata": {
        "colab": {
          "base_uri": "https://localhost:8080/",
          "height": 343
        },
        "id": "UPuCiBVlYwQf",
        "outputId": "570a592c-0023-4bee-abe4-8813ddf036d1"
      },
      "source": [
        "rnd_idx = np.random.randint(1,5000)\r\n",
        "fig, ax = plt.subplots(nrows=2, ncols=5, figsize=(12,6))\r\n",
        "for i in range(10):\r\n",
        "  samp = data_rgb[labels == i][rnd_idx,:,:,:]\r\n",
        "  ax[int(i/5)][i%5].imshow(samp)"
      ],
      "execution_count": 12,
      "outputs": [
        {
          "output_type": "display_data",
          "data": {
            "image/png": "[encoded data removed]",
            "text/plain": [
              "<Figure size 864x432 with 10 Axes>"
            ]
          },
          "metadata": {
            "tags": [],
            "needs_background": "light"
          }
        }
      ]
    },
    {
      "cell_type": "code",
      "metadata": {
        "colab": {
          "base_uri": "https://localhost:8080/"
        },
        "id": "dlBd-n2wCnbj",
        "outputId": "fffc4995-d1e9-447a-b2bf-068c0265ccfa"
      },
      "source": [
        "X = data_rgb/255\r\n",
        "lb_bin = LabelBinarizer().fit(np.array(labels))\r\n",
        "y = lb_bin.transform(np.array(labels))\r\n",
        "train_X, test_X, train_y, test_y = train_test_split(X, y, test_size=0.2)\r\n",
        "test_X, val_X, test_y, val_y = train_test_split(test_X, test_y, test_size=0.7)\r\n",
        "print(f\"Training Data Size : {train_X.shape[0]}\")\r\n",
        "print(f\"Validation Data Size : {val_X.shape[0]}\")\r\n",
        "print(f\"Testing Data Size : {test_X.shape[0]}\")"
      ],
      "execution_count": 13,
      "outputs": [
        {
          "output_type": "stream",
          "text": [
            "Training Data Size : 40000\n",
            "Validation Data Size : 7000\n",
            "Testing Data Size : 3000\n"
          ],
          "name": "stdout"
        }
      ]
    },
    {
      "cell_type": "code",
      "metadata": {
        "id": "rtI_7kvJyEYl"
      },
      "source": [
        "def Residual_Layer(input_layer, filters, stride):\r\n",
        "  # Main Branch\r\n",
        "  x1 = tf.keras.layers.Conv2D(filters=filters, kernel_size = 3, strides=strd, padding = 'same')(input_layer)\r\n",
        "  x1 = tf.keras.layers.BatchNormalization()(x1)\r\n",
        "  x1 = tf.keras.layers.Activation('relu')(x1)\r\n",
        "  x1 = tf.keras.layers.Conv2D(filters=filters, kernel_size = 3, strides=1, padding =  'same')(x1)\r\n",
        "  x1 = tf.keras.layers.BatchNormalization()(x1)\r\n",
        "  x1 = tf.keras.layers.Activation('relu')(x1)\r\n",
        "  end_layer = x1\r\n",
        "  # Skip Branch\r\n",
        "  if stride > 1:\r\n",
        "    x2 = tf.keras.layers.Conv2D(filters=filters, kernel_size = 1, strides=strd, padding =  'same')(input_layer)\r\n",
        "    x2 = tf.keras.layers.BatchNormalization()(x2)\r\n",
        "    x2 = tf.keras.layers.Activation('relu')(x2)\r\n",
        "    end_layer = tf.keras.layers.add([x1, x2])\r\n",
        "  return end_layer"
      ],
      "execution_count": 14,
      "outputs": []
    },
    {
      "cell_type": "code",
      "metadata": {
        "id": "F411kW4X3vXY"
      },
      "source": [
        "LRN_Layer = tf.keras.layers.Lambda(tf.nn.local_response_normalization)"
      ],
      "execution_count": 15,
      "outputs": []
    },
    {
      "cell_type": "code",
      "metadata": {
        "id": "s5e4HEdL18_8"
      },
      "source": [
        "inputs = tf.keras.Input(shape=train_X.shape[1:])\r\n",
        "\r\n",
        "x = tf.keras.layers.Conv2D(64, 7, strides=2, padding='same')(inputs)\r\n",
        "x = tf.keras.layers.BatchNormalization()(x)\r\n",
        "x = tf.keras.layers.Activation('relu')(x)\r\n",
        "x = tf.keras.layers.MaxPool2D(pool_size=3, strides=2, padding='same')(x)\r\n",
        "\r\n",
        "prev_filters = 64\r\n",
        "for filters in [64]*3 + [128]*4 + [256]*4 + [512]*3:\r\n",
        "  strd = 1 if filters == prev_filters else 2\r\n",
        "  x = Residual_Layer(x, filters, strd)\r\n",
        "  prev_filters = filters\r\n",
        "\r\n",
        "x = tf.keras.layers.GlobalAveragePooling2D()(x)\r\n",
        "x = tf.keras.layers.Flatten()(x)\r\n",
        "x = tf.keras.layers.Dropout(0.4)(x)\r\n",
        "x = tf.keras.layers.Dense(128)(x)\r\n",
        "x = tf.keras.layers.Dense(64)(x)\r\n",
        "x = tf.keras.layers.Dense(32)(x)\r\n",
        "outputs = tf.keras.layers.Dense(10, activation='softmax')(x)\r\n",
        "\r\n",
        "model = tf.keras.Model(inputs, outputs)"
      ],
      "execution_count": 45,
      "outputs": []
    },
    {
      "cell_type": "code",
      "metadata": {
        "id": "iITYNexuHs16"
      },
      "source": [
        "#%tensorflow_version 2.x\r\n",
        "#device_name = tf.test.\r\n",
        "#if device_name != '/device:TPU:0':\r\n",
        "#  raise SystemError('GPU device not found')\r\n",
        "#print('Found GPU at: {}'.format(device_name))"
      ],
      "execution_count": 46,
      "outputs": []
    },
    {
      "cell_type": "code",
      "metadata": {
        "id": "U3a8HBQOLesF",
        "colab": {
          "base_uri": "https://localhost:8080/"
        },
        "outputId": "b9af39bc-a0f7-4645-94f4-b28043e24fef"
      },
      "source": [
        "model.compile(optimizer='adam',\r\n",
        "              loss='categorical_crossentropy',\r\n",
        "              metrics=['accuracy'])\r\n",
        "#model.build(input_shape=train_X.shape[1:])\r\n",
        "model.summary()"
      ],
      "execution_count": 47,
      "outputs": [
        {
          "output_type": "stream",
          "text": [
            "Model: \"model_2\"\n",
            "__________________________________________________________________________________________________\n",
            "Layer (type)                    Output Shape         Param #     Connected to                     \n",
            "==================================================================================================\n",
            "input_3 (InputLayer)            [(None, 32, 32, 3)]  0                                            \n",
            "__________________________________________________________________________________________________\n",
            "conv2d_61 (Conv2D)              (None, 16, 16, 64)   9472        input_3[0][0]                    \n",
            "__________________________________________________________________________________________________\n",
            "batch_normalization_61 (BatchNo (None, 16, 16, 64)   256         conv2d_61[0][0]                  \n",
            "__________________________________________________________________________________________________\n",
            "activation_61 (Activation)      (None, 16, 16, 64)   0           batch_normalization_61[0][0]     \n",
            "__________________________________________________________________________________________________\n",
            "max_pooling2d_2 (MaxPooling2D)  (None, 8, 8, 64)     0           activation_61[0][0]              \n",
            "__________________________________________________________________________________________________\n",
            "conv2d_62 (Conv2D)              (None, 8, 8, 64)     36928       max_pooling2d_2[0][0]            \n",
            "__________________________________________________________________________________________________\n",
            "batch_normalization_62 (BatchNo (None, 8, 8, 64)     256         conv2d_62[0][0]                  \n",
            "__________________________________________________________________________________________________\n",
            "activation_62 (Activation)      (None, 8, 8, 64)     0           batch_normalization_62[0][0]     \n",
            "__________________________________________________________________________________________________\n",
            "conv2d_63 (Conv2D)              (None, 8, 8, 64)     36928       activation_62[0][0]              \n",
            "__________________________________________________________________________________________________\n",
            "batch_normalization_63 (BatchNo (None, 8, 8, 64)     256         conv2d_63[0][0]                  \n",
            "__________________________________________________________________________________________________\n",
            "activation_63 (Activation)      (None, 8, 8, 64)     0           batch_normalization_63[0][0]     \n",
            "__________________________________________________________________________________________________\n",
            "conv2d_64 (Conv2D)              (None, 8, 8, 64)     36928       activation_63[0][0]              \n",
            "__________________________________________________________________________________________________\n",
            "batch_normalization_64 (BatchNo (None, 8, 8, 64)     256         conv2d_64[0][0]                  \n",
            "__________________________________________________________________________________________________\n",
            "activation_64 (Activation)      (None, 8, 8, 64)     0           batch_normalization_64[0][0]     \n",
            "__________________________________________________________________________________________________\n",
            "conv2d_65 (Conv2D)              (None, 8, 8, 64)     36928       activation_64[0][0]              \n",
            "__________________________________________________________________________________________________\n",
            "batch_normalization_65 (BatchNo (None, 8, 8, 64)     256         conv2d_65[0][0]                  \n",
            "__________________________________________________________________________________________________\n",
            "activation_65 (Activation)      (None, 8, 8, 64)     0           batch_normalization_65[0][0]     \n",
            "__________________________________________________________________________________________________\n",
            "conv2d_66 (Conv2D)              (None, 8, 8, 64)     36928       activation_65[0][0]              \n",
            "__________________________________________________________________________________________________\n",
            "batch_normalization_66 (BatchNo (None, 8, 8, 64)     256         conv2d_66[0][0]                  \n",
            "__________________________________________________________________________________________________\n",
            "activation_66 (Activation)      (None, 8, 8, 64)     0           batch_normalization_66[0][0]     \n",
            "__________________________________________________________________________________________________\n",
            "conv2d_67 (Conv2D)              (None, 8, 8, 64)     36928       activation_66[0][0]              \n",
            "__________________________________________________________________________________________________\n",
            "batch_normalization_67 (BatchNo (None, 8, 8, 64)     256         conv2d_67[0][0]                  \n",
            "__________________________________________________________________________________________________\n",
            "activation_67 (Activation)      (None, 8, 8, 64)     0           batch_normalization_67[0][0]     \n",
            "__________________________________________________________________________________________________\n",
            "conv2d_68 (Conv2D)              (None, 4, 4, 128)    73856       activation_67[0][0]              \n",
            "__________________________________________________________________________________________________\n",
            "batch_normalization_68 (BatchNo (None, 4, 4, 128)    512         conv2d_68[0][0]                  \n",
            "__________________________________________________________________________________________________\n",
            "activation_68 (Activation)      (None, 4, 4, 128)    0           batch_normalization_68[0][0]     \n",
            "__________________________________________________________________________________________________\n",
            "conv2d_69 (Conv2D)              (None, 4, 4, 128)    147584      activation_68[0][0]              \n",
            "__________________________________________________________________________________________________\n",
            "conv2d_70 (Conv2D)              (None, 4, 4, 128)    8320        activation_67[0][0]              \n",
            "__________________________________________________________________________________________________\n",
            "batch_normalization_69 (BatchNo (None, 4, 4, 128)    512         conv2d_69[0][0]                  \n",
            "__________________________________________________________________________________________________\n",
            "batch_normalization_70 (BatchNo (None, 4, 4, 128)    512         conv2d_70[0][0]                  \n",
            "__________________________________________________________________________________________________\n",
            "activation_69 (Activation)      (None, 4, 4, 128)    0           batch_normalization_69[0][0]     \n",
            "__________________________________________________________________________________________________\n",
            "activation_70 (Activation)      (None, 4, 4, 128)    0           batch_normalization_70[0][0]     \n",
            "__________________________________________________________________________________________________\n",
            "add_5 (Add)                     (None, 4, 4, 128)    0           activation_69[0][0]              \n",
            "                                                                 activation_70[0][0]              \n",
            "__________________________________________________________________________________________________\n",
            "conv2d_71 (Conv2D)              (None, 4, 4, 128)    147584      add_5[0][0]                      \n",
            "__________________________________________________________________________________________________\n",
            "batch_normalization_71 (BatchNo (None, 4, 4, 128)    512         conv2d_71[0][0]                  \n",
            "__________________________________________________________________________________________________\n",
            "activation_71 (Activation)      (None, 4, 4, 128)    0           batch_normalization_71[0][0]     \n",
            "__________________________________________________________________________________________________\n",
            "conv2d_72 (Conv2D)              (None, 4, 4, 128)    147584      activation_71[0][0]              \n",
            "__________________________________________________________________________________________________\n",
            "batch_normalization_72 (BatchNo (None, 4, 4, 128)    512         conv2d_72[0][0]                  \n",
            "__________________________________________________________________________________________________\n",
            "activation_72 (Activation)      (None, 4, 4, 128)    0           batch_normalization_72[0][0]     \n",
            "__________________________________________________________________________________________________\n",
            "conv2d_73 (Conv2D)              (None, 4, 4, 128)    147584      activation_72[0][0]              \n",
            "__________________________________________________________________________________________________\n",
            "batch_normalization_73 (BatchNo (None, 4, 4, 128)    512         conv2d_73[0][0]                  \n",
            "__________________________________________________________________________________________________\n",
            "activation_73 (Activation)      (None, 4, 4, 128)    0           batch_normalization_73[0][0]     \n",
            "__________________________________________________________________________________________________\n",
            "conv2d_74 (Conv2D)              (None, 4, 4, 128)    147584      activation_73[0][0]              \n",
            "__________________________________________________________________________________________________\n",
            "batch_normalization_74 (BatchNo (None, 4, 4, 128)    512         conv2d_74[0][0]                  \n",
            "__________________________________________________________________________________________________\n",
            "activation_74 (Activation)      (None, 4, 4, 128)    0           batch_normalization_74[0][0]     \n",
            "__________________________________________________________________________________________________\n",
            "conv2d_75 (Conv2D)              (None, 4, 4, 128)    147584      activation_74[0][0]              \n",
            "__________________________________________________________________________________________________\n",
            "batch_normalization_75 (BatchNo (None, 4, 4, 128)    512         conv2d_75[0][0]                  \n",
            "__________________________________________________________________________________________________\n",
            "activation_75 (Activation)      (None, 4, 4, 128)    0           batch_normalization_75[0][0]     \n",
            "__________________________________________________________________________________________________\n",
            "conv2d_76 (Conv2D)              (None, 4, 4, 128)    147584      activation_75[0][0]              \n",
            "__________________________________________________________________________________________________\n",
            "batch_normalization_76 (BatchNo (None, 4, 4, 128)    512         conv2d_76[0][0]                  \n",
            "__________________________________________________________________________________________________\n",
            "activation_76 (Activation)      (None, 4, 4, 128)    0           batch_normalization_76[0][0]     \n",
            "__________________________________________________________________________________________________\n",
            "conv2d_77 (Conv2D)              (None, 2, 2, 256)    295168      activation_76[0][0]              \n",
            "__________________________________________________________________________________________________\n",
            "batch_normalization_77 (BatchNo (None, 2, 2, 256)    1024        conv2d_77[0][0]                  \n",
            "__________________________________________________________________________________________________\n",
            "activation_77 (Activation)      (None, 2, 2, 256)    0           batch_normalization_77[0][0]     \n",
            "__________________________________________________________________________________________________\n",
            "conv2d_78 (Conv2D)              (None, 2, 2, 256)    590080      activation_77[0][0]              \n",
            "__________________________________________________________________________________________________\n",
            "conv2d_79 (Conv2D)              (None, 2, 2, 256)    33024       activation_76[0][0]              \n",
            "__________________________________________________________________________________________________\n",
            "batch_normalization_78 (BatchNo (None, 2, 2, 256)    1024        conv2d_78[0][0]                  \n",
            "__________________________________________________________________________________________________\n",
            "batch_normalization_79 (BatchNo (None, 2, 2, 256)    1024        conv2d_79[0][0]                  \n",
            "__________________________________________________________________________________________________\n",
            "activation_78 (Activation)      (None, 2, 2, 256)    0           batch_normalization_78[0][0]     \n",
            "__________________________________________________________________________________________________\n",
            "activation_79 (Activation)      (None, 2, 2, 256)    0           batch_normalization_79[0][0]     \n",
            "__________________________________________________________________________________________________\n",
            "add_6 (Add)                     (None, 2, 2, 256)    0           activation_78[0][0]              \n",
            "                                                                 activation_79[0][0]              \n",
            "__________________________________________________________________________________________________\n",
            "conv2d_80 (Conv2D)              (None, 2, 2, 256)    590080      add_6[0][0]                      \n",
            "__________________________________________________________________________________________________\n",
            "batch_normalization_80 (BatchNo (None, 2, 2, 256)    1024        conv2d_80[0][0]                  \n",
            "__________________________________________________________________________________________________\n",
            "activation_80 (Activation)      (None, 2, 2, 256)    0           batch_normalization_80[0][0]     \n",
            "__________________________________________________________________________________________________\n",
            "conv2d_81 (Conv2D)              (None, 2, 2, 256)    590080      activation_80[0][0]              \n",
            "__________________________________________________________________________________________________\n",
            "batch_normalization_81 (BatchNo (None, 2, 2, 256)    1024        conv2d_81[0][0]                  \n",
            "__________________________________________________________________________________________________\n",
            "activation_81 (Activation)      (None, 2, 2, 256)    0           batch_normalization_81[0][0]     \n",
            "__________________________________________________________________________________________________\n",
            "conv2d_82 (Conv2D)              (None, 2, 2, 256)    590080      activation_81[0][0]              \n",
            "__________________________________________________________________________________________________\n",
            "batch_normalization_82 (BatchNo (None, 2, 2, 256)    1024        conv2d_82[0][0]                  \n",
            "__________________________________________________________________________________________________\n",
            "activation_82 (Activation)      (None, 2, 2, 256)    0           batch_normalization_82[0][0]     \n",
            "__________________________________________________________________________________________________\n",
            "conv2d_83 (Conv2D)              (None, 2, 2, 256)    590080      activation_82[0][0]              \n",
            "__________________________________________________________________________________________________\n",
            "batch_normalization_83 (BatchNo (None, 2, 2, 256)    1024        conv2d_83[0][0]                  \n",
            "__________________________________________________________________________________________________\n",
            "activation_83 (Activation)      (None, 2, 2, 256)    0           batch_normalization_83[0][0]     \n",
            "__________________________________________________________________________________________________\n",
            "conv2d_84 (Conv2D)              (None, 2, 2, 256)    590080      activation_83[0][0]              \n",
            "__________________________________________________________________________________________________\n",
            "batch_normalization_84 (BatchNo (None, 2, 2, 256)    1024        conv2d_84[0][0]                  \n",
            "__________________________________________________________________________________________________\n",
            "activation_84 (Activation)      (None, 2, 2, 256)    0           batch_normalization_84[0][0]     \n",
            "__________________________________________________________________________________________________\n",
            "conv2d_85 (Conv2D)              (None, 2, 2, 256)    590080      activation_84[0][0]              \n",
            "__________________________________________________________________________________________________\n",
            "batch_normalization_85 (BatchNo (None, 2, 2, 256)    1024        conv2d_85[0][0]                  \n",
            "__________________________________________________________________________________________________\n",
            "activation_85 (Activation)      (None, 2, 2, 256)    0           batch_normalization_85[0][0]     \n",
            "__________________________________________________________________________________________________\n",
            "conv2d_86 (Conv2D)              (None, 1, 1, 512)    1180160     activation_85[0][0]              \n",
            "__________________________________________________________________________________________________\n",
            "batch_normalization_86 (BatchNo (None, 1, 1, 512)    2048        conv2d_86[0][0]                  \n",
            "__________________________________________________________________________________________________\n",
            "activation_86 (Activation)      (None, 1, 1, 512)    0           batch_normalization_86[0][0]     \n",
            "__________________________________________________________________________________________________\n",
            "conv2d_87 (Conv2D)              (None, 1, 1, 512)    2359808     activation_86[0][0]              \n",
            "__________________________________________________________________________________________________\n",
            "conv2d_88 (Conv2D)              (None, 1, 1, 512)    131584      activation_85[0][0]              \n",
            "__________________________________________________________________________________________________\n",
            "batch_normalization_87 (BatchNo (None, 1, 1, 512)    2048        conv2d_87[0][0]                  \n",
            "__________________________________________________________________________________________________\n",
            "batch_normalization_88 (BatchNo (None, 1, 1, 512)    2048        conv2d_88[0][0]                  \n",
            "__________________________________________________________________________________________________\n",
            "activation_87 (Activation)      (None, 1, 1, 512)    0           batch_normalization_87[0][0]     \n",
            "__________________________________________________________________________________________________\n",
            "activation_88 (Activation)      (None, 1, 1, 512)    0           batch_normalization_88[0][0]     \n",
            "__________________________________________________________________________________________________\n",
            "add_7 (Add)                     (None, 1, 1, 512)    0           activation_87[0][0]              \n",
            "                                                                 activation_88[0][0]              \n",
            "__________________________________________________________________________________________________\n",
            "conv2d_89 (Conv2D)              (None, 1, 1, 512)    2359808     add_7[0][0]                      \n",
            "__________________________________________________________________________________________________\n",
            "batch_normalization_89 (BatchNo (None, 1, 1, 512)    2048        conv2d_89[0][0]                  \n",
            "__________________________________________________________________________________________________\n",
            "activation_89 (Activation)      (None, 1, 1, 512)    0           batch_normalization_89[0][0]     \n",
            "__________________________________________________________________________________________________\n",
            "conv2d_90 (Conv2D)              (None, 1, 1, 512)    2359808     activation_89[0][0]              \n",
            "__________________________________________________________________________________________________\n",
            "batch_normalization_90 (BatchNo (None, 1, 1, 512)    2048        conv2d_90[0][0]                  \n",
            "__________________________________________________________________________________________________\n",
            "activation_90 (Activation)      (None, 1, 1, 512)    0           batch_normalization_90[0][0]     \n",
            "__________________________________________________________________________________________________\n",
            "conv2d_91 (Conv2D)              (None, 1, 1, 512)    2359808     activation_90[0][0]              \n",
            "__________________________________________________________________________________________________\n",
            "batch_normalization_91 (BatchNo (None, 1, 1, 512)    2048        conv2d_91[0][0]                  \n",
            "__________________________________________________________________________________________________\n",
            "activation_91 (Activation)      (None, 1, 1, 512)    0           batch_normalization_91[0][0]     \n",
            "__________________________________________________________________________________________________\n",
            "conv2d_92 (Conv2D)              (None, 1, 1, 512)    2359808     activation_91[0][0]              \n",
            "__________________________________________________________________________________________________\n",
            "batch_normalization_92 (BatchNo (None, 1, 1, 512)    2048        conv2d_92[0][0]                  \n",
            "__________________________________________________________________________________________________\n",
            "activation_92 (Activation)      (None, 1, 1, 512)    0           batch_normalization_92[0][0]     \n",
            "__________________________________________________________________________________________________\n",
            "global_average_pooling2d_2 (Glo (None, 512)          0           activation_92[0][0]              \n",
            "__________________________________________________________________________________________________\n",
            "flatten_2 (Flatten)             (None, 512)          0           global_average_pooling2d_2[0][0] \n",
            "__________________________________________________________________________________________________\n",
            "dropout_2 (Dropout)             (None, 512)          0           flatten_2[0][0]                  \n",
            "__________________________________________________________________________________________________\n",
            "dense_7 (Dense)                 (None, 128)          65664       dropout_2[0][0]                  \n",
            "__________________________________________________________________________________________________\n",
            "dense_8 (Dense)                 (None, 64)           8256        dense_7[0][0]                    \n",
            "__________________________________________________________________________________________________\n",
            "dense_9 (Dense)                 (None, 32)           2080        dense_8[0][0]                    \n",
            "__________________________________________________________________________________________________\n",
            "dense_10 (Dense)                (None, 10)           330         dense_9[0][0]                    \n",
            "==================================================================================================\n",
            "Total params: 19,022,122\n",
            "Trainable params: 19,007,146\n",
            "Non-trainable params: 14,976\n",
            "__________________________________________________________________________________________________\n"
          ],
          "name": "stdout"
        }
      ]
    },
    {
      "cell_type": "code",
      "metadata": {
        "id": "dTUI6TF5IiTG"
      },
      "source": [
        "erly_stop = tf.keras.callbacks.EarlyStopping(\r\n",
        "    monitor='val_loss', min_delta=0.0001, patience=10, verbose=1,\r\n",
        "    mode='auto', baseline=None, restore_best_weights=True,\r\n",
        ")\r\n",
        "\r\n",
        "model_monit = tf.keras.callbacks.ModelCheckpoint(\r\n",
        "    os.path.join(os.curdir,'Checkpoint.model'), monitor='val_loss', verbose=0, save_best_only=True,\r\n",
        "    save_weights_only=True, mode='min'\r\n",
        ")\r\n",
        "\r\n",
        "def exponential_decay(lr0, s):\r\n",
        "    def exponential_decay_fn(epoch):\r\n",
        "        return lr0 * 0.1**(epoch / s)\r\n",
        "    return exponential_decay_fn\r\n",
        "\r\n",
        "exponential_decay_fn = exponential_decay(lr0=0.1, s=10)\r\n",
        "lr_scheduler = tf.keras.callbacks.LearningRateScheduler(exponential_decay_fn)"
      ],
      "execution_count": 48,
      "outputs": []
    },
    {
      "cell_type": "code",
      "metadata": {
        "id": "lUDNDI5KrcdL",
        "colab": {
          "base_uri": "https://localhost:8080/",
          "height": 69
        },
        "outputId": "b445fc04-ff5b-4f57-c0da-8e7f83e8094d"
      },
      "source": [
        "\"\"\"\r\n",
        "base_model = tf.keras.applications.ResNet152(include_top=False, input_shape=train_X.shape[1:], weights=None)\r\n",
        "avg = tf.keras.layers.GlobalAveragePooling2D()(base_model.output)\r\n",
        "outputs = tf.keras.layers.Dense(10, activation='softmax')(avg)\r\n",
        "model = tf.keras.Model(base_model.inputs, outputs)\r\n",
        "model.compile(optimizer='adam',\r\n",
        "              loss='categorical_crossentropy',\r\n",
        "              metrics=['accuracy'])\r\n",
        "model.summary()\r\n",
        "\"\"\""
      ],
      "execution_count": 49,
      "outputs": [
        {
          "output_type": "execute_result",
          "data": {
            "application/vnd.google.colaboratory.intrinsic+json": {
              "type": "string"
            },
            "text/plain": [
              "\"\\nbase_model = tf.keras.applications.ResNet152(include_top=False, input_shape=train_X.shape[1:], weights=None)\\navg = tf.keras.layers.GlobalAveragePooling2D()(base_model.output)\\noutputs = tf.keras.layers.Dense(10, activation='softmax')(avg)\\nmodel = tf.keras.Model(base_model.inputs, outputs)\\nmodel.compile(optimizer='adam',\\n              loss='categorical_crossentropy',\\n              metrics=['accuracy'])\\nmodel.summary()\\n\""
            ]
          },
          "metadata": {
            "tags": []
          },
          "execution_count": 49
        }
      ]
    },
    {
      "cell_type": "code",
      "metadata": {
        "colab": {
          "base_uri": "https://localhost:8080/"
        },
        "id": "nKCOyZofL9QH",
        "outputId": "150dab55-3f07-44fc-920d-ced459f76fac"
      },
      "source": [
        "history = model.fit(x=train_X, y=train_y, batch_size=32, epochs=100, validation_data=(val_X, val_y),\r\n",
        "                    callbacks=[erly_stop, model_monit])"
      ],
      "execution_count": 50,
      "outputs": [
        {
          "output_type": "stream",
          "text": [
            "Epoch 1/100\n",
            "1250/1250 [==============================] - 42s 31ms/step - loss: 2.2983 - accuracy: 0.1824 - val_loss: 2.0008 - val_accuracy: 0.2606\n",
            "Epoch 2/100\n",
            "1250/1250 [==============================] - 38s 30ms/step - loss: 1.8725 - accuracy: 0.2753 - val_loss: 4.4577 - val_accuracy: 0.1290\n",
            "Epoch 3/100\n",
            "1250/1250 [==============================] - 38s 31ms/step - loss: 1.6830 - accuracy: 0.3477 - val_loss: 3.0527 - val_accuracy: 0.2423\n",
            "Epoch 4/100\n",
            "1250/1250 [==============================] - 38s 31ms/step - loss: 1.5518 - accuracy: 0.4241 - val_loss: 3.6570 - val_accuracy: 0.2049\n",
            "Epoch 5/100\n",
            "1250/1250 [==============================] - 38s 31ms/step - loss: 1.4816 - accuracy: 0.4567 - val_loss: 1.9989 - val_accuracy: 0.3599\n",
            "Epoch 6/100\n",
            "1250/1250 [==============================] - 38s 30ms/step - loss: 1.3937 - accuracy: 0.5035 - val_loss: 2.3045 - val_accuracy: 0.3174\n",
            "Epoch 7/100\n",
            "1250/1250 [==============================] - 38s 30ms/step - loss: 1.3688 - accuracy: 0.5167 - val_loss: 2.1868 - val_accuracy: 0.3179\n",
            "Epoch 8/100\n",
            "1250/1250 [==============================] - 38s 30ms/step - loss: 1.3185 - accuracy: 0.5410 - val_loss: 2.4249 - val_accuracy: 0.2837\n",
            "Epoch 9/100\n",
            "1250/1250 [==============================] - 38s 30ms/step - loss: 1.2759 - accuracy: 0.5546 - val_loss: 1.8392 - val_accuracy: 0.3451\n",
            "Epoch 10/100\n",
            "1250/1250 [==============================] - 38s 31ms/step - loss: 1.2534 - accuracy: 0.5742 - val_loss: 1.6272 - val_accuracy: 0.4140\n",
            "Epoch 11/100\n",
            "1250/1250 [==============================] - 38s 30ms/step - loss: 1.1437 - accuracy: 0.6119 - val_loss: 2.1354 - val_accuracy: 0.3920\n",
            "Epoch 12/100\n",
            "1250/1250 [==============================] - 38s 31ms/step - loss: 1.1248 - accuracy: 0.6221 - val_loss: 1.8358 - val_accuracy: 0.4051\n",
            "Epoch 13/100\n",
            "1250/1250 [==============================] - 38s 31ms/step - loss: 1.1154 - accuracy: 0.6291 - val_loss: 1.2368 - val_accuracy: 0.5806\n",
            "Epoch 14/100\n",
            "1250/1250 [==============================] - 38s 31ms/step - loss: 1.0196 - accuracy: 0.6656 - val_loss: 1.2389 - val_accuracy: 0.5840\n",
            "Epoch 15/100\n",
            "1250/1250 [==============================] - 38s 31ms/step - loss: 1.0158 - accuracy: 0.6702 - val_loss: 1.3795 - val_accuracy: 0.5557\n",
            "Epoch 16/100\n",
            "1250/1250 [==============================] - 38s 31ms/step - loss: 0.9864 - accuracy: 0.6786 - val_loss: 1.1415 - val_accuracy: 0.6446\n",
            "Epoch 17/100\n",
            "1250/1250 [==============================] - 38s 30ms/step - loss: 1.0006 - accuracy: 0.6740 - val_loss: 1.4995 - val_accuracy: 0.5077\n",
            "Epoch 18/100\n",
            "1250/1250 [==============================] - 38s 31ms/step - loss: 0.9237 - accuracy: 0.6930 - val_loss: 1.3430 - val_accuracy: 0.5529\n",
            "Epoch 19/100\n",
            "1250/1250 [==============================] - 38s 30ms/step - loss: 0.8842 - accuracy: 0.7166 - val_loss: 1.2615 - val_accuracy: 0.5694\n",
            "Epoch 20/100\n",
            "1250/1250 [==============================] - 38s 31ms/step - loss: 0.8853 - accuracy: 0.7209 - val_loss: 1.0314 - val_accuracy: 0.6639\n",
            "Epoch 21/100\n",
            "1250/1250 [==============================] - 38s 30ms/step - loss: 0.8273 - accuracy: 0.7370 - val_loss: 1.1258 - val_accuracy: 0.6406\n",
            "Epoch 22/100\n",
            "1250/1250 [==============================] - 38s 31ms/step - loss: 0.7912 - accuracy: 0.7509 - val_loss: 1.2176 - val_accuracy: 0.6264\n",
            "Epoch 23/100\n",
            "1250/1250 [==============================] - 38s 30ms/step - loss: 0.7633 - accuracy: 0.7598 - val_loss: 1.3205 - val_accuracy: 0.5764\n",
            "Epoch 24/100\n",
            "1250/1250 [==============================] - 38s 31ms/step - loss: 0.7439 - accuracy: 0.7670 - val_loss: 1.0384 - val_accuracy: 0.6607\n",
            "Epoch 25/100\n",
            "1250/1250 [==============================] - 38s 30ms/step - loss: 0.7126 - accuracy: 0.7755 - val_loss: 1.1593 - val_accuracy: 0.6506\n",
            "Epoch 26/100\n",
            "1250/1250 [==============================] - 38s 30ms/step - loss: 0.8261 - accuracy: 0.7434 - val_loss: 1.1298 - val_accuracy: 0.6326\n",
            "Epoch 27/100\n",
            "1250/1250 [==============================] - 38s 31ms/step - loss: 0.6691 - accuracy: 0.7911 - val_loss: 0.9048 - val_accuracy: 0.7124\n",
            "Epoch 28/100\n",
            "1250/1250 [==============================] - 38s 31ms/step - loss: 0.6722 - accuracy: 0.7891 - val_loss: 1.0412 - val_accuracy: 0.6604\n",
            "Epoch 29/100\n",
            "1250/1250 [==============================] - 38s 31ms/step - loss: 0.6433 - accuracy: 0.8025 - val_loss: 1.1889 - val_accuracy: 0.6381\n",
            "Epoch 30/100\n",
            "1250/1250 [==============================] - 38s 30ms/step - loss: 0.5985 - accuracy: 0.8117 - val_loss: 0.9603 - val_accuracy: 0.6917\n",
            "Epoch 31/100\n",
            "1250/1250 [==============================] - 38s 30ms/step - loss: 0.6237 - accuracy: 0.8086 - val_loss: 1.0616 - val_accuracy: 0.6857\n",
            "Epoch 32/100\n",
            "1250/1250 [==============================] - 38s 30ms/step - loss: 0.6167 - accuracy: 0.8109 - val_loss: 1.0689 - val_accuracy: 0.6677\n",
            "Epoch 33/100\n",
            "1250/1250 [==============================] - 38s 31ms/step - loss: 0.5386 - accuracy: 0.8309 - val_loss: 0.8833 - val_accuracy: 0.7210\n",
            "Epoch 34/100\n",
            "1250/1250 [==============================] - 38s 31ms/step - loss: 0.5836 - accuracy: 0.8203 - val_loss: 1.1084 - val_accuracy: 0.6463\n",
            "Epoch 35/100\n",
            "1250/1250 [==============================] - 38s 30ms/step - loss: 0.5131 - accuracy: 0.8417 - val_loss: 1.0298 - val_accuracy: 0.6797\n",
            "Epoch 36/100\n",
            "1250/1250 [==============================] - 38s 31ms/step - loss: 0.5022 - accuracy: 0.8456 - val_loss: 1.8897 - val_accuracy: 0.4664\n",
            "Epoch 37/100\n",
            "1250/1250 [==============================] - 38s 31ms/step - loss: 0.5892 - accuracy: 0.8164 - val_loss: 1.1742 - val_accuracy: 0.6514\n",
            "Epoch 38/100\n",
            "1250/1250 [==============================] - 38s 31ms/step - loss: 0.4773 - accuracy: 0.8551 - val_loss: 1.1819 - val_accuracy: 0.6466\n",
            "Epoch 39/100\n",
            "1250/1250 [==============================] - 38s 30ms/step - loss: 0.5132 - accuracy: 0.8447 - val_loss: 1.1943 - val_accuracy: 0.6416\n",
            "Epoch 40/100\n",
            "1250/1250 [==============================] - 38s 30ms/step - loss: 0.4727 - accuracy: 0.8595 - val_loss: 0.8887 - val_accuracy: 0.7269\n",
            "Epoch 41/100\n",
            "1250/1250 [==============================] - 38s 30ms/step - loss: 0.4553 - accuracy: 0.8618 - val_loss: 0.8966 - val_accuracy: 0.7283\n",
            "Epoch 42/100\n",
            "1250/1250 [==============================] - 38s 30ms/step - loss: 0.3876 - accuracy: 0.8829 - val_loss: 1.6381 - val_accuracy: 0.4919\n",
            "Epoch 43/100\n",
            "1250/1250 [==============================] - 38s 30ms/step - loss: 0.4825 - accuracy: 0.8561 - val_loss: 0.8885 - val_accuracy: 0.7279\n",
            "Restoring model weights from the end of the best epoch.\n",
            "Epoch 00043: early stopping\n"
          ],
          "name": "stdout"
        }
      ]
    },
    {
      "cell_type": "code",
      "metadata": {
        "id": "zgp1erMiF5qq",
        "colab": {
          "base_uri": "https://localhost:8080/"
        },
        "outputId": "ec82d1c8-18d2-4866-9ee4-6fd464bee4f1"
      },
      "source": [
        "model.evaluate(test_X, test_y)"
      ],
      "execution_count": 51,
      "outputs": [
        {
          "output_type": "stream",
          "text": [
            "94/94 [==============================] - 1s 9ms/step - loss: 0.8624 - accuracy: 0.7217\n"
          ],
          "name": "stdout"
        },
        {
          "output_type": "execute_result",
          "data": {
            "text/plain": [
              "[0.8623698949813843, 0.721666693687439]"
            ]
          },
          "metadata": {
            "tags": []
          },
          "execution_count": 51
        }
      ]
    },
    {
      "cell_type": "code",
      "metadata": {
        "id": "Ahcl3XCAOH_W"
      },
      "source": [
        "def top_5_error_rate(predict_proba, y_true):\r\n",
        "  result = 0\r\n",
        "  for i in range(len(y_true)):\r\n",
        "    row = predict_proba[i,:]\r\n",
        "    top_5 = sorted(range(len(row)), key = lambda x: row[x], reverse=True)[:5]\r\n",
        "    if np.argmax(y_true[i]) in top_5:\r\n",
        "      result = result + 1\r\n",
        "  \r\n",
        "  return result/len(y_true)"
      ],
      "execution_count": 52,
      "outputs": []
    },
    {
      "cell_type": "code",
      "metadata": {
        "colab": {
          "base_uri": "https://localhost:8080/"
        },
        "id": "QTXGUCkQO0zs",
        "outputId": "8c8e2a4d-3e02-41be-83c4-7722f5a04c24"
      },
      "source": [
        "proba = model.predict(test_X)\r\n",
        "print(f'Accuracy Score : {model.evaluate(test_X, test_y)}')\r\n",
        "print(top_5_error_rate(proba, test_y))"
      ],
      "execution_count": 53,
      "outputs": [
        {
          "output_type": "stream",
          "text": [
            "94/94 [==============================] - 1s 8ms/step - loss: 0.8624 - accuracy: 0.7217\n",
            "Accuracy Score : [0.8623698949813843, 0.721666693687439]\n",
            "0.953\n"
          ],
          "name": "stdout"
        }
      ]
    },
    {
      "cell_type": "code",
      "metadata": {
        "id": "FPy-x08_Rqrr"
      },
      "source": [
        "test_batch = unpickle(os.path.join(datadir,'test_batch'))\r\n",
        "test_data = test_batch[b'data']\r\n",
        "test_labels = test_batch[b'labels']"
      ],
      "execution_count": 54,
      "outputs": []
    },
    {
      "cell_type": "code",
      "metadata": {
        "id": "QSbPOBk5T0iW"
      },
      "source": [
        "test_data = np.reshape(test_data, (test_data.shape[0], 3, 32, 32)).transpose(0, 2, 3, 1)"
      ],
      "execution_count": 55,
      "outputs": []
    },
    {
      "cell_type": "code",
      "metadata": {
        "colab": {
          "base_uri": "https://localhost:8080/",
          "height": 284
        },
        "id": "eOnuDiESw_Pm",
        "outputId": "cf144257-a3be-492b-fa66-54ca9ca1f1aa"
      },
      "source": [
        "idx = np.random.randint(200)\r\n",
        "plt.imshow(test_data[idx])\r\n",
        "label_meta_mapping[test_labels[idx]]"
      ],
      "execution_count": 56,
      "outputs": [
        {
          "output_type": "execute_result",
          "data": {
            "application/vnd.google.colaboratory.intrinsic+json": {
              "type": "string"
            },
            "text/plain": [
              "'truck'"
            ]
          },
          "metadata": {
            "tags": []
          },
          "execution_count": 56
        },
        {
          "output_type": "display_data",
          "data": {
            "image/png": "[encoded data removed]",
            "text/plain": [
              "<Figure size 432x288 with 1 Axes>"
            ]
          },
          "metadata": {
            "tags": [],
            "needs_background": "light"
          }
        }
      ]
    },
    {
      "cell_type": "code",
      "metadata": {
        "colab": {
          "base_uri": "https://localhost:8080/"
        },
        "id": "jaY38UrkTpw9",
        "outputId": "ac8a5ae2-cdfe-4d78-b955-c90126ab26b0"
      },
      "source": [
        "proba_test = model.predict(test_data/255)\r\n",
        "y_test_bat = lb_bin.transform(np.array(test_labels))\r\n",
        "print(f'Accuracy Score : {model.evaluate(test_data/255, y_test_bat)}')\r\n",
        "print(top_5_error_rate(proba_test, y_test_bat))"
      ],
      "execution_count": 57,
      "outputs": [
        {
          "output_type": "stream",
          "text": [
            "313/313 [==============================] - 2s 8ms/step - loss: 0.8893 - accuracy: 0.7208\n",
            "Accuracy Score : [0.8892507553100586, 0.72079998254776]\n",
            "0.9533\n"
          ],
          "name": "stdout"
        }
      ]
    },
    {
      "cell_type": "code",
      "metadata": {
        "id": "mr-G3bTZx2ew",
        "colab": {
          "base_uri": "https://localhost:8080/",
          "height": 317
        },
        "outputId": "6b3ab1d0-019a-4a78-84d7-8b4775b89972"
      },
      "source": [
        "idx = np.random.randint(1000)\r\n",
        "prediction = proba_test[idx]\r\n",
        "prediction_label = label_meta_mapping[np.argmax(prediction)]\r\n",
        "actual = label_meta_mapping[test_labels[idx]]\r\n",
        "print(f\"Acutal Label: {actual}\\nPredicted Label: {prediction_label}\")\r\n",
        "row = prediction\r\n",
        "top_5 = sorted(range(len(row)), key = lambda x: row[x], reverse=True)[:5]\r\n",
        "top_5 = [label_meta_mapping[i] for i in top_5]\r\n",
        "top_5 = dict(zip(top_5, list(np.sort(prediction))[-1:-5:-1]))\r\n",
        "print(top_5)\r\n",
        "fig = plt.imshow(test_data[idx])"
      ],
      "execution_count": 78,
      "outputs": [
        {
          "output_type": "stream",
          "text": [
            "Acutal Label: bird\n",
            "Predicted Label: bird\n",
            "{'bird': 0.9768669, 'airplane': 0.008353505, 'deer': 0.005358823, 'cat': 0.003556212}\n"
          ],
          "name": "stdout"
        },
        {
          "output_type": "display_data",
          "data": {
            "image/png": "[encoded data removed]",
            "text/plain": [
              "<Figure size 432x288 with 1 Axes>"
            ]
          },
          "metadata": {
            "tags": [],
            "needs_background": "light"
          }
        }
      ]
    },
    {
      "cell_type": "code",
      "metadata": {
        "id": "7s0BB0cMPioq",
        "outputId": "9393320f-540a-4c1d-b1e3-72bead09ee33",
        "colab": {
          "base_uri": "https://localhost:8080/"
        }
      },
      "source": [
        "! ls -ltr"
      ],
      "execution_count": 81,
      "outputs": [
        {
          "output_type": "stream",
          "text": [
            "total 222912\n",
            "drwxr-xr-x 1 root root      4096 Feb 10 14:40 sample_data\n",
            "drwxr-xr-x 3 root root      4096 Feb 13 11:36 cifar_10\n",
            "-rw-r--r-- 1 root root 228213749 Feb 13 12:12 Checkpoint.model.data-00000-of-00001\n",
            "-rw-r--r-- 1 root root     32366 Feb 13 12:12 Checkpoint.model.index\n",
            "-rw-r--r-- 1 root root        89 Feb 13 12:12 checkpoint\n"
          ],
          "name": "stdout"
        }
      ]
    },
    {
      "cell_type": "code",
      "metadata": {
        "id": "K-8klC49YbSq"
      },
      "source": [
        ""
      ],
      "execution_count": null,
      "outputs": []
    }
  ]
}