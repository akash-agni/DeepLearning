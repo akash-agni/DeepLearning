{
  "nbformat": 4,
  "nbformat_minor": 0,
  "metadata": {
    "colab": {
      "name": "CIFAR_10_Image_Classifier.ipynb",
      "provenance": [],
      "authorship_tag": "ABX9TyMQlBT6XBS2B8n5QJLDcxHT",
      "include_colab_link": true
    },
    "kernelspec": {
      "name": "python3",
      "display_name": "Python 3"
    },
    "accelerator": "GPU"
  },
  "cells": [
    {
      "cell_type": "markdown",
      "metadata": {
        "id": "view-in-github",
        "colab_type": "text"
      },
      "source": [
        "<a href=\"https://colab.research.google.com/github/akash-agni/DeepLearning/blob/Akash/CIFAR_10_Image_Classifier.ipynb\" target=\"_parent\"><img src=\"https://colab.research.google.com/assets/colab-badge.svg\" alt=\"Open In Colab\"/></a>"
      ]
    },
    {
      "cell_type": "code",
      "metadata": {
        "id": "DItw-Vd2qvDs"
      },
      "source": [
        "import tensorflow as tf\r\n",
        "import tensorflow_datasets as tfds\r\n",
        "import numpy as np\r\n",
        "import matplotlib.pyplot as plt\r\n",
        "import seaborn as sns\r\n",
        "import os\r\n",
        "from sklearn.model_selection import train_test_split\r\n",
        "\r\n",
        "from tensorflow.keras import models, layers\r\n",
        "from sklearn.metrics import accuracy_score"
      ],
      "execution_count": 2,
      "outputs": []
    },
    {
      "cell_type": "code",
      "metadata": {
        "colab": {
          "base_uri": "https://localhost:8080/"
        },
        "id": "O4r1kR8js4Fn",
        "outputId": "a881c68f-2f2d-4deb-e9aa-428492fcce1c"
      },
      "source": [
        "!wget https://www.cs.toronto.edu/~kriz/cifar-10-python.tar.gz"
      ],
      "execution_count": 3,
      "outputs": [
        {
          "output_type": "stream",
          "text": [
            "--2021-02-08 17:58:51--  https://www.cs.toronto.edu/~kriz/cifar-10-python.tar.gz\n",
            "Resolving www.cs.toronto.edu (www.cs.toronto.edu)... 128.100.3.30\n",
            "Connecting to www.cs.toronto.edu (www.cs.toronto.edu)|128.100.3.30|:443... connected.\n",
            "HTTP request sent, awaiting response... 200 OK\n",
            "Length: 170498071 (163M) [application/x-gzip]\n",
            "Saving to: ‘cifar-10-python.tar.gz’\n",
            "\n",
            "cifar-10-python.tar 100%[===================>] 162.60M  97.9MB/s    in 1.7s    \n",
            "\n",
            "2021-02-08 17:58:52 (97.9 MB/s) - ‘cifar-10-python.tar.gz’ saved [170498071/170498071]\n",
            "\n"
          ],
          "name": "stdout"
        }
      ]
    },
    {
      "cell_type": "code",
      "metadata": {
        "id": "l1pyQL-1vsJc"
      },
      "source": [
        "!mkdir ./cifar_10/\r\n",
        "!tar -xf cifar-10-python.tar.gz -C ./cifar_10/\r\n",
        "!rm -rf cifar-10-python.tar.gz"
      ],
      "execution_count": 4,
      "outputs": []
    },
    {
      "cell_type": "code",
      "metadata": {
        "colab": {
          "base_uri": "https://localhost:8080/"
        },
        "id": "jC7BdyRFwq3s",
        "outputId": "d7a66f63-c748-48b9-ae12-7d963cc0efe0"
      },
      "source": [
        "!ls -l ./cifar_10/cifar-10-batches-py/"
      ],
      "execution_count": 5,
      "outputs": [
        {
          "output_type": "stream",
          "text": [
            "total 181876\n",
            "-rw-r--r-- 1 2156 1103      158 Mar 31  2009 batches.meta\n",
            "-rw-r--r-- 1 2156 1103 31035704 Mar 31  2009 data_batch_1\n",
            "-rw-r--r-- 1 2156 1103 31035320 Mar 31  2009 data_batch_2\n",
            "-rw-r--r-- 1 2156 1103 31035999 Mar 31  2009 data_batch_3\n",
            "-rw-r--r-- 1 2156 1103 31035696 Mar 31  2009 data_batch_4\n",
            "-rw-r--r-- 1 2156 1103 31035623 Mar 31  2009 data_batch_5\n",
            "-rw-r--r-- 1 2156 1103       88 Jun  4  2009 readme.html\n",
            "-rw-r--r-- 1 2156 1103 31035526 Mar 31  2009 test_batch\n"
          ],
          "name": "stdout"
        }
      ]
    },
    {
      "cell_type": "code",
      "metadata": {
        "id": "KHdHegNBwU-G"
      },
      "source": [
        "workdir = os.curdir\r\n",
        "datadir = os.path.join(workdir,'cifar_10','cifar-10-batches-py')\r\n",
        "train_files = [os.path.join(datadir,f'data_batch_{i}') for i in range(1,6)]\r\n",
        "test_file = 'test_batch'"
      ],
      "execution_count": 6,
      "outputs": []
    },
    {
      "cell_type": "code",
      "metadata": {
        "id": "kpZnA1gJxZvk"
      },
      "source": [
        "# unpickle the data file containing the image\r\n",
        "def unpickle(file):\r\n",
        "    import pickle\r\n",
        "    with open(file, 'rb') as fo:\r\n",
        "        dict = pickle.load(fo, encoding='bytes')\r\n",
        "    return dict"
      ],
      "execution_count": 7,
      "outputs": []
    },
    {
      "cell_type": "code",
      "metadata": {
        "colab": {
          "base_uri": "https://localhost:8080/"
        },
        "id": "GSbBhdKMxjbV",
        "outputId": "ce981d3e-e4dd-4725-ac77-fb67340bf5f0"
      },
      "source": [
        "data_dict = unpickle(train_files[0])\r\n",
        "data_dict.keys()"
      ],
      "execution_count": 8,
      "outputs": [
        {
          "output_type": "execute_result",
          "data": {
            "text/plain": [
              "dict_keys([b'batch_label', b'labels', b'data', b'filenames'])"
            ]
          },
          "metadata": {
            "tags": []
          },
          "execution_count": 8
        }
      ]
    },
    {
      "cell_type": "code",
      "metadata": {
        "colab": {
          "base_uri": "https://localhost:8080/"
        },
        "id": "7qNTQodt57Q8",
        "outputId": "3053f7c3-d72d-4f82-d42f-212aacd5c0e1"
      },
      "source": [
        "# read all files into a dataset\r\n",
        "data = np.empty(data_dict[b'data'].shape)\r\n",
        "labels = list()\r\n",
        "for fl in train_files:\r\n",
        "  print(f\"Loading File {fl}\")\r\n",
        "  df = unpickle(fl)\r\n",
        "  print(df[b'batch_label'])\r\n",
        "  print(f\"Geting Data\")\r\n",
        "  if df[b'batch_label'] == b'training batch 1 of 5':\r\n",
        "    data = df[b'data']\r\n",
        "  else:\r\n",
        "    data = np.concatenate([data,df[b'data']])\r\n",
        "  print(\"Geting labels\")\r\n",
        "  labels = labels + df[b'labels']\r\n",
        "  print(f\"Shape of Data is {data.shape}\")\r\n",
        "  print(\"=\"*50)"
      ],
      "execution_count": 9,
      "outputs": [
        {
          "output_type": "stream",
          "text": [
            "Loading File ./cifar_10/cifar-10-batches-py/data_batch_1\n",
            "b'training batch 1 of 5'\n",
            "Geting Data\n",
            "Geting labels\n",
            "Shape of Data is (10000, 3072)\n",
            "==================================================\n",
            "Loading File ./cifar_10/cifar-10-batches-py/data_batch_2\n",
            "b'training batch 2 of 5'\n",
            "Geting Data\n",
            "Geting labels\n",
            "Shape of Data is (20000, 3072)\n",
            "==================================================\n",
            "Loading File ./cifar_10/cifar-10-batches-py/data_batch_3\n",
            "b'training batch 3 of 5'\n",
            "Geting Data\n",
            "Geting labels\n",
            "Shape of Data is (30000, 3072)\n",
            "==================================================\n",
            "Loading File ./cifar_10/cifar-10-batches-py/data_batch_4\n",
            "b'training batch 4 of 5'\n",
            "Geting Data\n",
            "Geting labels\n",
            "Shape of Data is (40000, 3072)\n",
            "==================================================\n",
            "Loading File ./cifar_10/cifar-10-batches-py/data_batch_5\n",
            "b'training batch 5 of 5'\n",
            "Geting Data\n",
            "Geting labels\n",
            "Shape of Data is (50000, 3072)\n",
            "==================================================\n"
          ],
          "name": "stdout"
        }
      ]
    },
    {
      "cell_type": "code",
      "metadata": {
        "colab": {
          "base_uri": "https://localhost:8080/"
        },
        "id": "9008aWLS_s20",
        "outputId": "2958cfcc-5180-4954-fae8-fe47557f21b4"
      },
      "source": [
        "# Reading Metadata\r\n",
        "label_meta = unpickle(os.path.join(datadir,'batches.meta'))[b'label_names']\r\n",
        "label_meta_mapping = {i:label_meta[i].decode('utf-8') for i in range(len(label_meta))}\r\n",
        "label_meta_mapping"
      ],
      "execution_count": 10,
      "outputs": [
        {
          "output_type": "execute_result",
          "data": {
            "text/plain": [
              "{0: 'airplane',\n",
              " 1: 'automobile',\n",
              " 2: 'bird',\n",
              " 3: 'cat',\n",
              " 4: 'deer',\n",
              " 5: 'dog',\n",
              " 6: 'frog',\n",
              " 7: 'horse',\n",
              " 8: 'ship',\n",
              " 9: 'truck'}"
            ]
          },
          "metadata": {
            "tags": []
          },
          "execution_count": 10
        }
      ]
    },
    {
      "cell_type": "code",
      "metadata": {
        "colab": {
          "base_uri": "https://localhost:8080/"
        },
        "id": "AcX-aCfmxmuM",
        "outputId": "321bf756-c217-47c8-d724-affca2d35120"
      },
      "source": [
        "labels = np.array(labels)\r\n",
        "for i in range(0,10):\r\n",
        "  lb_count = np.sum((labels == i)*1)\r\n",
        "  print(f\"{label_meta_mapping[i]}: {lb_count}\")"
      ],
      "execution_count": 11,
      "outputs": [
        {
          "output_type": "stream",
          "text": [
            "airplane: 5000\n",
            "automobile: 5000\n",
            "bird: 5000\n",
            "cat: 5000\n",
            "deer: 5000\n",
            "dog: 5000\n",
            "frog: 5000\n",
            "horse: 5000\n",
            "ship: 5000\n",
            "truck: 5000\n"
          ],
          "name": "stdout"
        }
      ]
    },
    {
      "cell_type": "code",
      "metadata": {
        "id": "yZ5IvZ17Ksd3"
      },
      "source": [
        "data_rgb = np.reshape(data, (data.shape[0], 3, 32, 32)).transpose(0, 2, 3, 1)"
      ],
      "execution_count": 12,
      "outputs": []
    },
    {
      "cell_type": "code",
      "metadata": {
        "colab": {
          "base_uri": "https://localhost:8080/",
          "height": 343
        },
        "id": "UPuCiBVlYwQf",
        "outputId": "a41f8843-d2fb-4cde-bcee-ba93035ba6b3"
      },
      "source": [
        "rnd_idx = np.random.randint(1,5000)\r\n",
        "fig, ax = plt.subplots(nrows=2, ncols=5, figsize=(12,6))\r\n",
        "for i in range(10):\r\n",
        "  samp = data_rgb[labels == i][rnd_idx,:,:,:]\r\n",
        "  ax[int(i/5)][i%5].imshow(samp)"
      ],
      "execution_count": 13,
      "outputs": [
        {
          "output_type": "display_data",
          "data": {
            "image/png": "[encoded data removed]",
            "text/plain": [
              "<Figure size 864x432 with 10 Axes>"
            ]
          },
          "metadata": {
            "tags": [],
            "needs_background": "light"
          }
        }
      ]
    },
    {
      "cell_type": "code",
      "metadata": {
        "colab": {
          "base_uri": "https://localhost:8080/"
        },
        "id": "dlBd-n2wCnbj",
        "outputId": "0e9ab43f-4524-4d7c-d0f6-d031061827f9"
      },
      "source": [
        "train_X, test_X, train_y, test_y = train_test_split(data_rgb/255, np.array(labels), test_size=0.2)\r\n",
        "test_X, val_X, test_y, val_y = train_test_split(test_X, test_y, test_size=0.7)\r\n",
        "print(f\"Training Data Size : {train_X.shape[0]}\")\r\n",
        "print(f\"Validation Data Size : {val_X.shape[0]}\")\r\n",
        "print(f\"Testing Data Size : {test_X.shape[0]}\")"
      ],
      "execution_count": 14,
      "outputs": [
        {
          "output_type": "stream",
          "text": [
            "Training Data Size : 40000\n",
            "Validation Data Size : 7000\n",
            "Testing Data Size : 3000\n"
          ],
          "name": "stdout"
        }
      ]
    },
    {
      "cell_type": "code",
      "metadata": {
        "id": "rtI_7kvJyEYl"
      },
      "source": [
        "def inception_layer(input_layer, maps_size_list):\r\n",
        "  # Branch 1\r\n",
        "  x1 = tf.keras.layers.Conv2D(maps_size_list[2], (1, 1), 1, 'same', activation='relu')(input_layer)\r\n",
        "\r\n",
        "  # Branch 2\r\n",
        "  x2 = tf.keras.layers.Conv2D(maps_size_list[0], (1, 1), 1, 'same', activation='relu')(input_layer)\r\n",
        "  x2 = tf.keras.layers.Conv2D(maps_size_list[3], (3, 3), 1, 'same', activation='relu')(x2)\r\n",
        "\r\n",
        "  # Branch 3\r\n",
        "  x3 = tf.keras.layers.Conv2D(maps_size_list[1], (1, 1), 1, 'same', activation='relu')(input_layer)\r\n",
        "  x3 = tf.keras.layers.Conv2D(maps_size_list[4], (5, 5), 1, 'same', activation='relu')(x3)\r\n",
        "\r\n",
        "  # Branch 4\r\n",
        "  x4 = tf.keras.layers.MaxPool2D((3, 3), 1, 'same')(input_layer)\r\n",
        "  x4 = tf.keras.layers.Conv2D(maps_size_list[5], (1, 1), 1, 'same', activation='relu')(x4)\r\n",
        "\r\n",
        "  return tf.keras.layers.concatenate([x1, x2, x3, x4])"
      ],
      "execution_count": 24,
      "outputs": []
    },
    {
      "cell_type": "code",
      "metadata": {
        "id": "F411kW4X3vXY"
      },
      "source": [
        "LRN_Layer = tf.keras.layers.Lambda(tf.nn.local_response_normalization)"
      ],
      "execution_count": 30,
      "outputs": []
    },
    {
      "cell_type": "code",
      "metadata": {
        "id": "s5e4HEdL18_8"
      },
      "source": [
        "inputs = tf.keras.Input(shape=train_X.shape[1:])\r\n",
        "\r\n",
        "# Part 1 of Layer\r\n",
        "x = tf.keras.layers.Conv2D(64, (7, 7), 2, 'same')(inputs)\r\n",
        "x = tf.keras.layers.MaxPool2D((3, 3), 2, 'same')(x)\r\n",
        "x = tf.keras.layers.Lambda(tf.nn.local_response_normalization)(x)\r\n",
        "x = tf.keras.layers.Conv2D(64, (1, 1), 2, 'same')(x)\r\n",
        "x = tf.keras.layers.Conv2D(192, (3, 3), 2, 'same')(x)\r\n",
        "x = tf.keras.layers.Lambda(tf.nn.local_response_normalization)(x)\r\n",
        "x = tf.keras.layers.MaxPool2D((3, 3), 2, 'same')(x)\r\n",
        "\r\n",
        "# Part 2 of Layer\r\n",
        "x = inception_layer(x, [64, 128, 32, 32, 96, 16])\r\n",
        "x = inception_layer(x, [128, 192, 96, 64, 128, 32])\r\n",
        "x = tf.keras.layers.MaxPool2D((3, 3), 2, 'same')(x)\r\n",
        "#x = inception_layer(x, [192, 208, 48, 64, 96, 16])\r\n",
        "#x = inception_layer(x, [160, 224, 64, 64, 112, 24])\r\n",
        "#x = inception_layer(x, [128, 256, 64, 64, 128, 24])\r\n",
        "#x = inception_layer(x, [112, 288, 64, 64, 144, 32])\r\n",
        "#x = inception_layer(x, [256, 320, 128, 128, 160, 32])\r\n",
        "#x = tf.keras.layers.MaxPool2D((3, 3), 2, 'same')(x)\r\n",
        "x = inception_layer(x, [256, 320, 128, 128, 160, 32])\r\n",
        "x = inception_layer(x, [384, 384, 128, 128, 192, 48])\r\n",
        "x = tf.keras.layers.GlobalAveragePooling2D()(x)\r\n",
        "x = tf.keras.layers.Dropout(0.4)(x)\r\n",
        "\r\n",
        "x = tf.keras.layers.Flatten()(x)\r\n",
        "outputs = tf.keras.layers.Dense(10, activation='softmax')(x)\r\n",
        "\r\n",
        "model = tf.keras.Model(inputs, outputs)"
      ],
      "execution_count": 53,
      "outputs": []
    },
    {
      "cell_type": "code",
      "metadata": {
        "id": "iITYNexuHs16",
        "colab": {
          "base_uri": "https://localhost:8080/"
        },
        "outputId": "9babbff4-141d-4593-dbc0-0465a6f4bfeb"
      },
      "source": [
        "%tensorflow_version 2.x\r\n",
        "device_name = tf.test.gpu_device_name()\r\n",
        "if device_name != '/device:GPU:0':\r\n",
        "  raise SystemError('GPU device not found')\r\n",
        "print('Found GPU at: {}'.format(device_name))"
      ],
      "execution_count": 54,
      "outputs": [
        {
          "output_type": "stream",
          "text": [
            "Found GPU at: /device:GPU:0\n"
          ],
          "name": "stdout"
        }
      ]
    },
    {
      "cell_type": "code",
      "metadata": {
        "id": "U3a8HBQOLesF",
        "colab": {
          "base_uri": "https://localhost:8080/"
        },
        "outputId": "0d7f325a-8afa-4a0e-ff02-92fd9bb40617"
      },
      "source": [
        "model.compile(optimizer='adam',\r\n",
        "              loss=tf.keras.losses.SparseCategoricalCrossentropy(from_logits=True),\r\n",
        "              metrics=['accuracy'])\r\n",
        "#model.build(input_shape=train_X.shape[1:])\r\n",
        "model.summary()"
      ],
      "execution_count": 55,
      "outputs": [
        {
          "output_type": "stream",
          "text": [
            "Model: \"model_6\"\n",
            "__________________________________________________________________________________________________\n",
            "Layer (type)                    Output Shape         Param #     Connected to                     \n",
            "==================================================================================================\n",
            "input_9 (InputLayer)            [(None, 32, 32, 3)]  0                                            \n",
            "__________________________________________________________________________________________________\n",
            "conv2d_149 (Conv2D)             (None, 16, 16, 64)   9472        input_9[0][0]                    \n",
            "__________________________________________________________________________________________________\n",
            "max_pooling2d_33 (MaxPooling2D) (None, 8, 8, 64)     0           conv2d_149[0][0]                 \n",
            "__________________________________________________________________________________________________\n",
            "lambda_3 (Lambda)               (None, 8, 8, 64)     0           max_pooling2d_33[0][0]           \n",
            "__________________________________________________________________________________________________\n",
            "conv2d_150 (Conv2D)             (None, 4, 4, 64)     4160        lambda_3[0][0]                   \n",
            "__________________________________________________________________________________________________\n",
            "conv2d_151 (Conv2D)             (None, 2, 2, 192)    110784      conv2d_150[0][0]                 \n",
            "__________________________________________________________________________________________________\n",
            "lambda_4 (Lambda)               (None, 2, 2, 192)    0           conv2d_151[0][0]                 \n",
            "__________________________________________________________________________________________________\n",
            "max_pooling2d_34 (MaxPooling2D) (None, 1, 1, 192)    0           lambda_4[0][0]                   \n",
            "__________________________________________________________________________________________________\n",
            "conv2d_153 (Conv2D)             (None, 1, 1, 64)     12352       max_pooling2d_34[0][0]           \n",
            "__________________________________________________________________________________________________\n",
            "conv2d_155 (Conv2D)             (None, 1, 1, 128)    24704       max_pooling2d_34[0][0]           \n",
            "__________________________________________________________________________________________________\n",
            "max_pooling2d_35 (MaxPooling2D) (None, 1, 1, 192)    0           max_pooling2d_34[0][0]           \n",
            "__________________________________________________________________________________________________\n",
            "conv2d_152 (Conv2D)             (None, 1, 1, 32)     6176        max_pooling2d_34[0][0]           \n",
            "__________________________________________________________________________________________________\n",
            "conv2d_154 (Conv2D)             (None, 1, 1, 32)     18464       conv2d_153[0][0]                 \n",
            "__________________________________________________________________________________________________\n",
            "conv2d_156 (Conv2D)             (None, 1, 1, 96)     307296      conv2d_155[0][0]                 \n",
            "__________________________________________________________________________________________________\n",
            "conv2d_157 (Conv2D)             (None, 1, 1, 16)     3088        max_pooling2d_35[0][0]           \n",
            "__________________________________________________________________________________________________\n",
            "concatenate_23 (Concatenate)    (None, 1, 1, 176)    0           conv2d_152[0][0]                 \n",
            "                                                                 conv2d_154[0][0]                 \n",
            "                                                                 conv2d_156[0][0]                 \n",
            "                                                                 conv2d_157[0][0]                 \n",
            "__________________________________________________________________________________________________\n",
            "conv2d_159 (Conv2D)             (None, 1, 1, 128)    22656       concatenate_23[0][0]             \n",
            "__________________________________________________________________________________________________\n",
            "conv2d_161 (Conv2D)             (None, 1, 1, 192)    33984       concatenate_23[0][0]             \n",
            "__________________________________________________________________________________________________\n",
            "max_pooling2d_36 (MaxPooling2D) (None, 1, 1, 176)    0           concatenate_23[0][0]             \n",
            "__________________________________________________________________________________________________\n",
            "conv2d_158 (Conv2D)             (None, 1, 1, 96)     16992       concatenate_23[0][0]             \n",
            "__________________________________________________________________________________________________\n",
            "conv2d_160 (Conv2D)             (None, 1, 1, 64)     73792       conv2d_159[0][0]                 \n",
            "__________________________________________________________________________________________________\n",
            "conv2d_162 (Conv2D)             (None, 1, 1, 128)    614528      conv2d_161[0][0]                 \n",
            "__________________________________________________________________________________________________\n",
            "conv2d_163 (Conv2D)             (None, 1, 1, 32)     5664        max_pooling2d_36[0][0]           \n",
            "__________________________________________________________________________________________________\n",
            "concatenate_24 (Concatenate)    (None, 1, 1, 320)    0           conv2d_158[0][0]                 \n",
            "                                                                 conv2d_160[0][0]                 \n",
            "                                                                 conv2d_162[0][0]                 \n",
            "                                                                 conv2d_163[0][0]                 \n",
            "__________________________________________________________________________________________________\n",
            "max_pooling2d_37 (MaxPooling2D) (None, 1, 1, 320)    0           concatenate_24[0][0]             \n",
            "__________________________________________________________________________________________________\n",
            "conv2d_165 (Conv2D)             (None, 1, 1, 256)    82176       max_pooling2d_37[0][0]           \n",
            "__________________________________________________________________________________________________\n",
            "conv2d_167 (Conv2D)             (None, 1, 1, 320)    102720      max_pooling2d_37[0][0]           \n",
            "__________________________________________________________________________________________________\n",
            "max_pooling2d_38 (MaxPooling2D) (None, 1, 1, 320)    0           max_pooling2d_37[0][0]           \n",
            "__________________________________________________________________________________________________\n",
            "conv2d_164 (Conv2D)             (None, 1, 1, 128)    41088       max_pooling2d_37[0][0]           \n",
            "__________________________________________________________________________________________________\n",
            "conv2d_166 (Conv2D)             (None, 1, 1, 128)    295040      conv2d_165[0][0]                 \n",
            "__________________________________________________________________________________________________\n",
            "conv2d_168 (Conv2D)             (None, 1, 1, 160)    1280160     conv2d_167[0][0]                 \n",
            "__________________________________________________________________________________________________\n",
            "conv2d_169 (Conv2D)             (None, 1, 1, 32)     10272       max_pooling2d_38[0][0]           \n",
            "__________________________________________________________________________________________________\n",
            "concatenate_25 (Concatenate)    (None, 1, 1, 448)    0           conv2d_164[0][0]                 \n",
            "                                                                 conv2d_166[0][0]                 \n",
            "                                                                 conv2d_168[0][0]                 \n",
            "                                                                 conv2d_169[0][0]                 \n",
            "__________________________________________________________________________________________________\n",
            "conv2d_171 (Conv2D)             (None, 1, 1, 384)    172416      concatenate_25[0][0]             \n",
            "__________________________________________________________________________________________________\n",
            "conv2d_173 (Conv2D)             (None, 1, 1, 384)    172416      concatenate_25[0][0]             \n",
            "__________________________________________________________________________________________________\n",
            "max_pooling2d_39 (MaxPooling2D) (None, 1, 1, 448)    0           concatenate_25[0][0]             \n",
            "__________________________________________________________________________________________________\n",
            "conv2d_170 (Conv2D)             (None, 1, 1, 128)    57472       concatenate_25[0][0]             \n",
            "__________________________________________________________________________________________________\n",
            "conv2d_172 (Conv2D)             (None, 1, 1, 128)    442496      conv2d_171[0][0]                 \n",
            "__________________________________________________________________________________________________\n",
            "conv2d_174 (Conv2D)             (None, 1, 1, 192)    1843392     conv2d_173[0][0]                 \n",
            "__________________________________________________________________________________________________\n",
            "conv2d_175 (Conv2D)             (None, 1, 1, 48)     21552       max_pooling2d_39[0][0]           \n",
            "__________________________________________________________________________________________________\n",
            "concatenate_26 (Concatenate)    (None, 1, 1, 496)    0           conv2d_170[0][0]                 \n",
            "                                                                 conv2d_172[0][0]                 \n",
            "                                                                 conv2d_174[0][0]                 \n",
            "                                                                 conv2d_175[0][0]                 \n",
            "__________________________________________________________________________________________________\n",
            "global_average_pooling2d_2 (Glo (None, 496)          0           concatenate_26[0][0]             \n",
            "__________________________________________________________________________________________________\n",
            "dropout_2 (Dropout)             (None, 496)          0           global_average_pooling2d_2[0][0] \n",
            "__________________________________________________________________________________________________\n",
            "flatten_7 (Flatten)             (None, 496)          0           dropout_2[0][0]                  \n",
            "__________________________________________________________________________________________________\n",
            "dense_7 (Dense)                 (None, 10)           4970        flatten_7[0][0]                  \n",
            "==================================================================================================\n",
            "Total params: 5,790,282\n",
            "Trainable params: 5,790,282\n",
            "Non-trainable params: 0\n",
            "__________________________________________________________________________________________________\n"
          ],
          "name": "stdout"
        }
      ]
    },
    {
      "cell_type": "code",
      "metadata": {
        "id": "dTUI6TF5IiTG"
      },
      "source": [
        "erly_stop = tf.keras.callbacks.EarlyStopping(\r\n",
        "    monitor='val_loss', min_delta=0.0001, patience=10, verbose=1,\r\n",
        "    mode='auto', baseline=None, restore_best_weights=True,\r\n",
        ")\r\n",
        "\r\n",
        "def exponential_decay(lr0, s):\r\n",
        "    def exponential_decay_fn(epoch):\r\n",
        "        return lr0 * 0.1**(epoch / s)\r\n",
        "    return exponential_decay_fn\r\n",
        "\r\n",
        "exponential_decay_fn = exponential_decay(lr0=1, s=20)\r\n",
        "lr_scheduler = tf.keras.callbacks.LearningRateScheduler(exponential_decay_fn)"
      ],
      "execution_count": 56,
      "outputs": []
    },
    {
      "cell_type": "code",
      "metadata": {
        "colab": {
          "base_uri": "https://localhost:8080/"
        },
        "id": "nKCOyZofL9QH",
        "outputId": "cb10ce71-d1d7-4aa4-da3d-0fa785141e88"
      },
      "source": [
        "history = model.fit(x=train_X, y=train_y, batch_size=32, epochs=100, validation_data=(val_X, val_y), workers=-1, callbacks=[erly_stop,lr_scheduler])"
      ],
      "execution_count": null,
      "outputs": [
        {
          "output_type": "stream",
          "text": [
            "Epoch 1/100\n",
            "1250/1250 [==============================] - 16s 12ms/step - loss: 218849735441.8052 - accuracy: 0.0976 - val_loss: 2.3571 - val_accuracy: 0.1013\n",
            "Epoch 2/100\n",
            "1250/1250 [==============================] - 14s 12ms/step - loss: 2.3983 - accuracy: 0.0993 - val_loss: 2.3672 - val_accuracy: 0.0959\n",
            "Epoch 3/100\n",
            "1250/1250 [==============================] - 15s 12ms/step - loss: 2.3771 - accuracy: 0.1000 - val_loss: 2.4295 - val_accuracy: 0.0953\n",
            "Epoch 4/100\n",
            "1250/1250 [==============================] - 15s 12ms/step - loss: 2.3886 - accuracy: 0.1030 - val_loss: 2.3680 - val_accuracy: 0.1003\n",
            "Epoch 5/100\n",
            "1250/1250 [==============================] - 15s 12ms/step - loss: 2.3690 - accuracy: 0.0998 - val_loss: 2.3225 - val_accuracy: 0.1003\n",
            "Epoch 6/100\n",
            "1250/1250 [==============================] - 15s 12ms/step - loss: 2.3674 - accuracy: 0.1023 - val_loss: 2.3941 - val_accuracy: 0.1040\n",
            "Epoch 7/100\n",
            "1250/1250 [==============================] - 15s 12ms/step - loss: 2.3614 - accuracy: 0.1000 - val_loss: 2.3790 - val_accuracy: 0.0959\n",
            "Epoch 8/100\n",
            "1250/1250 [==============================] - 15s 12ms/step - loss: 2.3528 - accuracy: 0.0986 - val_loss: 2.3108 - val_accuracy: 0.1003\n",
            "Epoch 9/100\n",
            "1250/1250 [==============================] - 15s 12ms/step - loss: 2.3461 - accuracy: 0.1060 - val_loss: 2.4166 - val_accuracy: 0.1003\n",
            "Epoch 10/100\n",
            "1250/1250 [==============================] - 15s 12ms/step - loss: 2.3497 - accuracy: 0.1008 - val_loss: 2.3481 - val_accuracy: 0.1003\n",
            "Epoch 11/100\n",
            "1250/1250 [==============================] - 15s 12ms/step - loss: 2.3399 - accuracy: 0.0967 - val_loss: 2.3266 - val_accuracy: 0.0994\n",
            "Epoch 12/100\n",
            "1250/1250 [==============================] - 15s 12ms/step - loss: 2.3356 - accuracy: 0.1033 - val_loss: 2.3275 - val_accuracy: 0.1023\n",
            "Epoch 13/100\n",
            "1185/1250 [===========================>..] - ETA: 0s - loss: 2.3312 - accuracy: 0.0996"
          ],
          "name": "stdout"
        }
      ]
    },
    {
      "cell_type": "code",
      "metadata": {
        "id": "zgp1erMiF5qq"
      },
      "source": [
        ""
      ],
      "execution_count": 50,
      "outputs": []
    },
    {
      "cell_type": "code",
      "metadata": {
        "id": "Ahcl3XCAOH_W"
      },
      "source": [
        "def top_5_error_rate(predict_proba, y_true):\r\n",
        "  result = 0\r\n",
        "  for i in range(len(y_true)):\r\n",
        "    row = predict_proba[i,:]\r\n",
        "    top_5 = sorted(range(len(row)), key = lambda x: row[x], reverse=True)[:5]\r\n",
        "    if y_true[i] in top_5:\r\n",
        "      result = result + 1\r\n",
        "  \r\n",
        "  return result/len(y_true)"
      ],
      "execution_count": 51,
      "outputs": []
    },
    {
      "cell_type": "code",
      "metadata": {
        "colab": {
          "base_uri": "https://localhost:8080/"
        },
        "id": "QTXGUCkQO0zs",
        "outputId": "72abb95c-d724-4a92-c025-7c0731efb81c"
      },
      "source": [
        "proba_train_X = model.predict(test_X)\r\n",
        "print(f'Accuracy Score : {model.evaluate(test_X, test_y)}')\r\n",
        "print(top_5_error_rate(proba_train_X, test_y))"
      ],
      "execution_count": 52,
      "outputs": [
        {
          "output_type": "stream",
          "text": [
            "94/94 [==============================] - 1s 8ms/step - loss: 2.3068 - accuracy: 0.0953\n",
            "Accuracy Score : [2.306783676147461, 0.09533333033323288]\n",
            "0.491\n"
          ],
          "name": "stdout"
        }
      ]
    },
    {
      "cell_type": "code",
      "metadata": {
        "id": "FPy-x08_Rqrr"
      },
      "source": [
        "test_batch = unpickle(os.path.join(datadir,'test_batch'))\r\n",
        "test_data = test_batch[b'data']\r\n",
        "test_labels = test_batch[b'labels']"
      ],
      "execution_count": null,
      "outputs": []
    },
    {
      "cell_type": "code",
      "metadata": {
        "id": "QSbPOBk5T0iW"
      },
      "source": [
        "test_data = np.reshape(test_data, (test_data.shape[0], 3, 32, 32)).transpose(0, 2, 3, 1)"
      ],
      "execution_count": null,
      "outputs": []
    },
    {
      "cell_type": "code",
      "metadata": {
        "colab": {
          "base_uri": "https://localhost:8080/",
          "height": 284
        },
        "id": "eOnuDiESw_Pm",
        "outputId": "3b9c4fab-861c-4fad-83be-d97808307de7"
      },
      "source": [
        "idx = np.random.randint(200)\r\n",
        "plt.imshow(test_data[idx])\r\n",
        "label_meta_mapping[test_labels[idx]]"
      ],
      "execution_count": null,
      "outputs": [
        {
          "output_type": "execute_result",
          "data": {
            "application/vnd.google.colaboratory.intrinsic+json": {
              "type": "string"
            },
            "text/plain": [
              "'deer'"
            ]
          },
          "metadata": {
            "tags": []
          },
          "execution_count": 150
        },
        {
          "output_type": "display_data",
          "data": {
            "image/png": "[encoded data removed]",
            "text/plain": [
              "<Figure size 432x288 with 1 Axes>"
            ]
          },
          "metadata": {
            "tags": [],
            "needs_background": "light"
          }
        }
      ]
    },
    {
      "cell_type": "code",
      "metadata": {
        "colab": {
          "base_uri": "https://localhost:8080/"
        },
        "id": "jaY38UrkTpw9",
        "outputId": "6ec12d71-6097-443a-dd67-9c20feb1fcc5"
      },
      "source": [
        "proba_train_X = model.predict(test_data/255)\r\n",
        "print(f'Accuracy Score : {model.evaluate(test_data/255, np.array(test_labels))}')\r\n",
        "print(top_5_error_rate(proba_train_X, test_labels))"
      ],
      "execution_count": null,
      "outputs": [
        {
          "output_type": "stream",
          "text": [
            "313/313 [==============================] - 2s 7ms/step - loss: 0.7458 - accuracy: 0.7688\n",
            "Accuracy Score : [0.745808482170105, 0.7688000202178955]\n",
            "0.9833\n"
          ],
          "name": "stdout"
        }
      ]
    },
    {
      "cell_type": "code",
      "metadata": {
        "id": "mr-G3bTZx2ew",
        "colab": {
          "base_uri": "https://localhost:8080/",
          "height": 317
        },
        "outputId": "cbcff9c7-a630-4501-9484-def1d0a4d388"
      },
      "source": [
        "idx = np.random.randint(200)\r\n",
        "prediction = model.predict(np.array([test_data[idx]]))\r\n",
        "prediction = label_meta_mapping[np.argmax(prediction)]\r\n",
        "actual = label_meta_mapping[test_labels[idx]]\r\n",
        "print(f\"Acutal Label: {actual}\\nPredicted Label: {prediction}\")\r\n",
        "row = model.predict(np.array([test_data[idx]]))[0]\r\n",
        "top_5 = sorted(range(len(row)), key = lambda x: row[x], reverse=True)[:5]\r\n",
        "top_5 = [label_meta_mapping[i] for i in top_5]\r\n",
        "print(top_5)\r\n",
        "fig = plt.imshow(test_data[idx])"
      ],
      "execution_count": null,
      "outputs": [
        {
          "output_type": "stream",
          "text": [
            "Acutal Label: cat\n",
            "Predicted Label: dog\n",
            "['dog', 'horse', 'cat', 'airplane', 'automobile']\n"
          ],
          "name": "stdout"
        },
        {
          "output_type": "display_data",
          "data": {
            "image/png": "[encoded data removed]",
            "text/plain": [
              "<Figure size 432x288 with 1 Axes>"
            ]
          },
          "metadata": {
            "tags": [],
            "needs_background": "light"
          }
        }
      ]
    },
    {
      "cell_type": "code",
      "metadata": {
        "id": "KAAbbTlGNDOK"
      },
      "source": [
        ""
      ],
      "execution_count": null,
      "outputs": []
    },
    {
      "cell_type": "code",
      "metadata": {
        "id": "Jmlv4vFlNLAW",
        "colab": {
          "base_uri": "https://localhost:8080/"
        },
        "outputId": "7e46f029-34d6-4669-fefc-4529d558ebe0"
      },
      "source": [
        ""
      ],
      "execution_count": null,
      "outputs": [
        {
          "output_type": "execute_result",
          "data": {
            "text/plain": [
              "['dog', 'cat', 'horse', 'airplane', 'automobile']"
            ]
          },
          "metadata": {
            "tags": []
          },
          "execution_count": 163
        }
      ]
    },
    {
      "cell_type": "code",
      "metadata": {
        "id": "ZO8EYj-8iG2W"
      },
      "source": [
        ""
      ],
      "execution_count": null,
      "outputs": []
    }
  ]
}