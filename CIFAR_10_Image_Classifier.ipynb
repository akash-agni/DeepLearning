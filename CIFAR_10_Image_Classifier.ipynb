{
  "nbformat": 4,
  "nbformat_minor": 0,
  "metadata": {
    "colab": {
      "name": "CIFAR_10_Image_Classifier.ipynb",
      "provenance": []
    },
    "kernelspec": {
      "name": "python3",
      "display_name": "Python 3"
    },
    "accelerator": "GPU"
  },
  "cells": [
    {
      "cell_type": "code",
      "metadata": {
        "id": "DItw-Vd2qvDs"
      },
      "source": [
        "import tensorflow as tf\r\n",
        "import tensorflow_datasets as tfds\r\n",
        "import numpy as np\r\n",
        "import matplotlib.pyplot as plt\r\n",
        "import seaborn as sns\r\n",
        "import os\r\n",
        "from sklearn.model_selection import train_test_split\r\n",
        "\r\n",
        "from tensorflow.keras import models, layers\r\n",
        "from sklearn.metrics import accuracy_score"
      ],
      "execution_count": 1,
      "outputs": []
    },
    {
      "cell_type": "code",
      "metadata": {
        "colab": {
          "base_uri": "https://localhost:8080/"
        },
        "id": "O4r1kR8js4Fn",
        "outputId": "03e5337d-9399-4444-8fe0-4104e9fcbdfe"
      },
      "source": [
        "!wget https://www.cs.toronto.edu/~kriz/cifar-10-python.tar.gz"
      ],
      "execution_count": 2,
      "outputs": [
        {
          "output_type": "stream",
          "text": [
            "--2021-02-13 10:55:03--  https://www.cs.toronto.edu/~kriz/cifar-10-python.tar.gz\n",
            "Resolving www.cs.toronto.edu (www.cs.toronto.edu)... 128.100.3.30\n",
            "Connecting to www.cs.toronto.edu (www.cs.toronto.edu)|128.100.3.30|:443... connected.\n",
            "HTTP request sent, awaiting response... 200 OK\n",
            "Length: 170498071 (163M) [application/x-gzip]\n",
            "Saving to: ‘cifar-10-python.tar.gz’\n",
            "\n",
            "cifar-10-python.tar 100%[===================>] 162.60M  46.9MB/s    in 3.8s    \n",
            "\n",
            "2021-02-13 10:55:07 (42.3 MB/s) - ‘cifar-10-python.tar.gz’ saved [170498071/170498071]\n",
            "\n"
          ],
          "name": "stdout"
        }
      ]
    },
    {
      "cell_type": "code",
      "metadata": {
        "id": "l1pyQL-1vsJc"
      },
      "source": [
        "!mkdir ./cifar_10/\r\n",
        "!tar -xf cifar-10-python.tar.gz -C ./cifar_10/\r\n",
        "!rm -rf cifar-10-python.tar.gz"
      ],
      "execution_count": 3,
      "outputs": []
    },
    {
      "cell_type": "code",
      "metadata": {
        "colab": {
          "base_uri": "https://localhost:8080/"
        },
        "id": "jC7BdyRFwq3s",
        "outputId": "02c1b47d-6fa5-4220-b812-0b0e569a7170"
      },
      "source": [
        "!ls -l ./cifar_10/cifar-10-batches-py/"
      ],
      "execution_count": 4,
      "outputs": [
        {
          "output_type": "stream",
          "text": [
            "total 181876\n",
            "-rw-r--r-- 1 2156 1103      158 Mar 31  2009 batches.meta\n",
            "-rw-r--r-- 1 2156 1103 31035704 Mar 31  2009 data_batch_1\n",
            "-rw-r--r-- 1 2156 1103 31035320 Mar 31  2009 data_batch_2\n",
            "-rw-r--r-- 1 2156 1103 31035999 Mar 31  2009 data_batch_3\n",
            "-rw-r--r-- 1 2156 1103 31035696 Mar 31  2009 data_batch_4\n",
            "-rw-r--r-- 1 2156 1103 31035623 Mar 31  2009 data_batch_5\n",
            "-rw-r--r-- 1 2156 1103       88 Jun  4  2009 readme.html\n",
            "-rw-r--r-- 1 2156 1103 31035526 Mar 31  2009 test_batch\n"
          ],
          "name": "stdout"
        }
      ]
    },
    {
      "cell_type": "code",
      "metadata": {
        "id": "KHdHegNBwU-G"
      },
      "source": [
        "workdir = os.curdir\r\n",
        "datadir = os.path.join(workdir,'cifar_10','cifar-10-batches-py')\r\n",
        "train_files = [os.path.join(datadir,f'data_batch_{i}') for i in range(1,6)]\r\n",
        "test_file = 'test_batch'"
      ],
      "execution_count": 5,
      "outputs": []
    },
    {
      "cell_type": "code",
      "metadata": {
        "id": "kpZnA1gJxZvk"
      },
      "source": [
        "# unpickle the data file containing the image\r\n",
        "def unpickle(file):\r\n",
        "    import pickle\r\n",
        "    with open(file, 'rb') as fo:\r\n",
        "        dict = pickle.load(fo, encoding='bytes')\r\n",
        "    return dict"
      ],
      "execution_count": 6,
      "outputs": []
    },
    {
      "cell_type": "code",
      "metadata": {
        "colab": {
          "base_uri": "https://localhost:8080/"
        },
        "id": "GSbBhdKMxjbV",
        "outputId": "2c1fd968-13cf-4387-ebbc-68ee3e0cee3f"
      },
      "source": [
        "data_dict = unpickle(train_files[0])\r\n",
        "data_dict.keys()"
      ],
      "execution_count": 7,
      "outputs": [
        {
          "output_type": "execute_result",
          "data": {
            "text/plain": [
              "dict_keys([b'batch_label', b'labels', b'data', b'filenames'])"
            ]
          },
          "metadata": {
            "tags": []
          },
          "execution_count": 7
        }
      ]
    },
    {
      "cell_type": "code",
      "metadata": {
        "colab": {
          "base_uri": "https://localhost:8080/"
        },
        "id": "7qNTQodt57Q8",
        "outputId": "0fd2a74a-bc88-4390-8dbd-e9eb07042010"
      },
      "source": [
        "# read all files into a dataset\r\n",
        "data = np.empty(data_dict[b'data'].shape)\r\n",
        "labels = list()\r\n",
        "for fl in train_files:\r\n",
        "  print(f\"Loading File {fl}\")\r\n",
        "  df = unpickle(fl)\r\n",
        "  print(df[b'batch_label'])\r\n",
        "  print(f\"Geting Data\")\r\n",
        "  if df[b'batch_label'] == b'training batch 1 of 5':\r\n",
        "    data = df[b'data']\r\n",
        "  else:\r\n",
        "    data = np.concatenate([data,df[b'data']])\r\n",
        "  print(\"Geting labels\")\r\n",
        "  labels = labels + df[b'labels']\r\n",
        "  print(f\"Shape of Data is {data.shape}\")\r\n",
        "  print(\"=\"*50)"
      ],
      "execution_count": 8,
      "outputs": [
        {
          "output_type": "stream",
          "text": [
            "Loading File ./cifar_10/cifar-10-batches-py/data_batch_1\n",
            "b'training batch 1 of 5'\n",
            "Geting Data\n",
            "Geting labels\n",
            "Shape of Data is (10000, 3072)\n",
            "==================================================\n",
            "Loading File ./cifar_10/cifar-10-batches-py/data_batch_2\n",
            "b'training batch 2 of 5'\n",
            "Geting Data\n",
            "Geting labels\n",
            "Shape of Data is (20000, 3072)\n",
            "==================================================\n",
            "Loading File ./cifar_10/cifar-10-batches-py/data_batch_3\n",
            "b'training batch 3 of 5'\n",
            "Geting Data\n",
            "Geting labels\n",
            "Shape of Data is (30000, 3072)\n",
            "==================================================\n",
            "Loading File ./cifar_10/cifar-10-batches-py/data_batch_4\n",
            "b'training batch 4 of 5'\n",
            "Geting Data\n",
            "Geting labels\n",
            "Shape of Data is (40000, 3072)\n",
            "==================================================\n",
            "Loading File ./cifar_10/cifar-10-batches-py/data_batch_5\n",
            "b'training batch 5 of 5'\n",
            "Geting Data\n",
            "Geting labels\n",
            "Shape of Data is (50000, 3072)\n",
            "==================================================\n"
          ],
          "name": "stdout"
        }
      ]
    },
    {
      "cell_type": "code",
      "metadata": {
        "colab": {
          "base_uri": "https://localhost:8080/"
        },
        "id": "9008aWLS_s20",
        "outputId": "ec1990e2-a519-43a7-ee55-e26fdfedbcf2"
      },
      "source": [
        "# Reading Metadata\r\n",
        "label_meta = unpickle(os.path.join(datadir,'batches.meta'))[b'label_names']\r\n",
        "label_meta_mapping = {i:label_meta[i].decode('utf-8') for i in range(len(label_meta))}\r\n",
        "label_meta_mapping"
      ],
      "execution_count": 9,
      "outputs": [
        {
          "output_type": "execute_result",
          "data": {
            "text/plain": [
              "{0: 'airplane',\n",
              " 1: 'automobile',\n",
              " 2: 'bird',\n",
              " 3: 'cat',\n",
              " 4: 'deer',\n",
              " 5: 'dog',\n",
              " 6: 'frog',\n",
              " 7: 'horse',\n",
              " 8: 'ship',\n",
              " 9: 'truck'}"
            ]
          },
          "metadata": {
            "tags": []
          },
          "execution_count": 9
        }
      ]
    },
    {
      "cell_type": "code",
      "metadata": {
        "colab": {
          "base_uri": "https://localhost:8080/"
        },
        "id": "AcX-aCfmxmuM",
        "outputId": "be10a40a-3388-4490-eaff-18242050e1a6"
      },
      "source": [
        "labels = np.array(labels)\r\n",
        "for i in range(0,10):\r\n",
        "  lb_count = np.sum((labels == i)*1)\r\n",
        "  print(f\"{label_meta_mapping[i]}: {lb_count}\")"
      ],
      "execution_count": 10,
      "outputs": [
        {
          "output_type": "stream",
          "text": [
            "airplane: 5000\n",
            "automobile: 5000\n",
            "bird: 5000\n",
            "cat: 5000\n",
            "deer: 5000\n",
            "dog: 5000\n",
            "frog: 5000\n",
            "horse: 5000\n",
            "ship: 5000\n",
            "truck: 5000\n"
          ],
          "name": "stdout"
        }
      ]
    },
    {
      "cell_type": "code",
      "metadata": {
        "id": "yZ5IvZ17Ksd3"
      },
      "source": [
        "data_rgb = np.reshape(data, (data.shape[0], 3, 32, 32)).transpose(0, 2, 3, 1)"
      ],
      "execution_count": 11,
      "outputs": []
    },
    {
      "cell_type": "code",
      "metadata": {
        "colab": {
          "base_uri": "https://localhost:8080/",
          "height": 343
        },
        "id": "UPuCiBVlYwQf",
        "outputId": "d0eb917b-0cf0-421c-9072-d07d1c715693"
      },
      "source": [
        "rnd_idx = np.random.randint(1,5000)\r\n",
        "fig, ax = plt.subplots(nrows=2, ncols=5, figsize=(12,6))\r\n",
        "for i in range(10):\r\n",
        "  samp = data_rgb[labels == i][rnd_idx,:,:,:]\r\n",
        "  ax[int(i/5)][i%5].imshow(samp)"
      ],
      "execution_count": 12,
      "outputs": [
        {
          "output_type": "display_data",
          "data": {
            "image/png": "[encoded data removed]",
            "text/plain": [
              "<Figure size 864x432 with 10 Axes>"
            ]
          },
          "metadata": {
            "tags": [],
            "needs_background": "light"
          }
        }
      ]
    },
    {
      "cell_type": "code",
      "metadata": {
        "id": "gmDrzXI5DPR3"
      },
      "source": [
        "def prep_pixels(data):\r\n",
        "  data_norm = data.astype('float32')\r\n",
        "\r\n",
        "  data_norm = data_norm / 255.0\r\n",
        "\r\n",
        "  return data_norm"
      ],
      "execution_count": 13,
      "outputs": []
    },
    {
      "cell_type": "code",
      "metadata": {
        "id": "yBmXv7AkD6fa"
      },
      "source": [
        "data_rgb_norm = prep_pixels(data_rgb)"
      ],
      "execution_count": 14,
      "outputs": []
    },
    {
      "cell_type": "code",
      "metadata": {
        "colab": {
          "base_uri": "https://localhost:8080/"
        },
        "id": "F617ERavEIt8",
        "outputId": "0007af46-3b24-4915-c91e-19c376239ab7"
      },
      "source": [
        "print(labels)\r\n",
        "labels_b = tf.keras.utils.to_categorical(labels)\r\n",
        "print(labels.shape)\r\n",
        "print(labels_b.shape)"
      ],
      "execution_count": 16,
      "outputs": [
        {
          "output_type": "stream",
          "text": [
            "[6 9 9 ... 9 1 1]\n",
            "(50000,)\n",
            "(50000, 10)\n"
          ],
          "name": "stdout"
        }
      ]
    },
    {
      "cell_type": "code",
      "metadata": {
        "colab": {
          "base_uri": "https://localhost:8080/"
        },
        "id": "dlBd-n2wCnbj",
        "outputId": "18d18a0a-d9bb-4c44-b303-8c25ddbd9b42"
      },
      "source": [
        "train_X, val_X, train_y, val_y = train_test_split(data_rgb_norm, labels_b, test_size=0.3)\r\n",
        "#test_X, val_X, test_y, val_y = train_test_split(test_X, test_y, test_size=0.7)\r\n",
        "print(f\"Training Data Size : {train_X.shape[0]}\")\r\n",
        "print(f\"Validation Data Size : {val_X.shape[0]}\")\r\n",
        "#print(f\"Testing Data Size : {test_X.shape[0]}\")"
      ],
      "execution_count": 17,
      "outputs": [
        {
          "output_type": "stream",
          "text": [
            "Training Data Size : 35000\n",
            "Validation Data Size : 15000\n"
          ],
          "name": "stdout"
        }
      ]
    },
    {
      "cell_type": "code",
      "metadata": {
        "id": "rtI_7kvJyEYl"
      },
      "source": [
        "model = models.Sequential()\r\n",
        "model.add(layers.Input(shape=train_X.shape[1:], batch_size=32))\r\n",
        "model.add(layers.Dense(3072, activation='elu'))\r\n",
        "model.add(layers.Dense(768, activation='elu'))\r\n",
        "model.add(layers.Dense(196, activation='elu'))\r\n",
        "model.add(layers.Dense(64, activation='elu'))\r\n",
        "model.add(layers.Dense(10, activation='sigmoid'))"
      ],
      "execution_count": null,
      "outputs": []
    },
    {
      "cell_type": "code",
      "metadata": {
        "id": "U3a8HBQOLesF"
      },
      "source": [
        "model.compile(optimizer='adam',\r\n",
        "              loss=tf.keras.losses.SparseCategoricalCrossentropy(from_logits=True),\r\n",
        "              metrics=['accuracy'])"
      ],
      "execution_count": null,
      "outputs": []
    },
    {
      "cell_type": "code",
      "metadata": {
        "colab": {
          "base_uri": "https://localhost:8080/"
        },
        "id": "42qZBhycG-Ov",
        "outputId": "ac443a02-4380-4b11-e88f-10475acdba18"
      },
      "source": [
        "model.summary()"
      ],
      "execution_count": null,
      "outputs": [
        {
          "output_type": "stream",
          "text": [
            "Model: \"sequential_10\"\n",
            "_________________________________________________________________\n",
            "Layer (type)                 Output Shape              Param #   \n",
            "=================================================================\n",
            "dense_47 (Dense)             (32, 3072)                9440256   \n",
            "_________________________________________________________________\n",
            "dense_48 (Dense)             (32, 768)                 2360064   \n",
            "_________________________________________________________________\n",
            "dense_49 (Dense)             (32, 196)                 150724    \n",
            "_________________________________________________________________\n",
            "dense_50 (Dense)             (32, 64)                  12608     \n",
            "_________________________________________________________________\n",
            "dense_51 (Dense)             (32, 10)                  650       \n",
            "=================================================================\n",
            "Total params: 11,964,302\n",
            "Trainable params: 11,964,302\n",
            "Non-trainable params: 0\n",
            "_________________________________________________________________\n"
          ],
          "name": "stdout"
        }
      ]
    },
    {
      "cell_type": "code",
      "metadata": {
        "colab": {
          "base_uri": "https://localhost:8080/"
        },
        "id": "nKCOyZofL9QH",
        "outputId": "7973de2c-646c-4a70-c946-cb88cbf2a81f"
      },
      "source": [
        "model.fit(x=train_X, y=train_y, batch_size=32, epochs=10, validation_data=(val_X, val_y), workers=-1,use_multiprocessing=True)"
      ],
      "execution_count": null,
      "outputs": [
        {
          "output_type": "stream",
          "text": [
            "Epoch 1/10\n",
            "1250/1250 [==============================] - 6s 4ms/step - loss: 2.4595 - accuracy: 0.2263 - val_loss: 1.7882 - val_accuracy: 0.3438\n",
            "Epoch 2/10\n",
            "1250/1250 [==============================] - 5s 4ms/step - loss: 1.8031 - accuracy: 0.3406 - val_loss: 1.7150 - val_accuracy: 0.3763\n",
            "Epoch 3/10\n",
            "1250/1250 [==============================] - 5s 4ms/step - loss: 1.7085 - accuracy: 0.3820 - val_loss: 1.6243 - val_accuracy: 0.4130\n",
            "Epoch 4/10\n",
            "1250/1250 [==============================] - 5s 4ms/step - loss: 1.6413 - accuracy: 0.4063 - val_loss: 1.5587 - val_accuracy: 0.4352\n",
            "Epoch 5/10\n",
            "1250/1250 [==============================] - 5s 4ms/step - loss: 1.5763 - accuracy: 0.4307 - val_loss: 1.5330 - val_accuracy: 0.4495\n",
            "Epoch 6/10\n",
            "1250/1250 [==============================] - 5s 4ms/step - loss: 1.5210 - accuracy: 0.4560 - val_loss: 1.5172 - val_accuracy: 0.4463\n",
            "Epoch 7/10\n",
            "1250/1250 [==============================] - 5s 4ms/step - loss: 1.5043 - accuracy: 0.4613 - val_loss: 1.4881 - val_accuracy: 0.4688\n",
            "Epoch 8/10\n",
            "1250/1250 [==============================] - 5s 4ms/step - loss: 1.4593 - accuracy: 0.4762 - val_loss: 1.4634 - val_accuracy: 0.4790\n",
            "Epoch 9/10\n",
            "1250/1250 [==============================] - 5s 4ms/step - loss: 1.4328 - accuracy: 0.4884 - val_loss: 1.4441 - val_accuracy: 0.4819\n",
            "Epoch 10/10\n",
            "1250/1250 [==============================] - 5s 4ms/step - loss: 1.3810 - accuracy: 0.5041 - val_loss: 1.4241 - val_accuracy: 0.4850\n"
          ],
          "name": "stdout"
        },
        {
          "output_type": "execute_result",
          "data": {
            "text/plain": [
              "<tensorflow.python.keras.callbacks.History at 0x7f8c2de9f438>"
            ]
          },
          "metadata": {
            "tags": []
          },
          "execution_count": 111
        }
      ]
    },
    {
      "cell_type": "code",
      "metadata": {
        "id": "Ahcl3XCAOH_W"
      },
      "source": [
        "def top_5_error_rate(predict_proba, y_true):\r\n",
        "  result = 0\r\n",
        "  for i in range(len(y_true)):\r\n",
        "    row = predict_proba[i,:]\r\n",
        "    top_5 = sorted(range(len(row)), key = lambda x: row[x], reverse=True)[:5]\r\n",
        "    if y_true[i] in top_5:\r\n",
        "      result = result + 1\r\n",
        "  \r\n",
        "  return result/len(y_true)"
      ],
      "execution_count": null,
      "outputs": []
    },
    {
      "cell_type": "code",
      "metadata": {
        "colab": {
          "base_uri": "https://localhost:8080/"
        },
        "id": "QTXGUCkQO0zs",
        "outputId": "0e80fb91-9a51-4f65-cc35-85744872099b"
      },
      "source": [
        "proba_train_X = model.predict(test_X)\r\n",
        "print(f'Accuracy Score : {model.evaluate(test_X, test_y)}')\r\n",
        "print(top_5_error_rate(proba_train_X, test_y))"
      ],
      "execution_count": null,
      "outputs": [
        {
          "output_type": "stream",
          "text": [
            "94/94 [==============================] - 0s 2ms/step - loss: 1.4332 - accuracy: 0.5017\n",
            "Accuracy Score : [1.4332008361816406, 0.5016622543334961]\n",
            "0.9163333333333333\n"
          ],
          "name": "stdout"
        }
      ]
    },
    {
      "cell_type": "code",
      "metadata": {
        "id": "FPy-x08_Rqrr"
      },
      "source": [
        "test_batch = unpickle(os.path.join(datadir,'test_batch'))\r\n",
        "test_data = test_batch[b'data']\r\n",
        "test_labels = test_batch[b'labels']"
      ],
      "execution_count": null,
      "outputs": []
    },
    {
      "cell_type": "code",
      "metadata": {
        "id": "QSbPOBk5T0iW"
      },
      "source": [
        "test_data = np.reshape(test_data, (test_data.shape[0], 3, 32, 32)).transpose(0, 2, 3, 1)"
      ],
      "execution_count": null,
      "outputs": []
    },
    {
      "cell_type": "code",
      "metadata": {
        "colab": {
          "base_uri": "https://localhost:8080/",
          "height": 284
        },
        "id": "eOnuDiESw_Pm",
        "outputId": "5f308dcb-03b6-456b-a3ee-c2d2be918802"
      },
      "source": [
        "idx = np.random.randint(200)\r\n",
        "plt.imshow(test_data[idx])\r\n",
        "label_meta_mapping[test_labels[idx]]"
      ],
      "execution_count": null,
      "outputs": [
        {
          "output_type": "execute_result",
          "data": {
            "application/vnd.google.colaboratory.intrinsic+json": {
              "type": "string"
            },
            "text/plain": [
              "'horse'"
            ]
          },
          "metadata": {
            "tags": []
          },
          "execution_count": 116
        },
        {
          "output_type": "display_data",
          "data": {
            "image/png": "[encoded data removed]",
            "text/plain": [
              "<Figure size 432x288 with 1 Axes>"
            ]
          },
          "metadata": {
            "tags": [],
            "needs_background": "light"
          }
        }
      ]
    },
    {
      "cell_type": "code",
      "metadata": {
        "colab": {
          "base_uri": "https://localhost:8080/"
        },
        "id": "jaY38UrkTpw9",
        "outputId": "102ede88-cbbd-496e-a0c9-b3794b1a0628"
      },
      "source": [
        "proba_train_X = model.predict(np.reshape(test_data, (test_data.shape[0], 3072))/255)\r\n",
        "print(f'Accuracy Score : {model.evaluate(np.reshape(test_data, (test_data.shape[0], 3072))/255, np.array(test_labels))}')\r\n",
        "print(top_5_error_rate(proba_train_X, test_labels))"
      ],
      "execution_count": null,
      "outputs": [
        {
          "output_type": "stream",
          "text": [
            "313/313 [==============================] - 1s 2ms/step - loss: 1.4188 - accuracy: 0.4946\n",
            "Accuracy Score : [1.4188294410705566, 0.49460864067077637]\n",
            "0.9177\n"
          ],
          "name": "stdout"
        }
      ]
    },
    {
      "cell_type": "code",
      "metadata": {
        "id": "hmuBgK4dFUUd"
      },
      "source": [
        "from tensorflow.keras.models import Sequential\r\n",
        "from tensorflow.keras.layers import Conv2D\r\n",
        "from tensorflow.keras.layers import Dense\r\n",
        "from tensorflow.keras.layers import MaxPooling2D\r\n",
        "from tensorflow.keras.layers import Flatten\r\n",
        "from tensorflow.keras.layers import Dropout\r\n",
        "from tensorflow.keras.layers import BatchNormalization\r\n"
      ],
      "execution_count": 24,
      "outputs": []
    },
    {
      "cell_type": "code",
      "metadata": {
        "id": "mr-G3bTZx2ew"
      },
      "source": [
        "def define_model(opt = 'adam',loss = 'categorical_crossentropy'):\r\n",
        "  model = Sequential()\r\n",
        "  model.add(Conv2D(32,(3,3), activation='relu', padding='same', input_shape=(32,32,3)))\r\n",
        "  model.add(Conv2D(32,(3,3), activation='relu', padding='same'))\r\n",
        "  model.add(MaxPooling2D(2,2))\r\n",
        "  model.add(Dropout(0.2))\r\n",
        "  model.add(Conv2D(64,(3,3), activation='relu', padding='same'))\r\n",
        "  model.add(Conv2D(64,(3,3), activation='relu', padding='same'))\r\n",
        "  model.add(MaxPooling2D(2,2))\r\n",
        "  model.add(Dropout(0.2))\r\n",
        "  model.add(Conv2D(128,(3,3), activation='relu', padding='same'))\r\n",
        "  model.add(Conv2D(128,(3,3), activation='relu', padding='same'))\r\n",
        "  model.add(MaxPooling2D(2,2))\r\n",
        "  model.add(Dropout(0.2))\r\n",
        "  model.add(Flatten())\r\n",
        "  model.add(Dense(128, activation='relu'))\r\n",
        "  model.add(Dense(10, activation='softmax'))\r\n",
        "\r\n",
        "  model.compile(optimizer=opt, loss=loss, metrics = ['accuracy'])\r\n",
        "  print(model.summary())\r\n",
        "  return model"
      ],
      "execution_count": 25,
      "outputs": []
    },
    {
      "cell_type": "code",
      "metadata": {
        "colab": {
          "base_uri": "https://localhost:8080/"
        },
        "id": "-O4Ik0NCHmv1",
        "outputId": "27c250a4-7c64-4c4d-8aff-9673c8bca5aa"
      },
      "source": [
        "model = define_model()\r\n"
      ],
      "execution_count": 26,
      "outputs": [
        {
          "output_type": "stream",
          "text": [
            "Model: \"sequential_2\"\n",
            "_________________________________________________________________\n",
            "Layer (type)                 Output Shape              Param #   \n",
            "=================================================================\n",
            "conv2d_12 (Conv2D)           (None, 32, 32, 32)        896       \n",
            "_________________________________________________________________\n",
            "conv2d_13 (Conv2D)           (None, 32, 32, 32)        9248      \n",
            "_________________________________________________________________\n",
            "max_pooling2d_6 (MaxPooling2 (None, 16, 16, 32)        0         \n",
            "_________________________________________________________________\n",
            "dropout (Dropout)            (None, 16, 16, 32)        0         \n",
            "_________________________________________________________________\n",
            "conv2d_14 (Conv2D)           (None, 16, 16, 64)        18496     \n",
            "_________________________________________________________________\n",
            "conv2d_15 (Conv2D)           (None, 16, 16, 64)        36928     \n",
            "_________________________________________________________________\n",
            "max_pooling2d_7 (MaxPooling2 (None, 8, 8, 64)          0         \n",
            "_________________________________________________________________\n",
            "dropout_1 (Dropout)          (None, 8, 8, 64)          0         \n",
            "_________________________________________________________________\n",
            "conv2d_16 (Conv2D)           (None, 8, 8, 128)         73856     \n",
            "_________________________________________________________________\n",
            "conv2d_17 (Conv2D)           (None, 8, 8, 128)         147584    \n",
            "_________________________________________________________________\n",
            "max_pooling2d_8 (MaxPooling2 (None, 4, 4, 128)         0         \n",
            "_________________________________________________________________\n",
            "dropout_2 (Dropout)          (None, 4, 4, 128)         0         \n",
            "_________________________________________________________________\n",
            "flatten_2 (Flatten)          (None, 2048)              0         \n",
            "_________________________________________________________________\n",
            "dense_4 (Dense)              (None, 128)               262272    \n",
            "_________________________________________________________________\n",
            "dense_5 (Dense)              (None, 10)                1290      \n",
            "=================================================================\n",
            "Total params: 550,570\n",
            "Trainable params: 550,570\n",
            "Non-trainable params: 0\n",
            "_________________________________________________________________\n",
            "None\n"
          ],
          "name": "stdout"
        }
      ]
    },
    {
      "cell_type": "code",
      "metadata": {
        "colab": {
          "base_uri": "https://localhost:8080/"
        },
        "id": "5xJ-HPWeH75o",
        "outputId": "4176e388-f6d3-45e9-f103-eea10d7ceb24"
      },
      "source": [
        "history = model.fit(train_X, train_y, epochs=50, batch_size=64, validation_data=(val_X,val_y), verbose=1)\r\n",
        "_,acc= model.evaluate(val_X,val_y, verbose=0)\r\n",
        "print('> %.3f' % (acc * 100.0))"
      ],
      "execution_count": 27,
      "outputs": [
        {
          "output_type": "stream",
          "text": [
            "Epoch 1/50\n",
            "547/547 [==============================] - 5s 9ms/step - loss: 1.9224 - accuracy: 0.2754 - val_loss: 1.3456 - val_accuracy: 0.5076\n",
            "Epoch 2/50\n",
            "547/547 [==============================] - 4s 8ms/step - loss: 1.2761 - accuracy: 0.5348 - val_loss: 1.1088 - val_accuracy: 0.6055\n",
            "Epoch 3/50\n",
            "547/547 [==============================] - 4s 8ms/step - loss: 1.0489 - accuracy: 0.6257 - val_loss: 0.9239 - val_accuracy: 0.6721\n",
            "Epoch 4/50\n",
            "547/547 [==============================] - 4s 8ms/step - loss: 0.8866 - accuracy: 0.6869 - val_loss: 0.8014 - val_accuracy: 0.7158\n",
            "Epoch 5/50\n",
            "547/547 [==============================] - 4s 8ms/step - loss: 0.7930 - accuracy: 0.7189 - val_loss: 0.7664 - val_accuracy: 0.7348\n",
            "Epoch 6/50\n",
            "547/547 [==============================] - 4s 8ms/step - loss: 0.7133 - accuracy: 0.7440 - val_loss: 0.7238 - val_accuracy: 0.7510\n",
            "Epoch 7/50\n",
            "547/547 [==============================] - 4s 8ms/step - loss: 0.6374 - accuracy: 0.7745 - val_loss: 0.7035 - val_accuracy: 0.7569\n",
            "Epoch 8/50\n",
            "547/547 [==============================] - 4s 8ms/step - loss: 0.5915 - accuracy: 0.7931 - val_loss: 0.7054 - val_accuracy: 0.7547\n",
            "Epoch 9/50\n",
            "547/547 [==============================] - 4s 8ms/step - loss: 0.5456 - accuracy: 0.8071 - val_loss: 0.7482 - val_accuracy: 0.7475\n",
            "Epoch 10/50\n",
            "547/547 [==============================] - 4s 8ms/step - loss: 0.5122 - accuracy: 0.8159 - val_loss: 0.7245 - val_accuracy: 0.7637\n",
            "Epoch 11/50\n",
            "547/547 [==============================] - 4s 8ms/step - loss: 0.4617 - accuracy: 0.8365 - val_loss: 0.6826 - val_accuracy: 0.7747\n",
            "Epoch 12/50\n",
            "547/547 [==============================] - 4s 8ms/step - loss: 0.4376 - accuracy: 0.8431 - val_loss: 0.7050 - val_accuracy: 0.7736\n",
            "Epoch 13/50\n",
            "547/547 [==============================] - 4s 8ms/step - loss: 0.4121 - accuracy: 0.8544 - val_loss: 0.7018 - val_accuracy: 0.7793\n",
            "Epoch 14/50\n",
            "547/547 [==============================] - 4s 8ms/step - loss: 0.3863 - accuracy: 0.8620 - val_loss: 0.6888 - val_accuracy: 0.7847\n",
            "Epoch 15/50\n",
            "547/547 [==============================] - 4s 8ms/step - loss: 0.3655 - accuracy: 0.8691 - val_loss: 0.7285 - val_accuracy: 0.7772\n",
            "Epoch 16/50\n",
            "547/547 [==============================] - 4s 8ms/step - loss: 0.3460 - accuracy: 0.8734 - val_loss: 0.6895 - val_accuracy: 0.7849\n",
            "Epoch 17/50\n",
            "547/547 [==============================] - 4s 8ms/step - loss: 0.3259 - accuracy: 0.8834 - val_loss: 0.7069 - val_accuracy: 0.7861\n",
            "Epoch 18/50\n",
            "547/547 [==============================] - 4s 8ms/step - loss: 0.3091 - accuracy: 0.8912 - val_loss: 0.7448 - val_accuracy: 0.7822\n",
            "Epoch 19/50\n",
            "547/547 [==============================] - 4s 8ms/step - loss: 0.3021 - accuracy: 0.8883 - val_loss: 0.7467 - val_accuracy: 0.7839\n",
            "Epoch 20/50\n",
            "547/547 [==============================] - 4s 8ms/step - loss: 0.2854 - accuracy: 0.8964 - val_loss: 0.7504 - val_accuracy: 0.7835\n",
            "Epoch 21/50\n",
            "547/547 [==============================] - 4s 8ms/step - loss: 0.2676 - accuracy: 0.9034 - val_loss: 0.7459 - val_accuracy: 0.7913\n",
            "Epoch 22/50\n",
            "547/547 [==============================] - 4s 8ms/step - loss: 0.2664 - accuracy: 0.9049 - val_loss: 0.7768 - val_accuracy: 0.7819\n",
            "Epoch 23/50\n",
            "547/547 [==============================] - 4s 8ms/step - loss: 0.2616 - accuracy: 0.9072 - val_loss: 0.7892 - val_accuracy: 0.7797\n",
            "Epoch 24/50\n",
            "547/547 [==============================] - 4s 8ms/step - loss: 0.2465 - accuracy: 0.9137 - val_loss: 0.7883 - val_accuracy: 0.7849\n",
            "Epoch 25/50\n",
            "547/547 [==============================] - 4s 8ms/step - loss: 0.2469 - accuracy: 0.9126 - val_loss: 0.7786 - val_accuracy: 0.7815\n",
            "Epoch 26/50\n",
            "547/547 [==============================] - 4s 8ms/step - loss: 0.2282 - accuracy: 0.9169 - val_loss: 0.7876 - val_accuracy: 0.7869\n",
            "Epoch 27/50\n",
            "547/547 [==============================] - 4s 8ms/step - loss: 0.2266 - accuracy: 0.9195 - val_loss: 0.7958 - val_accuracy: 0.7860\n",
            "Epoch 28/50\n",
            "547/547 [==============================] - 4s 8ms/step - loss: 0.2184 - accuracy: 0.9228 - val_loss: 0.8942 - val_accuracy: 0.7745\n",
            "Epoch 29/50\n",
            "547/547 [==============================] - 4s 8ms/step - loss: 0.2339 - accuracy: 0.9181 - val_loss: 0.8034 - val_accuracy: 0.7855\n",
            "Epoch 30/50\n",
            "547/547 [==============================] - 4s 8ms/step - loss: 0.2104 - accuracy: 0.9258 - val_loss: 0.9283 - val_accuracy: 0.7735\n",
            "Epoch 31/50\n",
            "547/547 [==============================] - 4s 8ms/step - loss: 0.2165 - accuracy: 0.9244 - val_loss: 0.8445 - val_accuracy: 0.7801\n",
            "Epoch 32/50\n",
            "547/547 [==============================] - 4s 8ms/step - loss: 0.2155 - accuracy: 0.9240 - val_loss: 0.8800 - val_accuracy: 0.7811\n",
            "Epoch 33/50\n",
            "547/547 [==============================] - 4s 8ms/step - loss: 0.2039 - accuracy: 0.9302 - val_loss: 0.9111 - val_accuracy: 0.7765\n",
            "Epoch 34/50\n",
            "547/547 [==============================] - 4s 8ms/step - loss: 0.2002 - accuracy: 0.9300 - val_loss: 0.8456 - val_accuracy: 0.7873\n",
            "Epoch 35/50\n",
            "547/547 [==============================] - 4s 8ms/step - loss: 0.1910 - accuracy: 0.9343 - val_loss: 0.8830 - val_accuracy: 0.7844\n",
            "Epoch 36/50\n",
            "547/547 [==============================] - 4s 8ms/step - loss: 0.1919 - accuracy: 0.9315 - val_loss: 0.8164 - val_accuracy: 0.7877\n",
            "Epoch 37/50\n",
            "547/547 [==============================] - 4s 8ms/step - loss: 0.1862 - accuracy: 0.9341 - val_loss: 0.8501 - val_accuracy: 0.7837\n",
            "Epoch 38/50\n",
            "547/547 [==============================] - 4s 8ms/step - loss: 0.1870 - accuracy: 0.9338 - val_loss: 0.8541 - val_accuracy: 0.7840\n",
            "Epoch 39/50\n",
            "547/547 [==============================] - 4s 8ms/step - loss: 0.1797 - accuracy: 0.9379 - val_loss: 0.9206 - val_accuracy: 0.7852\n",
            "Epoch 40/50\n",
            "547/547 [==============================] - 4s 8ms/step - loss: 0.1874 - accuracy: 0.9356 - val_loss: 0.9011 - val_accuracy: 0.7876\n",
            "Epoch 41/50\n",
            "547/547 [==============================] - 4s 8ms/step - loss: 0.1801 - accuracy: 0.9383 - val_loss: 0.9215 - val_accuracy: 0.7833\n",
            "Epoch 42/50\n",
            "547/547 [==============================] - 4s 8ms/step - loss: 0.1705 - accuracy: 0.9415 - val_loss: 0.8978 - val_accuracy: 0.7910\n",
            "Epoch 43/50\n",
            "547/547 [==============================] - 4s 8ms/step - loss: 0.1729 - accuracy: 0.9395 - val_loss: 0.9041 - val_accuracy: 0.7877\n",
            "Epoch 44/50\n",
            "547/547 [==============================] - 4s 8ms/step - loss: 0.1736 - accuracy: 0.9393 - val_loss: 0.9477 - val_accuracy: 0.7802\n",
            "Epoch 45/50\n",
            "547/547 [==============================] - 5s 8ms/step - loss: 0.1862 - accuracy: 0.9356 - val_loss: 0.9656 - val_accuracy: 0.7835\n",
            "Epoch 46/50\n",
            "547/547 [==============================] - 4s 8ms/step - loss: 0.1669 - accuracy: 0.9428 - val_loss: 0.9197 - val_accuracy: 0.7889\n",
            "Epoch 47/50\n",
            "547/547 [==============================] - 4s 8ms/step - loss: 0.1626 - accuracy: 0.9435 - val_loss: 0.9246 - val_accuracy: 0.7870\n",
            "Epoch 48/50\n",
            "547/547 [==============================] - 4s 8ms/step - loss: 0.1565 - accuracy: 0.9444 - val_loss: 0.9621 - val_accuracy: 0.7848\n",
            "Epoch 49/50\n",
            "547/547 [==============================] - 4s 8ms/step - loss: 0.1740 - accuracy: 0.9399 - val_loss: 0.9908 - val_accuracy: 0.7839\n",
            "Epoch 50/50\n",
            "547/547 [==============================] - 4s 8ms/step - loss: 0.1597 - accuracy: 0.9451 - val_loss: 0.9435 - val_accuracy: 0.7855\n",
            "> 78.553\n"
          ],
          "name": "stdout"
        }
      ]
    }
  ]
}