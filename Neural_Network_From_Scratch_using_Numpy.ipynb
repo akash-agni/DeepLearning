{
  "nbformat": 4,
  "nbformat_minor": 0,
  "metadata": {
    "kernelspec": {
      "display_name": "Python 3",
      "language": "python",
      "name": "python3"
    },
    "language_info": {
      "codemirror_mode": {
        "name": "ipython",
        "version": 3
      },
      "file_extension": ".py",
      "mimetype": "text/x-python",
      "name": "python",
      "nbconvert_exporter": "python",
      "pygments_lexer": "ipython3",
      "version": "3.7.3"
    },
    "colab": {
      "name": "Neural Network From Scratch using Numpy.ipynb",
      "provenance": [],
      "include_colab_link": true
    }
  },
  "cells": [
    {
      "cell_type": "markdown",
      "metadata": {
        "id": "view-in-github",
        "colab_type": "text"
      },
      "source": [
        "<a href=\"https://colab.research.google.com/github/akash-agni/DeepLearning/blob/main/Neural_Network_From_Scratch_using_Numpy.ipynb\" target=\"_parent\"><img src=\"https://colab.research.google.com/assets/colab-badge.svg\" alt=\"Open In Colab\"/></a>"
      ]
    },
    {
      "cell_type": "markdown",
      "metadata": {
        "id": "GftfNvwPTBCg"
      },
      "source": [
        "# Building a Neural Net from Scratch using Numpy"
      ]
    },
    {
      "cell_type": "markdown",
      "metadata": {
        "id": "SipyUCdtTBCt"
      },
      "source": [
        "So I have been working with neural networks for quite some time now, but I always felt I had a knowledge gap in terms of my understanding of Neural Networks and Backpropogation. This gave me some major Imposter Syndrome issues over time.\n",
        "\n",
        "\n",
        "So this time I decided to go all the way through and learn the maths behind the algorithms and implement a rudimentry form of neural network, which can make useful predictions.\n",
        "\n",
        "I know this is not even close to perfect and I welcome any suggestions or feedback to improve upon it."
      ]
    },
    {
      "cell_type": "markdown",
      "metadata": {
        "id": "QhcTa3wrTBCu"
      },
      "source": [
        "### Theory\n",
        "\n",
        "I will try to document as much theory I can, but i suggest going through below  Lectures and Notes to get a good ideas into the maths going on behind the algo.\n",
        "\n",
        "<ul>\n",
        "    <li><b><a href='https://www.youtube.com/watch?v=MfIjxPh6Pys'>Introduction to Neural Networks: </a></b></li>\n",
        "    <li><b><a href='https://www.youtube.com/watch?v=zUazLXZZA2U&t=1872s'>Backpropogation: </a></b></li>\n",
        "    <li><b><a href='http://cs229.stanford.edu/notes2020spring/cs229-notes-deep_learning.pdf'>Deep Learning Notes</a></b></li>\n",
        "</ul>"
      ]
    },
    {
      "cell_type": "code",
      "metadata": {
        "id": "GgCIz0M8TBCv"
      },
      "source": [
        "# Load libraries\n",
        "import numpy as np\n",
        "from sklearn.datasets import load_digits\n",
        "from sklearn.preprocessing import LabelBinarizer\n",
        "import matplotlib.pyplot as plt\n",
        "import seaborn as sns\n",
        "from sklearn.metrics import log_loss, accuracy_score\n",
        "from sklearn.model_selection import train_test_split\n",
        "from sklearn.neural_network import MLPClassifier"
      ],
      "execution_count": 1,
      "outputs": []
    },
    {
      "cell_type": "code",
      "metadata": {
        "id": "J03zMun4TBCw"
      },
      "source": [
        "# Loading our MNIST dataset\n",
        "data = load_digits()\n",
        "X = data['data']\n",
        "y = data['target']"
      ],
      "execution_count": 2,
      "outputs": []
    },
    {
      "cell_type": "code",
      "metadata": {
        "colab": {
          "base_uri": "https://localhost:8080/",
          "height": 322
        },
        "id": "VtZd8QjrTBCx",
        "outputId": "25e15c2a-b43d-486e-86ab-79bc9c74e10a"
      },
      "source": [
        "fig, ax = plt.subplots(nrows=2, ncols=5, figsize=(10,6))\n",
        "for i in range(10):\n",
        "    img = np.reshape(X[y == i][5],(8,8))\n",
        "    ax[int(i/5)][i%5].imshow(img, cmap='gray')"
      ],
      "execution_count": 3,
      "outputs": [
        {
          "output_type": "display_data",
          "data": {
            "image/png": "[encoded data removed]",
            "text/plain": [
              "<Figure size 720x432 with 10 Axes>"
            ]
          },
          "metadata": {
            "tags": [],
            "needs_background": "light"
          }
        }
      ]
    },
    {
      "cell_type": "code",
      "metadata": {
        "id": "pVYux0ogTBC0"
      },
      "source": [
        "# Split data into training and testing sets\n",
        "X_train, X_test, y_train, y_test = train_test_split(X/16, y, test_size=0.3)"
      ],
      "execution_count": 4,
      "outputs": []
    },
    {
      "cell_type": "code",
      "metadata": {
        "id": "Q44FYQt4TBC1"
      },
      "source": [
        "# The class Layer, uniquely defines the attributes and functionalities of a layer e.g. size, activation function, weights etc.\n",
        "class Layer:\n",
        "    # Initializes the basic attributes of a single layer\n",
        "    def __init__(self, size, index, activation='sigmoid'):\n",
        "        self.size = size # defines the number of stacked neurons in the layer\n",
        "        self.activation_func = activation # defines the activation function that each neuron in the layer uses\n",
        "        self.layer_index = index # defines the location of layer in the network\n",
        "        self.a = 0 # defines the output of the layer after running through activation\n",
        "        self.z = 0 # defines the input of layer to the activation function\n",
        "        \n",
        "    # Weight initialization is very important or the we might see vanishing/exploding gradient problem\n",
        "    # We use Glroot Initialization technique to intialize our weights and biases\n",
        "    def init_weight(self, input_shape, output_shape):\n",
        "        mean = 0\n",
        "        std = np.sqrt(2/(input_shape + output_shape))\n",
        "        self.weights = np.float32(np.random.uniform(-std, std, (output_shape, input_shape)))\n",
        "        self.bias = np.float32(np.random.uniform(-std, std, (output_shape,1)))\n",
        "    \n",
        "    # return the output of layer after running the input through selected activation function\n",
        "    def activation(self, inputs):\n",
        "        self.z = np.dot(self.weights,inputs) + self.bias\n",
        "        self.a = 1/(1 + np.exp(-self.z))\n",
        "        return self.a\n",
        "    \n",
        "    # provides the derivative of activation function for the current output of the layer\n",
        "    def activation_grad(self):\n",
        "        return self.a * (1 - self.a)       "
      ],
      "execution_count": 5,
      "outputs": []
    },
    {
      "cell_type": "code",
      "metadata": {
        "id": "_lmDEXnSTBC1"
      },
      "source": [
        "# Class Neural Network, defines multiple layers and runs forwad and back propogation to train the network.\n",
        "class NeuralNetwork:\n",
        "    \n",
        "    # defines the shape of Network and initializes layers\n",
        "    def __init__(self, shape):\n",
        "        self.shape = shape\n",
        "        self.layers = list()\n",
        "        self.log_loss_hist = list()\n",
        "        j = 0\n",
        "        for i in shape:\n",
        "            self.layers.append(Layer(i,j))\n",
        "            j = j + 1\n",
        "        \n",
        "    # Initializes the weights and biases of our network for each layer\n",
        "    def initialize(self, X, y):\n",
        "        for i in range(len(self.layers)):\n",
        "            if i == 0:\n",
        "                self.layers[i].init_weight(X.shape[1], self.layers[i].size)\n",
        "            else:\n",
        "                self.layers[i].init_weight(self.layers[i-1].size, self.layers[i].size)\n",
        "       \n",
        "    # performs forward propogation\n",
        "    def forward_propogation(self, X):\n",
        "        a = X.T\n",
        "        for layer in self.layers:\n",
        "            a = layer.activation(a)\n",
        "    # calculates log logs and return the result\n",
        "    def loss(self, outputs, y):\n",
        "        lb = LabelBinarizer()\n",
        "        y_lb = lb.fit_transform(y)\n",
        "        outputs_lb = lb.transform(outputs)\n",
        "        loss = log_loss(y_lb, outputs_lb)\n",
        "        return loss\n",
        "    \n",
        "    # Performs the most critical, Backpropogation to calculate delta values for each layer\n",
        "    def backpropogate(self, X, y):\n",
        "        delta = list()\n",
        "        delta_w = [0 for _ in range(len(self.layers))]\n",
        "        delta_b = [0 for _ in range(len(self.layers))]\n",
        "        error_o = (self.layers[-1].z - y.T)\n",
        "        for i in reversed(range(len(self.layers) - 1)):\n",
        "            error_i = np.multiply(self.layers[i+1].weights.T.dot(error_o), self.layers[i].activation_grad())\n",
        "            delta_w[i+1] = error_o.dot(self.layers[i].a.T)/len(y)\n",
        "            delta_b[i+1] = np.sum(error_o, axis=1, keepdims=True)/len(y)\n",
        "            error_o = error_i\n",
        "        delta_w[0] = error_o.dot(X)\n",
        "        delta_b[0] = np.sum(error_o, axis=1, keepdims=True)/len(y)\n",
        "        return (delta_w, delta_b)\n",
        "        \n",
        "    # Uses the delta values to update weights and biases\n",
        "    def update_weights_bias(self, delta_w, delta_b, lr):\n",
        "        #print(self.layers[0].bias.shape)\n",
        "        for i in range(len(self.layers)):\n",
        "            layer = self.layers[i]\n",
        "            layer.weights = layer.weights - (lr*delta_w[i])\n",
        "            layer.bias = layer.bias - (lr*delta_b[i]) \n",
        "    \n",
        "    # Used to orchestrate the training of network, given a certain epoch and learning rate\n",
        "    def train(self, X, y, epochs, batch_size, lr):\n",
        "        self.initialize(X, y)\n",
        "        lb = LabelBinarizer()\n",
        "        y_lb = lb.fit_transform(y)\n",
        "        y_lb = lb.fit_transform(y)\n",
        "        for i in range(epochs):\n",
        "            low = 0\n",
        "            high = low + batch_size\n",
        "            self.log_loss_hist.append(self.loss(np.argmax(self.predict(X), axis=0), y))\n",
        "            while(low < X.shape[0]):\n",
        "                X_bat = X[low:high,:]\n",
        "                y_bat = y_lb[low:high]\n",
        "                self.forward_propogation(X_bat)\n",
        "                outputs = self.layers[-1].a\n",
        "                delta_w, delta_b = self.backpropogate(X_bat, y_bat)\n",
        "                self.update_weights_bias(delta_w, delta_b, lr)\n",
        "                low = high\n",
        "                if (low + batch_size) > X.shape[0]:\n",
        "                    high = X.shape[0]\n",
        "                else:\n",
        "                    high = low + batch_size\n",
        "\n",
        "    # Runs the input through the network and returns\n",
        "    def predict(self, X):\n",
        "        a = X.T\n",
        "        for layer in self.layers:\n",
        "            a = layer.activation(a)\n",
        "        return a"
      ],
      "execution_count": 6,
      "outputs": []
    },
    {
      "cell_type": "code",
      "metadata": {
        "id": "3layQqpUTBC3"
      },
      "source": [
        "# Define the model and its architecture\n",
        "model = NeuralNetwork((64,32,16,10))"
      ],
      "execution_count": 7,
      "outputs": []
    },
    {
      "cell_type": "code",
      "metadata": {
        "id": "x67lKCo6TBC4"
      },
      "source": [
        "# Train our model using the hyper-parameters\n",
        "model.train(X_train, y_train, 1000, 64, 0.1)"
      ],
      "execution_count": 8,
      "outputs": []
    },
    {
      "cell_type": "code",
      "metadata": {
        "colab": {
          "base_uri": "https://localhost:8080/",
          "height": 282
        },
        "id": "PfOdJRI9TBC4",
        "outputId": "b7422ed0-c54a-47e9-e857-cdb633d5940b"
      },
      "source": [
        "# Plot the log loss over epochs\n",
        "sns.lineplot(x=list(range(len(model.log_loss_hist))), y=model.log_loss_hist)"
      ],
      "execution_count": 9,
      "outputs": [
        {
          "output_type": "execute_result",
          "data": {
            "text/plain": [
              "<matplotlib.axes._subplots.AxesSubplot at 0x7ff0ee3122e8>"
            ]
          },
          "metadata": {
            "tags": []
          },
          "execution_count": 9
        },
        {
          "output_type": "display_data",
          "data": {
            "image/png": "[encoded data removed]",
            "text/plain": [
              "<Figure size 432x288 with 1 Axes>"
            ]
          },
          "metadata": {
            "tags": [],
            "needs_background": "light"
          }
        }
      ]
    },
    {
      "cell_type": "code",
      "metadata": {
        "colab": {
          "base_uri": "https://localhost:8080/"
        },
        "id": "my30f_4VTBC5",
        "outputId": "033890eb-4be6-460c-a709-0c6023447bb4"
      },
      "source": [
        "# Make the prediction on test data and measure performance\n",
        "y_pred = model.predict(X_test)\n",
        "y_pred = np.argmax(y_pred, axis=0)\n",
        "print(f\"Accuracy Score: {np.round(accuracy_score(y_test, y_pred)*100,2)}\")"
      ],
      "execution_count": 10,
      "outputs": [
        {
          "output_type": "stream",
          "text": [
            "Accuracy Score: 98.15\n"
          ],
          "name": "stdout"
        }
      ]
    },
    {
      "cell_type": "code",
      "metadata": {
        "colab": {
          "base_uri": "https://localhost:8080/",
          "height": 174
        },
        "id": "V1y0oxqQTBC7",
        "outputId": "ee7e78cd-c236-4661-b7dc-ba37d3356285"
      },
      "source": [
        "# Plot the wrongly predicted images, to get an idea of mistakes model is making\n",
        "fig, ax = plt.subplots(nrows=1, ncols=8, figsize=(16,2))\n",
        "wrongs = y_pred != y_test\n",
        "samp = X_test[wrongs]\n",
        "y_samp_true = y_test[wrongs]\n",
        "y_samp_pred = y_pred[wrongs]\n",
        "n = len(samp)\n",
        "for i in range(8):\n",
        "    idx = np.random.randint(0, n)\n",
        "    img = np.reshape(samp[idx]*16, (8,8))\n",
        "    ax[i].imshow(img, cmap='gray_r')\n",
        "    ax[i].set_title(f\"Acutual: {y_samp_true[idx]}\\nPrediction: {y_samp_pred[idx]}\")"
      ],
      "execution_count": 11,
      "outputs": [
        {
          "output_type": "display_data",
          "data": {
            "image/png": "[encoded data removed]",
            "text/plain": [
              "<Figure size 1152x144 with 8 Axes>"
            ]
          },
          "metadata": {
            "tags": [],
            "needs_background": "light"
          }
        }
      ]
    },
    {
      "cell_type": "markdown",
      "metadata": {
        "id": "N2d17rbkTBC8"
      },
      "source": [
        "# Conclusion"
      ]
    },
    {
      "cell_type": "markdown",
      "metadata": {
        "id": "BQDIJvH4TBC9"
      },
      "source": [
        "### I always thought that building something like this, was perhaps to much for me, until.... I built it."
      ]
    },
    {
      "cell_type": "markdown",
      "metadata": {
        "id": "7VdsWxYATBC9"
      },
      "source": [
        "### Thanks for Reading"
      ]
    }
  ]
}