{
  "nbformat": 4,
  "nbformat_minor": 0,
  "metadata": {
    "colab": {
      "name": "Pneumonia_Identifier_Using_Chest_XRay_PyTorch.ipynb",
      "provenance": [],
      "authorship_tag": "ABX9TyMJ8LpfrovxnSFwxjqytVjw",
      "include_colab_link": true
    },
    "kernelspec": {
      "name": "python3",
      "display_name": "Python 3"
    },
    "accelerator": "GPU",
    "widgets": {
      "application/vnd.jupyter.widget-state+json": {
        "2ebc78f2b8394f2988db7156aad1a083": {
          "model_module": "@jupyter-widgets/controls",
          "model_name": "HBoxModel",
          "state": {
            "_view_name": "HBoxView",
            "_dom_classes": [],
            "_model_name": "HBoxModel",
            "_view_module": "@jupyter-widgets/controls",
            "_model_module_version": "1.5.0",
            "_view_count": null,
            "_view_module_version": "1.5.0",
            "box_style": "",
            "layout": "IPY_MODEL_3ab3767a442c4b9f97c7c88b1d1245e0",
            "_model_module": "@jupyter-widgets/controls",
            "children": [
              "IPY_MODEL_ae6ed7c667ee4605a82bd4baaf3f2382",
              "IPY_MODEL_8bef5866cc58466b91cda809c0cd4cca"
            ]
          }
        },
        "3ab3767a442c4b9f97c7c88b1d1245e0": {
          "model_module": "@jupyter-widgets/base",
          "model_name": "LayoutModel",
          "state": {
            "_view_name": "LayoutView",
            "grid_template_rows": null,
            "right": null,
            "justify_content": null,
            "_view_module": "@jupyter-widgets/base",
            "overflow": null,
            "_model_module_version": "1.2.0",
            "_view_count": null,
            "flex_flow": null,
            "width": null,
            "min_width": null,
            "border": null,
            "align_items": null,
            "bottom": null,
            "_model_module": "@jupyter-widgets/base",
            "top": null,
            "grid_column": null,
            "overflow_y": null,
            "overflow_x": null,
            "grid_auto_flow": null,
            "grid_area": null,
            "grid_template_columns": null,
            "flex": null,
            "_model_name": "LayoutModel",
            "justify_items": null,
            "grid_row": null,
            "max_height": null,
            "align_content": null,
            "visibility": null,
            "align_self": null,
            "height": null,
            "min_height": null,
            "padding": null,
            "grid_auto_rows": null,
            "grid_gap": null,
            "max_width": null,
            "order": null,
            "_view_module_version": "1.2.0",
            "grid_template_areas": null,
            "object_position": null,
            "object_fit": null,
            "grid_auto_columns": null,
            "margin": null,
            "display": null,
            "left": null
          }
        },
        "ae6ed7c667ee4605a82bd4baaf3f2382": {
          "model_module": "@jupyter-widgets/controls",
          "model_name": "FloatProgressModel",
          "state": {
            "_view_name": "ProgressView",
            "style": "IPY_MODEL_0c08a1faa4fa40c5a903a6d186453498",
            "_dom_classes": [],
            "description": "100%",
            "_model_name": "FloatProgressModel",
            "bar_style": "success",
            "max": 46827520,
            "_view_module": "@jupyter-widgets/controls",
            "_model_module_version": "1.5.0",
            "value": 46827520,
            "_view_count": null,
            "_view_module_version": "1.5.0",
            "orientation": "horizontal",
            "min": 0,
            "description_tooltip": null,
            "_model_module": "@jupyter-widgets/controls",
            "layout": "IPY_MODEL_2a378f27ffa44d7d852045be295531fd"
          }
        },
        "8bef5866cc58466b91cda809c0cd4cca": {
          "model_module": "@jupyter-widgets/controls",
          "model_name": "HTMLModel",
          "state": {
            "_view_name": "HTMLView",
            "style": "IPY_MODEL_2589671528514732978b8463ab892b2c",
            "_dom_classes": [],
            "description": "",
            "_model_name": "HTMLModel",
            "placeholder": "​",
            "_view_module": "@jupyter-widgets/controls",
            "_model_module_version": "1.5.0",
            "value": " 44.7M/44.7M [01:04&lt;00:00, 725kB/s]",
            "_view_count": null,
            "_view_module_version": "1.5.0",
            "description_tooltip": null,
            "_model_module": "@jupyter-widgets/controls",
            "layout": "IPY_MODEL_9e63b475e507420ea49013cfb30322c9"
          }
        },
        "0c08a1faa4fa40c5a903a6d186453498": {
          "model_module": "@jupyter-widgets/controls",
          "model_name": "ProgressStyleModel",
          "state": {
            "_view_name": "StyleView",
            "_model_name": "ProgressStyleModel",
            "description_width": "initial",
            "_view_module": "@jupyter-widgets/base",
            "_model_module_version": "1.5.0",
            "_view_count": null,
            "_view_module_version": "1.2.0",
            "bar_color": null,
            "_model_module": "@jupyter-widgets/controls"
          }
        },
        "2a378f27ffa44d7d852045be295531fd": {
          "model_module": "@jupyter-widgets/base",
          "model_name": "LayoutModel",
          "state": {
            "_view_name": "LayoutView",
            "grid_template_rows": null,
            "right": null,
            "justify_content": null,
            "_view_module": "@jupyter-widgets/base",
            "overflow": null,
            "_model_module_version": "1.2.0",
            "_view_count": null,
            "flex_flow": null,
            "width": null,
            "min_width": null,
            "border": null,
            "align_items": null,
            "bottom": null,
            "_model_module": "@jupyter-widgets/base",
            "top": null,
            "grid_column": null,
            "overflow_y": null,
            "overflow_x": null,
            "grid_auto_flow": null,
            "grid_area": null,
            "grid_template_columns": null,
            "flex": null,
            "_model_name": "LayoutModel",
            "justify_items": null,
            "grid_row": null,
            "max_height": null,
            "align_content": null,
            "visibility": null,
            "align_self": null,
            "height": null,
            "min_height": null,
            "padding": null,
            "grid_auto_rows": null,
            "grid_gap": null,
            "max_width": null,
            "order": null,
            "_view_module_version": "1.2.0",
            "grid_template_areas": null,
            "object_position": null,
            "object_fit": null,
            "grid_auto_columns": null,
            "margin": null,
            "display": null,
            "left": null
          }
        },
        "2589671528514732978b8463ab892b2c": {
          "model_module": "@jupyter-widgets/controls",
          "model_name": "DescriptionStyleModel",
          "state": {
            "_view_name": "StyleView",
            "_model_name": "DescriptionStyleModel",
            "description_width": "",
            "_view_module": "@jupyter-widgets/base",
            "_model_module_version": "1.5.0",
            "_view_count": null,
            "_view_module_version": "1.2.0",
            "_model_module": "@jupyter-widgets/controls"
          }
        },
        "9e63b475e507420ea49013cfb30322c9": {
          "model_module": "@jupyter-widgets/base",
          "model_name": "LayoutModel",
          "state": {
            "_view_name": "LayoutView",
            "grid_template_rows": null,
            "right": null,
            "justify_content": null,
            "_view_module": "@jupyter-widgets/base",
            "overflow": null,
            "_model_module_version": "1.2.0",
            "_view_count": null,
            "flex_flow": null,
            "width": null,
            "min_width": null,
            "border": null,
            "align_items": null,
            "bottom": null,
            "_model_module": "@jupyter-widgets/base",
            "top": null,
            "grid_column": null,
            "overflow_y": null,
            "overflow_x": null,
            "grid_auto_flow": null,
            "grid_area": null,
            "grid_template_columns": null,
            "flex": null,
            "_model_name": "LayoutModel",
            "justify_items": null,
            "grid_row": null,
            "max_height": null,
            "align_content": null,
            "visibility": null,
            "align_self": null,
            "height": null,
            "min_height": null,
            "padding": null,
            "grid_auto_rows": null,
            "grid_gap": null,
            "max_width": null,
            "order": null,
            "_view_module_version": "1.2.0",
            "grid_template_areas": null,
            "object_position": null,
            "object_fit": null,
            "grid_auto_columns": null,
            "margin": null,
            "display": null,
            "left": null
          }
        }
      }
    }
  },
  "cells": [
    {
      "cell_type": "markdown",
      "metadata": {
        "id": "view-in-github",
        "colab_type": "text"
      },
      "source": [
        "<a href=\"https://colab.research.google.com/github/akash-agni/DeepLearning/blob/main/Pneumonia_Identifier_Using_Chest_XRay_PyTorch.ipynb\" target=\"_parent\"><img src=\"https://colab.research.google.com/assets/colab-badge.svg\" alt=\"Open In Colab\"/></a>"
      ]
    },
    {
      "cell_type": "code",
      "metadata": {
        "id": "K6sQdFzRUF8A"
      },
      "source": [
        "! pip install -q kaggle\r\n",
        "! mkdir ~/.kaggle\r\n",
        "! cp kaggle.json ~/.kaggle/\r\n",
        "! chmod 600 ~/.kaggle/kaggle.json"
      ],
      "execution_count": 1,
      "outputs": []
    },
    {
      "cell_type": "code",
      "metadata": {
        "colab": {
          "base_uri": "https://localhost:8080/"
        },
        "id": "tiBJSPmOUNFS",
        "outputId": "84d8c4f3-62be-48ea-c0ce-bbac568a86d2"
      },
      "source": [
        "! kaggle datasets download -d paultimothymooney/chest-xray-pneumonia"
      ],
      "execution_count": 2,
      "outputs": [
        {
          "output_type": "stream",
          "text": [
            "Downloading chest-xray-pneumonia.zip to /content\n",
            "100% 2.29G/2.29G [00:29<00:00, 38.1MB/s]\n",
            "100% 2.29G/2.29G [00:29<00:00, 84.3MB/s]\n"
          ],
          "name": "stdout"
        }
      ]
    },
    {
      "cell_type": "code",
      "metadata": {
        "id": "HSmz0X-dUcYd"
      },
      "source": [
        "! mkdir ./data\r\n",
        "! unzip chest-xray-pneumonia.zip -d ./data > extract.log\r\n",
        "! rm -rf chest-xray-pneumonia.zip"
      ],
      "execution_count": 3,
      "outputs": []
    },
    {
      "cell_type": "code",
      "metadata": {
        "id": "pojwHtXtU85K"
      },
      "source": [
        "import os, time\r\n",
        "import numpy as np\r\n",
        "import torch\r\n",
        "from PIL import Image\r\n",
        "\r\n",
        "import matplotlib.pyplot as plt\r\n",
        "import seaborn as sns\r\n",
        "from sklearn import metrics as mtr\r\n",
        "\r\n",
        "import torch\r\n",
        "from torchvision.transforms import ToTensor\r\n",
        "from torchvision.models import resnet18"
      ],
      "execution_count": 14,
      "outputs": []
    },
    {
      "cell_type": "code",
      "metadata": {
        "id": "l1r-hVnUWYcP"
      },
      "source": [
        "class chest_xray_data(object):\r\n",
        "\r\n",
        "  def __init__(self, root, split, transforms=None):\r\n",
        "    self.root = root\r\n",
        "    self.transforms = transforms\r\n",
        "    self.data_dir = os.path.join(root, split)\r\n",
        "    self.imgs = [(i, 'NORMAL') for i in list(sorted(os.listdir(os.path.join(self.data_dir, 'NORMAL'))))]\r\n",
        "    self.imgs += [(i, 'PNEUMONIA') for i  in list(sorted(os.listdir(os.path.join(self.data_dir, 'PNEUMONIA'))))]\r\n",
        "\r\n",
        "  def __len__(self):\r\n",
        "    return len(self.imgs)\r\n",
        "\r\n",
        "  def __getitem__(self, idx):\r\n",
        "    img_path = os.path.join(self.data_dir, self.imgs[idx][1], self.imgs[idx][0])\r\n",
        "    img = Image.open(img_path).convert('RGB').resize((448, 448))\r\n",
        "    img = np.moveaxis(np.array(img)/255.0, -1, 0)\r\n",
        "    label = 0 if self.imgs[idx][1] == 'NORMAL' else 1\r\n",
        "    if self.transforms is not None:\r\n",
        "      img, label = self.transforms(img, label)\r\n",
        "    return img, label\r\n"
      ],
      "execution_count": 5,
      "outputs": []
    },
    {
      "cell_type": "code",
      "metadata": {
        "id": "HYIln8HbYPp1"
      },
      "source": [
        "train_data = chest_xray_data('/content/data/chest_xray', 'train')\r\n",
        "test_data = chest_xray_data('/content/data/chest_xray', 'test')"
      ],
      "execution_count": 6,
      "outputs": []
    },
    {
      "cell_type": "code",
      "metadata": {
        "id": "fQNrllsagBeZ"
      },
      "source": [
        "train_dataloader = torch.utils.data.DataLoader(train_data, 64, True)\r\n",
        "test_dataloader = torch.utils.data.DataLoader(test_data, 64, True)"
      ],
      "execution_count": 7,
      "outputs": []
    },
    {
      "cell_type": "code",
      "metadata": {
        "colab": {
          "base_uri": "https://localhost:8080/",
          "height": 228
        },
        "id": "7-LhGR66ZjNf",
        "outputId": "3fc2efb9-2e0d-43b1-c1ed-621b086c4888"
      },
      "source": [
        "fig, ax = plt.subplots(ncols=4, figsize=(16, 4))\r\n",
        "for i in train_dataloader:\r\n",
        "  for j in range(4):\r\n",
        "    img = i[0][j]\r\n",
        "    label = i[1][j]\r\n",
        "    ax[j].imshow(np.moveaxis(img.numpy(), 0, -1))\r\n",
        "    ax[j].set_title('Normal' if label == 0 else 'Pneumonia')\r\n",
        "  break"
      ],
      "execution_count": 8,
      "outputs": [
        {
          "output_type": "display_data",
          "data": {
            "image/png": "[encoded data removed]",
            "text/plain": [
              "<Figure size 1152x288 with 4 Axes>"
            ]
          },
          "metadata": {
            "tags": [],
            "needs_background": "light"
          }
        }
      ]
    },
    {
      "cell_type": "code",
      "metadata": {
        "id": "oS5VKN6fTZWB"
      },
      "source": [
        "def train(dataloader, model, loss_fn, optimizer):\r\n",
        "  size = len(dataloader)\r\n",
        "  model.train()\r\n",
        "  for batch, (X, y) in enumerate(dataloader):\r\n",
        "    X, y = X.to(device), y.to(device)\r\n",
        "    \r\n",
        "    pred = model(X.float())\r\n",
        "    loss = loss_fn(pred, y)\r\n",
        "\r\n",
        "    optimizer.zero_grad()\r\n",
        "    loss.backward()\r\n",
        "    optimizer.step()\r\n",
        "\r\n",
        "    if batch % int(size/10) == 0:\r\n",
        "      loss, current = loss.item(), batch\r\n",
        "      print(f\"loss: {loss:>7f}  [{current:>2d}/{size:>2d}]\")"
      ],
      "execution_count": 9,
      "outputs": []
    },
    {
      "cell_type": "code",
      "metadata": {
        "id": "H4hr118gdSSF"
      },
      "source": [
        "def test(dataloader, model):\r\n",
        "  size = len(dataloader.dataset)\r\n",
        "  model.eval()\r\n",
        "  test_loss, correct = 0, 0\r\n",
        "  with torch.no_grad():\r\n",
        "    for X, y in dataloader:\r\n",
        "      X, y = X.to(device), y.to(device)\r\n",
        "      pred = model(X.float())\r\n",
        "      test_loss += loss_fn(pred, y).item()\r\n",
        "      correct += (pred.argmax(1) == y).type(torch.float).sum().item()\r\n",
        "  test_loss /= size\r\n",
        "  correct /= size\r\n",
        "  print(f\"Test Error: \\n Accuracy: {(100*correct):>0.1f}%, Avg loss:{test_loss:>8f} \\n\")\r\n",
        "  return test_loss"
      ],
      "execution_count": 20,
      "outputs": []
    },
    {
      "cell_type": "code",
      "metadata": {
        "id": "2pREhHbAaqVl",
        "outputId": "063eedb2-617d-4e90-f2e0-c37087aed6be",
        "colab": {
          "base_uri": "https://localhost:8080/",
          "height": 105,
          "referenced_widgets": [
            "2ebc78f2b8394f2988db7156aad1a083",
            "3ab3767a442c4b9f97c7c88b1d1245e0",
            "ae6ed7c667ee4605a82bd4baaf3f2382",
            "8bef5866cc58466b91cda809c0cd4cca",
            "0c08a1faa4fa40c5a903a6d186453498",
            "2a378f27ffa44d7d852045be295531fd",
            "2589671528514732978b8463ab892b2c",
            "9e63b475e507420ea49013cfb30322c9"
          ]
        }
      },
      "source": [
        "model = resnet18(pretrained=True)\r\n",
        "for param in model.parameters():\r\n",
        "  param.requires_grad = False\r\n",
        "in_features = model.fc.in_features\r\n",
        "model.fc = torch.nn.Sequential(\r\n",
        "    torch.nn.Linear(in_features, 128),\r\n",
        "    torch.nn.BatchNorm1d(128),\r\n",
        "    torch.nn.ReLU(),\r\n",
        "    torch.nn.Linear(128, 32),\r\n",
        "    torch.nn.BatchNorm1d(32),\r\n",
        "    torch.nn.ReLU(),\r\n",
        "    torch.nn.Linear(32, 2),\r\n",
        "    torch.nn.Sigmoid()\r\n",
        ")\r\n",
        "#model.fc = torch.nn.Linear(in_features, 2)"
      ],
      "execution_count": 11,
      "outputs": [
        {
          "output_type": "stream",
          "text": [
            "Downloading: \"https://download.pytorch.org/models/resnet18-5c106cde.pth\" to /root/.cache/torch/hub/checkpoints/resnet18-5c106cde.pth\n"
          ],
          "name": "stderr"
        },
        {
          "output_type": "display_data",
          "data": {
            "application/vnd.jupyter.widget-view+json": {
              "model_id": "2ebc78f2b8394f2988db7156aad1a083",
              "version_minor": 0,
              "version_major": 2
            },
            "text/plain": [
              "HBox(children=(FloatProgress(value=0.0, max=46827520.0), HTML(value='')))"
            ]
          },
          "metadata": {
            "tags": []
          }
        },
        {
          "output_type": "stream",
          "text": [
            "\n"
          ],
          "name": "stdout"
        }
      ]
    },
    {
      "cell_type": "code",
      "metadata": {
        "id": "Uh0GQHjTSWG7",
        "colab": {
          "base_uri": "https://localhost:8080/"
        },
        "outputId": "883177d8-c350-4e53-dc58-b0ab52d0211b"
      },
      "source": [
        "params = [p for p in model.parameters() if p.requires_grad]\r\n",
        "optimizer = torch.optim.SGD(params, lr=1e-3, momentum=0.7, weight_decay=0.0005)\r\n",
        "loss_fn = torch.nn.CrossEntropyLoss()\r\n",
        "device = 'cuda' if torch.cuda.is_available() else  'cpu'\r\n",
        "num_epochs = 25\r\n",
        "print(f\"Model Is Running On {device}\")"
      ],
      "execution_count": 12,
      "outputs": [
        {
          "output_type": "stream",
          "text": [
            "Model Is Running On cuda\n"
          ],
          "name": "stdout"
        }
      ]
    },
    {
      "cell_type": "code",
      "metadata": {
        "id": "EzDxJxNaejoj",
        "colab": {
          "base_uri": "https://localhost:8080/"
        },
        "outputId": "53aad2a0-f727-4f80-8d4d-fcda9626c567"
      },
      "source": [
        "start_time = time.time()\r\n",
        "best_loss_score = test(test_dataloader, model.to(device))\r\n",
        "end_time = time.time()\r\n",
        "print(f\"Elapsed TIme :=> {np.round(end_time - start_time,3)} sec\")"
      ],
      "execution_count": 21,
      "outputs": [
        {
          "output_type": "stream",
          "text": [
            "Test Error: \n",
            " Accuracy: 34.1%, Avg loss:0.011134 \n",
            "\n",
            "Elapsed TIme :=> 19.415 sec\n"
          ],
          "name": "stdout"
        }
      ]
    },
    {
      "cell_type": "code",
      "metadata": {
        "id": "YXeEUP9deVdM",
        "colab": {
          "base_uri": "https://localhost:8080/"
        },
        "outputId": "ec6c3564-bfe1-456b-aaf0-443907fd1442"
      },
      "source": [
        "best_model = model.state_dict()\r\n",
        "for i in range(num_epochs):\r\n",
        "  print(f\"Epoch {i+1}\\n-------------------------------\")\r\n",
        "  start_time = time.time()\r\n",
        "  train(train_dataloader, model.to(device), loss_fn, optimizer)\r\n",
        "  test_loss = test(test_dataloader, model.to(device))\r\n",
        "  if test_loss < best_loss_score:\r\n",
        "    best_loss_score = test_loss\r\n",
        "    best_model = model.state_dict()\r\n",
        "    print(\"Best performing model captured & saved\")\r\n",
        "  end_time = time.time()\r\n",
        "  print(f\"Epoch Execution Time :=> {np.round(end_time - start_time, 3)} sec\")"
      ],
      "execution_count": 23,
      "outputs": [
        {
          "output_type": "stream",
          "text": [
            "Epoch 1\n",
            "-------------------------------\n",
            "loss: 0.700470  [ 0/82]\n",
            "loss: 0.692253  [ 8/82]\n",
            "loss: 0.693935  [16/82]\n",
            "loss: 0.683703  [24/82]\n",
            "loss: 0.663395  [32/82]\n",
            "loss: 0.667274  [40/82]\n",
            "loss: 0.667083  [48/82]\n",
            "loss: 0.655582  [56/82]\n",
            "loss: 0.662058  [64/82]\n",
            "loss: 0.647410  [72/82]\n",
            "loss: 0.645524  [80/82]\n",
            "Test Error: \n",
            " Accuracy: 69.9%, Avg loss:0.010561 \n",
            "\n",
            "Best performing model captured & saved\n",
            "Epoch Execution Time :=> 167.334 sec\n",
            "Epoch 2\n",
            "-------------------------------\n",
            "loss: 0.634952  [ 0/82]\n",
            "loss: 0.641906  [ 8/82]\n",
            "loss: 0.636134  [16/82]\n",
            "loss: 0.623112  [24/82]\n",
            "loss: 0.613990  [32/82]\n",
            "loss: 0.608805  [40/82]\n",
            "loss: 0.620308  [48/82]\n",
            "loss: 0.607259  [56/82]\n",
            "loss: 0.603689  [64/82]\n",
            "loss: 0.596173  [72/82]\n",
            "loss: 0.583183  [80/82]\n",
            "Test Error: \n",
            " Accuracy: 80.4%, Avg loss:0.009838 \n",
            "\n",
            "Best performing model captured & saved\n",
            "Epoch Execution Time :=> 166.632 sec\n",
            "Epoch 3\n",
            "-------------------------------\n",
            "loss: 0.603508  [ 0/82]\n",
            "loss: 0.585872  [ 8/82]\n",
            "loss: 0.597325  [16/82]\n",
            "loss: 0.581169  [24/82]\n",
            "loss: 0.582633  [32/82]\n",
            "loss: 0.584173  [40/82]\n",
            "loss: 0.580014  [48/82]\n",
            "loss: 0.578249  [56/82]\n",
            "loss: 0.583910  [64/82]\n",
            "loss: 0.579852  [72/82]\n",
            "loss: 0.568566  [80/82]\n",
            "Test Error: \n",
            " Accuracy: 83.8%, Avg loss:0.009453 \n",
            "\n",
            "Best performing model captured & saved\n",
            "Epoch Execution Time :=> 166.816 sec\n",
            "Epoch 4\n",
            "-------------------------------\n",
            "loss: 0.581566  [ 0/82]\n",
            "loss: 0.573118  [ 8/82]\n",
            "loss: 0.572900  [16/82]\n",
            "loss: 0.576818  [24/82]\n",
            "loss: 0.558948  [32/82]\n",
            "loss: 0.568290  [40/82]\n",
            "loss: 0.554125  [48/82]\n",
            "loss: 0.564909  [56/82]\n",
            "loss: 0.566947  [64/82]\n",
            "loss: 0.539274  [72/82]\n",
            "loss: 0.540660  [80/82]\n",
            "Test Error: \n",
            " Accuracy: 85.9%, Avg loss:0.009167 \n",
            "\n",
            "Best performing model captured & saved\n",
            "Epoch Execution Time :=> 166.484 sec\n",
            "Epoch 5\n",
            "-------------------------------\n",
            "loss: 0.559437  [ 0/82]\n",
            "loss: 0.537434  [ 8/82]\n",
            "loss: 0.531547  [16/82]\n",
            "loss: 0.557772  [24/82]\n",
            "loss: 0.531706  [32/82]\n",
            "loss: 0.545932  [40/82]\n",
            "loss: 0.545756  [48/82]\n",
            "loss: 0.521662  [56/82]\n",
            "loss: 0.521556  [64/82]\n",
            "loss: 0.520493  [72/82]\n",
            "loss: 0.539462  [80/82]\n",
            "Test Error: \n",
            " Accuracy: 86.2%, Avg loss:0.008960 \n",
            "\n",
            "Best performing model captured & saved\n",
            "Epoch Execution Time :=> 167.541 sec\n",
            "Epoch 6\n",
            "-------------------------------\n",
            "loss: 0.532017  [ 0/82]\n",
            "loss: 0.526885  [ 8/82]\n",
            "loss: 0.527777  [16/82]\n",
            "loss: 0.533857  [24/82]\n",
            "loss: 0.517202  [32/82]\n",
            "loss: 0.528848  [40/82]\n",
            "loss: 0.520687  [48/82]\n",
            "loss: 0.526795  [56/82]\n",
            "loss: 0.515861  [64/82]\n",
            "loss: 0.514599  [72/82]\n",
            "loss: 0.528938  [80/82]\n",
            "Test Error: \n",
            " Accuracy: 87.3%, Avg loss:0.008760 \n",
            "\n",
            "Best performing model captured & saved\n",
            "Epoch Execution Time :=> 166.496 sec\n",
            "Epoch 7\n",
            "-------------------------------\n",
            "loss: 0.518787  [ 0/82]\n",
            "loss: 0.507143  [ 8/82]\n",
            "loss: 0.510303  [16/82]\n",
            "loss: 0.518422  [24/82]\n",
            "loss: 0.498343  [32/82]\n",
            "loss: 0.495138  [40/82]\n",
            "loss: 0.502401  [48/82]\n",
            "loss: 0.523534  [56/82]\n",
            "loss: 0.498328  [64/82]\n",
            "loss: 0.511979  [72/82]\n",
            "loss: 0.514578  [80/82]\n",
            "Test Error: \n",
            " Accuracy: 87.3%, Avg loss:0.008658 \n",
            "\n",
            "Best performing model captured & saved\n",
            "Epoch Execution Time :=> 167.604 sec\n",
            "Epoch 8\n",
            "-------------------------------\n",
            "loss: 0.507148  [ 0/82]\n",
            "loss: 0.498272  [ 8/82]\n",
            "loss: 0.493344  [16/82]\n",
            "loss: 0.500601  [24/82]\n",
            "loss: 0.486993  [32/82]\n",
            "loss: 0.502001  [40/82]\n",
            "loss: 0.530350  [48/82]\n",
            "loss: 0.486569  [56/82]\n",
            "loss: 0.484867  [64/82]\n",
            "loss: 0.489018  [72/82]\n",
            "loss: 0.498733  [80/82]\n",
            "Test Error: \n",
            " Accuracy: 87.2%, Avg loss:0.008562 \n",
            "\n",
            "Best performing model captured & saved\n",
            "Epoch Execution Time :=> 167.767 sec\n",
            "Epoch 9\n",
            "-------------------------------\n",
            "loss: 0.497956  [ 0/82]\n",
            "loss: 0.509333  [ 8/82]\n",
            "loss: 0.496035  [16/82]\n",
            "loss: 0.503273  [24/82]\n",
            "loss: 0.497754  [32/82]\n",
            "loss: 0.482667  [40/82]\n",
            "loss: 0.483312  [48/82]\n",
            "loss: 0.503585  [56/82]\n",
            "loss: 0.501623  [64/82]\n",
            "loss: 0.510382  [72/82]\n",
            "loss: 0.474128  [80/82]\n",
            "Test Error: \n",
            " Accuracy: 87.7%, Avg loss:0.008430 \n",
            "\n",
            "Best performing model captured & saved\n",
            "Epoch Execution Time :=> 168.797 sec\n",
            "Epoch 10\n",
            "-------------------------------\n",
            "loss: 0.511894  [ 0/82]\n",
            "loss: 0.503868  [ 8/82]\n",
            "loss: 0.474227  [16/82]\n",
            "loss: 0.481582  [24/82]\n",
            "loss: 0.480050  [32/82]\n",
            "loss: 0.488914  [40/82]\n",
            "loss: 0.487496  [48/82]\n",
            "loss: 0.483827  [56/82]\n",
            "loss: 0.498279  [64/82]\n",
            "loss: 0.469620  [72/82]\n",
            "loss: 0.480872  [80/82]\n",
            "Test Error: \n",
            " Accuracy: 86.2%, Avg loss:0.008352 \n",
            "\n",
            "Best performing model captured & saved\n",
            "Epoch Execution Time :=> 167.314 sec\n",
            "Epoch 11\n",
            "-------------------------------\n",
            "loss: 0.460361  [ 0/82]\n",
            "loss: 0.484602  [ 8/82]\n",
            "loss: 0.482433  [16/82]\n",
            "loss: 0.471401  [24/82]\n",
            "loss: 0.483589  [32/82]\n",
            "loss: 0.499270  [40/82]\n",
            "loss: 0.507982  [48/82]\n",
            "loss: 0.482056  [56/82]\n",
            "loss: 0.463548  [64/82]\n",
            "loss: 0.474691  [72/82]\n",
            "loss: 0.470268  [80/82]\n",
            "Test Error: \n",
            " Accuracy: 86.2%, Avg loss:0.008269 \n",
            "\n",
            "Best performing model captured & saved\n",
            "Epoch Execution Time :=> 166.262 sec\n",
            "Epoch 12\n",
            "-------------------------------\n",
            "loss: 0.475273  [ 0/82]\n",
            "loss: 0.467105  [ 8/82]\n",
            "loss: 0.478872  [16/82]\n",
            "loss: 0.472820  [24/82]\n",
            "loss: 0.487659  [32/82]\n",
            "loss: 0.467530  [40/82]\n",
            "loss: 0.484681  [48/82]\n",
            "loss: 0.480414  [56/82]\n",
            "loss: 0.485449  [64/82]\n",
            "loss: 0.483498  [72/82]\n",
            "loss: 0.468775  [80/82]\n",
            "Test Error: \n",
            " Accuracy: 86.2%, Avg loss:0.008212 \n",
            "\n",
            "Best performing model captured & saved\n",
            "Epoch Execution Time :=> 166.079 sec\n",
            "Epoch 13\n",
            "-------------------------------\n",
            "loss: 0.455189  [ 0/82]\n",
            "loss: 0.464289  [ 8/82]\n",
            "loss: 0.475166  [16/82]\n",
            "loss: 0.450101  [24/82]\n",
            "loss: 0.468395  [32/82]\n",
            "loss: 0.440549  [40/82]\n",
            "loss: 0.460728  [48/82]\n",
            "loss: 0.473108  [56/82]\n",
            "loss: 0.462840  [64/82]\n",
            "loss: 0.455554  [72/82]\n",
            "loss: 0.460136  [80/82]\n",
            "Test Error: \n",
            " Accuracy: 85.7%, Avg loss:0.008139 \n",
            "\n",
            "Best performing model captured & saved\n",
            "Epoch Execution Time :=> 167.05 sec\n",
            "Epoch 14\n",
            "-------------------------------\n",
            "loss: 0.455876  [ 0/82]\n",
            "loss: 0.467828  [ 8/82]\n",
            "loss: 0.448670  [16/82]\n",
            "loss: 0.454323  [24/82]\n",
            "loss: 0.470101  [32/82]\n",
            "loss: 0.474323  [40/82]\n",
            "loss: 0.457424  [48/82]\n",
            "loss: 0.463025  [56/82]\n",
            "loss: 0.477031  [64/82]\n",
            "loss: 0.444384  [72/82]\n",
            "loss: 0.435985  [80/82]\n",
            "Test Error: \n",
            " Accuracy: 86.5%, Avg loss:0.008098 \n",
            "\n",
            "Best performing model captured & saved\n",
            "Epoch Execution Time :=> 167.227 sec\n",
            "Epoch 15\n",
            "-------------------------------\n",
            "loss: 0.439536  [ 0/82]\n",
            "loss: 0.442660  [ 8/82]\n",
            "loss: 0.442436  [16/82]\n",
            "loss: 0.459001  [24/82]\n",
            "loss: 0.432436  [32/82]\n",
            "loss: 0.456907  [40/82]\n",
            "loss: 0.437326  [48/82]\n",
            "loss: 0.459187  [56/82]\n",
            "loss: 0.483969  [64/82]\n",
            "loss: 0.445085  [72/82]\n",
            "loss: 0.460917  [80/82]\n",
            "Test Error: \n",
            " Accuracy: 86.2%, Avg loss:0.008025 \n",
            "\n",
            "Best performing model captured & saved\n",
            "Epoch Execution Time :=> 167.033 sec\n",
            "Epoch 16\n",
            "-------------------------------\n",
            "loss: 0.434895  [ 0/82]\n",
            "loss: 0.445707  [ 8/82]\n",
            "loss: 0.447325  [16/82]\n",
            "loss: 0.446073  [24/82]\n",
            "loss: 0.440558  [32/82]\n",
            "loss: 0.464429  [40/82]\n",
            "loss: 0.452188  [48/82]\n",
            "loss: 0.430454  [56/82]\n",
            "loss: 0.448905  [64/82]\n",
            "loss: 0.448064  [72/82]\n",
            "loss: 0.466429  [80/82]\n",
            "Test Error: \n",
            " Accuracy: 86.5%, Avg loss:0.007957 \n",
            "\n",
            "Best performing model captured & saved\n",
            "Epoch Execution Time :=> 167.392 sec\n",
            "Epoch 17\n",
            "-------------------------------\n",
            "loss: 0.441313  [ 0/82]\n",
            "loss: 0.452141  [ 8/82]\n",
            "loss: 0.450535  [16/82]\n",
            "loss: 0.464044  [24/82]\n",
            "loss: 0.434161  [32/82]\n",
            "loss: 0.423757  [40/82]\n",
            "loss: 0.447344  [48/82]\n",
            "loss: 0.439773  [56/82]\n",
            "loss: 0.433968  [64/82]\n",
            "loss: 0.446469  [72/82]\n",
            "loss: 0.469376  [80/82]\n",
            "Test Error: \n",
            " Accuracy: 86.1%, Avg loss:0.007962 \n",
            "\n",
            "Epoch Execution Time :=> 167.255 sec\n",
            "Epoch 18\n",
            "-------------------------------\n",
            "loss: 0.476531  [ 0/82]\n",
            "loss: 0.462551  [ 8/82]\n",
            "loss: 0.449012  [16/82]\n",
            "loss: 0.444248  [24/82]\n",
            "loss: 0.463450  [32/82]\n",
            "loss: 0.435369  [40/82]\n",
            "loss: 0.447654  [48/82]\n",
            "loss: 0.413061  [56/82]\n",
            "loss: 0.433097  [64/82]\n",
            "loss: 0.432847  [72/82]\n",
            "loss: 0.410731  [80/82]\n",
            "Test Error: \n",
            " Accuracy: 86.4%, Avg loss:0.007913 \n",
            "\n",
            "Best performing model captured & saved\n",
            "Epoch Execution Time :=> 166.823 sec\n",
            "Epoch 19\n",
            "-------------------------------\n",
            "loss: 0.450368  [ 0/82]\n",
            "loss: 0.438651  [ 8/82]\n",
            "loss: 0.421508  [16/82]\n",
            "loss: 0.425144  [24/82]\n",
            "loss: 0.438204  [32/82]\n",
            "loss: 0.424951  [40/82]\n",
            "loss: 0.443611  [48/82]\n",
            "loss: 0.422562  [56/82]\n",
            "loss: 0.432169  [64/82]\n",
            "loss: 0.439116  [72/82]\n",
            "loss: 0.451671  [80/82]\n",
            "Test Error: \n",
            " Accuracy: 86.9%, Avg loss:0.007849 \n",
            "\n",
            "Best performing model captured & saved\n",
            "Epoch Execution Time :=> 168.307 sec\n",
            "Epoch 20\n",
            "-------------------------------\n",
            "loss: 0.469313  [ 0/82]\n",
            "loss: 0.430544  [ 8/82]\n",
            "loss: 0.419729  [16/82]\n",
            "loss: 0.456828  [24/82]\n",
            "loss: 0.427163  [32/82]\n",
            "loss: 0.409349  [40/82]\n",
            "loss: 0.424283  [48/82]\n",
            "loss: 0.458440  [56/82]\n",
            "loss: 0.437996  [64/82]\n",
            "loss: 0.454614  [72/82]\n",
            "loss: 0.436592  [80/82]\n",
            "Test Error: \n",
            " Accuracy: 86.7%, Avg loss:0.007839 \n",
            "\n",
            "Best performing model captured & saved\n",
            "Epoch Execution Time :=> 167.096 sec\n",
            "Epoch 21\n",
            "-------------------------------\n",
            "loss: 0.428553  [ 0/82]\n",
            "loss: 0.431159  [ 8/82]\n",
            "loss: 0.407891  [16/82]\n",
            "loss: 0.412811  [24/82]\n",
            "loss: 0.425747  [32/82]\n",
            "loss: 0.423555  [40/82]\n",
            "loss: 0.400022  [48/82]\n",
            "loss: 0.435151  [56/82]\n",
            "loss: 0.430442  [64/82]\n",
            "loss: 0.427022  [72/82]\n",
            "loss: 0.446325  [80/82]\n",
            "Test Error: \n",
            " Accuracy: 86.2%, Avg loss:0.007845 \n",
            "\n",
            "Epoch Execution Time :=> 167.39 sec\n",
            "Epoch 22\n",
            "-------------------------------\n",
            "loss: 0.418368  [ 0/82]\n",
            "loss: 0.421047  [ 8/82]\n",
            "loss: 0.421791  [16/82]\n",
            "loss: 0.431609  [24/82]\n",
            "loss: 0.405100  [32/82]\n",
            "loss: 0.419836  [40/82]\n",
            "loss: 0.426578  [48/82]\n",
            "loss: 0.417693  [56/82]\n",
            "loss: 0.431356  [64/82]\n",
            "loss: 0.426281  [72/82]\n",
            "loss: 0.404022  [80/82]\n",
            "Test Error: \n",
            " Accuracy: 86.2%, Avg loss:0.007825 \n",
            "\n",
            "Best performing model captured & saved\n",
            "Epoch Execution Time :=> 167.82 sec\n",
            "Epoch 23\n",
            "-------------------------------\n",
            "loss: 0.465312  [ 0/82]\n",
            "loss: 0.421269  [ 8/82]\n",
            "loss: 0.403526  [16/82]\n",
            "loss: 0.425557  [24/82]\n",
            "loss: 0.418828  [32/82]\n",
            "loss: 0.427132  [40/82]\n",
            "loss: 0.412193  [48/82]\n",
            "loss: 0.431911  [56/82]\n",
            "loss: 0.418670  [64/82]\n",
            "loss: 0.417050  [72/82]\n",
            "loss: 0.407587  [80/82]\n",
            "Test Error: \n",
            " Accuracy: 83.8%, Avg loss:0.007879 \n",
            "\n",
            "Epoch Execution Time :=> 166.511 sec\n",
            "Epoch 24\n",
            "-------------------------------\n",
            "loss: 0.441537  [ 0/82]\n",
            "loss: 0.430543  [ 8/82]\n",
            "loss: 0.424579  [16/82]\n",
            "loss: 0.400794  [24/82]\n",
            "loss: 0.434099  [32/82]\n",
            "loss: 0.405808  [40/82]\n",
            "loss: 0.412102  [48/82]\n",
            "loss: 0.401032  [56/82]\n",
            "loss: 0.437031  [64/82]\n",
            "loss: 0.404603  [72/82]\n",
            "loss: 0.420125  [80/82]\n",
            "Test Error: \n",
            " Accuracy: 86.5%, Avg loss:0.007742 \n",
            "\n",
            "Best performing model captured & saved\n",
            "Epoch Execution Time :=> 164.483 sec\n",
            "Epoch 25\n",
            "-------------------------------\n",
            "loss: 0.396311  [ 0/82]\n",
            "loss: 0.411771  [ 8/82]\n",
            "loss: 0.409225  [16/82]\n",
            "loss: 0.415957  [24/82]\n",
            "loss: 0.434516  [32/82]\n",
            "loss: 0.429074  [40/82]\n",
            "loss: 0.420609  [48/82]\n",
            "loss: 0.445731  [56/82]\n",
            "loss: 0.428168  [64/82]\n",
            "loss: 0.394030  [72/82]\n",
            "loss: 0.403115  [80/82]\n",
            "Test Error: \n",
            " Accuracy: 86.9%, Avg loss:0.007678 \n",
            "\n",
            "Best performing model captured & saved\n",
            "Epoch Execution Time :=> 164.069 sec\n"
          ],
          "name": "stdout"
        }
      ]
    },
    {
      "cell_type": "code",
      "metadata": {
        "id": "xGPo9yMQNwAg",
        "outputId": "08e12436-4204-4bac-bd1e-8b168a42382a",
        "colab": {
          "base_uri": "https://localhost:8080/"
        }
      },
      "source": [
        "val_data = chest_xray_data('/content/data/chest_xray', 'val')\r\n",
        "val_dataloader = torch.utils.data.DataLoader(val_data)\r\n",
        "_ = test(val_dataloader, model)"
      ],
      "execution_count": 31,
      "outputs": [
        {
          "output_type": "stream",
          "text": [
            "Test Error: \n",
            " Accuracy: 62.5%, Avg loss:0.596790 \n",
            "\n"
          ],
          "name": "stdout"
        }
      ]
    },
    {
      "cell_type": "code",
      "metadata": {
        "id": "nRn4yUFbxrxs"
      },
      "source": [
        "pred = list()\r\n",
        "true = list()\r\n",
        "with torch.no_grad():\r\n",
        "  model.to(device)\r\n",
        "  for X, y in test_dataloader:\r\n",
        "    true.append(y)\r\n",
        "    y_pred = model(X.float().to(device))\r\n",
        "    pred.append(y_pred)"
      ],
      "execution_count": 32,
      "outputs": []
    },
    {
      "cell_type": "code",
      "metadata": {
        "id": "GvUg26nMyXlk"
      },
      "source": [
        "pred = np.argmax(np.array([tuple(j) for i in pred for j in i.to('cpu').numpy()]),axis=1)\r\n",
        "true = np.array([j for i in true for j in i.numpy()])"
      ],
      "execution_count": 33,
      "outputs": []
    },
    {
      "cell_type": "code",
      "metadata": {
        "id": "Nt1XT-mG0YPU",
        "colab": {
          "base_uri": "https://localhost:8080/",
          "height": 410
        },
        "outputId": "9953427f-c6ce-4833-ce31-2724e0844ec1"
      },
      "source": [
        "conf = mtr.confusion_matrix(true, pred)\r\n",
        "print(f'Precision Score : {mtr.precision_score(true, pred)*100:3f}')\r\n",
        "print(f'Recall Score : {mtr.recall_score(true, pred)*100:3f}')\r\n",
        "fig,ax = plt.subplots(figsize=(6,6))\r\n",
        "fig = sns.heatmap(conf, annot=True, fmt='.4g', xticklabels=['Normal', 'Pneumonia'],\r\n",
        "            yticklabels=['Normal', 'Pneumonia'], ax=ax, cmap='Blues')"
      ],
      "execution_count": 34,
      "outputs": [
        {
          "output_type": "stream",
          "text": [
            "Precision Score : 83.771930\n",
            "Recall Score : 97.948718\n"
          ],
          "name": "stdout"
        },
        {
          "output_type": "display_data",
          "data": {
            "image/png": "[encoded data removed]",
            "text/plain": [
              "<Figure size 432x432 with 2 Axes>"
            ]
          },
          "metadata": {
            "tags": [],
            "needs_background": "light"
          }
        }
      ]
    },
    {
      "cell_type": "code",
      "metadata": {
        "id": "S3kh9DlxPAax"
      },
      "source": [
        "for param in model.parameters():\r\n",
        "  param.requires_grad = True\r\n",
        "params = [p for p in model.parameters() if p.requires_grad]\r\n",
        "optimizer = torch.optim.SGD(params, lr=1e-3, momentum=0.7, weight_decay=0.0005)\r\n",
        "num_epochs = 10"
      ],
      "execution_count": 45,
      "outputs": []
    },
    {
      "cell_type": "code",
      "metadata": {
        "id": "pjDsin11PJww",
        "outputId": "24c9b808-6149-4261-a7a5-cfc011153951",
        "colab": {
          "base_uri": "https://localhost:8080/",
          "height": 776
        }
      },
      "source": [
        "best_model = model.state_dict()\r\n",
        "for i in range(num_epochs):\r\n",
        "  print(f\"Epoch {i+1}\\n-------------------------------\")\r\n",
        "  start_time = time.time()\r\n",
        "  train(train_dataloader, model.to(device), loss_fn, optimizer)\r\n",
        "  test_loss = test(test_dataloader, model.to(device))\r\n",
        "  if test_loss < best_loss_score:\r\n",
        "    best_loss_score = test_loss\r\n",
        "    best_model = model.state_dict()\r\n",
        "    print(\"Best performing model captured & saved\")\r\n",
        "  end_time = time.time()\r\n",
        "  print(f\"Epoch Execution Time :=> {np.round(end_time - start_time, 3)} sec\")"
      ],
      "execution_count": 46,
      "outputs": [
        {
          "output_type": "stream",
          "text": [
            "Epoch 1\n",
            "-------------------------------\n",
            "loss: 0.411856  [ 0/82]\n",
            "loss: 0.390521  [ 8/82]\n",
            "loss: 0.392098  [16/82]\n",
            "loss: 0.399520  [24/82]\n",
            "loss: 0.418372  [32/82]\n",
            "loss: 0.406580  [40/82]\n",
            "loss: 0.405945  [48/82]\n",
            "loss: 0.408586  [56/82]\n",
            "loss: 0.396429  [64/82]\n",
            "loss: 0.424746  [72/82]\n",
            "loss: 0.406363  [80/82]\n",
            "Test Error: \n",
            " Accuracy: 85.3%, Avg loss:0.007718 \n",
            "\n",
            "Epoch Execution Time :=> 166.413 sec\n",
            "Epoch 2\n",
            "-------------------------------\n",
            "loss: 0.402654  [ 0/82]\n",
            "loss: 0.405204  [ 8/82]\n"
          ],
          "name": "stdout"
        },
        {
          "output_type": "error",
          "ename": "KeyboardInterrupt",
          "evalue": "ignored",
          "traceback": [
            "\u001b[0;31m---------------------------------------------------------------------------\u001b[0m",
            "\u001b[0;31mKeyboardInterrupt\u001b[0m                         Traceback (most recent call last)",
            "\u001b[0;32m<ipython-input-46-f5cdb573373f>\u001b[0m in \u001b[0;36m<module>\u001b[0;34m()\u001b[0m\n\u001b[1;32m      3\u001b[0m   \u001b[0mprint\u001b[0m\u001b[0;34m(\u001b[0m\u001b[0;34mf\"Epoch {i+1}\\n-------------------------------\"\u001b[0m\u001b[0;34m)\u001b[0m\u001b[0;34m\u001b[0m\u001b[0;34m\u001b[0m\u001b[0m\n\u001b[1;32m      4\u001b[0m   \u001b[0mstart_time\u001b[0m \u001b[0;34m=\u001b[0m \u001b[0mtime\u001b[0m\u001b[0;34m.\u001b[0m\u001b[0mtime\u001b[0m\u001b[0;34m(\u001b[0m\u001b[0;34m)\u001b[0m\u001b[0;34m\u001b[0m\u001b[0;34m\u001b[0m\u001b[0m\n\u001b[0;32m----> 5\u001b[0;31m   \u001b[0mtrain\u001b[0m\u001b[0;34m(\u001b[0m\u001b[0mtrain_dataloader\u001b[0m\u001b[0;34m,\u001b[0m \u001b[0mmodel\u001b[0m\u001b[0;34m.\u001b[0m\u001b[0mto\u001b[0m\u001b[0;34m(\u001b[0m\u001b[0mdevice\u001b[0m\u001b[0;34m)\u001b[0m\u001b[0;34m,\u001b[0m \u001b[0mloss_fn\u001b[0m\u001b[0;34m,\u001b[0m \u001b[0moptimizer\u001b[0m\u001b[0;34m)\u001b[0m\u001b[0;34m\u001b[0m\u001b[0;34m\u001b[0m\u001b[0m\n\u001b[0m\u001b[1;32m      6\u001b[0m   \u001b[0mtest_loss\u001b[0m \u001b[0;34m=\u001b[0m \u001b[0mtest\u001b[0m\u001b[0;34m(\u001b[0m\u001b[0mtest_dataloader\u001b[0m\u001b[0;34m,\u001b[0m \u001b[0mmodel\u001b[0m\u001b[0;34m.\u001b[0m\u001b[0mto\u001b[0m\u001b[0;34m(\u001b[0m\u001b[0mdevice\u001b[0m\u001b[0;34m)\u001b[0m\u001b[0;34m)\u001b[0m\u001b[0;34m\u001b[0m\u001b[0;34m\u001b[0m\u001b[0m\n\u001b[1;32m      7\u001b[0m   \u001b[0;32mif\u001b[0m \u001b[0mtest_loss\u001b[0m \u001b[0;34m<\u001b[0m \u001b[0mbest_loss_score\u001b[0m\u001b[0;34m:\u001b[0m\u001b[0;34m\u001b[0m\u001b[0;34m\u001b[0m\u001b[0m\n",
            "\u001b[0;32m<ipython-input-9-aa3921240ed8>\u001b[0m in \u001b[0;36mtrain\u001b[0;34m(dataloader, model, loss_fn, optimizer)\u001b[0m\n\u001b[1;32m      2\u001b[0m   \u001b[0msize\u001b[0m \u001b[0;34m=\u001b[0m \u001b[0mlen\u001b[0m\u001b[0;34m(\u001b[0m\u001b[0mdataloader\u001b[0m\u001b[0;34m)\u001b[0m\u001b[0;34m\u001b[0m\u001b[0;34m\u001b[0m\u001b[0m\n\u001b[1;32m      3\u001b[0m   \u001b[0mmodel\u001b[0m\u001b[0;34m.\u001b[0m\u001b[0mtrain\u001b[0m\u001b[0;34m(\u001b[0m\u001b[0;34m)\u001b[0m\u001b[0;34m\u001b[0m\u001b[0;34m\u001b[0m\u001b[0m\n\u001b[0;32m----> 4\u001b[0;31m   \u001b[0;32mfor\u001b[0m \u001b[0mbatch\u001b[0m\u001b[0;34m,\u001b[0m \u001b[0;34m(\u001b[0m\u001b[0mX\u001b[0m\u001b[0;34m,\u001b[0m \u001b[0my\u001b[0m\u001b[0;34m)\u001b[0m \u001b[0;32min\u001b[0m \u001b[0menumerate\u001b[0m\u001b[0;34m(\u001b[0m\u001b[0mdataloader\u001b[0m\u001b[0;34m)\u001b[0m\u001b[0;34m:\u001b[0m\u001b[0;34m\u001b[0m\u001b[0;34m\u001b[0m\u001b[0m\n\u001b[0m\u001b[1;32m      5\u001b[0m     \u001b[0mX\u001b[0m\u001b[0;34m,\u001b[0m \u001b[0my\u001b[0m \u001b[0;34m=\u001b[0m \u001b[0mX\u001b[0m\u001b[0;34m.\u001b[0m\u001b[0mto\u001b[0m\u001b[0;34m(\u001b[0m\u001b[0mdevice\u001b[0m\u001b[0;34m)\u001b[0m\u001b[0;34m,\u001b[0m \u001b[0my\u001b[0m\u001b[0;34m.\u001b[0m\u001b[0mto\u001b[0m\u001b[0;34m(\u001b[0m\u001b[0mdevice\u001b[0m\u001b[0;34m)\u001b[0m\u001b[0;34m\u001b[0m\u001b[0;34m\u001b[0m\u001b[0m\n\u001b[1;32m      6\u001b[0m \u001b[0;34m\u001b[0m\u001b[0m\n",
            "\u001b[0;32m/usr/local/lib/python3.7/dist-packages/torch/utils/data/dataloader.py\u001b[0m in \u001b[0;36m__next__\u001b[0;34m(self)\u001b[0m\n\u001b[1;32m    515\u001b[0m             \u001b[0;32mif\u001b[0m \u001b[0mself\u001b[0m\u001b[0;34m.\u001b[0m\u001b[0m_sampler_iter\u001b[0m \u001b[0;32mis\u001b[0m \u001b[0;32mNone\u001b[0m\u001b[0;34m:\u001b[0m\u001b[0;34m\u001b[0m\u001b[0;34m\u001b[0m\u001b[0m\n\u001b[1;32m    516\u001b[0m                 \u001b[0mself\u001b[0m\u001b[0;34m.\u001b[0m\u001b[0m_reset\u001b[0m\u001b[0;34m(\u001b[0m\u001b[0;34m)\u001b[0m\u001b[0;34m\u001b[0m\u001b[0;34m\u001b[0m\u001b[0m\n\u001b[0;32m--> 517\u001b[0;31m             \u001b[0mdata\u001b[0m \u001b[0;34m=\u001b[0m \u001b[0mself\u001b[0m\u001b[0;34m.\u001b[0m\u001b[0m_next_data\u001b[0m\u001b[0;34m(\u001b[0m\u001b[0;34m)\u001b[0m\u001b[0;34m\u001b[0m\u001b[0;34m\u001b[0m\u001b[0m\n\u001b[0m\u001b[1;32m    518\u001b[0m             \u001b[0mself\u001b[0m\u001b[0;34m.\u001b[0m\u001b[0m_num_yielded\u001b[0m \u001b[0;34m+=\u001b[0m \u001b[0;36m1\u001b[0m\u001b[0;34m\u001b[0m\u001b[0;34m\u001b[0m\u001b[0m\n\u001b[1;32m    519\u001b[0m             \u001b[0;32mif\u001b[0m \u001b[0mself\u001b[0m\u001b[0;34m.\u001b[0m\u001b[0m_dataset_kind\u001b[0m \u001b[0;34m==\u001b[0m \u001b[0m_DatasetKind\u001b[0m\u001b[0;34m.\u001b[0m\u001b[0mIterable\u001b[0m \u001b[0;32mand\u001b[0m\u001b[0;31m \u001b[0m\u001b[0;31m\\\u001b[0m\u001b[0;34m\u001b[0m\u001b[0;34m\u001b[0m\u001b[0m\n",
            "\u001b[0;32m/usr/local/lib/python3.7/dist-packages/torch/utils/data/dataloader.py\u001b[0m in \u001b[0;36m_next_data\u001b[0;34m(self)\u001b[0m\n\u001b[1;32m    555\u001b[0m     \u001b[0;32mdef\u001b[0m \u001b[0m_next_data\u001b[0m\u001b[0;34m(\u001b[0m\u001b[0mself\u001b[0m\u001b[0;34m)\u001b[0m\u001b[0;34m:\u001b[0m\u001b[0;34m\u001b[0m\u001b[0;34m\u001b[0m\u001b[0m\n\u001b[1;32m    556\u001b[0m         \u001b[0mindex\u001b[0m \u001b[0;34m=\u001b[0m \u001b[0mself\u001b[0m\u001b[0;34m.\u001b[0m\u001b[0m_next_index\u001b[0m\u001b[0;34m(\u001b[0m\u001b[0;34m)\u001b[0m  \u001b[0;31m# may raise StopIteration\u001b[0m\u001b[0;34m\u001b[0m\u001b[0;34m\u001b[0m\u001b[0m\n\u001b[0;32m--> 557\u001b[0;31m         \u001b[0mdata\u001b[0m \u001b[0;34m=\u001b[0m \u001b[0mself\u001b[0m\u001b[0;34m.\u001b[0m\u001b[0m_dataset_fetcher\u001b[0m\u001b[0;34m.\u001b[0m\u001b[0mfetch\u001b[0m\u001b[0;34m(\u001b[0m\u001b[0mindex\u001b[0m\u001b[0;34m)\u001b[0m  \u001b[0;31m# may raise StopIteration\u001b[0m\u001b[0;34m\u001b[0m\u001b[0;34m\u001b[0m\u001b[0m\n\u001b[0m\u001b[1;32m    558\u001b[0m         \u001b[0;32mif\u001b[0m \u001b[0mself\u001b[0m\u001b[0;34m.\u001b[0m\u001b[0m_pin_memory\u001b[0m\u001b[0;34m:\u001b[0m\u001b[0;34m\u001b[0m\u001b[0;34m\u001b[0m\u001b[0m\n\u001b[1;32m    559\u001b[0m             \u001b[0mdata\u001b[0m \u001b[0;34m=\u001b[0m \u001b[0m_utils\u001b[0m\u001b[0;34m.\u001b[0m\u001b[0mpin_memory\u001b[0m\u001b[0;34m.\u001b[0m\u001b[0mpin_memory\u001b[0m\u001b[0;34m(\u001b[0m\u001b[0mdata\u001b[0m\u001b[0;34m)\u001b[0m\u001b[0;34m\u001b[0m\u001b[0;34m\u001b[0m\u001b[0m\n",
            "\u001b[0;32m/usr/local/lib/python3.7/dist-packages/torch/utils/data/_utils/fetch.py\u001b[0m in \u001b[0;36mfetch\u001b[0;34m(self, possibly_batched_index)\u001b[0m\n\u001b[1;32m     42\u001b[0m     \u001b[0;32mdef\u001b[0m \u001b[0mfetch\u001b[0m\u001b[0;34m(\u001b[0m\u001b[0mself\u001b[0m\u001b[0;34m,\u001b[0m \u001b[0mpossibly_batched_index\u001b[0m\u001b[0;34m)\u001b[0m\u001b[0;34m:\u001b[0m\u001b[0;34m\u001b[0m\u001b[0;34m\u001b[0m\u001b[0m\n\u001b[1;32m     43\u001b[0m         \u001b[0;32mif\u001b[0m \u001b[0mself\u001b[0m\u001b[0;34m.\u001b[0m\u001b[0mauto_collation\u001b[0m\u001b[0;34m:\u001b[0m\u001b[0;34m\u001b[0m\u001b[0;34m\u001b[0m\u001b[0m\n\u001b[0;32m---> 44\u001b[0;31m             \u001b[0mdata\u001b[0m \u001b[0;34m=\u001b[0m \u001b[0;34m[\u001b[0m\u001b[0mself\u001b[0m\u001b[0;34m.\u001b[0m\u001b[0mdataset\u001b[0m\u001b[0;34m[\u001b[0m\u001b[0midx\u001b[0m\u001b[0;34m]\u001b[0m \u001b[0;32mfor\u001b[0m \u001b[0midx\u001b[0m \u001b[0;32min\u001b[0m \u001b[0mpossibly_batched_index\u001b[0m\u001b[0;34m]\u001b[0m\u001b[0;34m\u001b[0m\u001b[0;34m\u001b[0m\u001b[0m\n\u001b[0m\u001b[1;32m     45\u001b[0m         \u001b[0;32melse\u001b[0m\u001b[0;34m:\u001b[0m\u001b[0;34m\u001b[0m\u001b[0;34m\u001b[0m\u001b[0m\n\u001b[1;32m     46\u001b[0m             \u001b[0mdata\u001b[0m \u001b[0;34m=\u001b[0m \u001b[0mself\u001b[0m\u001b[0;34m.\u001b[0m\u001b[0mdataset\u001b[0m\u001b[0;34m[\u001b[0m\u001b[0mpossibly_batched_index\u001b[0m\u001b[0;34m]\u001b[0m\u001b[0;34m\u001b[0m\u001b[0;34m\u001b[0m\u001b[0m\n",
            "\u001b[0;32m/usr/local/lib/python3.7/dist-packages/torch/utils/data/_utils/fetch.py\u001b[0m in \u001b[0;36m<listcomp>\u001b[0;34m(.0)\u001b[0m\n\u001b[1;32m     42\u001b[0m     \u001b[0;32mdef\u001b[0m \u001b[0mfetch\u001b[0m\u001b[0;34m(\u001b[0m\u001b[0mself\u001b[0m\u001b[0;34m,\u001b[0m \u001b[0mpossibly_batched_index\u001b[0m\u001b[0;34m)\u001b[0m\u001b[0;34m:\u001b[0m\u001b[0;34m\u001b[0m\u001b[0;34m\u001b[0m\u001b[0m\n\u001b[1;32m     43\u001b[0m         \u001b[0;32mif\u001b[0m \u001b[0mself\u001b[0m\u001b[0;34m.\u001b[0m\u001b[0mauto_collation\u001b[0m\u001b[0;34m:\u001b[0m\u001b[0;34m\u001b[0m\u001b[0;34m\u001b[0m\u001b[0m\n\u001b[0;32m---> 44\u001b[0;31m             \u001b[0mdata\u001b[0m \u001b[0;34m=\u001b[0m \u001b[0;34m[\u001b[0m\u001b[0mself\u001b[0m\u001b[0;34m.\u001b[0m\u001b[0mdataset\u001b[0m\u001b[0;34m[\u001b[0m\u001b[0midx\u001b[0m\u001b[0;34m]\u001b[0m \u001b[0;32mfor\u001b[0m \u001b[0midx\u001b[0m \u001b[0;32min\u001b[0m \u001b[0mpossibly_batched_index\u001b[0m\u001b[0;34m]\u001b[0m\u001b[0;34m\u001b[0m\u001b[0;34m\u001b[0m\u001b[0m\n\u001b[0m\u001b[1;32m     45\u001b[0m         \u001b[0;32melse\u001b[0m\u001b[0;34m:\u001b[0m\u001b[0;34m\u001b[0m\u001b[0;34m\u001b[0m\u001b[0m\n\u001b[1;32m     46\u001b[0m             \u001b[0mdata\u001b[0m \u001b[0;34m=\u001b[0m \u001b[0mself\u001b[0m\u001b[0;34m.\u001b[0m\u001b[0mdataset\u001b[0m\u001b[0;34m[\u001b[0m\u001b[0mpossibly_batched_index\u001b[0m\u001b[0;34m]\u001b[0m\u001b[0;34m\u001b[0m\u001b[0;34m\u001b[0m\u001b[0m\n",
            "\u001b[0;32m<ipython-input-5-6a34082dc968>\u001b[0m in \u001b[0;36m__getitem__\u001b[0;34m(self, idx)\u001b[0m\n\u001b[1;32m     13\u001b[0m   \u001b[0;32mdef\u001b[0m \u001b[0m__getitem__\u001b[0m\u001b[0;34m(\u001b[0m\u001b[0mself\u001b[0m\u001b[0;34m,\u001b[0m \u001b[0midx\u001b[0m\u001b[0;34m)\u001b[0m\u001b[0;34m:\u001b[0m\u001b[0;34m\u001b[0m\u001b[0;34m\u001b[0m\u001b[0m\n\u001b[1;32m     14\u001b[0m     \u001b[0mimg_path\u001b[0m \u001b[0;34m=\u001b[0m \u001b[0mos\u001b[0m\u001b[0;34m.\u001b[0m\u001b[0mpath\u001b[0m\u001b[0;34m.\u001b[0m\u001b[0mjoin\u001b[0m\u001b[0;34m(\u001b[0m\u001b[0mself\u001b[0m\u001b[0;34m.\u001b[0m\u001b[0mdata_dir\u001b[0m\u001b[0;34m,\u001b[0m \u001b[0mself\u001b[0m\u001b[0;34m.\u001b[0m\u001b[0mimgs\u001b[0m\u001b[0;34m[\u001b[0m\u001b[0midx\u001b[0m\u001b[0;34m]\u001b[0m\u001b[0;34m[\u001b[0m\u001b[0;36m1\u001b[0m\u001b[0;34m]\u001b[0m\u001b[0;34m,\u001b[0m \u001b[0mself\u001b[0m\u001b[0;34m.\u001b[0m\u001b[0mimgs\u001b[0m\u001b[0;34m[\u001b[0m\u001b[0midx\u001b[0m\u001b[0;34m]\u001b[0m\u001b[0;34m[\u001b[0m\u001b[0;36m0\u001b[0m\u001b[0;34m]\u001b[0m\u001b[0;34m)\u001b[0m\u001b[0;34m\u001b[0m\u001b[0;34m\u001b[0m\u001b[0m\n\u001b[0;32m---> 15\u001b[0;31m     \u001b[0mimg\u001b[0m \u001b[0;34m=\u001b[0m \u001b[0mImage\u001b[0m\u001b[0;34m.\u001b[0m\u001b[0mopen\u001b[0m\u001b[0;34m(\u001b[0m\u001b[0mimg_path\u001b[0m\u001b[0;34m)\u001b[0m\u001b[0;34m.\u001b[0m\u001b[0mconvert\u001b[0m\u001b[0;34m(\u001b[0m\u001b[0;34m'RGB'\u001b[0m\u001b[0;34m)\u001b[0m\u001b[0;34m.\u001b[0m\u001b[0mresize\u001b[0m\u001b[0;34m(\u001b[0m\u001b[0;34m(\u001b[0m\u001b[0;36m448\u001b[0m\u001b[0;34m,\u001b[0m \u001b[0;36m448\u001b[0m\u001b[0;34m)\u001b[0m\u001b[0;34m)\u001b[0m\u001b[0;34m\u001b[0m\u001b[0;34m\u001b[0m\u001b[0m\n\u001b[0m\u001b[1;32m     16\u001b[0m     \u001b[0mimg\u001b[0m \u001b[0;34m=\u001b[0m \u001b[0mnp\u001b[0m\u001b[0;34m.\u001b[0m\u001b[0mmoveaxis\u001b[0m\u001b[0;34m(\u001b[0m\u001b[0mnp\u001b[0m\u001b[0;34m.\u001b[0m\u001b[0marray\u001b[0m\u001b[0;34m(\u001b[0m\u001b[0mimg\u001b[0m\u001b[0;34m)\u001b[0m\u001b[0;34m/\u001b[0m\u001b[0;36m255.0\u001b[0m\u001b[0;34m,\u001b[0m \u001b[0;34m-\u001b[0m\u001b[0;36m1\u001b[0m\u001b[0;34m,\u001b[0m \u001b[0;36m0\u001b[0m\u001b[0;34m)\u001b[0m\u001b[0;34m\u001b[0m\u001b[0;34m\u001b[0m\u001b[0m\n\u001b[1;32m     17\u001b[0m     \u001b[0mlabel\u001b[0m \u001b[0;34m=\u001b[0m \u001b[0;36m0\u001b[0m \u001b[0;32mif\u001b[0m \u001b[0mself\u001b[0m\u001b[0;34m.\u001b[0m\u001b[0mimgs\u001b[0m\u001b[0;34m[\u001b[0m\u001b[0midx\u001b[0m\u001b[0;34m]\u001b[0m\u001b[0;34m[\u001b[0m\u001b[0;36m1\u001b[0m\u001b[0;34m]\u001b[0m \u001b[0;34m==\u001b[0m \u001b[0;34m'NORMAL'\u001b[0m \u001b[0;32melse\u001b[0m \u001b[0;36m1\u001b[0m\u001b[0;34m\u001b[0m\u001b[0;34m\u001b[0m\u001b[0m\n",
            "\u001b[0;32m/usr/local/lib/python3.7/dist-packages/PIL/Image.py\u001b[0m in \u001b[0;36mconvert\u001b[0;34m(self, mode, matrix, dither, palette, colors)\u001b[0m\n\u001b[1;32m    871\u001b[0m         \"\"\"\n\u001b[1;32m    872\u001b[0m \u001b[0;34m\u001b[0m\u001b[0m\n\u001b[0;32m--> 873\u001b[0;31m         \u001b[0mself\u001b[0m\u001b[0;34m.\u001b[0m\u001b[0mload\u001b[0m\u001b[0;34m(\u001b[0m\u001b[0;34m)\u001b[0m\u001b[0;34m\u001b[0m\u001b[0;34m\u001b[0m\u001b[0m\n\u001b[0m\u001b[1;32m    874\u001b[0m \u001b[0;34m\u001b[0m\u001b[0m\n\u001b[1;32m    875\u001b[0m         \u001b[0;32mif\u001b[0m \u001b[0;32mnot\u001b[0m \u001b[0mmode\u001b[0m \u001b[0;32mand\u001b[0m \u001b[0mself\u001b[0m\u001b[0;34m.\u001b[0m\u001b[0mmode\u001b[0m \u001b[0;34m==\u001b[0m \u001b[0;34m\"P\"\u001b[0m\u001b[0;34m:\u001b[0m\u001b[0;34m\u001b[0m\u001b[0;34m\u001b[0m\u001b[0m\n",
            "\u001b[0;32m/usr/local/lib/python3.7/dist-packages/PIL/ImageFile.py\u001b[0m in \u001b[0;36mload\u001b[0;34m(self)\u001b[0m\n\u001b[1;32m    249\u001b[0m \u001b[0;34m\u001b[0m\u001b[0m\n\u001b[1;32m    250\u001b[0m                             \u001b[0mb\u001b[0m \u001b[0;34m=\u001b[0m \u001b[0mb\u001b[0m \u001b[0;34m+\u001b[0m \u001b[0ms\u001b[0m\u001b[0;34m\u001b[0m\u001b[0;34m\u001b[0m\u001b[0m\n\u001b[0;32m--> 251\u001b[0;31m                             \u001b[0mn\u001b[0m\u001b[0;34m,\u001b[0m \u001b[0merr_code\u001b[0m \u001b[0;34m=\u001b[0m \u001b[0mdecoder\u001b[0m\u001b[0;34m.\u001b[0m\u001b[0mdecode\u001b[0m\u001b[0;34m(\u001b[0m\u001b[0mb\u001b[0m\u001b[0;34m)\u001b[0m\u001b[0;34m\u001b[0m\u001b[0;34m\u001b[0m\u001b[0m\n\u001b[0m\u001b[1;32m    252\u001b[0m                             \u001b[0;32mif\u001b[0m \u001b[0mn\u001b[0m \u001b[0;34m<\u001b[0m \u001b[0;36m0\u001b[0m\u001b[0;34m:\u001b[0m\u001b[0;34m\u001b[0m\u001b[0;34m\u001b[0m\u001b[0m\n\u001b[1;32m    253\u001b[0m                                 \u001b[0;32mbreak\u001b[0m\u001b[0;34m\u001b[0m\u001b[0;34m\u001b[0m\u001b[0m\n",
            "\u001b[0;31mKeyboardInterrupt\u001b[0m: "
          ]
        }
      ]
    },
    {
      "cell_type": "code",
      "metadata": {
        "id": "O8L3XjfoVzeS",
        "outputId": "2eb12867-6fac-4739-ebe9-bb0d6c9c4eed",
        "colab": {
          "base_uri": "https://localhost:8080/"
        }
      },
      "source": [
        "model.load_state_dict(best_model)"
      ],
      "execution_count": 47,
      "outputs": [
        {
          "output_type": "execute_result",
          "data": {
            "text/plain": [
              "<All keys matched successfully>"
            ]
          },
          "metadata": {
            "tags": []
          },
          "execution_count": 47
        }
      ]
    },
    {
      "cell_type": "code",
      "metadata": {
        "id": "YHdZiAVR6xqw",
        "outputId": "7ba7b338-ee10-4109-b0b6-fdb2290e5d0a",
        "colab": {
          "base_uri": "https://localhost:8080/",
          "height": 410
        }
      },
      "source": [
        "pred = list()\r\n",
        "true = list()\r\n",
        "with torch.no_grad():\r\n",
        "  model.to(device)\r\n",
        "  for X, y in test_dataloader:\r\n",
        "    true.append(y)\r\n",
        "    y_pred = model(X.float().to(device))\r\n",
        "    pred.append(y_pred)\r\n",
        "\r\n",
        "pred = np.argmax(np.array([tuple(j) for i in pred for j in i.to('cpu').numpy()]),axis=1)\r\n",
        "true = np.array([j for i in true for j in i.numpy()])\r\n",
        "\r\n",
        "conf = mtr.confusion_matrix(true, pred)\r\n",
        "print(f'Precision Score : {mtr.precision_score(true, pred)*100:3f}')\r\n",
        "print(f'Recall Score : {mtr.recall_score(true, pred)*100:3f}')\r\n",
        "fig,ax = plt.subplots(figsize=(6,6))\r\n",
        "fig = sns.heatmap(conf, annot=True, fmt='.4g', xticklabels=['Normal', 'Pneumonia'],\r\n",
        "            yticklabels=['Normal', 'Pneumonia'], ax=ax, cmap='Blues')"
      ],
      "execution_count": 48,
      "outputs": [
        {
          "output_type": "stream",
          "text": [
            "Precision Score : 83.956044\n",
            "Recall Score : 97.948718\n"
          ],
          "name": "stdout"
        },
        {
          "output_type": "display_data",
          "data": {
            "image/png": "[encoded data removed]",
            "text/plain": [
              "<Figure size 432x432 with 2 Axes>"
            ]
          },
          "metadata": {
            "tags": [],
            "needs_background": "light"
          }
        }
      ]
    },
    {
      "cell_type": "code",
      "metadata": {
        "id": "i6MfzIub7ZXr"
      },
      "source": [
        ""
      ],
      "execution_count": null,
      "outputs": []
    }
  ]
}