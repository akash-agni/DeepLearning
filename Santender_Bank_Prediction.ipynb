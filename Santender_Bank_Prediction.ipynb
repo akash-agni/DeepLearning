{
  "nbformat": 4,
  "nbformat_minor": 0,
  "metadata": {
    "colab": {
      "name": "Santender_Bank_Prediction.ipynb",
      "provenance": [],
      "authorship_tag": "ABX9TyNDlEVAXGzHjX5F9/3lzzsS",
      "include_colab_link": true
    },
    "kernelspec": {
      "name": "python3",
      "display_name": "Python 3"
    },
    "accelerator": "GPU"
  },
  "cells": [
    {
      "cell_type": "markdown",
      "metadata": {
        "id": "view-in-github",
        "colab_type": "text"
      },
      "source": [
        "<a href=\"https://colab.research.google.com/github/akash-agni/DeepLearning/blob/main/Santender_Bank_Prediction.ipynb\" target=\"_parent\"><img src=\"https://colab.research.google.com/assets/colab-badge.svg\" alt=\"Open In Colab\"/></a>"
      ]
    },
    {
      "cell_type": "markdown",
      "metadata": {
        "id": "G0yrqoNUYkS6"
      },
      "source": [
        "# Using Deep Learning to Solve Kaggles Santander Customer Transaction Prediction Challenge."
      ]
    },
    {
      "cell_type": "code",
      "metadata": {
        "id": "XY2mpY76F5wn"
      },
      "source": [
        "! pip install -q kaggle\r\n",
        "! mkdir ~/.kaggle\r\n",
        "! cp kaggle.json ~/.kaggle/\r\n",
        "! chmod 600 ~/.kaggle/kaggle.json"
      ],
      "execution_count": 1,
      "outputs": []
    },
    {
      "cell_type": "code",
      "metadata": {
        "colab": {
          "base_uri": "https://localhost:8080/"
        },
        "id": "GNXxlIEkHtQ2",
        "outputId": "be03a004-6898-4000-ca6b-80afe914b27a"
      },
      "source": [
        "! kaggle competitions download -c santander-customer-transaction-prediction"
      ],
      "execution_count": 2,
      "outputs": [
        {
          "output_type": "stream",
          "text": [
            "Warning: Looks like you're using an outdated API Version, please consider updating (server 1.5.10 / client 1.5.4)\n",
            "Downloading train.csv.zip to /content\n",
            " 98% 122M/125M [00:00<00:00, 114MB/s]  \n",
            "100% 125M/125M [00:00<00:00, 160MB/s]\n",
            "Downloading sample_submission.csv.zip to /content\n",
            "  0% 0.00/462k [00:00<?, ?B/s]\n",
            "100% 462k/462k [00:00<00:00, 151MB/s]\n",
            "Downloading test.csv.zip to /content\n",
            " 97% 121M/125M [00:01<00:00, 67.1MB/s]\n",
            "100% 125M/125M [00:01<00:00, 95.7MB/s]\n"
          ],
          "name": "stdout"
        }
      ]
    },
    {
      "cell_type": "code",
      "metadata": {
        "colab": {
          "base_uri": "https://localhost:8080/"
        },
        "id": "zB64QjuwIc1X",
        "outputId": "f7839f06-0a5b-4b81-ee33-9cd686af6ce1"
      },
      "source": [
        "! unzip train.csv.zip\r\n",
        "! unzip test.csv.zip\r\n",
        "! unzip sample_submission.csv.zip\r\n",
        "! rm -rf train.csv.zip test.csv.zip sample_submission.csv.zip"
      ],
      "execution_count": 3,
      "outputs": [
        {
          "output_type": "stream",
          "text": [
            "Archive:  train.csv.zip\n",
            "  inflating: train.csv               \n",
            "Archive:  test.csv.zip\n",
            "  inflating: test.csv                \n",
            "Archive:  sample_submission.csv.zip\n",
            "  inflating: sample_submission.csv   \n"
          ],
          "name": "stdout"
        }
      ]
    },
    {
      "cell_type": "code",
      "metadata": {
        "colab": {
          "base_uri": "https://localhost:8080/"
        },
        "id": "tTReJBVEH0Zb",
        "outputId": "9496b9ec-f6e4-4852-a3e8-e227327d7dd0"
      },
      "source": [
        "import pandas as pd\r\n",
        "import numpy as np\r\n",
        "import matplotlib.pyplot as plt\r\n",
        "import seaborn as sns\r\n",
        "from scipy.stats import skew, kurtosis\r\n",
        "! pip install -U imbalanced-learn\r\n",
        "import imblearn"
      ],
      "execution_count": 1,
      "outputs": [
        {
          "output_type": "stream",
          "text": [
            "Requirement already up-to-date: imbalanced-learn in /usr/local/lib/python3.6/dist-packages (0.7.0)\n",
            "Requirement already satisfied, skipping upgrade: scipy>=0.19.1 in /usr/local/lib/python3.6/dist-packages (from imbalanced-learn) (1.4.1)\n",
            "Requirement already satisfied, skipping upgrade: numpy>=1.13.3 in /usr/local/lib/python3.6/dist-packages (from imbalanced-learn) (1.19.5)\n",
            "Requirement already satisfied, skipping upgrade: scikit-learn>=0.23 in /usr/local/lib/python3.6/dist-packages (from imbalanced-learn) (0.24.1)\n",
            "Requirement already satisfied, skipping upgrade: joblib>=0.11 in /usr/local/lib/python3.6/dist-packages (from imbalanced-learn) (1.0.0)\n",
            "Requirement already satisfied, skipping upgrade: threadpoolctl>=2.0.0 in /usr/local/lib/python3.6/dist-packages (from scikit-learn>=0.23->imbalanced-learn) (2.1.0)\n"
          ],
          "name": "stdout"
        }
      ]
    },
    {
      "cell_type": "code",
      "metadata": {
        "id": "u8UGM9YCOECy"
      },
      "source": [
        "import tensorflow as tf\r\n",
        "from sklearn.model_selection import train_test_split\r\n",
        "from sklearn.preprocessing import StandardScaler\r\n",
        "from sklearn.pipeline import Pipeline\r\n",
        "from sklearn import metrics"
      ],
      "execution_count": 2,
      "outputs": []
    },
    {
      "cell_type": "code",
      "metadata": {
        "colab": {
          "base_uri": "https://localhost:8080/",
          "height": 208
        },
        "id": "SAOh-miRIHk7",
        "outputId": "1593d1d3-9610-4320-af0c-4fe8861edb52"
      },
      "source": [
        "df = pd.read_csv('train.csv')\r\n",
        "print(f'Shape of Training Data is : {df.shape[0]} rows and {df.shape[1]} columns')\r\n",
        "df.sample(3)"
      ],
      "execution_count": 3,
      "outputs": [
        {
          "output_type": "stream",
          "text": [
            "Shape of Training Data is : 200000 rows and 202 columns\n"
          ],
          "name": "stdout"
        },
        {
          "output_type": "execute_result",
          "data": {
            "text/html": [
              "<div>\n",
              "<style scoped>\n",
              "    .dataframe tbody tr th:only-of-type {\n",
              "        vertical-align: middle;\n",
              "    }\n",
              "\n",
              "    .dataframe tbody tr th {\n",
              "        vertical-align: top;\n",
              "    }\n",
              "\n",
              "    .dataframe thead th {\n",
              "        text-align: right;\n",
              "    }\n",
              "</style>\n",
              "<table border=\"1\" class=\"dataframe\">\n",
              "  <thead>\n",
              "    <tr style=\"text-align: right;\">\n",
              "      <th></th>\n",
              "      <th>ID_code</th>\n",
              "      <th>target</th>\n",
              "      <th>var_0</th>\n",
              "      <th>var_1</th>\n",
              "      <th>var_2</th>\n",
              "      <th>var_3</th>\n",
              "      <th>var_4</th>\n",
              "      <th>var_5</th>\n",
              "      <th>var_6</th>\n",
              "      <th>var_7</th>\n",
              "      <th>var_8</th>\n",
              "      <th>var_9</th>\n",
              "      <th>var_10</th>\n",
              "      <th>var_11</th>\n",
              "      <th>var_12</th>\n",
              "      <th>var_13</th>\n",
              "      <th>var_14</th>\n",
              "      <th>var_15</th>\n",
              "      <th>var_16</th>\n",
              "      <th>var_17</th>\n",
              "      <th>var_18</th>\n",
              "      <th>var_19</th>\n",
              "      <th>var_20</th>\n",
              "      <th>var_21</th>\n",
              "      <th>var_22</th>\n",
              "      <th>var_23</th>\n",
              "      <th>var_24</th>\n",
              "      <th>var_25</th>\n",
              "      <th>var_26</th>\n",
              "      <th>var_27</th>\n",
              "      <th>var_28</th>\n",
              "      <th>var_29</th>\n",
              "      <th>var_30</th>\n",
              "      <th>var_31</th>\n",
              "      <th>var_32</th>\n",
              "      <th>var_33</th>\n",
              "      <th>var_34</th>\n",
              "      <th>var_35</th>\n",
              "      <th>var_36</th>\n",
              "      <th>var_37</th>\n",
              "      <th>...</th>\n",
              "      <th>var_160</th>\n",
              "      <th>var_161</th>\n",
              "      <th>var_162</th>\n",
              "      <th>var_163</th>\n",
              "      <th>var_164</th>\n",
              "      <th>var_165</th>\n",
              "      <th>var_166</th>\n",
              "      <th>var_167</th>\n",
              "      <th>var_168</th>\n",
              "      <th>var_169</th>\n",
              "      <th>var_170</th>\n",
              "      <th>var_171</th>\n",
              "      <th>var_172</th>\n",
              "      <th>var_173</th>\n",
              "      <th>var_174</th>\n",
              "      <th>var_175</th>\n",
              "      <th>var_176</th>\n",
              "      <th>var_177</th>\n",
              "      <th>var_178</th>\n",
              "      <th>var_179</th>\n",
              "      <th>var_180</th>\n",
              "      <th>var_181</th>\n",
              "      <th>var_182</th>\n",
              "      <th>var_183</th>\n",
              "      <th>var_184</th>\n",
              "      <th>var_185</th>\n",
              "      <th>var_186</th>\n",
              "      <th>var_187</th>\n",
              "      <th>var_188</th>\n",
              "      <th>var_189</th>\n",
              "      <th>var_190</th>\n",
              "      <th>var_191</th>\n",
              "      <th>var_192</th>\n",
              "      <th>var_193</th>\n",
              "      <th>var_194</th>\n",
              "      <th>var_195</th>\n",
              "      <th>var_196</th>\n",
              "      <th>var_197</th>\n",
              "      <th>var_198</th>\n",
              "      <th>var_199</th>\n",
              "    </tr>\n",
              "  </thead>\n",
              "  <tbody>\n",
              "    <tr>\n",
              "      <th>194279</th>\n",
              "      <td>train_194279</td>\n",
              "      <td>0</td>\n",
              "      <td>12.7336</td>\n",
              "      <td>5.6785</td>\n",
              "      <td>9.6444</td>\n",
              "      <td>3.5443</td>\n",
              "      <td>10.8726</td>\n",
              "      <td>6.9868</td>\n",
              "      <td>6.0555</td>\n",
              "      <td>14.6237</td>\n",
              "      <td>3.2273</td>\n",
              "      <td>5.9184</td>\n",
              "      <td>10.1450</td>\n",
              "      <td>-0.0837</td>\n",
              "      <td>14.1803</td>\n",
              "      <td>14.7844</td>\n",
              "      <td>11.4037</td>\n",
              "      <td>14.1362</td>\n",
              "      <td>10.6927</td>\n",
              "      <td>-10.6313</td>\n",
              "      <td>4.4807</td>\n",
              "      <td>3.6263</td>\n",
              "      <td>5.2659</td>\n",
              "      <td>9.9420</td>\n",
              "      <td>2.5551</td>\n",
              "      <td>2.5048</td>\n",
              "      <td>6.7803</td>\n",
              "      <td>13.4929</td>\n",
              "      <td>-0.1684</td>\n",
              "      <td>0.8832</td>\n",
              "      <td>4.9559</td>\n",
              "      <td>7.2574</td>\n",
              "      <td>-11.8735</td>\n",
              "      <td>12.1107</td>\n",
              "      <td>-3.1692</td>\n",
              "      <td>15.6149</td>\n",
              "      <td>11.0021</td>\n",
              "      <td>0.3123</td>\n",
              "      <td>0.2918</td>\n",
              "      <td>5.5476</td>\n",
              "      <td>...</td>\n",
              "      <td>26.0601</td>\n",
              "      <td>5.7663</td>\n",
              "      <td>7.1263</td>\n",
              "      <td>8.6879</td>\n",
              "      <td>-7.3538</td>\n",
              "      <td>23.5701</td>\n",
              "      <td>2.7024</td>\n",
              "      <td>6.7945</td>\n",
              "      <td>2.7222</td>\n",
              "      <td>5.7090</td>\n",
              "      <td>7.4265</td>\n",
              "      <td>-5.8159</td>\n",
              "      <td>28.5636</td>\n",
              "      <td>-9.0880</td>\n",
              "      <td>28.6919</td>\n",
              "      <td>6.3112</td>\n",
              "      <td>8.1081</td>\n",
              "      <td>14.1107</td>\n",
              "      <td>-11.1171</td>\n",
              "      <td>0.7194</td>\n",
              "      <td>-5.8565</td>\n",
              "      <td>9.2718</td>\n",
              "      <td>7.2341</td>\n",
              "      <td>17.3453</td>\n",
              "      <td>8.4219</td>\n",
              "      <td>-4.1069</td>\n",
              "      <td>6.9273</td>\n",
              "      <td>-0.8759</td>\n",
              "      <td>14.7900</td>\n",
              "      <td>0.5588</td>\n",
              "      <td>6.1775</td>\n",
              "      <td>6.4155</td>\n",
              "      <td>3.2426</td>\n",
              "      <td>3.5834</td>\n",
              "      <td>16.4015</td>\n",
              "      <td>1.1838</td>\n",
              "      <td>7.0001</td>\n",
              "      <td>8.4827</td>\n",
              "      <td>12.3842</td>\n",
              "      <td>-13.2745</td>\n",
              "    </tr>\n",
              "    <tr>\n",
              "      <th>195958</th>\n",
              "      <td>train_195958</td>\n",
              "      <td>0</td>\n",
              "      <td>8.8256</td>\n",
              "      <td>-4.9503</td>\n",
              "      <td>12.1827</td>\n",
              "      <td>6.1415</td>\n",
              "      <td>11.8065</td>\n",
              "      <td>-2.4392</td>\n",
              "      <td>4.5887</td>\n",
              "      <td>17.6741</td>\n",
              "      <td>2.4698</td>\n",
              "      <td>6.4447</td>\n",
              "      <td>3.9478</td>\n",
              "      <td>4.0030</td>\n",
              "      <td>13.9825</td>\n",
              "      <td>8.6444</td>\n",
              "      <td>3.9380</td>\n",
              "      <td>13.9095</td>\n",
              "      <td>7.7957</td>\n",
              "      <td>-3.3685</td>\n",
              "      <td>4.5432</td>\n",
              "      <td>13.6711</td>\n",
              "      <td>9.7612</td>\n",
              "      <td>11.4495</td>\n",
              "      <td>2.2376</td>\n",
              "      <td>3.8459</td>\n",
              "      <td>8.8261</td>\n",
              "      <td>14.1251</td>\n",
              "      <td>-12.4376</td>\n",
              "      <td>-2.1760</td>\n",
              "      <td>5.9241</td>\n",
              "      <td>9.3865</td>\n",
              "      <td>-5.4714</td>\n",
              "      <td>10.8203</td>\n",
              "      <td>-0.4009</td>\n",
              "      <td>11.1917</td>\n",
              "      <td>10.9670</td>\n",
              "      <td>8.8961</td>\n",
              "      <td>3.1259</td>\n",
              "      <td>4.0398</td>\n",
              "      <td>...</td>\n",
              "      <td>24.3294</td>\n",
              "      <td>5.4203</td>\n",
              "      <td>4.4665</td>\n",
              "      <td>10.1938</td>\n",
              "      <td>-4.7221</td>\n",
              "      <td>17.1971</td>\n",
              "      <td>3.6062</td>\n",
              "      <td>-11.3350</td>\n",
              "      <td>1.8893</td>\n",
              "      <td>5.7102</td>\n",
              "      <td>-2.7801</td>\n",
              "      <td>4.5127</td>\n",
              "      <td>16.0758</td>\n",
              "      <td>-8.6435</td>\n",
              "      <td>17.2618</td>\n",
              "      <td>14.1105</td>\n",
              "      <td>4.2752</td>\n",
              "      <td>7.8918</td>\n",
              "      <td>0.5448</td>\n",
              "      <td>3.1175</td>\n",
              "      <td>-1.7723</td>\n",
              "      <td>10.0144</td>\n",
              "      <td>0.3148</td>\n",
              "      <td>6.2392</td>\n",
              "      <td>25.5099</td>\n",
              "      <td>-3.3951</td>\n",
              "      <td>4.8750</td>\n",
              "      <td>0.2329</td>\n",
              "      <td>19.3623</td>\n",
              "      <td>1.6037</td>\n",
              "      <td>-6.0863</td>\n",
              "      <td>4.9344</td>\n",
              "      <td>1.9741</td>\n",
              "      <td>8.2986</td>\n",
              "      <td>19.8533</td>\n",
              "      <td>-0.5018</td>\n",
              "      <td>0.8405</td>\n",
              "      <td>9.3046</td>\n",
              "      <td>14.3395</td>\n",
              "      <td>-3.3651</td>\n",
              "    </tr>\n",
              "    <tr>\n",
              "      <th>9916</th>\n",
              "      <td>train_9916</td>\n",
              "      <td>0</td>\n",
              "      <td>12.4300</td>\n",
              "      <td>-5.0272</td>\n",
              "      <td>5.6638</td>\n",
              "      <td>6.6510</td>\n",
              "      <td>11.3930</td>\n",
              "      <td>-15.7812</td>\n",
              "      <td>4.9319</td>\n",
              "      <td>12.2096</td>\n",
              "      <td>3.2162</td>\n",
              "      <td>8.9487</td>\n",
              "      <td>0.3413</td>\n",
              "      <td>-6.6214</td>\n",
              "      <td>13.7430</td>\n",
              "      <td>6.6019</td>\n",
              "      <td>7.6777</td>\n",
              "      <td>14.0603</td>\n",
              "      <td>10.0035</td>\n",
              "      <td>-3.4440</td>\n",
              "      <td>24.0936</td>\n",
              "      <td>12.5805</td>\n",
              "      <td>6.2361</td>\n",
              "      <td>16.9948</td>\n",
              "      <td>5.2171</td>\n",
              "      <td>3.0820</td>\n",
              "      <td>17.4561</td>\n",
              "      <td>14.1902</td>\n",
              "      <td>-15.7814</td>\n",
              "      <td>-0.6541</td>\n",
              "      <td>4.5570</td>\n",
              "      <td>6.9367</td>\n",
              "      <td>-25.2546</td>\n",
              "      <td>11.4057</td>\n",
              "      <td>-3.1365</td>\n",
              "      <td>10.3710</td>\n",
              "      <td>12.0047</td>\n",
              "      <td>5.2172</td>\n",
              "      <td>1.0738</td>\n",
              "      <td>2.8327</td>\n",
              "      <td>...</td>\n",
              "      <td>14.9348</td>\n",
              "      <td>5.5112</td>\n",
              "      <td>6.8321</td>\n",
              "      <td>3.9664</td>\n",
              "      <td>-11.5367</td>\n",
              "      <td>19.7466</td>\n",
              "      <td>3.3245</td>\n",
              "      <td>3.9413</td>\n",
              "      <td>1.7319</td>\n",
              "      <td>4.9115</td>\n",
              "      <td>0.2505</td>\n",
              "      <td>-9.4744</td>\n",
              "      <td>23.6352</td>\n",
              "      <td>0.2748</td>\n",
              "      <td>23.6441</td>\n",
              "      <td>9.3181</td>\n",
              "      <td>-3.4475</td>\n",
              "      <td>11.1337</td>\n",
              "      <td>6.5552</td>\n",
              "      <td>3.4878</td>\n",
              "      <td>2.8956</td>\n",
              "      <td>9.6085</td>\n",
              "      <td>-2.4940</td>\n",
              "      <td>9.7524</td>\n",
              "      <td>27.6334</td>\n",
              "      <td>-0.0004</td>\n",
              "      <td>5.7314</td>\n",
              "      <td>-30.9970</td>\n",
              "      <td>12.8739</td>\n",
              "      <td>2.2234</td>\n",
              "      <td>5.3051</td>\n",
              "      <td>3.5276</td>\n",
              "      <td>0.3237</td>\n",
              "      <td>6.3881</td>\n",
              "      <td>22.6581</td>\n",
              "      <td>-0.3000</td>\n",
              "      <td>4.1368</td>\n",
              "      <td>8.1411</td>\n",
              "      <td>17.5105</td>\n",
              "      <td>17.6953</td>\n",
              "    </tr>\n",
              "  </tbody>\n",
              "</table>\n",
              "<p>3 rows × 202 columns</p>\n",
              "</div>"
            ],
            "text/plain": [
              "             ID_code  target    var_0  ...  var_197  var_198  var_199\n",
              "194279  train_194279       0  12.7336  ...   8.4827  12.3842 -13.2745\n",
              "195958  train_195958       0   8.8256  ...   9.3046  14.3395  -3.3651\n",
              "9916      train_9916       0  12.4300  ...   8.1411  17.5105  17.6953\n",
              "\n",
              "[3 rows x 202 columns]"
            ]
          },
          "metadata": {
            "tags": []
          },
          "execution_count": 3
        }
      ]
    },
    {
      "cell_type": "code",
      "metadata": {
        "id": "fH1qyvG8IZk-"
      },
      "source": [
        "mean = list()\r\n",
        "std = list()\r\n",
        "skewness = list()\r\n",
        "kurt = list()\r\n",
        "for var in df.drop(['ID_code', 'target'], axis=1).columns:\r\n",
        "  mean.append(np.mean(df[var]))\r\n",
        "  std.append(np.std(df[var]))\r\n",
        "  skewness.append(skew(df[var]))\r\n",
        "  kurt.append(kurtosis(df[var]))"
      ],
      "execution_count": 4,
      "outputs": []
    },
    {
      "cell_type": "code",
      "metadata": {
        "colab": {
          "base_uri": "https://localhost:8080/",
          "height": 483
        },
        "id": "soD7YPh5Jmlr",
        "outputId": "783df0ef-de6d-4ff6-b876-8fa3968da90c"
      },
      "source": [
        "fig, ax = plt.subplots(nrows = 2, ncols = 2, figsize = (12, 8))\r\n",
        "fig = sns.kdeplot(mean, ax=ax[0][0], shade=True, label=\"Distribution of Mean\")\r\n",
        "fig = sns.kdeplot(std, ax=ax[0][1], shade=True, label=\"Distribution of Standard Variance\")\r\n",
        "fig = sns.kdeplot(skewness, ax=ax[1][0],shade=True, label=\"Distribution of Skewness\")\r\n",
        "fig = sns.kdeplot(kurt, ax=ax[1][1],shade=True, label=\"Distribution of Kurtosis\")"
      ],
      "execution_count": 5,
      "outputs": [
        {
          "output_type": "display_data",
          "data": {
            "image/png": "[encoded data removed]",
            "text/plain": [
              "<Figure size 864x576 with 4 Axes>"
            ]
          },
          "metadata": {
            "tags": [],
            "needs_background": "light"
          }
        }
      ]
    },
    {
      "cell_type": "code",
      "metadata": {
        "id": "s1DD9YwOnj8_"
      },
      "source": [
        "df['mean'] = np.mean(df.drop(['ID_code','target'], axis=1), axis=1)\r\n",
        "df['median'] = np.median(df.drop(['ID_code','target'], axis=1), axis=1)\r\n",
        "df['max'] = np.max(df.drop(['ID_code','target'], axis=1), axis=1)\r\n",
        "df['min'] = np.min(df.drop(['ID_code','target'], axis=1), axis=1)\r\n",
        "df['std'] = np.std(df.drop(['ID_code','target'], axis=1), axis=1)\r\n",
        "df['skewness'] = skew(df.drop(['ID_code','target'], axis=1), axis=1)\r\n",
        "df['kurtosis'] = kurtosis(df.drop(['ID_code','target'], axis=1), axis=1)"
      ],
      "execution_count": 6,
      "outputs": []
    },
    {
      "cell_type": "code",
      "metadata": {
        "colab": {
          "base_uri": "https://localhost:8080/",
          "height": 204
        },
        "id": "rfLh2jVeoBwB",
        "outputId": "c1b0e457-744b-4a06-9030-0202783d8792"
      },
      "source": [
        "df.iloc[:,202:].head()"
      ],
      "execution_count": 7,
      "outputs": [
        {
          "output_type": "execute_result",
          "data": {
            "text/html": [
              "<div>\n",
              "<style scoped>\n",
              "    .dataframe tbody tr th:only-of-type {\n",
              "        vertical-align: middle;\n",
              "    }\n",
              "\n",
              "    .dataframe tbody tr th {\n",
              "        vertical-align: top;\n",
              "    }\n",
              "\n",
              "    .dataframe thead th {\n",
              "        text-align: right;\n",
              "    }\n",
              "</style>\n",
              "<table border=\"1\" class=\"dataframe\">\n",
              "  <thead>\n",
              "    <tr style=\"text-align: right;\">\n",
              "      <th></th>\n",
              "      <th>mean</th>\n",
              "      <th>median</th>\n",
              "      <th>max</th>\n",
              "      <th>min</th>\n",
              "      <th>std</th>\n",
              "      <th>skewness</th>\n",
              "      <th>kurtosis</th>\n",
              "    </tr>\n",
              "  </thead>\n",
              "  <tbody>\n",
              "    <tr>\n",
              "      <th>0</th>\n",
              "      <td>7.281591</td>\n",
              "      <td>6.7806</td>\n",
              "      <td>43.1127</td>\n",
              "      <td>-21.4494</td>\n",
              "      <td>9.761325</td>\n",
              "      <td>0.190000</td>\n",
              "      <td>1.736974</td>\n",
              "    </tr>\n",
              "    <tr>\n",
              "      <th>1</th>\n",
              "      <td>7.076818</td>\n",
              "      <td>7.1051</td>\n",
              "      <td>40.5632</td>\n",
              "      <td>-47.3797</td>\n",
              "      <td>11.146304</td>\n",
              "      <td>-0.688164</td>\n",
              "      <td>5.202860</td>\n",
              "    </tr>\n",
              "    <tr>\n",
              "      <th>2</th>\n",
              "      <td>6.204483</td>\n",
              "      <td>5.9525</td>\n",
              "      <td>33.8820</td>\n",
              "      <td>-22.4038</td>\n",
              "      <td>9.083563</td>\n",
              "      <td>-0.066380</td>\n",
              "      <td>0.853246</td>\n",
              "    </tr>\n",
              "    <tr>\n",
              "      <th>3</th>\n",
              "      <td>6.441159</td>\n",
              "      <td>6.5850</td>\n",
              "      <td>38.1015</td>\n",
              "      <td>-35.1659</td>\n",
              "      <td>10.158122</td>\n",
              "      <td>-0.570874</td>\n",
              "      <td>3.127617</td>\n",
              "    </tr>\n",
              "    <tr>\n",
              "      <th>4</th>\n",
              "      <td>6.771155</td>\n",
              "      <td>6.9087</td>\n",
              "      <td>41.1037</td>\n",
              "      <td>-65.4863</td>\n",
              "      <td>12.474544</td>\n",
              "      <td>-1.860747</td>\n",
              "      <td>10.866152</td>\n",
              "    </tr>\n",
              "  </tbody>\n",
              "</table>\n",
              "</div>"
            ],
            "text/plain": [
              "       mean  median      max      min        std  skewness   kurtosis\n",
              "0  7.281591  6.7806  43.1127 -21.4494   9.761325  0.190000   1.736974\n",
              "1  7.076818  7.1051  40.5632 -47.3797  11.146304 -0.688164   5.202860\n",
              "2  6.204483  5.9525  33.8820 -22.4038   9.083563 -0.066380   0.853246\n",
              "3  6.441159  6.5850  38.1015 -35.1659  10.158122 -0.570874   3.127617\n",
              "4  6.771155  6.9087  41.1037 -65.4863  12.474544 -1.860747  10.866152"
            ]
          },
          "metadata": {
            "tags": []
          },
          "execution_count": 7
        }
      ]
    },
    {
      "cell_type": "code",
      "metadata": {
        "colab": {
          "base_uri": "https://localhost:8080/",
          "height": 643
        },
        "id": "0_NrLbAmJ5a-",
        "outputId": "97f11328-5c1b-498a-b6b3-2476a3841af1"
      },
      "source": [
        "corr_mat = df.drop(['ID_code'], axis=1).corr()\r\n",
        "fig, ax = plt.subplots(figsize=(14,10))\r\n",
        "sns.heatmap(corr_mat)"
      ],
      "execution_count": 8,
      "outputs": [
        {
          "output_type": "execute_result",
          "data": {
            "text/plain": [
              "<matplotlib.axes._subplots.AxesSubplot at 0x7f7a04b110f0>"
            ]
          },
          "metadata": {
            "tags": []
          },
          "execution_count": 8
        },
        {
          "output_type": "display_data",
          "data": {
            "image/png": "[encoded data removed]",
            "text/plain": [
              "<Figure size 1008x720 with 2 Axes>"
            ]
          },
          "metadata": {
            "tags": [],
            "needs_background": "light"
          }
        }
      ]
    },
    {
      "cell_type": "code",
      "metadata": {
        "colab": {
          "base_uri": "https://localhost:8080/"
        },
        "id": "IUb0bFK4pLem",
        "outputId": "c8557f7f-7462-46c8-f30e-d703e9d6bdb2"
      },
      "source": [
        "corr_mat['target'].sort_values(ascending=False).head(10)"
      ],
      "execution_count": 9,
      "outputs": [
        {
          "output_type": "execute_result",
          "data": {
            "text/plain": [
              "target     1.000000\n",
              "var_6      0.066731\n",
              "var_110    0.064275\n",
              "var_53     0.063399\n",
              "var_26     0.062422\n",
              "var_22     0.060558\n",
              "var_99     0.058367\n",
              "var_190    0.055973\n",
              "var_2      0.055870\n",
              "var_133    0.054548\n",
              "Name: target, dtype: float64"
            ]
          },
          "metadata": {
            "tags": []
          },
          "execution_count": 9
        }
      ]
    },
    {
      "cell_type": "code",
      "metadata": {
        "colab": {
          "base_uri": "https://localhost:8080/",
          "height": 370
        },
        "id": "bA5w9eexKy09",
        "outputId": "5cd95fb9-76ea-465e-bf56-8d1b1247e82f"
      },
      "source": [
        "fig, ax = plt.subplots(figsize=(4,6))\r\n",
        "(df['target'].value_counts()/len(df)*100).plot.bar(ax)\r\n",
        "plt.grid()"
      ],
      "execution_count": 10,
      "outputs": [
        {
          "output_type": "display_data",
          "data": {
            "image/png": "[encoded data removed]",
            "text/plain": [
              "<Figure size 288x432 with 1 Axes>"
            ]
          },
          "metadata": {
            "tags": [],
            "needs_background": "light"
          }
        }
      ]
    },
    {
      "cell_type": "code",
      "metadata": {
        "colab": {
          "base_uri": "https://localhost:8080/"
        },
        "id": "gDGXmMFmNTAv",
        "outputId": "24d0dc69-4ff8-4a35-ace9-8ef3161dcc2d"
      },
      "source": [
        "df_train, df_test = train_test_split(df.drop('ID_code', axis=1))\r\n",
        "df_val, df_test = train_test_split(df_test, test_size=0.4)\r\n",
        "print(f\"Shape of Training Data : {df_train.shape[0]} rows\")\r\n",
        "print(f\"Shape of Validation Data : {df_val.shape[0]} rows\")\r\n",
        "print(f\"Shape of Testing Data : {df_test.shape[0]} rows\")"
      ],
      "execution_count": 11,
      "outputs": [
        {
          "output_type": "stream",
          "text": [
            "Shape of Training Data : 150000 rows\n",
            "Shape of Validation Data : 30000 rows\n",
            "Shape of Testing Data : 20000 rows\n"
          ],
          "name": "stdout"
        }
      ]
    },
    {
      "cell_type": "code",
      "metadata": {
        "id": "Lz87T41iPwJn"
      },
      "source": [
        "X_train, X_val, X_test= df_train.drop('target', axis=1), df_val.drop('target', axis=1), df_test.drop('target', axis=1)\r\n",
        "y_train, y_val, y_test = df_train['target'], df_val['target'], df_test['target']"
      ],
      "execution_count": 12,
      "outputs": []
    },
    {
      "cell_type": "code",
      "metadata": {
        "id": "5HtAklV8XLdA"
      },
      "source": [
        "smote = imblearn.over_sampling.SMOTE(sampling_strategy=0.3)\r\n",
        "#under = imblearn.under_sampling.RandomUnderSampler(sampling_strategy=0.7)\r\n",
        "\r\n",
        "X_train, y_train = smote.fit_resample(X_train, y_train)\r\n",
        "#X_train, y_train = under.fit_resample(X_train, y_train)"
      ],
      "execution_count": 13,
      "outputs": []
    },
    {
      "cell_type": "code",
      "metadata": {
        "id": "D3ugeawTO7_B"
      },
      "source": [
        "s_scaler = StandardScaler()\r\n",
        "s_scaler.fit(X_train)\r\n",
        "X_train = s_scaler.transform(X_train)\r\n",
        "X_val = s_scaler.transform(X_val)\r\n",
        "X_test = s_scaler.transform(X_test)"
      ],
      "execution_count": 14,
      "outputs": []
    },
    {
      "cell_type": "code",
      "metadata": {
        "id": "QjtLrvz-Q85E"
      },
      "source": [
        "inputs = tf.keras.Input(X_train.shape[1])\r\n",
        "x = tf.keras.layers.Dense(207, activation='relu', kernel_regularizer='l2')(inputs)\r\n",
        "x = tf.keras.layers.BatchNormalization()(x)\r\n",
        "\r\n",
        "for _ in range(1):\r\n",
        "  x = tf.keras.layers.Dense(64, activation='relu')(x)\r\n",
        "  x = tf.keras.layers.BatchNormalization()(x)\r\n",
        "\r\n",
        "x = tf.keras.layers.Dense(16, activation='relu')(x)\r\n",
        "x = tf.keras.layers.BatchNormalization()(x)\r\n",
        "\r\n",
        "x = tf.keras.layers.Dense(4, activation='relu')(x)\r\n",
        "x = tf.keras.layers.BatchNormalization()(x)\r\n",
        "\r\n",
        "outputs = tf.keras.layers.Dense(1, activation='sigmoid')(x)\r\n",
        "model = tf.keras.Model(inputs, outputs)"
      ],
      "execution_count": 57,
      "outputs": []
    },
    {
      "cell_type": "code",
      "metadata": {
        "colab": {
          "base_uri": "https://localhost:8080/"
        },
        "id": "EcN6ImDYRK9O",
        "outputId": "20d0dce8-4d14-44a7-b5b9-1b4906f0be7b"
      },
      "source": [
        "model.compile(optimizer='adam', loss='binary_crossentropy', metrics=['AUC'])\r\n",
        "model.summary()"
      ],
      "execution_count": 58,
      "outputs": [
        {
          "output_type": "stream",
          "text": [
            "Model: \"model_8\"\n",
            "_________________________________________________________________\n",
            "Layer (type)                 Output Shape              Param #   \n",
            "=================================================================\n",
            "input_9 (InputLayer)         [(None, 207)]             0         \n",
            "_________________________________________________________________\n",
            "dense_44 (Dense)             (None, 207)               43056     \n",
            "_________________________________________________________________\n",
            "batch_normalization_16 (Batc (None, 207)               828       \n",
            "_________________________________________________________________\n",
            "dense_45 (Dense)             (None, 64)                13312     \n",
            "_________________________________________________________________\n",
            "batch_normalization_17 (Batc (None, 64)                256       \n",
            "_________________________________________________________________\n",
            "dense_46 (Dense)             (None, 16)                1040      \n",
            "_________________________________________________________________\n",
            "batch_normalization_18 (Batc (None, 16)                64        \n",
            "_________________________________________________________________\n",
            "dense_47 (Dense)             (None, 4)                 68        \n",
            "_________________________________________________________________\n",
            "batch_normalization_19 (Batc (None, 4)                 16        \n",
            "_________________________________________________________________\n",
            "dense_48 (Dense)             (None, 1)                 5         \n",
            "=================================================================\n",
            "Total params: 58,645\n",
            "Trainable params: 58,063\n",
            "Non-trainable params: 582\n",
            "_________________________________________________________________\n"
          ],
          "name": "stdout"
        }
      ]
    },
    {
      "cell_type": "code",
      "metadata": {
        "id": "nrlt0DA__QLl"
      },
      "source": [
        "import os, datetime\r\n",
        "logdir = os.path.join(\"logs\", datetime.datetime.now().strftime(\"%Y%m%d-Itre1\"))\r\n",
        "call_back = tf.keras.callbacks.TensorBoard(logdir, histogram_freq=1)"
      ],
      "execution_count": 53,
      "outputs": []
    },
    {
      "cell_type": "code",
      "metadata": {
        "colab": {
          "base_uri": "https://localhost:8080/",
          "height": 1000
        },
        "id": "NssCuWtoSyGv",
        "outputId": "6970e97b-ce90-4a91-8ba7-acaffb098fae"
      },
      "source": [
        "history = model.fit(x=X_train, y=y_train, verbose=1,epochs=100, validation_data=(X_val, y_val), batch_size=32\r\n",
        "                    , callbacks=call_back)"
      ],
      "execution_count": 60,
      "outputs": [
        {
          "output_type": "stream",
          "text": [
            "Epoch 1/100\n",
            "5484/5484 [==============================] - 38s 7ms/step - loss: 0.4863 - auc: 0.8744 - val_loss: 0.4377 - val_auc: 0.8050\n",
            "Epoch 2/100\n",
            "5484/5484 [==============================] - 38s 7ms/step - loss: 0.4875 - auc: 0.8796 - val_loss: 0.4350 - val_auc: 0.8129\n",
            "Epoch 3/100\n",
            "5484/5484 [==============================] - 38s 7ms/step - loss: 0.4847 - auc: 0.8810 - val_loss: 0.4314 - val_auc: 0.8062\n",
            "Epoch 4/100\n",
            "5484/5484 [==============================] - 38s 7ms/step - loss: 0.4782 - auc: 0.8820 - val_loss: 0.4329 - val_auc: 0.8158\n",
            "Epoch 5/100\n",
            "5484/5484 [==============================] - 38s 7ms/step - loss: 0.4743 - auc: 0.8823 - val_loss: 0.4138 - val_auc: 0.8047\n",
            "Epoch 6/100\n",
            "5484/5484 [==============================] - 38s 7ms/step - loss: 0.4734 - auc: 0.8833 - val_loss: 0.4270 - val_auc: 0.8074\n",
            "Epoch 7/100\n",
            "5484/5484 [==============================] - 38s 7ms/step - loss: 0.4735 - auc: 0.8833 - val_loss: 0.4298 - val_auc: 0.8049\n",
            "Epoch 8/100\n",
            "5484/5484 [==============================] - 38s 7ms/step - loss: 0.4730 - auc: 0.8827 - val_loss: 0.4245 - val_auc: 0.8076\n",
            "Epoch 9/100\n",
            "5484/5484 [==============================] - 38s 7ms/step - loss: 0.4723 - auc: 0.8834 - val_loss: 0.4205 - val_auc: 0.8116\n",
            "Epoch 10/100\n",
            "5484/5484 [==============================] - 38s 7ms/step - loss: 0.4723 - auc: 0.8830 - val_loss: 0.4200 - val_auc: 0.8061\n",
            "Epoch 11/100\n",
            "5484/5484 [==============================] - 38s 7ms/step - loss: 0.4734 - auc: 0.8829 - val_loss: 0.4286 - val_auc: 0.8100\n",
            "Epoch 12/100\n",
            "5484/5484 [==============================] - 38s 7ms/step - loss: 0.4701 - auc: 0.8835 - val_loss: 0.4243 - val_auc: 0.8049\n",
            "Epoch 13/100\n",
            "5484/5484 [==============================] - 38s 7ms/step - loss: 0.4685 - auc: 0.8833 - val_loss: 0.4087 - val_auc: 0.8092\n",
            "Epoch 14/100\n",
            "5484/5484 [==============================] - 38s 7ms/step - loss: 0.4678 - auc: 0.8833 - val_loss: 0.4181 - val_auc: 0.8059\n",
            "Epoch 15/100\n",
            "5484/5484 [==============================] - 38s 7ms/step - loss: 0.4684 - auc: 0.8827 - val_loss: 0.4226 - val_auc: 0.8044\n",
            "Epoch 16/100\n",
            "5484/5484 [==============================] - 38s 7ms/step - loss: 0.4665 - auc: 0.8838 - val_loss: 0.4285 - val_auc: 0.8079\n",
            "Epoch 17/100\n",
            "5484/5484 [==============================] - 38s 7ms/step - loss: 0.4649 - auc: 0.8831 - val_loss: 0.4243 - val_auc: 0.8168\n",
            "Epoch 18/100\n",
            "5484/5484 [==============================] - 38s 7ms/step - loss: 0.4646 - auc: 0.8835 - val_loss: 0.4215 - val_auc: 0.8113\n",
            "Epoch 19/100\n",
            "5484/5484 [==============================] - 38s 7ms/step - loss: 0.4642 - auc: 0.8835 - val_loss: 0.4219 - val_auc: 0.8073\n",
            "Epoch 20/100\n",
            "5484/5484 [==============================] - 38s 7ms/step - loss: 0.4685 - auc: 0.8829 - val_loss: 0.4222 - val_auc: 0.8126\n",
            "Epoch 21/100\n",
            "5484/5484 [==============================] - 38s 7ms/step - loss: 0.4662 - auc: 0.8831 - val_loss: 0.4072 - val_auc: 0.8147\n",
            "Epoch 22/100\n",
            "5484/5484 [==============================] - 38s 7ms/step - loss: 0.4625 - auc: 0.8836 - val_loss: 0.4217 - val_auc: 0.8052\n",
            "Epoch 23/100\n",
            "5484/5484 [==============================] - 38s 7ms/step - loss: 0.4641 - auc: 0.8827 - val_loss: 0.4122 - val_auc: 0.8074\n",
            "Epoch 24/100\n",
            "5484/5484 [==============================] - 38s 7ms/step - loss: 0.4635 - auc: 0.8838 - val_loss: 0.4224 - val_auc: 0.8109\n",
            "Epoch 25/100\n",
            "5484/5484 [==============================] - 38s 7ms/step - loss: 0.4654 - auc: 0.8825 - val_loss: 0.4067 - val_auc: 0.8173\n",
            "Epoch 26/100\n",
            "5484/5484 [==============================] - 38s 7ms/step - loss: 0.4616 - auc: 0.8838 - val_loss: 0.4135 - val_auc: 0.8118\n",
            "Epoch 27/100\n",
            "5484/5484 [==============================] - 38s 7ms/step - loss: 0.4620 - auc: 0.8832 - val_loss: 0.4240 - val_auc: 0.8139\n",
            "Epoch 28/100\n",
            "5484/5484 [==============================] - 38s 7ms/step - loss: 0.4609 - auc: 0.8839 - val_loss: 0.4123 - val_auc: 0.8102\n",
            "Epoch 29/100\n",
            "5484/5484 [==============================] - 38s 7ms/step - loss: 0.4617 - auc: 0.8838 - val_loss: 0.4051 - val_auc: 0.8149\n",
            "Epoch 30/100\n",
            "5484/5484 [==============================] - 38s 7ms/step - loss: 0.4618 - auc: 0.8838 - val_loss: 0.4169 - val_auc: 0.8100\n",
            "Epoch 31/100\n",
            "5484/5484 [==============================] - 38s 7ms/step - loss: 0.4697 - auc: 0.8825 - val_loss: 0.4066 - val_auc: 0.8132\n",
            "Epoch 32/100\n",
            "5484/5484 [==============================] - 39s 7ms/step - loss: 0.4609 - auc: 0.8832 - val_loss: 0.4201 - val_auc: 0.8092\n",
            "Epoch 33/100\n",
            "5484/5484 [==============================] - 39s 7ms/step - loss: 0.4599 - auc: 0.8826 - val_loss: 0.4151 - val_auc: 0.8079\n",
            "Epoch 34/100\n",
            "5484/5484 [==============================] - 39s 7ms/step - loss: 0.4610 - auc: 0.8838 - val_loss: 0.4179 - val_auc: 0.8154\n",
            "Epoch 35/100\n",
            "5484/5484 [==============================] - 39s 7ms/step - loss: 0.4608 - auc: 0.8851 - val_loss: 0.3983 - val_auc: 0.8207\n",
            "Epoch 36/100\n",
            "5484/5484 [==============================] - 39s 7ms/step - loss: 0.4602 - auc: 0.8853 - val_loss: 0.4126 - val_auc: 0.8243\n",
            "Epoch 37/100\n",
            "5484/5484 [==============================] - 39s 7ms/step - loss: 0.4604 - auc: 0.8868 - val_loss: 0.4060 - val_auc: 0.8294\n",
            "Epoch 38/100\n",
            "5484/5484 [==============================] - 39s 7ms/step - loss: 0.4630 - auc: 0.8863 - val_loss: 0.4152 - val_auc: 0.8283\n",
            "Epoch 39/100\n",
            "5484/5484 [==============================] - 38s 7ms/step - loss: 0.4614 - auc: 0.8871 - val_loss: 0.4003 - val_auc: 0.8352\n",
            "Epoch 40/100\n",
            "5484/5484 [==============================] - 38s 7ms/step - loss: 0.4626 - auc: 0.8869 - val_loss: 0.4041 - val_auc: 0.8358\n",
            "Epoch 41/100\n",
            "5484/5484 [==============================] - 38s 7ms/step - loss: 0.4643 - auc: 0.8877 - val_loss: 0.4082 - val_auc: 0.8339\n",
            "Epoch 42/100\n",
            "5484/5484 [==============================] - 38s 7ms/step - loss: 0.4620 - auc: 0.8883 - val_loss: 0.4021 - val_auc: 0.8385\n",
            "Epoch 43/100\n",
            "5484/5484 [==============================] - 38s 7ms/step - loss: 0.4651 - auc: 0.8876 - val_loss: 0.4119 - val_auc: 0.8313\n",
            "Epoch 44/100\n",
            "5484/5484 [==============================] - 39s 7ms/step - loss: 0.4612 - auc: 0.8881 - val_loss: 0.4075 - val_auc: 0.8335\n",
            "Epoch 45/100\n",
            "5484/5484 [==============================] - 38s 7ms/step - loss: 0.4628 - auc: 0.8885 - val_loss: 0.4104 - val_auc: 0.8323\n",
            "Epoch 46/100\n",
            "5484/5484 [==============================] - 38s 7ms/step - loss: 0.4620 - auc: 0.8883 - val_loss: 0.4127 - val_auc: 0.8340\n",
            "Epoch 47/100\n",
            "5484/5484 [==============================] - 38s 7ms/step - loss: 0.4620 - auc: 0.8883 - val_loss: 0.4212 - val_auc: 0.8311\n",
            "Epoch 48/100\n",
            "5484/5484 [==============================] - 39s 7ms/step - loss: 0.4621 - auc: 0.8879 - val_loss: 0.4229 - val_auc: 0.8323\n",
            "Epoch 49/100\n",
            "5484/5484 [==============================] - 38s 7ms/step - loss: 0.4619 - auc: 0.8882 - val_loss: 0.3969 - val_auc: 0.8390\n",
            "Epoch 50/100\n",
            "5484/5484 [==============================] - 38s 7ms/step - loss: 0.4638 - auc: 0.8881 - val_loss: 0.4038 - val_auc: 0.8331\n",
            "Epoch 51/100\n",
            "5484/5484 [==============================] - 38s 7ms/step - loss: 0.4611 - auc: 0.8887 - val_loss: 0.4208 - val_auc: 0.8303\n",
            "Epoch 52/100\n",
            "5484/5484 [==============================] - 38s 7ms/step - loss: 0.4611 - auc: 0.8876 - val_loss: 0.4073 - val_auc: 0.8370\n",
            "Epoch 53/100\n",
            "5484/5484 [==============================] - 38s 7ms/step - loss: 0.4703 - auc: 0.8868 - val_loss: 0.4073 - val_auc: 0.8302\n",
            "Epoch 54/100\n",
            "5484/5484 [==============================] - 38s 7ms/step - loss: 0.4614 - auc: 0.8882 - val_loss: 0.4096 - val_auc: 0.8292\n",
            "Epoch 55/100\n",
            "5484/5484 [==============================] - 38s 7ms/step - loss: 0.4609 - auc: 0.8879 - val_loss: 0.4153 - val_auc: 0.8318\n",
            "Epoch 56/100\n",
            "5484/5484 [==============================] - 38s 7ms/step - loss: 0.4638 - auc: 0.8880 - val_loss: 0.4139 - val_auc: 0.8329\n",
            "Epoch 57/100\n",
            "5484/5484 [==============================] - 38s 7ms/step - loss: 0.4632 - auc: 0.8873 - val_loss: 0.4090 - val_auc: 0.8336\n",
            "Epoch 58/100\n",
            "5484/5484 [==============================] - 38s 7ms/step - loss: 0.4620 - auc: 0.8881 - val_loss: 0.4096 - val_auc: 0.8315\n",
            "Epoch 59/100\n",
            "5484/5484 [==============================] - 38s 7ms/step - loss: 0.4624 - auc: 0.8886 - val_loss: 0.4110 - val_auc: 0.8352\n",
            "Epoch 60/100\n",
            "5484/5484 [==============================] - 38s 7ms/step - loss: 0.4613 - auc: 0.8882 - val_loss: 0.4076 - val_auc: 0.8314\n",
            "Epoch 61/100\n",
            "5484/5484 [==============================] - 38s 7ms/step - loss: 0.4615 - auc: 0.8875 - val_loss: 0.3967 - val_auc: 0.8339\n",
            "Epoch 62/100\n",
            "5484/5484 [==============================] - 38s 7ms/step - loss: 0.4590 - auc: 0.8887 - val_loss: 0.4036 - val_auc: 0.8332\n",
            "Epoch 63/100\n",
            "5484/5484 [==============================] - 38s 7ms/step - loss: 0.4613 - auc: 0.8878 - val_loss: 0.4010 - val_auc: 0.8310\n",
            "Epoch 64/100\n",
            "5484/5484 [==============================] - 38s 7ms/step - loss: 0.4612 - auc: 0.8880 - val_loss: 0.4015 - val_auc: 0.8280\n",
            "Epoch 65/100\n",
            "5484/5484 [==============================] - 38s 7ms/step - loss: 0.4635 - auc: 0.8875 - val_loss: 0.4052 - val_auc: 0.8279\n",
            "Epoch 66/100\n",
            "5484/5484 [==============================] - 38s 7ms/step - loss: 0.4618 - auc: 0.8876 - val_loss: 0.3997 - val_auc: 0.8315\n",
            "Epoch 67/100\n",
            "5484/5484 [==============================] - 38s 7ms/step - loss: 0.4615 - auc: 0.8882 - val_loss: 0.4051 - val_auc: 0.8301\n",
            "Epoch 68/100\n",
            "5484/5484 [==============================] - 38s 7ms/step - loss: 0.4660 - auc: 0.8875 - val_loss: 0.4184 - val_auc: 0.8315\n",
            "Epoch 69/100\n",
            "5484/5484 [==============================] - 38s 7ms/step - loss: 0.4630 - auc: 0.8882 - val_loss: 0.4309 - val_auc: 0.8307\n",
            "Epoch 70/100\n",
            "5484/5484 [==============================] - 38s 7ms/step - loss: 0.4599 - auc: 0.8877 - val_loss: 0.4054 - val_auc: 0.8294\n",
            "Epoch 71/100\n",
            "5484/5484 [==============================] - 38s 7ms/step - loss: 0.4589 - auc: 0.8887 - val_loss: 0.3940 - val_auc: 0.8371\n",
            "Epoch 72/100\n",
            "5484/5484 [==============================] - 38s 7ms/step - loss: 0.4611 - auc: 0.8873 - val_loss: 0.4016 - val_auc: 0.8293\n",
            "Epoch 73/100\n",
            "5484/5484 [==============================] - 38s 7ms/step - loss: 0.4598 - auc: 0.8885 - val_loss: 0.4026 - val_auc: 0.8329\n",
            "Epoch 74/100\n",
            "5484/5484 [==============================] - 38s 7ms/step - loss: 0.4653 - auc: 0.8878 - val_loss: 0.4040 - val_auc: 0.8306\n",
            "Epoch 75/100\n",
            "5484/5484 [==============================] - 38s 7ms/step - loss: 0.4644 - auc: 0.8878 - val_loss: 0.5196 - val_auc: 0.8289\n",
            "Epoch 76/100\n",
            "5484/5484 [==============================] - 38s 7ms/step - loss: 0.4640 - auc: 0.8873 - val_loss: 0.4019 - val_auc: 0.8281\n",
            "Epoch 77/100\n",
            "5484/5484 [==============================] - 38s 7ms/step - loss: 0.4558 - auc: 0.8889 - val_loss: 0.4161 - val_auc: 0.8294\n",
            "Epoch 78/100\n",
            "5484/5484 [==============================] - 38s 7ms/step - loss: 0.4592 - auc: 0.8885 - val_loss: 0.4228 - val_auc: 0.8319\n",
            "Epoch 79/100\n",
            "5484/5484 [==============================] - 38s 7ms/step - loss: 0.4565 - auc: 0.8887 - val_loss: 0.4086 - val_auc: 0.8354\n",
            "Epoch 80/100\n",
            "5484/5484 [==============================] - 38s 7ms/step - loss: 0.4571 - auc: 0.8889 - val_loss: 0.4808 - val_auc: 0.8260\n",
            "Epoch 81/100\n",
            "5484/5484 [==============================] - 38s 7ms/step - loss: 0.4592 - auc: 0.8883 - val_loss: 0.4184 - val_auc: 0.8242\n",
            "Epoch 82/100\n",
            "5484/5484 [==============================] - 38s 7ms/step - loss: 0.4545 - auc: 0.8895 - val_loss: 0.3923 - val_auc: 0.8344\n",
            "Epoch 83/100\n",
            " 732/5484 [===>..........................] - ETA: 30s - loss: 0.4492 - auc: 0.8921"
          ],
          "name": "stdout"
        },
        {
          "output_type": "error",
          "ename": "KeyboardInterrupt",
          "evalue": "ignored",
          "traceback": [
            "\u001b[0;31m---------------------------------------------------------------------------\u001b[0m",
            "\u001b[0;31mKeyboardInterrupt\u001b[0m                         Traceback (most recent call last)",
            "\u001b[0;32m<ipython-input-60-fcb9bbd8d1c3>\u001b[0m in \u001b[0;36m<module>\u001b[0;34m()\u001b[0m\n\u001b[1;32m      1\u001b[0m history = model.fit(x=X_train, y=y_train, verbose=1,epochs=100, validation_data=(X_val, y_val), batch_size=32\n\u001b[0;32m----> 2\u001b[0;31m                     , callbacks=call_back)\n\u001b[0m",
            "\u001b[0;32m/usr/local/lib/python3.6/dist-packages/tensorflow/python/keras/engine/training.py\u001b[0m in \u001b[0;36mfit\u001b[0;34m(self, x, y, batch_size, epochs, verbose, callbacks, validation_split, validation_data, shuffle, class_weight, sample_weight, initial_epoch, steps_per_epoch, validation_steps, validation_batch_size, validation_freq, max_queue_size, workers, use_multiprocessing)\u001b[0m\n\u001b[1;32m   1098\u001b[0m                 _r=1):\n\u001b[1;32m   1099\u001b[0m               \u001b[0mcallbacks\u001b[0m\u001b[0;34m.\u001b[0m\u001b[0mon_train_batch_begin\u001b[0m\u001b[0;34m(\u001b[0m\u001b[0mstep\u001b[0m\u001b[0;34m)\u001b[0m\u001b[0;34m\u001b[0m\u001b[0;34m\u001b[0m\u001b[0m\n\u001b[0;32m-> 1100\u001b[0;31m               \u001b[0mtmp_logs\u001b[0m \u001b[0;34m=\u001b[0m \u001b[0mself\u001b[0m\u001b[0;34m.\u001b[0m\u001b[0mtrain_function\u001b[0m\u001b[0;34m(\u001b[0m\u001b[0miterator\u001b[0m\u001b[0;34m)\u001b[0m\u001b[0;34m\u001b[0m\u001b[0;34m\u001b[0m\u001b[0m\n\u001b[0m\u001b[1;32m   1101\u001b[0m               \u001b[0;32mif\u001b[0m \u001b[0mdata_handler\u001b[0m\u001b[0;34m.\u001b[0m\u001b[0mshould_sync\u001b[0m\u001b[0;34m:\u001b[0m\u001b[0;34m\u001b[0m\u001b[0;34m\u001b[0m\u001b[0m\n\u001b[1;32m   1102\u001b[0m                 \u001b[0mcontext\u001b[0m\u001b[0;34m.\u001b[0m\u001b[0masync_wait\u001b[0m\u001b[0;34m(\u001b[0m\u001b[0;34m)\u001b[0m\u001b[0;34m\u001b[0m\u001b[0;34m\u001b[0m\u001b[0m\n",
            "\u001b[0;32m/usr/local/lib/python3.6/dist-packages/tensorflow/python/eager/def_function.py\u001b[0m in \u001b[0;36m__call__\u001b[0;34m(self, *args, **kwds)\u001b[0m\n\u001b[1;32m    826\u001b[0m     \u001b[0mtracing_count\u001b[0m \u001b[0;34m=\u001b[0m \u001b[0mself\u001b[0m\u001b[0;34m.\u001b[0m\u001b[0mexperimental_get_tracing_count\u001b[0m\u001b[0;34m(\u001b[0m\u001b[0;34m)\u001b[0m\u001b[0;34m\u001b[0m\u001b[0;34m\u001b[0m\u001b[0m\n\u001b[1;32m    827\u001b[0m     \u001b[0;32mwith\u001b[0m \u001b[0mtrace\u001b[0m\u001b[0;34m.\u001b[0m\u001b[0mTrace\u001b[0m\u001b[0;34m(\u001b[0m\u001b[0mself\u001b[0m\u001b[0;34m.\u001b[0m\u001b[0m_name\u001b[0m\u001b[0;34m)\u001b[0m \u001b[0;32mas\u001b[0m \u001b[0mtm\u001b[0m\u001b[0;34m:\u001b[0m\u001b[0;34m\u001b[0m\u001b[0;34m\u001b[0m\u001b[0m\n\u001b[0;32m--> 828\u001b[0;31m       \u001b[0mresult\u001b[0m \u001b[0;34m=\u001b[0m \u001b[0mself\u001b[0m\u001b[0;34m.\u001b[0m\u001b[0m_call\u001b[0m\u001b[0;34m(\u001b[0m\u001b[0;34m*\u001b[0m\u001b[0margs\u001b[0m\u001b[0;34m,\u001b[0m \u001b[0;34m**\u001b[0m\u001b[0mkwds\u001b[0m\u001b[0;34m)\u001b[0m\u001b[0;34m\u001b[0m\u001b[0;34m\u001b[0m\u001b[0m\n\u001b[0m\u001b[1;32m    829\u001b[0m       \u001b[0mcompiler\u001b[0m \u001b[0;34m=\u001b[0m \u001b[0;34m\"xla\"\u001b[0m \u001b[0;32mif\u001b[0m \u001b[0mself\u001b[0m\u001b[0;34m.\u001b[0m\u001b[0m_experimental_compile\u001b[0m \u001b[0;32melse\u001b[0m \u001b[0;34m\"nonXla\"\u001b[0m\u001b[0;34m\u001b[0m\u001b[0;34m\u001b[0m\u001b[0m\n\u001b[1;32m    830\u001b[0m       \u001b[0mnew_tracing_count\u001b[0m \u001b[0;34m=\u001b[0m \u001b[0mself\u001b[0m\u001b[0;34m.\u001b[0m\u001b[0mexperimental_get_tracing_count\u001b[0m\u001b[0;34m(\u001b[0m\u001b[0;34m)\u001b[0m\u001b[0;34m\u001b[0m\u001b[0;34m\u001b[0m\u001b[0m\n",
            "\u001b[0;32m/usr/local/lib/python3.6/dist-packages/tensorflow/python/eager/def_function.py\u001b[0m in \u001b[0;36m_call\u001b[0;34m(self, *args, **kwds)\u001b[0m\n\u001b[1;32m    853\u001b[0m       \u001b[0;31m# In this case we have created variables on the first call, so we run the\u001b[0m\u001b[0;34m\u001b[0m\u001b[0;34m\u001b[0m\u001b[0;34m\u001b[0m\u001b[0m\n\u001b[1;32m    854\u001b[0m       \u001b[0;31m# defunned version which is guaranteed to never create variables.\u001b[0m\u001b[0;34m\u001b[0m\u001b[0;34m\u001b[0m\u001b[0;34m\u001b[0m\u001b[0m\n\u001b[0;32m--> 855\u001b[0;31m       \u001b[0;32mreturn\u001b[0m \u001b[0mself\u001b[0m\u001b[0;34m.\u001b[0m\u001b[0m_stateless_fn\u001b[0m\u001b[0;34m(\u001b[0m\u001b[0;34m*\u001b[0m\u001b[0margs\u001b[0m\u001b[0;34m,\u001b[0m \u001b[0;34m**\u001b[0m\u001b[0mkwds\u001b[0m\u001b[0;34m)\u001b[0m  \u001b[0;31m# pylint: disable=not-callable\u001b[0m\u001b[0;34m\u001b[0m\u001b[0;34m\u001b[0m\u001b[0m\n\u001b[0m\u001b[1;32m    856\u001b[0m     \u001b[0;32melif\u001b[0m \u001b[0mself\u001b[0m\u001b[0;34m.\u001b[0m\u001b[0m_stateful_fn\u001b[0m \u001b[0;32mis\u001b[0m \u001b[0;32mnot\u001b[0m \u001b[0;32mNone\u001b[0m\u001b[0;34m:\u001b[0m\u001b[0;34m\u001b[0m\u001b[0;34m\u001b[0m\u001b[0m\n\u001b[1;32m    857\u001b[0m       \u001b[0;31m# Release the lock early so that multiple threads can perform the call\u001b[0m\u001b[0;34m\u001b[0m\u001b[0;34m\u001b[0m\u001b[0;34m\u001b[0m\u001b[0m\n",
            "\u001b[0;32m/usr/local/lib/python3.6/dist-packages/tensorflow/python/eager/function.py\u001b[0m in \u001b[0;36m__call__\u001b[0;34m(self, *args, **kwargs)\u001b[0m\n\u001b[1;32m   2941\u001b[0m        filtered_flat_args) = self._maybe_define_function(args, kwargs)\n\u001b[1;32m   2942\u001b[0m     return graph_function._call_flat(\n\u001b[0;32m-> 2943\u001b[0;31m         filtered_flat_args, captured_inputs=graph_function.captured_inputs)  # pylint: disable=protected-access\n\u001b[0m\u001b[1;32m   2944\u001b[0m \u001b[0;34m\u001b[0m\u001b[0m\n\u001b[1;32m   2945\u001b[0m   \u001b[0;34m@\u001b[0m\u001b[0mproperty\u001b[0m\u001b[0;34m\u001b[0m\u001b[0;34m\u001b[0m\u001b[0m\n",
            "\u001b[0;32m/usr/local/lib/python3.6/dist-packages/tensorflow/python/eager/function.py\u001b[0m in \u001b[0;36m_call_flat\u001b[0;34m(self, args, captured_inputs, cancellation_manager)\u001b[0m\n\u001b[1;32m   1917\u001b[0m       \u001b[0;31m# No tape is watching; skip to running the function.\u001b[0m\u001b[0;34m\u001b[0m\u001b[0;34m\u001b[0m\u001b[0;34m\u001b[0m\u001b[0m\n\u001b[1;32m   1918\u001b[0m       return self._build_call_outputs(self._inference_function.call(\n\u001b[0;32m-> 1919\u001b[0;31m           ctx, args, cancellation_manager=cancellation_manager))\n\u001b[0m\u001b[1;32m   1920\u001b[0m     forward_backward = self._select_forward_and_backward_functions(\n\u001b[1;32m   1921\u001b[0m         \u001b[0margs\u001b[0m\u001b[0;34m,\u001b[0m\u001b[0;34m\u001b[0m\u001b[0;34m\u001b[0m\u001b[0m\n",
            "\u001b[0;32m/usr/local/lib/python3.6/dist-packages/tensorflow/python/eager/function.py\u001b[0m in \u001b[0;36mcall\u001b[0;34m(self, ctx, args, cancellation_manager)\u001b[0m\n\u001b[1;32m    558\u001b[0m               \u001b[0minputs\u001b[0m\u001b[0;34m=\u001b[0m\u001b[0margs\u001b[0m\u001b[0;34m,\u001b[0m\u001b[0;34m\u001b[0m\u001b[0;34m\u001b[0m\u001b[0m\n\u001b[1;32m    559\u001b[0m               \u001b[0mattrs\u001b[0m\u001b[0;34m=\u001b[0m\u001b[0mattrs\u001b[0m\u001b[0;34m,\u001b[0m\u001b[0;34m\u001b[0m\u001b[0;34m\u001b[0m\u001b[0m\n\u001b[0;32m--> 560\u001b[0;31m               ctx=ctx)\n\u001b[0m\u001b[1;32m    561\u001b[0m         \u001b[0;32melse\u001b[0m\u001b[0;34m:\u001b[0m\u001b[0;34m\u001b[0m\u001b[0;34m\u001b[0m\u001b[0m\n\u001b[1;32m    562\u001b[0m           outputs = execute.execute_with_cancellation(\n",
            "\u001b[0;32m/usr/local/lib/python3.6/dist-packages/tensorflow/python/eager/execute.py\u001b[0m in \u001b[0;36mquick_execute\u001b[0;34m(op_name, num_outputs, inputs, attrs, ctx, name)\u001b[0m\n\u001b[1;32m     58\u001b[0m     \u001b[0mctx\u001b[0m\u001b[0;34m.\u001b[0m\u001b[0mensure_initialized\u001b[0m\u001b[0;34m(\u001b[0m\u001b[0;34m)\u001b[0m\u001b[0;34m\u001b[0m\u001b[0;34m\u001b[0m\u001b[0m\n\u001b[1;32m     59\u001b[0m     tensors = pywrap_tfe.TFE_Py_Execute(ctx._handle, device_name, op_name,\n\u001b[0;32m---> 60\u001b[0;31m                                         inputs, attrs, num_outputs)\n\u001b[0m\u001b[1;32m     61\u001b[0m   \u001b[0;32mexcept\u001b[0m \u001b[0mcore\u001b[0m\u001b[0;34m.\u001b[0m\u001b[0m_NotOkStatusException\u001b[0m \u001b[0;32mas\u001b[0m \u001b[0me\u001b[0m\u001b[0;34m:\u001b[0m\u001b[0;34m\u001b[0m\u001b[0;34m\u001b[0m\u001b[0m\n\u001b[1;32m     62\u001b[0m     \u001b[0;32mif\u001b[0m \u001b[0mname\u001b[0m \u001b[0;32mis\u001b[0m \u001b[0;32mnot\u001b[0m \u001b[0;32mNone\u001b[0m\u001b[0;34m:\u001b[0m\u001b[0;34m\u001b[0m\u001b[0;34m\u001b[0m\u001b[0m\n",
            "\u001b[0;31mKeyboardInterrupt\u001b[0m: "
          ]
        }
      ]
    },
    {
      "cell_type": "code",
      "metadata": {
        "colab": {
          "base_uri": "https://localhost:8080/"
        },
        "id": "mbkvBMO6aKc2",
        "outputId": "56123d1b-5efd-4e08-baaf-48e87cba8727"
      },
      "source": [
        "model.evaluate(X_test, y_test)"
      ],
      "execution_count": 61,
      "outputs": [
        {
          "output_type": "stream",
          "text": [
            "625/625 [==============================] - 2s 3ms/step - loss: 0.4364 - auc: 0.8370\n"
          ],
          "name": "stdout"
        },
        {
          "output_type": "execute_result",
          "data": {
            "text/plain": [
              "[0.4363518953323364, 0.8370416164398193]"
            ]
          },
          "metadata": {
            "tags": []
          },
          "execution_count": 61
        }
      ]
    },
    {
      "cell_type": "code",
      "metadata": {
        "colab": {
          "base_uri": "https://localhost:8080/",
          "height": 483
        },
        "id": "GP3lX_0MTDnd",
        "outputId": "883d8375-ce73-4873-b2a0-859248b71601"
      },
      "source": [
        "fig, ax = plt.subplots(nrows = 2, figsize = (14,8))\r\n",
        "x_rng = list(range(len(history.history['loss'])))\r\n",
        "sns.lineplot(x=x_rng, y=history.history['loss'], ax=ax[0], label='Training Loss')\r\n",
        "sns.lineplot(x=x_rng, y=history.history['val_loss'], ax=ax[0], label='Validation Loss')\r\n",
        "ax[0].set_facecolor('xkcd:grey')\r\n",
        "ax[0].grid()\r\n",
        "sns.lineplot(x=x_rng, y=history.history['auc'], ax=ax[1], label='Training AUC')\r\n",
        "fig = sns.lineplot(x=x_rng, y=history.history['val_auc'], ax=ax[1], label='Validation AUC')\r\n",
        "ax[1].set_facecolor('xkcd:grey')\r\n",
        "ax[1].grid()"
      ],
      "execution_count": 62,
      "outputs": [
        {
          "output_type": "display_data",
          "data": {
            "image/png": "[encoded data removed]",
            "text/plain": [
              "<Figure size 1008x576 with 2 Axes>"
            ]
          },
          "metadata": {
            "tags": [],
            "needs_background": "light"
          }
        }
      ]
    },
    {
      "cell_type": "code",
      "metadata": {
        "colab": {
          "base_uri": "https://localhost:8080/",
          "height": 282
        },
        "id": "ELPRSfmwTWWl",
        "outputId": "7f49b779-da49-4306-e523-f4759f879a0a"
      },
      "source": [
        "y_pred = model.predict(X_test)\r\n",
        "roc_score = metrics.roc_auc_score(y_test, y_pred)\r\n",
        "fpr, tpr, threshold = metrics.roc_curve(y_test, y_pred)\r\n",
        "fig, ax = plt.subplots(figsize=(6,4))\r\n",
        "sns.lineplot(x=fpr, y=tpr, label=f\"AUC of ROC Score is : {roc_score}\")"
      ],
      "execution_count": 82,
      "outputs": [
        {
          "output_type": "execute_result",
          "data": {
            "text/plain": [
              "<matplotlib.axes._subplots.AxesSubplot at 0x7f7950651198>"
            ]
          },
          "metadata": {
            "tags": []
          },
          "execution_count": 82
        },
        {
          "output_type": "display_data",
          "data": {
            "image/png": "[encoded data removed]",
            "text/plain": [
              "<Figure size 432x288 with 1 Axes>"
            ]
          },
          "metadata": {
            "tags": [],
            "needs_background": "light"
          }
        }
      ]
    },
    {
      "cell_type": "code",
      "metadata": {
        "colab": {
          "base_uri": "https://localhost:8080/"
        },
        "id": "v4iAW5ZfUyMk",
        "outputId": "a8203e30-6e16-4c6e-8edc-037dc3adfe99"
      },
      "source": [
        "gmeans = np.sqrt(tpr*(1-fpr))\r\n",
        "thres = threshold[np.argmax(gmeans)]\r\n",
        "print(f\"Threshold to Use : {thres}\")"
      ],
      "execution_count": 86,
      "outputs": [
        {
          "output_type": "stream",
          "text": [
            "Threshold to Use : 0.17544621229171753\n"
          ],
          "name": "stdout"
        }
      ]
    },
    {
      "cell_type": "code",
      "metadata": {
        "id": "f6rI5nChy1RT"
      },
      "source": [
        "df_sub = pd.read_csv('test.csv')\r\n",
        "df_sub['mean'] = np.mean(df_sub.drop(['ID_code'], axis=1), axis=1)\r\n",
        "df_sub['median'] = np.median(df_sub.drop(['ID_code'], axis=1), axis=1)\r\n",
        "df_sub['max'] = np.max(df_sub.drop(['ID_code'], axis=1), axis=1)\r\n",
        "df_sub['min'] = np.min(df_sub.drop(['ID_code'], axis=1), axis=1)\r\n",
        "df_sub['std'] = np.std(df_sub.drop(['ID_code'], axis=1), axis=1)\r\n",
        "df_sub['skewness'] = skew(df_sub.drop(['ID_code'], axis=1), axis=1)\r\n",
        "df_sub['kurtosis'] = kurtosis(df_sub.drop(['ID_code'], axis=1), axis=1)\r\n",
        "X_sub = df_sub.drop(['ID_code'], axis=1)\r\n",
        "X_sub = s_scaler.transform(X_sub)"
      ],
      "execution_count": 68,
      "outputs": []
    },
    {
      "cell_type": "code",
      "metadata": {
        "colab": {
          "base_uri": "https://localhost:8080/",
          "height": 204
        },
        "id": "VV2cWAgfSFiW",
        "outputId": "213a9cad-c5e2-40a0-ef3f-576487b133c0"
      },
      "source": [
        "y_sub = pd.DataFrame(df_sub['ID_code'].copy())\r\n",
        "y_sub['target'] = model.predict(X_sub)\r\n",
        "y_sub['target'] = (y_sub['target'] >= thres)*1\r\n",
        "y_sub.head()"
      ],
      "execution_count": 100,
      "outputs": [
        {
          "output_type": "execute_result",
          "data": {
            "text/html": [
              "<div>\n",
              "<style scoped>\n",
              "    .dataframe tbody tr th:only-of-type {\n",
              "        vertical-align: middle;\n",
              "    }\n",
              "\n",
              "    .dataframe tbody tr th {\n",
              "        vertical-align: top;\n",
              "    }\n",
              "\n",
              "    .dataframe thead th {\n",
              "        text-align: right;\n",
              "    }\n",
              "</style>\n",
              "<table border=\"1\" class=\"dataframe\">\n",
              "  <thead>\n",
              "    <tr style=\"text-align: right;\">\n",
              "      <th></th>\n",
              "      <th>ID_code</th>\n",
              "      <th>target</th>\n",
              "    </tr>\n",
              "  </thead>\n",
              "  <tbody>\n",
              "    <tr>\n",
              "      <th>0</th>\n",
              "      <td>test_0</td>\n",
              "      <td>1</td>\n",
              "    </tr>\n",
              "    <tr>\n",
              "      <th>1</th>\n",
              "      <td>test_1</td>\n",
              "      <td>1</td>\n",
              "    </tr>\n",
              "    <tr>\n",
              "      <th>2</th>\n",
              "      <td>test_2</td>\n",
              "      <td>0</td>\n",
              "    </tr>\n",
              "    <tr>\n",
              "      <th>3</th>\n",
              "      <td>test_3</td>\n",
              "      <td>1</td>\n",
              "    </tr>\n",
              "    <tr>\n",
              "      <th>4</th>\n",
              "      <td>test_4</td>\n",
              "      <td>1</td>\n",
              "    </tr>\n",
              "  </tbody>\n",
              "</table>\n",
              "</div>"
            ],
            "text/plain": [
              "  ID_code  target\n",
              "0  test_0       1\n",
              "1  test_1       1\n",
              "2  test_2       0\n",
              "3  test_3       1\n",
              "4  test_4       1"
            ]
          },
          "metadata": {
            "tags": []
          },
          "execution_count": 100
        }
      ]
    },
    {
      "cell_type": "code",
      "metadata": {
        "id": "qr498myLTCKn"
      },
      "source": [
        "y_sub.to_csv('Submission.csv', index=False)"
      ],
      "execution_count": 102,
      "outputs": []
    },
    {
      "cell_type": "code",
      "metadata": {
        "colab": {
          "base_uri": "https://localhost:8080/"
        },
        "id": "lFLlUPYFWmoE",
        "outputId": "1d246472-b185-44cd-c5ce-756e98c00bf2"
      },
      "source": [
        "! kaggle competitions submit -c santander-customer-transaction-prediction -f Submission.csv -m \"First Attempt\""
      ],
      "execution_count": 104,
      "outputs": [
        {
          "output_type": "stream",
          "text": [
            "Warning: Looks like you're using an outdated API Version, please consider updating (server 1.5.10 / client 1.5.4)\n",
            "100% 2.56M/2.56M [00:00<00:00, 5.22MB/s]\n",
            "Successfully submitted to Santander Customer Transaction Prediction"
          ],
          "name": "stdout"
        }
      ]
    },
    {
      "cell_type": "code",
      "metadata": {
        "id": "idBOtIjJXnaV"
      },
      "source": [
        ""
      ],
      "execution_count": null,
      "outputs": []
    }
  ]
}