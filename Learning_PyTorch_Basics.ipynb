{
  "nbformat": 4,
  "nbformat_minor": 0,
  "metadata": {
    "colab": {
      "name": "Learning_PyTorch_Basics.ipynb",
      "provenance": [],
      "authorship_tag": "ABX9TyNwA9dX0bipQpX5D8G7ytFk",
      "include_colab_link": true
    },
    "kernelspec": {
      "name": "python3",
      "display_name": "Python 3"
    },
    "accelerator": "GPU",
    "widgets": {
      "application/vnd.jupyter.widget-state+json": {
        "b34c14d99f5a4fdeb897ed357c4e202e": {
          "model_module": "@jupyter-widgets/controls",
          "model_name": "HBoxModel",
          "state": {
            "_view_name": "HBoxView",
            "_dom_classes": [],
            "_model_name": "HBoxModel",
            "_view_module": "@jupyter-widgets/controls",
            "_model_module_version": "1.5.0",
            "_view_count": null,
            "_view_module_version": "1.5.0",
            "box_style": "",
            "layout": "IPY_MODEL_4b53689daaae47ecb845031e5b202e2e",
            "_model_module": "@jupyter-widgets/controls",
            "children": [
              "IPY_MODEL_c2b54445ba5f47a3b15c564e508b88df",
              "IPY_MODEL_099c0f716d6d4aa49e5c5cf0339f1874"
            ]
          }
        },
        "4b53689daaae47ecb845031e5b202e2e": {
          "model_module": "@jupyter-widgets/base",
          "model_name": "LayoutModel",
          "state": {
            "_view_name": "LayoutView",
            "grid_template_rows": null,
            "right": null,
            "justify_content": null,
            "_view_module": "@jupyter-widgets/base",
            "overflow": null,
            "_model_module_version": "1.2.0",
            "_view_count": null,
            "flex_flow": null,
            "width": null,
            "min_width": null,
            "border": null,
            "align_items": null,
            "bottom": null,
            "_model_module": "@jupyter-widgets/base",
            "top": null,
            "grid_column": null,
            "overflow_y": null,
            "overflow_x": null,
            "grid_auto_flow": null,
            "grid_area": null,
            "grid_template_columns": null,
            "flex": null,
            "_model_name": "LayoutModel",
            "justify_items": null,
            "grid_row": null,
            "max_height": null,
            "align_content": null,
            "visibility": null,
            "align_self": null,
            "height": null,
            "min_height": null,
            "padding": null,
            "grid_auto_rows": null,
            "grid_gap": null,
            "max_width": null,
            "order": null,
            "_view_module_version": "1.2.0",
            "grid_template_areas": null,
            "object_position": null,
            "object_fit": null,
            "grid_auto_columns": null,
            "margin": null,
            "display": null,
            "left": null
          }
        },
        "c2b54445ba5f47a3b15c564e508b88df": {
          "model_module": "@jupyter-widgets/controls",
          "model_name": "FloatProgressModel",
          "state": {
            "_view_name": "ProgressView",
            "style": "IPY_MODEL_4ea6b25fed554f48b3901f875c15b653",
            "_dom_classes": [],
            "description": "",
            "_model_name": "FloatProgressModel",
            "bar_style": "success",
            "max": 26421880,
            "_view_module": "@jupyter-widgets/controls",
            "_model_module_version": "1.5.0",
            "value": 26421880,
            "_view_count": null,
            "_view_module_version": "1.5.0",
            "orientation": "horizontal",
            "min": 0,
            "description_tooltip": null,
            "_model_module": "@jupyter-widgets/controls",
            "layout": "IPY_MODEL_f5796a2cc3e84191afd106cd5ee1905b"
          }
        },
        "099c0f716d6d4aa49e5c5cf0339f1874": {
          "model_module": "@jupyter-widgets/controls",
          "model_name": "HTMLModel",
          "state": {
            "_view_name": "HTMLView",
            "style": "IPY_MODEL_a927f3d466da46eaa4e5ec9989891b21",
            "_dom_classes": [],
            "description": "",
            "_model_name": "HTMLModel",
            "placeholder": "​",
            "_view_module": "@jupyter-widgets/controls",
            "_model_module_version": "1.5.0",
            "value": " 26422272/? [00:03&lt;00:00, 7193196.15it/s]",
            "_view_count": null,
            "_view_module_version": "1.5.0",
            "description_tooltip": null,
            "_model_module": "@jupyter-widgets/controls",
            "layout": "IPY_MODEL_354245a6bd964969aa1d0d3b47ea30bb"
          }
        },
        "4ea6b25fed554f48b3901f875c15b653": {
          "model_module": "@jupyter-widgets/controls",
          "model_name": "ProgressStyleModel",
          "state": {
            "_view_name": "StyleView",
            "_model_name": "ProgressStyleModel",
            "description_width": "initial",
            "_view_module": "@jupyter-widgets/base",
            "_model_module_version": "1.5.0",
            "_view_count": null,
            "_view_module_version": "1.2.0",
            "bar_color": null,
            "_model_module": "@jupyter-widgets/controls"
          }
        },
        "f5796a2cc3e84191afd106cd5ee1905b": {
          "model_module": "@jupyter-widgets/base",
          "model_name": "LayoutModel",
          "state": {
            "_view_name": "LayoutView",
            "grid_template_rows": null,
            "right": null,
            "justify_content": null,
            "_view_module": "@jupyter-widgets/base",
            "overflow": null,
            "_model_module_version": "1.2.0",
            "_view_count": null,
            "flex_flow": null,
            "width": null,
            "min_width": null,
            "border": null,
            "align_items": null,
            "bottom": null,
            "_model_module": "@jupyter-widgets/base",
            "top": null,
            "grid_column": null,
            "overflow_y": null,
            "overflow_x": null,
            "grid_auto_flow": null,
            "grid_area": null,
            "grid_template_columns": null,
            "flex": null,
            "_model_name": "LayoutModel",
            "justify_items": null,
            "grid_row": null,
            "max_height": null,
            "align_content": null,
            "visibility": null,
            "align_self": null,
            "height": null,
            "min_height": null,
            "padding": null,
            "grid_auto_rows": null,
            "grid_gap": null,
            "max_width": null,
            "order": null,
            "_view_module_version": "1.2.0",
            "grid_template_areas": null,
            "object_position": null,
            "object_fit": null,
            "grid_auto_columns": null,
            "margin": null,
            "display": null,
            "left": null
          }
        },
        "a927f3d466da46eaa4e5ec9989891b21": {
          "model_module": "@jupyter-widgets/controls",
          "model_name": "DescriptionStyleModel",
          "state": {
            "_view_name": "StyleView",
            "_model_name": "DescriptionStyleModel",
            "description_width": "",
            "_view_module": "@jupyter-widgets/base",
            "_model_module_version": "1.5.0",
            "_view_count": null,
            "_view_module_version": "1.2.0",
            "_model_module": "@jupyter-widgets/controls"
          }
        },
        "354245a6bd964969aa1d0d3b47ea30bb": {
          "model_module": "@jupyter-widgets/base",
          "model_name": "LayoutModel",
          "state": {
            "_view_name": "LayoutView",
            "grid_template_rows": null,
            "right": null,
            "justify_content": null,
            "_view_module": "@jupyter-widgets/base",
            "overflow": null,
            "_model_module_version": "1.2.0",
            "_view_count": null,
            "flex_flow": null,
            "width": null,
            "min_width": null,
            "border": null,
            "align_items": null,
            "bottom": null,
            "_model_module": "@jupyter-widgets/base",
            "top": null,
            "grid_column": null,
            "overflow_y": null,
            "overflow_x": null,
            "grid_auto_flow": null,
            "grid_area": null,
            "grid_template_columns": null,
            "flex": null,
            "_model_name": "LayoutModel",
            "justify_items": null,
            "grid_row": null,
            "max_height": null,
            "align_content": null,
            "visibility": null,
            "align_self": null,
            "height": null,
            "min_height": null,
            "padding": null,
            "grid_auto_rows": null,
            "grid_gap": null,
            "max_width": null,
            "order": null,
            "_view_module_version": "1.2.0",
            "grid_template_areas": null,
            "object_position": null,
            "object_fit": null,
            "grid_auto_columns": null,
            "margin": null,
            "display": null,
            "left": null
          }
        },
        "70f684d4f488490491255cc02b995b6a": {
          "model_module": "@jupyter-widgets/controls",
          "model_name": "HBoxModel",
          "state": {
            "_view_name": "HBoxView",
            "_dom_classes": [],
            "_model_name": "HBoxModel",
            "_view_module": "@jupyter-widgets/controls",
            "_model_module_version": "1.5.0",
            "_view_count": null,
            "_view_module_version": "1.5.0",
            "box_style": "",
            "layout": "IPY_MODEL_f18ae65e62314d06a365313bc76f72ec",
            "_model_module": "@jupyter-widgets/controls",
            "children": [
              "IPY_MODEL_583e52d79d19443ea4682e3ae07c8ede",
              "IPY_MODEL_1c04792abf3346c6b2639d31d437a953"
            ]
          }
        },
        "f18ae65e62314d06a365313bc76f72ec": {
          "model_module": "@jupyter-widgets/base",
          "model_name": "LayoutModel",
          "state": {
            "_view_name": "LayoutView",
            "grid_template_rows": null,
            "right": null,
            "justify_content": null,
            "_view_module": "@jupyter-widgets/base",
            "overflow": null,
            "_model_module_version": "1.2.0",
            "_view_count": null,
            "flex_flow": null,
            "width": null,
            "min_width": null,
            "border": null,
            "align_items": null,
            "bottom": null,
            "_model_module": "@jupyter-widgets/base",
            "top": null,
            "grid_column": null,
            "overflow_y": null,
            "overflow_x": null,
            "grid_auto_flow": null,
            "grid_area": null,
            "grid_template_columns": null,
            "flex": null,
            "_model_name": "LayoutModel",
            "justify_items": null,
            "grid_row": null,
            "max_height": null,
            "align_content": null,
            "visibility": null,
            "align_self": null,
            "height": null,
            "min_height": null,
            "padding": null,
            "grid_auto_rows": null,
            "grid_gap": null,
            "max_width": null,
            "order": null,
            "_view_module_version": "1.2.0",
            "grid_template_areas": null,
            "object_position": null,
            "object_fit": null,
            "grid_auto_columns": null,
            "margin": null,
            "display": null,
            "left": null
          }
        },
        "583e52d79d19443ea4682e3ae07c8ede": {
          "model_module": "@jupyter-widgets/controls",
          "model_name": "FloatProgressModel",
          "state": {
            "_view_name": "ProgressView",
            "style": "IPY_MODEL_3596df68d9e0430683ad9c892b3ed5ad",
            "_dom_classes": [],
            "description": "",
            "_model_name": "FloatProgressModel",
            "bar_style": "success",
            "max": 29515,
            "_view_module": "@jupyter-widgets/controls",
            "_model_module_version": "1.5.0",
            "value": 29515,
            "_view_count": null,
            "_view_module_version": "1.5.0",
            "orientation": "horizontal",
            "min": 0,
            "description_tooltip": null,
            "_model_module": "@jupyter-widgets/controls",
            "layout": "IPY_MODEL_3a1865f652334aa4ab1bd0c45742bbe7"
          }
        },
        "1c04792abf3346c6b2639d31d437a953": {
          "model_module": "@jupyter-widgets/controls",
          "model_name": "HTMLModel",
          "state": {
            "_view_name": "HTMLView",
            "style": "IPY_MODEL_10ad2accb8c742db9e41e229b9d0c312",
            "_dom_classes": [],
            "description": "",
            "_model_name": "HTMLModel",
            "placeholder": "​",
            "_view_module": "@jupyter-widgets/controls",
            "_model_module_version": "1.5.0",
            "value": " 29696/? [00:01&lt;00:00, 23156.86it/s]",
            "_view_count": null,
            "_view_module_version": "1.5.0",
            "description_tooltip": null,
            "_model_module": "@jupyter-widgets/controls",
            "layout": "IPY_MODEL_d55ee03b1cd64641a36430def2abaeb1"
          }
        },
        "3596df68d9e0430683ad9c892b3ed5ad": {
          "model_module": "@jupyter-widgets/controls",
          "model_name": "ProgressStyleModel",
          "state": {
            "_view_name": "StyleView",
            "_model_name": "ProgressStyleModel",
            "description_width": "initial",
            "_view_module": "@jupyter-widgets/base",
            "_model_module_version": "1.5.0",
            "_view_count": null,
            "_view_module_version": "1.2.0",
            "bar_color": null,
            "_model_module": "@jupyter-widgets/controls"
          }
        },
        "3a1865f652334aa4ab1bd0c45742bbe7": {
          "model_module": "@jupyter-widgets/base",
          "model_name": "LayoutModel",
          "state": {
            "_view_name": "LayoutView",
            "grid_template_rows": null,
            "right": null,
            "justify_content": null,
            "_view_module": "@jupyter-widgets/base",
            "overflow": null,
            "_model_module_version": "1.2.0",
            "_view_count": null,
            "flex_flow": null,
            "width": null,
            "min_width": null,
            "border": null,
            "align_items": null,
            "bottom": null,
            "_model_module": "@jupyter-widgets/base",
            "top": null,
            "grid_column": null,
            "overflow_y": null,
            "overflow_x": null,
            "grid_auto_flow": null,
            "grid_area": null,
            "grid_template_columns": null,
            "flex": null,
            "_model_name": "LayoutModel",
            "justify_items": null,
            "grid_row": null,
            "max_height": null,
            "align_content": null,
            "visibility": null,
            "align_self": null,
            "height": null,
            "min_height": null,
            "padding": null,
            "grid_auto_rows": null,
            "grid_gap": null,
            "max_width": null,
            "order": null,
            "_view_module_version": "1.2.0",
            "grid_template_areas": null,
            "object_position": null,
            "object_fit": null,
            "grid_auto_columns": null,
            "margin": null,
            "display": null,
            "left": null
          }
        },
        "10ad2accb8c742db9e41e229b9d0c312": {
          "model_module": "@jupyter-widgets/controls",
          "model_name": "DescriptionStyleModel",
          "state": {
            "_view_name": "StyleView",
            "_model_name": "DescriptionStyleModel",
            "description_width": "",
            "_view_module": "@jupyter-widgets/base",
            "_model_module_version": "1.5.0",
            "_view_count": null,
            "_view_module_version": "1.2.0",
            "_model_module": "@jupyter-widgets/controls"
          }
        },
        "d55ee03b1cd64641a36430def2abaeb1": {
          "model_module": "@jupyter-widgets/base",
          "model_name": "LayoutModel",
          "state": {
            "_view_name": "LayoutView",
            "grid_template_rows": null,
            "right": null,
            "justify_content": null,
            "_view_module": "@jupyter-widgets/base",
            "overflow": null,
            "_model_module_version": "1.2.0",
            "_view_count": null,
            "flex_flow": null,
            "width": null,
            "min_width": null,
            "border": null,
            "align_items": null,
            "bottom": null,
            "_model_module": "@jupyter-widgets/base",
            "top": null,
            "grid_column": null,
            "overflow_y": null,
            "overflow_x": null,
            "grid_auto_flow": null,
            "grid_area": null,
            "grid_template_columns": null,
            "flex": null,
            "_model_name": "LayoutModel",
            "justify_items": null,
            "grid_row": null,
            "max_height": null,
            "align_content": null,
            "visibility": null,
            "align_self": null,
            "height": null,
            "min_height": null,
            "padding": null,
            "grid_auto_rows": null,
            "grid_gap": null,
            "max_width": null,
            "order": null,
            "_view_module_version": "1.2.0",
            "grid_template_areas": null,
            "object_position": null,
            "object_fit": null,
            "grid_auto_columns": null,
            "margin": null,
            "display": null,
            "left": null
          }
        },
        "15b6d921104a42a3a5d3c8bb68d9f8d0": {
          "model_module": "@jupyter-widgets/controls",
          "model_name": "HBoxModel",
          "state": {
            "_view_name": "HBoxView",
            "_dom_classes": [],
            "_model_name": "HBoxModel",
            "_view_module": "@jupyter-widgets/controls",
            "_model_module_version": "1.5.0",
            "_view_count": null,
            "_view_module_version": "1.5.0",
            "box_style": "",
            "layout": "IPY_MODEL_f6ec0fa0e7074352a93ba3a3fe580f35",
            "_model_module": "@jupyter-widgets/controls",
            "children": [
              "IPY_MODEL_503aae0a26d34d4bbdac59635ea0f527",
              "IPY_MODEL_6b9257cfb43947e9a98404bf79e186f8"
            ]
          }
        },
        "f6ec0fa0e7074352a93ba3a3fe580f35": {
          "model_module": "@jupyter-widgets/base",
          "model_name": "LayoutModel",
          "state": {
            "_view_name": "LayoutView",
            "grid_template_rows": null,
            "right": null,
            "justify_content": null,
            "_view_module": "@jupyter-widgets/base",
            "overflow": null,
            "_model_module_version": "1.2.0",
            "_view_count": null,
            "flex_flow": null,
            "width": null,
            "min_width": null,
            "border": null,
            "align_items": null,
            "bottom": null,
            "_model_module": "@jupyter-widgets/base",
            "top": null,
            "grid_column": null,
            "overflow_y": null,
            "overflow_x": null,
            "grid_auto_flow": null,
            "grid_area": null,
            "grid_template_columns": null,
            "flex": null,
            "_model_name": "LayoutModel",
            "justify_items": null,
            "grid_row": null,
            "max_height": null,
            "align_content": null,
            "visibility": null,
            "align_self": null,
            "height": null,
            "min_height": null,
            "padding": null,
            "grid_auto_rows": null,
            "grid_gap": null,
            "max_width": null,
            "order": null,
            "_view_module_version": "1.2.0",
            "grid_template_areas": null,
            "object_position": null,
            "object_fit": null,
            "grid_auto_columns": null,
            "margin": null,
            "display": null,
            "left": null
          }
        },
        "503aae0a26d34d4bbdac59635ea0f527": {
          "model_module": "@jupyter-widgets/controls",
          "model_name": "FloatProgressModel",
          "state": {
            "_view_name": "ProgressView",
            "style": "IPY_MODEL_4e7f09bcee7b4994b99e4fd5a35b84b5",
            "_dom_classes": [],
            "description": "",
            "_model_name": "FloatProgressModel",
            "bar_style": "success",
            "max": 4422102,
            "_view_module": "@jupyter-widgets/controls",
            "_model_module_version": "1.5.0",
            "value": 4422102,
            "_view_count": null,
            "_view_module_version": "1.5.0",
            "orientation": "horizontal",
            "min": 0,
            "description_tooltip": null,
            "_model_module": "@jupyter-widgets/controls",
            "layout": "IPY_MODEL_4ba767c581bb420686841c6c4a9da3fa"
          }
        },
        "6b9257cfb43947e9a98404bf79e186f8": {
          "model_module": "@jupyter-widgets/controls",
          "model_name": "HTMLModel",
          "state": {
            "_view_name": "HTMLView",
            "style": "IPY_MODEL_6a7476ea6b45432a94a2e398a125fa88",
            "_dom_classes": [],
            "description": "",
            "_model_name": "HTMLModel",
            "placeholder": "​",
            "_view_module": "@jupyter-widgets/controls",
            "_model_module_version": "1.5.0",
            "value": " 4422656/? [06:08&lt;00:00, 11986.65it/s]",
            "_view_count": null,
            "_view_module_version": "1.5.0",
            "description_tooltip": null,
            "_model_module": "@jupyter-widgets/controls",
            "layout": "IPY_MODEL_ad08301158164adfba7e227b88b8b63c"
          }
        },
        "4e7f09bcee7b4994b99e4fd5a35b84b5": {
          "model_module": "@jupyter-widgets/controls",
          "model_name": "ProgressStyleModel",
          "state": {
            "_view_name": "StyleView",
            "_model_name": "ProgressStyleModel",
            "description_width": "initial",
            "_view_module": "@jupyter-widgets/base",
            "_model_module_version": "1.5.0",
            "_view_count": null,
            "_view_module_version": "1.2.0",
            "bar_color": null,
            "_model_module": "@jupyter-widgets/controls"
          }
        },
        "4ba767c581bb420686841c6c4a9da3fa": {
          "model_module": "@jupyter-widgets/base",
          "model_name": "LayoutModel",
          "state": {
            "_view_name": "LayoutView",
            "grid_template_rows": null,
            "right": null,
            "justify_content": null,
            "_view_module": "@jupyter-widgets/base",
            "overflow": null,
            "_model_module_version": "1.2.0",
            "_view_count": null,
            "flex_flow": null,
            "width": null,
            "min_width": null,
            "border": null,
            "align_items": null,
            "bottom": null,
            "_model_module": "@jupyter-widgets/base",
            "top": null,
            "grid_column": null,
            "overflow_y": null,
            "overflow_x": null,
            "grid_auto_flow": null,
            "grid_area": null,
            "grid_template_columns": null,
            "flex": null,
            "_model_name": "LayoutModel",
            "justify_items": null,
            "grid_row": null,
            "max_height": null,
            "align_content": null,
            "visibility": null,
            "align_self": null,
            "height": null,
            "min_height": null,
            "padding": null,
            "grid_auto_rows": null,
            "grid_gap": null,
            "max_width": null,
            "order": null,
            "_view_module_version": "1.2.0",
            "grid_template_areas": null,
            "object_position": null,
            "object_fit": null,
            "grid_auto_columns": null,
            "margin": null,
            "display": null,
            "left": null
          }
        },
        "6a7476ea6b45432a94a2e398a125fa88": {
          "model_module": "@jupyter-widgets/controls",
          "model_name": "DescriptionStyleModel",
          "state": {
            "_view_name": "StyleView",
            "_model_name": "DescriptionStyleModel",
            "description_width": "",
            "_view_module": "@jupyter-widgets/base",
            "_model_module_version": "1.5.0",
            "_view_count": null,
            "_view_module_version": "1.2.0",
            "_model_module": "@jupyter-widgets/controls"
          }
        },
        "ad08301158164adfba7e227b88b8b63c": {
          "model_module": "@jupyter-widgets/base",
          "model_name": "LayoutModel",
          "state": {
            "_view_name": "LayoutView",
            "grid_template_rows": null,
            "right": null,
            "justify_content": null,
            "_view_module": "@jupyter-widgets/base",
            "overflow": null,
            "_model_module_version": "1.2.0",
            "_view_count": null,
            "flex_flow": null,
            "width": null,
            "min_width": null,
            "border": null,
            "align_items": null,
            "bottom": null,
            "_model_module": "@jupyter-widgets/base",
            "top": null,
            "grid_column": null,
            "overflow_y": null,
            "overflow_x": null,
            "grid_auto_flow": null,
            "grid_area": null,
            "grid_template_columns": null,
            "flex": null,
            "_model_name": "LayoutModel",
            "justify_items": null,
            "grid_row": null,
            "max_height": null,
            "align_content": null,
            "visibility": null,
            "align_self": null,
            "height": null,
            "min_height": null,
            "padding": null,
            "grid_auto_rows": null,
            "grid_gap": null,
            "max_width": null,
            "order": null,
            "_view_module_version": "1.2.0",
            "grid_template_areas": null,
            "object_position": null,
            "object_fit": null,
            "grid_auto_columns": null,
            "margin": null,
            "display": null,
            "left": null
          }
        },
        "d03090208e97493794a81ceed9732ca6": {
          "model_module": "@jupyter-widgets/controls",
          "model_name": "HBoxModel",
          "state": {
            "_view_name": "HBoxView",
            "_dom_classes": [],
            "_model_name": "HBoxModel",
            "_view_module": "@jupyter-widgets/controls",
            "_model_module_version": "1.5.0",
            "_view_count": null,
            "_view_module_version": "1.5.0",
            "box_style": "",
            "layout": "IPY_MODEL_5dfd9bb3aeec4854ac93f0c1d965a0ff",
            "_model_module": "@jupyter-widgets/controls",
            "children": [
              "IPY_MODEL_95a1c2960a57440ba22d33d5946ea456",
              "IPY_MODEL_da3c64bd2e2549c0b11fac1ba93102ee"
            ]
          }
        },
        "5dfd9bb3aeec4854ac93f0c1d965a0ff": {
          "model_module": "@jupyter-widgets/base",
          "model_name": "LayoutModel",
          "state": {
            "_view_name": "LayoutView",
            "grid_template_rows": null,
            "right": null,
            "justify_content": null,
            "_view_module": "@jupyter-widgets/base",
            "overflow": null,
            "_model_module_version": "1.2.0",
            "_view_count": null,
            "flex_flow": null,
            "width": null,
            "min_width": null,
            "border": null,
            "align_items": null,
            "bottom": null,
            "_model_module": "@jupyter-widgets/base",
            "top": null,
            "grid_column": null,
            "overflow_y": null,
            "overflow_x": null,
            "grid_auto_flow": null,
            "grid_area": null,
            "grid_template_columns": null,
            "flex": null,
            "_model_name": "LayoutModel",
            "justify_items": null,
            "grid_row": null,
            "max_height": null,
            "align_content": null,
            "visibility": null,
            "align_self": null,
            "height": null,
            "min_height": null,
            "padding": null,
            "grid_auto_rows": null,
            "grid_gap": null,
            "max_width": null,
            "order": null,
            "_view_module_version": "1.2.0",
            "grid_template_areas": null,
            "object_position": null,
            "object_fit": null,
            "grid_auto_columns": null,
            "margin": null,
            "display": null,
            "left": null
          }
        },
        "95a1c2960a57440ba22d33d5946ea456": {
          "model_module": "@jupyter-widgets/controls",
          "model_name": "FloatProgressModel",
          "state": {
            "_view_name": "ProgressView",
            "style": "IPY_MODEL_db0550c471ec4e8bba71246321bf4a7a",
            "_dom_classes": [],
            "description": "",
            "_model_name": "FloatProgressModel",
            "bar_style": "success",
            "max": 5148,
            "_view_module": "@jupyter-widgets/controls",
            "_model_module_version": "1.5.0",
            "value": 5148,
            "_view_count": null,
            "_view_module_version": "1.5.0",
            "orientation": "horizontal",
            "min": 0,
            "description_tooltip": null,
            "_model_module": "@jupyter-widgets/controls",
            "layout": "IPY_MODEL_d92837c637554131a3f2914354bdcf16"
          }
        },
        "da3c64bd2e2549c0b11fac1ba93102ee": {
          "model_module": "@jupyter-widgets/controls",
          "model_name": "HTMLModel",
          "state": {
            "_view_name": "HTMLView",
            "style": "IPY_MODEL_2034c69604304c86a67cbce634c8b9aa",
            "_dom_classes": [],
            "description": "",
            "_model_name": "HTMLModel",
            "placeholder": "​",
            "_view_module": "@jupyter-widgets/controls",
            "_model_module_version": "1.5.0",
            "value": " 6144/? [00:02&lt;00:00, 2968.70it/s]",
            "_view_count": null,
            "_view_module_version": "1.5.0",
            "description_tooltip": null,
            "_model_module": "@jupyter-widgets/controls",
            "layout": "IPY_MODEL_af5b93d3397f4f72a5ac88dc41dba9a2"
          }
        },
        "db0550c471ec4e8bba71246321bf4a7a": {
          "model_module": "@jupyter-widgets/controls",
          "model_name": "ProgressStyleModel",
          "state": {
            "_view_name": "StyleView",
            "_model_name": "ProgressStyleModel",
            "description_width": "initial",
            "_view_module": "@jupyter-widgets/base",
            "_model_module_version": "1.5.0",
            "_view_count": null,
            "_view_module_version": "1.2.0",
            "bar_color": null,
            "_model_module": "@jupyter-widgets/controls"
          }
        },
        "d92837c637554131a3f2914354bdcf16": {
          "model_module": "@jupyter-widgets/base",
          "model_name": "LayoutModel",
          "state": {
            "_view_name": "LayoutView",
            "grid_template_rows": null,
            "right": null,
            "justify_content": null,
            "_view_module": "@jupyter-widgets/base",
            "overflow": null,
            "_model_module_version": "1.2.0",
            "_view_count": null,
            "flex_flow": null,
            "width": null,
            "min_width": null,
            "border": null,
            "align_items": null,
            "bottom": null,
            "_model_module": "@jupyter-widgets/base",
            "top": null,
            "grid_column": null,
            "overflow_y": null,
            "overflow_x": null,
            "grid_auto_flow": null,
            "grid_area": null,
            "grid_template_columns": null,
            "flex": null,
            "_model_name": "LayoutModel",
            "justify_items": null,
            "grid_row": null,
            "max_height": null,
            "align_content": null,
            "visibility": null,
            "align_self": null,
            "height": null,
            "min_height": null,
            "padding": null,
            "grid_auto_rows": null,
            "grid_gap": null,
            "max_width": null,
            "order": null,
            "_view_module_version": "1.2.0",
            "grid_template_areas": null,
            "object_position": null,
            "object_fit": null,
            "grid_auto_columns": null,
            "margin": null,
            "display": null,
            "left": null
          }
        },
        "2034c69604304c86a67cbce634c8b9aa": {
          "model_module": "@jupyter-widgets/controls",
          "model_name": "DescriptionStyleModel",
          "state": {
            "_view_name": "StyleView",
            "_model_name": "DescriptionStyleModel",
            "description_width": "",
            "_view_module": "@jupyter-widgets/base",
            "_model_module_version": "1.5.0",
            "_view_count": null,
            "_view_module_version": "1.2.0",
            "_model_module": "@jupyter-widgets/controls"
          }
        },
        "af5b93d3397f4f72a5ac88dc41dba9a2": {
          "model_module": "@jupyter-widgets/base",
          "model_name": "LayoutModel",
          "state": {
            "_view_name": "LayoutView",
            "grid_template_rows": null,
            "right": null,
            "justify_content": null,
            "_view_module": "@jupyter-widgets/base",
            "overflow": null,
            "_model_module_version": "1.2.0",
            "_view_count": null,
            "flex_flow": null,
            "width": null,
            "min_width": null,
            "border": null,
            "align_items": null,
            "bottom": null,
            "_model_module": "@jupyter-widgets/base",
            "top": null,
            "grid_column": null,
            "overflow_y": null,
            "overflow_x": null,
            "grid_auto_flow": null,
            "grid_area": null,
            "grid_template_columns": null,
            "flex": null,
            "_model_name": "LayoutModel",
            "justify_items": null,
            "grid_row": null,
            "max_height": null,
            "align_content": null,
            "visibility": null,
            "align_self": null,
            "height": null,
            "min_height": null,
            "padding": null,
            "grid_auto_rows": null,
            "grid_gap": null,
            "max_width": null,
            "order": null,
            "_view_module_version": "1.2.0",
            "grid_template_areas": null,
            "object_position": null,
            "object_fit": null,
            "grid_auto_columns": null,
            "margin": null,
            "display": null,
            "left": null
          }
        }
      }
    }
  },
  "cells": [
    {
      "cell_type": "markdown",
      "metadata": {
        "id": "view-in-github",
        "colab_type": "text"
      },
      "source": [
        "<a href=\"https://colab.research.google.com/github/akash-agni/DeepLearning/blob/main/Learning_PyTorch_Basics.ipynb\" target=\"_parent\"><img src=\"https://colab.research.google.com/assets/colab-badge.svg\" alt=\"Open In Colab\"/></a>"
      ]
    },
    {
      "cell_type": "code",
      "metadata": {
        "id": "OStTYT82oHjz"
      },
      "source": [
        "import torch\r\n",
        "from torch import nn\r\n",
        "from torch.utils.data import DataLoader\r\n",
        "from torchvision import datasets\r\n",
        "from torchvision.transforms import ToTensor, Lambda, Compose\r\n",
        "import matplotlib.pyplot as plt\r\n",
        "import numpy as np"
      ],
      "execution_count": 26,
      "outputs": []
    },
    {
      "cell_type": "code",
      "metadata": {
        "colab": {
          "base_uri": "https://localhost:8080/",
          "height": 455,
          "referenced_widgets": [
            "b34c14d99f5a4fdeb897ed357c4e202e",
            "4b53689daaae47ecb845031e5b202e2e",
            "c2b54445ba5f47a3b15c564e508b88df",
            "099c0f716d6d4aa49e5c5cf0339f1874",
            "4ea6b25fed554f48b3901f875c15b653",
            "f5796a2cc3e84191afd106cd5ee1905b",
            "a927f3d466da46eaa4e5ec9989891b21",
            "354245a6bd964969aa1d0d3b47ea30bb",
            "70f684d4f488490491255cc02b995b6a",
            "f18ae65e62314d06a365313bc76f72ec",
            "583e52d79d19443ea4682e3ae07c8ede",
            "1c04792abf3346c6b2639d31d437a953",
            "3596df68d9e0430683ad9c892b3ed5ad",
            "3a1865f652334aa4ab1bd0c45742bbe7",
            "10ad2accb8c742db9e41e229b9d0c312",
            "d55ee03b1cd64641a36430def2abaeb1",
            "15b6d921104a42a3a5d3c8bb68d9f8d0",
            "f6ec0fa0e7074352a93ba3a3fe580f35",
            "503aae0a26d34d4bbdac59635ea0f527",
            "6b9257cfb43947e9a98404bf79e186f8",
            "4e7f09bcee7b4994b99e4fd5a35b84b5",
            "4ba767c581bb420686841c6c4a9da3fa",
            "6a7476ea6b45432a94a2e398a125fa88",
            "ad08301158164adfba7e227b88b8b63c",
            "d03090208e97493794a81ceed9732ca6",
            "5dfd9bb3aeec4854ac93f0c1d965a0ff",
            "95a1c2960a57440ba22d33d5946ea456",
            "da3c64bd2e2549c0b11fac1ba93102ee",
            "db0550c471ec4e8bba71246321bf4a7a",
            "d92837c637554131a3f2914354bdcf16",
            "2034c69604304c86a67cbce634c8b9aa",
            "af5b93d3397f4f72a5ac88dc41dba9a2"
          ]
        },
        "id": "rTs1we6kodRr",
        "outputId": "9d841910-e810-4ad0-94bf-7fa1e78a3f6c"
      },
      "source": [
        "training_data = datasets.FashionMNIST(\r\n",
        "    root='data',\r\n",
        "    train=True,\r\n",
        "    download=True,\r\n",
        "    transform=ToTensor()\r\n",
        ")\r\n",
        "testing_data = datasets.FashionMNIST(\r\n",
        "    root='data',\r\n",
        "    train=False,\r\n",
        "    download=True,\r\n",
        "    transform=ToTensor()\r\n",
        ")"
      ],
      "execution_count": 2,
      "outputs": [
        {
          "output_type": "stream",
          "text": [
            "Downloading http://fashion-mnist.s3-website.eu-central-1.amazonaws.com/train-images-idx3-ubyte.gz to data/FashionMNIST/raw/train-images-idx3-ubyte.gz\n"
          ],
          "name": "stdout"
        },
        {
          "output_type": "display_data",
          "data": {
            "application/vnd.jupyter.widget-view+json": {
              "model_id": "b34c14d99f5a4fdeb897ed357c4e202e",
              "version_minor": 0,
              "version_major": 2
            },
            "text/plain": [
              "HBox(children=(FloatProgress(value=0.0, max=26421880.0), HTML(value='')))"
            ]
          },
          "metadata": {
            "tags": []
          }
        },
        {
          "output_type": "stream",
          "text": [
            "\n",
            "Extracting data/FashionMNIST/raw/train-images-idx3-ubyte.gz to data/FashionMNIST/raw\n",
            "Downloading http://fashion-mnist.s3-website.eu-central-1.amazonaws.com/train-labels-idx1-ubyte.gz to data/FashionMNIST/raw/train-labels-idx1-ubyte.gz\n"
          ],
          "name": "stdout"
        },
        {
          "output_type": "display_data",
          "data": {
            "application/vnd.jupyter.widget-view+json": {
              "model_id": "70f684d4f488490491255cc02b995b6a",
              "version_minor": 0,
              "version_major": 2
            },
            "text/plain": [
              "HBox(children=(FloatProgress(value=0.0, max=29515.0), HTML(value='')))"
            ]
          },
          "metadata": {
            "tags": []
          }
        },
        {
          "output_type": "stream",
          "text": [
            "\n",
            "Extracting data/FashionMNIST/raw/train-labels-idx1-ubyte.gz to data/FashionMNIST/raw\n",
            "Downloading http://fashion-mnist.s3-website.eu-central-1.amazonaws.com/t10k-images-idx3-ubyte.gz to data/FashionMNIST/raw/t10k-images-idx3-ubyte.gz\n"
          ],
          "name": "stdout"
        },
        {
          "output_type": "display_data",
          "data": {
            "application/vnd.jupyter.widget-view+json": {
              "model_id": "15b6d921104a42a3a5d3c8bb68d9f8d0",
              "version_minor": 0,
              "version_major": 2
            },
            "text/plain": [
              "HBox(children=(FloatProgress(value=0.0, max=4422102.0), HTML(value='')))"
            ]
          },
          "metadata": {
            "tags": []
          }
        },
        {
          "output_type": "stream",
          "text": [
            "\n",
            "Extracting data/FashionMNIST/raw/t10k-images-idx3-ubyte.gz to data/FashionMNIST/raw\n",
            "Downloading http://fashion-mnist.s3-website.eu-central-1.amazonaws.com/t10k-labels-idx1-ubyte.gz to data/FashionMNIST/raw/t10k-labels-idx1-ubyte.gz\n"
          ],
          "name": "stdout"
        },
        {
          "output_type": "display_data",
          "data": {
            "application/vnd.jupyter.widget-view+json": {
              "model_id": "d03090208e97493794a81ceed9732ca6",
              "version_minor": 0,
              "version_major": 2
            },
            "text/plain": [
              "HBox(children=(FloatProgress(value=0.0, max=5148.0), HTML(value='')))"
            ]
          },
          "metadata": {
            "tags": []
          }
        },
        {
          "output_type": "stream",
          "text": [
            "\n",
            "Extracting data/FashionMNIST/raw/t10k-labels-idx1-ubyte.gz to data/FashionMNIST/raw\n",
            "Processing...\n",
            "Done!\n"
          ],
          "name": "stdout"
        },
        {
          "output_type": "stream",
          "text": [
            "/usr/local/lib/python3.7/dist-packages/torchvision/datasets/mnist.py:479: UserWarning: The given NumPy array is not writeable, and PyTorch does not support non-writeable tensors. This means you can write to the underlying (supposedly non-writeable) NumPy array using the tensor. You may want to copy the array to protect its data or make it writeable before converting it to a tensor. This type of warning will be suppressed for the rest of this program. (Triggered internally at  /pytorch/torch/csrc/utils/tensor_numpy.cpp:143.)\n",
            "  return torch.from_numpy(parsed.astype(m[2], copy=False)).view(*s)\n"
          ],
          "name": "stderr"
        }
      ]
    },
    {
      "cell_type": "code",
      "metadata": {
        "colab": {
          "base_uri": "https://localhost:8080/"
        },
        "id": "KTIl3iljpKtw",
        "outputId": "74087a1d-590c-4881-882b-5e5a721b14da"
      },
      "source": [
        "batch_size = 64\r\n",
        "\r\n",
        "training_dataloader = DataLoader(training_data, batch_size=batch_size)\r\n",
        "testing_dataloader = DataLoader(testing_data, batch_size=batch_size)\r\n",
        "\r\n",
        "for X, y in training_dataloader:\r\n",
        "  print(f\"Shape of X [H, C, H, W] is: {X.shape}\")\r\n",
        "  print(f\"Shape of y [N] is: {y.shape}\")\r\n",
        "  break"
      ],
      "execution_count": 5,
      "outputs": [
        {
          "output_type": "stream",
          "text": [
            "Shape of X [H, C, H, W] is: torch.Size([64, 1, 28, 28])\n",
            "Shape of y [N] is: torch.Size([64])\n"
          ],
          "name": "stdout"
        }
      ]
    },
    {
      "cell_type": "code",
      "metadata": {
        "colab": {
          "base_uri": "https://localhost:8080/"
        },
        "id": "_eoXp7Y_pPgy",
        "outputId": "f731f4ff-0901-45c3-e8e9-0204dcb4eb5f"
      },
      "source": [
        "device = 'cuda' if torch.cuda.is_available() else 'cpu'\r\n",
        "print(f\"Using {device} for training model\")"
      ],
      "execution_count": 6,
      "outputs": [
        {
          "output_type": "stream",
          "text": [
            "Using cuda for training model\n"
          ],
          "name": "stdout"
        }
      ]
    },
    {
      "cell_type": "code",
      "metadata": {
        "colab": {
          "base_uri": "https://localhost:8080/"
        },
        "id": "2Gd4YbOJq0XO",
        "outputId": "e443d972-6522-4064-81a0-92c58779ab7b"
      },
      "source": [
        "class NeuralNetwork(nn.Module):\r\n",
        "\r\n",
        "  def __init__(self):\r\n",
        "    super(NeuralNetwork, self).__init__()\r\n",
        "    self.flatten = nn.Flatten()\r\n",
        "    self.linear_relu_stack = nn.Sequential(\r\n",
        "        nn.Linear(28*28, 512),\r\n",
        "        nn.ReLU(),\r\n",
        "        nn.Linear(512, 512),\r\n",
        "        nn.ReLU(),\r\n",
        "        nn.Linear(512, 10),\r\n",
        "        nn.ReLU()\r\n",
        "    )\r\n",
        "\r\n",
        "  def forward(self, x):\r\n",
        "    x = self.flatten(x)\r\n",
        "    logits = self.linear_relu_stack(x)\r\n",
        "    return logits\r\n",
        "\r\n",
        "model = NeuralNetwork().to(device)\r\n",
        "print(model)"
      ],
      "execution_count": 7,
      "outputs": [
        {
          "output_type": "stream",
          "text": [
            "NeuralNetwork(\n",
            "  (flatten): Flatten(start_dim=1, end_dim=-1)\n",
            "  (linear_relu_stack): Sequential(\n",
            "    (0): Linear(in_features=784, out_features=512, bias=True)\n",
            "    (1): ReLU()\n",
            "    (2): Linear(in_features=512, out_features=512, bias=True)\n",
            "    (3): ReLU()\n",
            "    (4): Linear(in_features=512, out_features=10, bias=True)\n",
            "    (5): ReLU()\n",
            "  )\n",
            ")\n"
          ],
          "name": "stdout"
        }
      ]
    },
    {
      "cell_type": "code",
      "metadata": {
        "id": "eMcEEgOmshh0"
      },
      "source": [
        "loss_fn = nn.CrossEntropyLoss()\r\n",
        "optimizer = torch.optim.SGD(model.parameters(), lr=1e-3)"
      ],
      "execution_count": 8,
      "outputs": []
    },
    {
      "cell_type": "code",
      "metadata": {
        "id": "6jWoHJh5tKJz"
      },
      "source": [
        "def train(dataloader, model, loss_fn, optimizer):\r\n",
        "  size = len(dataloader.dataset)\r\n",
        "  for batch, (X, y) in enumerate(dataloader):\r\n",
        "    X, y = X.to(device), y.to(device)\r\n",
        "\r\n",
        "    pred = model(X)\r\n",
        "    loss = loss_fn(pred, y)\r\n",
        "\r\n",
        "    optimizer.zero_grad()\r\n",
        "    loss.backward()\r\n",
        "    optimizer.step()\r\n",
        "\r\n",
        "    if batch % 100 == 0:\r\n",
        "      loss, current = loss.item(), batch * len(X)\r\n",
        "      print(f\"loss: {loss:>7f}  [{current:>5d}/{size:>5d}]\")"
      ],
      "execution_count": 9,
      "outputs": []
    },
    {
      "cell_type": "code",
      "metadata": {
        "id": "4aq9JkWKtK9i"
      },
      "source": [
        "def test(dataloader, model):\r\n",
        "  size = len(dataloader.dataset)\r\n",
        "  model.eval()\r\n",
        "  test_loss, correct = 0, 0\r\n",
        "  with torch.no_grad():\r\n",
        "    for X, y in dataloader:\r\n",
        "      X, y = X.to(device), y.to(device)\r\n",
        "      pred = model(X)\r\n",
        "      test_loss += loss_fn(pred, y).item()\r\n",
        "      correct += (pred.argmax(1) == y).type(torch.float).sum().item()\r\n",
        "  test_loss /= size\r\n",
        "  correct /= size\r\n",
        "  print(f\"Test Error: \\n Accuracy: {(100*correct):>0.1f}%, Avg loss:{test_loss:>8f} \\n\")"
      ],
      "execution_count": 10,
      "outputs": []
    },
    {
      "cell_type": "code",
      "metadata": {
        "colab": {
          "base_uri": "https://localhost:8080/"
        },
        "id": "CI_OhHbqwR03",
        "outputId": "3edfd119-ffe4-404f-fe12-890a8e64c586"
      },
      "source": [
        "epochs = 10\r\n",
        "for i  in range(epochs):\r\n",
        "  print(f\"Epoch {i+1}\\n-------------------------------\")\r\n",
        "  train(training_dataloader, model, loss_fn, optimizer)\r\n",
        "  test(testing_dataloader, model)\r\n",
        "print('Done!')"
      ],
      "execution_count": 12,
      "outputs": [
        {
          "output_type": "stream",
          "text": [
            "Epoch 1\n",
            "-------------------------------\n",
            "loss: 0.789062  [    0/60000]\n",
            "loss: 0.876021  [ 6400/60000]\n",
            "loss: 0.636143  [12800/60000]\n",
            "loss: 0.838301  [19200/60000]\n",
            "loss: 0.742657  [25600/60000]\n",
            "loss: 0.741860  [32000/60000]\n",
            "loss: 0.824243  [38400/60000]\n",
            "loss: 0.777084  [44800/60000]\n",
            "loss: 0.799441  [51200/60000]\n",
            "loss: 0.761004  [57600/60000]\n",
            "Test Error: \n",
            " Accuracy: 71.7%, Avg loss:0.011962 \n",
            "\n",
            "Epoch 2\n",
            "-------------------------------\n",
            "loss: 0.750790  [    0/60000]\n",
            "loss: 0.846109  [ 6400/60000]\n",
            "loss: 0.604820  [12800/60000]\n",
            "loss: 0.812937  [19200/60000]\n",
            "loss: 0.721164  [25600/60000]\n",
            "loss: 0.715831  [32000/60000]\n",
            "loss: 0.797680  [38400/60000]\n",
            "loss: 0.759057  [44800/60000]\n",
            "loss: 0.775877  [51200/60000]\n",
            "loss: 0.739961  [57600/60000]\n",
            "Test Error: \n",
            " Accuracy: 73.0%, Avg loss:0.011607 \n",
            "\n",
            "Epoch 3\n",
            "-------------------------------\n",
            "loss: 0.717702  [    0/60000]\n",
            "loss: 0.819106  [ 6400/60000]\n",
            "loss: 0.578301  [12800/60000]\n",
            "loss: 0.791614  [19200/60000]\n",
            "loss: 0.703017  [25600/60000]\n",
            "loss: 0.694123  [32000/60000]\n",
            "loss: 0.773387  [38400/60000]\n",
            "loss: 0.743615  [44800/60000]\n",
            "loss: 0.755250  [51200/60000]\n",
            "loss: 0.720891  [57600/60000]\n",
            "Test Error: \n",
            " Accuracy: 73.9%, Avg loss:0.011291 \n",
            "\n",
            "Epoch 4\n",
            "-------------------------------\n",
            "loss: 0.688600  [    0/60000]\n",
            "loss: 0.794001  [ 6400/60000]\n",
            "loss: 0.555496  [12800/60000]\n",
            "loss: 0.773198  [19200/60000]\n",
            "loss: 0.686926  [25600/60000]\n",
            "loss: 0.675597  [32000/60000]\n",
            "loss: 0.750974  [38400/60000]\n",
            "loss: 0.729818  [44800/60000]\n",
            "loss: 0.736946  [51200/60000]\n",
            "loss: 0.703521  [57600/60000]\n",
            "Test Error: \n",
            " Accuracy: 74.9%, Avg loss:0.011005 \n",
            "\n",
            "Epoch 5\n",
            "-------------------------------\n",
            "loss: 0.662655  [    0/60000]\n",
            "loss: 0.770602  [ 6400/60000]\n",
            "loss: 0.535591  [12800/60000]\n",
            "loss: 0.756879  [19200/60000]\n",
            "loss: 0.672591  [25600/60000]\n",
            "loss: 0.659499  [32000/60000]\n",
            "loss: 0.730032  [38400/60000]\n",
            "loss: 0.717385  [44800/60000]\n",
            "loss: 0.720519  [51200/60000]\n",
            "loss: 0.687401  [57600/60000]\n",
            "Test Error: \n",
            " Accuracy: 75.5%, Avg loss:0.010745 \n",
            "\n",
            "Epoch 6\n",
            "-------------------------------\n",
            "loss: 0.639326  [    0/60000]\n",
            "loss: 0.748886  [ 6400/60000]\n",
            "loss: 0.517909  [12800/60000]\n",
            "loss: 0.742205  [19200/60000]\n",
            "loss: 0.659704  [25600/60000]\n",
            "loss: 0.645566  [32000/60000]\n",
            "loss: 0.710580  [38400/60000]\n",
            "loss: 0.706114  [44800/60000]\n",
            "loss: 0.705774  [51200/60000]\n",
            "loss: 0.672387  [57600/60000]\n",
            "Test Error: \n",
            " Accuracy: 76.4%, Avg loss:0.010506 \n",
            "\n",
            "Epoch 7\n",
            "-------------------------------\n",
            "loss: 0.618358  [    0/60000]\n",
            "loss: 0.728705  [ 6400/60000]\n",
            "loss: 0.502133  [12800/60000]\n",
            "loss: 0.728992  [19200/60000]\n",
            "loss: 0.648229  [25600/60000]\n",
            "loss: 0.633437  [32000/60000]\n",
            "loss: 0.692490  [38400/60000]\n",
            "loss: 0.696177  [44800/60000]\n",
            "loss: 0.692804  [51200/60000]\n",
            "loss: 0.658179  [57600/60000]\n",
            "Test Error: \n",
            " Accuracy: 76.9%, Avg loss:0.010286 \n",
            "\n",
            "Epoch 8\n",
            "-------------------------------\n",
            "loss: 0.599373  [    0/60000]\n",
            "loss: 0.710002  [ 6400/60000]\n",
            "loss: 0.487868  [12800/60000]\n",
            "loss: 0.716858  [19200/60000]\n",
            "loss: 0.637937  [25600/60000]\n",
            "loss: 0.622849  [32000/60000]\n",
            "loss: 0.675758  [38400/60000]\n",
            "loss: 0.687523  [44800/60000]\n",
            "loss: 0.681472  [51200/60000]\n",
            "loss: 0.644948  [57600/60000]\n",
            "Test Error: \n",
            " Accuracy: 77.5%, Avg loss:0.010084 \n",
            "\n",
            "Epoch 9\n",
            "-------------------------------\n",
            "loss: 0.582291  [    0/60000]\n",
            "loss: 0.692710  [ 6400/60000]\n",
            "loss: 0.474991  [12800/60000]\n",
            "loss: 0.705750  [19200/60000]\n",
            "loss: 0.628705  [25600/60000]\n",
            "loss: 0.613497  [32000/60000]\n",
            "loss: 0.660221  [38400/60000]\n",
            "loss: 0.680162  [44800/60000]\n",
            "loss: 0.671505  [51200/60000]\n",
            "loss: 0.632539  [57600/60000]\n",
            "Test Error: \n",
            " Accuracy: 77.9%, Avg loss:0.009899 \n",
            "\n",
            "Epoch 10\n",
            "-------------------------------\n",
            "loss: 0.566877  [    0/60000]\n",
            "loss: 0.676750  [ 6400/60000]\n",
            "loss: 0.463294  [12800/60000]\n",
            "loss: 0.695437  [19200/60000]\n",
            "loss: 0.620458  [25600/60000]\n",
            "loss: 0.605276  [32000/60000]\n",
            "loss: 0.645776  [38400/60000]\n",
            "loss: 0.673903  [44800/60000]\n",
            "loss: 0.662833  [51200/60000]\n",
            "loss: 0.620752  [57600/60000]\n",
            "Test Error: \n",
            " Accuracy: 78.4%, Avg loss:0.009729 \n",
            "\n",
            "Done!\n"
          ],
          "name": "stdout"
        }
      ]
    },
    {
      "cell_type": "code",
      "metadata": {
        "colab": {
          "base_uri": "https://localhost:8080/"
        },
        "id": "SFh41Q7Hwwh5",
        "outputId": "f6c50ea9-0012-4705-8fb6-7273b65dc0a2"
      },
      "source": [
        "torch.save(model.state_dict(), 'model.pth')\r\n",
        "print('Model saved to model.pth')"
      ],
      "execution_count": 13,
      "outputs": [
        {
          "output_type": "stream",
          "text": [
            "Model saved to model.pth\n"
          ],
          "name": "stdout"
        }
      ]
    },
    {
      "cell_type": "code",
      "metadata": {
        "colab": {
          "base_uri": "https://localhost:8080/"
        },
        "id": "RwL3aDn_yEkG",
        "outputId": "6dc72a56-fca4-492d-f69e-66ddb1149dd9"
      },
      "source": [
        "model = NeuralNetwork()\r\n",
        "model.load_state_dict(torch.load('model.pth'))"
      ],
      "execution_count": 15,
      "outputs": [
        {
          "output_type": "execute_result",
          "data": {
            "text/plain": [
              "<All keys matched successfully>"
            ]
          },
          "metadata": {
            "tags": []
          },
          "execution_count": 15
        }
      ]
    },
    {
      "cell_type": "code",
      "metadata": {
        "colab": {
          "base_uri": "https://localhost:8080/",
          "height": 392
        },
        "id": "C36OzRaXyXLa",
        "outputId": "b4200db0-34d2-4846-8e17-f6e3c9173654"
      },
      "source": [
        "classes = [\r\n",
        "    \"T-shirt/top\",\r\n",
        "    \"Trouser\",\r\n",
        "    \"Pullover\",\r\n",
        "    \"Dress\",\r\n",
        "    \"Coat\",\r\n",
        "    \"Sandal\",\r\n",
        "    \"Shirt\",\r\n",
        "    \"Sneaker\",\r\n",
        "    \"Bag\",\r\n",
        "    \"Ankle boot\",\r\n",
        "]\r\n",
        "idx = np.random.randint(len(testing_data))\r\n",
        "X, y = testing_data[idx][0], testing_data[idx][1]\r\n",
        "with torch.no_grad():\r\n",
        "  pred = model(X)\r\n",
        "  predicted, actual = classes[pred[0].argmax(0)], classes[y]\r\n",
        "  print(f'Predicted: \"{predicted}\", Actual: \"{actual}\"')\r\n",
        "  fig, ax = plt.subplots(figsize=(6,6))\r\n",
        "  ax.imshow(np.reshape(X.numpy(), (28, 28)), cmap='Greys')"
      ],
      "execution_count": 37,
      "outputs": [
        {
          "output_type": "stream",
          "text": [
            "Predicted: \"Dress\", Actual: \"Dress\"\n"
          ],
          "name": "stdout"
        },
        {
          "output_type": "display_data",
          "data": {
            "image/png": "[encoded data removed]",
            "text/plain": [
              "<Figure size 432x432 with 1 Axes>"
            ]
          },
          "metadata": {
            "tags": [],
            "needs_background": "light"
          }
        }
      ]
    },
    {
      "cell_type": "code",
      "metadata": {
        "id": "j0S0uKgEzDCC"
      },
      "source": [
        ""
      ],
      "execution_count": null,
      "outputs": []
    }
  ]
}