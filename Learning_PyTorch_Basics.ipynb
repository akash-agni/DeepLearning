{
  "nbformat": 4,
  "nbformat_minor": 0,
  "metadata": {
    "colab": {
      "name": "Learning_PyTorch_Basics.ipynb",
      "provenance": [],
      "authorship_tag": "ABX9TyOS5fEIZO2ERoVdNHiZaNlR",
      "include_colab_link": true
    },
    "kernelspec": {
      "name": "python3",
      "display_name": "Python 3"
    },
    "accelerator": "GPU",
    "widgets": {
      "application/vnd.jupyter.widget-state+json": {
        "9ef4f4ca3f394ad084c8e6f9214b5004": {
          "model_module": "@jupyter-widgets/controls",
          "model_name": "HBoxModel",
          "state": {
            "_view_name": "HBoxView",
            "_dom_classes": [],
            "_model_name": "HBoxModel",
            "_view_module": "@jupyter-widgets/controls",
            "_model_module_version": "1.5.0",
            "_view_count": null,
            "_view_module_version": "1.5.0",
            "box_style": "",
            "layout": "IPY_MODEL_bb491c504a624d0ca6186b3ee32b29ec",
            "_model_module": "@jupyter-widgets/controls",
            "children": [
              "IPY_MODEL_b74c0d752cd64dc18bd58b154f58fc7b",
              "IPY_MODEL_f2c382b13edc4284b1373e8604acdc9f"
            ]
          }
        },
        "bb491c504a624d0ca6186b3ee32b29ec": {
          "model_module": "@jupyter-widgets/base",
          "model_name": "LayoutModel",
          "state": {
            "_view_name": "LayoutView",
            "grid_template_rows": null,
            "right": null,
            "justify_content": null,
            "_view_module": "@jupyter-widgets/base",
            "overflow": null,
            "_model_module_version": "1.2.0",
            "_view_count": null,
            "flex_flow": null,
            "width": null,
            "min_width": null,
            "border": null,
            "align_items": null,
            "bottom": null,
            "_model_module": "@jupyter-widgets/base",
            "top": null,
            "grid_column": null,
            "overflow_y": null,
            "overflow_x": null,
            "grid_auto_flow": null,
            "grid_area": null,
            "grid_template_columns": null,
            "flex": null,
            "_model_name": "LayoutModel",
            "justify_items": null,
            "grid_row": null,
            "max_height": null,
            "align_content": null,
            "visibility": null,
            "align_self": null,
            "height": null,
            "min_height": null,
            "padding": null,
            "grid_auto_rows": null,
            "grid_gap": null,
            "max_width": null,
            "order": null,
            "_view_module_version": "1.2.0",
            "grid_template_areas": null,
            "object_position": null,
            "object_fit": null,
            "grid_auto_columns": null,
            "margin": null,
            "display": null,
            "left": null
          }
        },
        "b74c0d752cd64dc18bd58b154f58fc7b": {
          "model_module": "@jupyter-widgets/controls",
          "model_name": "FloatProgressModel",
          "state": {
            "_view_name": "ProgressView",
            "style": "IPY_MODEL_f933ad271136459390fdd9468d1e1c89",
            "_dom_classes": [],
            "description": "",
            "_model_name": "FloatProgressModel",
            "bar_style": "success",
            "max": 26421880,
            "_view_module": "@jupyter-widgets/controls",
            "_model_module_version": "1.5.0",
            "value": 26421880,
            "_view_count": null,
            "_view_module_version": "1.5.0",
            "orientation": "horizontal",
            "min": 0,
            "description_tooltip": null,
            "_model_module": "@jupyter-widgets/controls",
            "layout": "IPY_MODEL_8855bee1e445422da2b628ec46d37fda"
          }
        },
        "f2c382b13edc4284b1373e8604acdc9f": {
          "model_module": "@jupyter-widgets/controls",
          "model_name": "HTMLModel",
          "state": {
            "_view_name": "HTMLView",
            "style": "IPY_MODEL_c847bbdb1dbc4fed8979b6c772527e41",
            "_dom_classes": [],
            "description": "",
            "_model_name": "HTMLModel",
            "placeholder": "​",
            "_view_module": "@jupyter-widgets/controls",
            "_model_module_version": "1.5.0",
            "value": " 26422272/? [00:03&lt;00:00, 7307558.48it/s]",
            "_view_count": null,
            "_view_module_version": "1.5.0",
            "description_tooltip": null,
            "_model_module": "@jupyter-widgets/controls",
            "layout": "IPY_MODEL_8adf193412fb45dc9313cc6a5f28f69b"
          }
        },
        "f933ad271136459390fdd9468d1e1c89": {
          "model_module": "@jupyter-widgets/controls",
          "model_name": "ProgressStyleModel",
          "state": {
            "_view_name": "StyleView",
            "_model_name": "ProgressStyleModel",
            "description_width": "initial",
            "_view_module": "@jupyter-widgets/base",
            "_model_module_version": "1.5.0",
            "_view_count": null,
            "_view_module_version": "1.2.0",
            "bar_color": null,
            "_model_module": "@jupyter-widgets/controls"
          }
        },
        "8855bee1e445422da2b628ec46d37fda": {
          "model_module": "@jupyter-widgets/base",
          "model_name": "LayoutModel",
          "state": {
            "_view_name": "LayoutView",
            "grid_template_rows": null,
            "right": null,
            "justify_content": null,
            "_view_module": "@jupyter-widgets/base",
            "overflow": null,
            "_model_module_version": "1.2.0",
            "_view_count": null,
            "flex_flow": null,
            "width": null,
            "min_width": null,
            "border": null,
            "align_items": null,
            "bottom": null,
            "_model_module": "@jupyter-widgets/base",
            "top": null,
            "grid_column": null,
            "overflow_y": null,
            "overflow_x": null,
            "grid_auto_flow": null,
            "grid_area": null,
            "grid_template_columns": null,
            "flex": null,
            "_model_name": "LayoutModel",
            "justify_items": null,
            "grid_row": null,
            "max_height": null,
            "align_content": null,
            "visibility": null,
            "align_self": null,
            "height": null,
            "min_height": null,
            "padding": null,
            "grid_auto_rows": null,
            "grid_gap": null,
            "max_width": null,
            "order": null,
            "_view_module_version": "1.2.0",
            "grid_template_areas": null,
            "object_position": null,
            "object_fit": null,
            "grid_auto_columns": null,
            "margin": null,
            "display": null,
            "left": null
          }
        },
        "c847bbdb1dbc4fed8979b6c772527e41": {
          "model_module": "@jupyter-widgets/controls",
          "model_name": "DescriptionStyleModel",
          "state": {
            "_view_name": "StyleView",
            "_model_name": "DescriptionStyleModel",
            "description_width": "",
            "_view_module": "@jupyter-widgets/base",
            "_model_module_version": "1.5.0",
            "_view_count": null,
            "_view_module_version": "1.2.0",
            "_model_module": "@jupyter-widgets/controls"
          }
        },
        "8adf193412fb45dc9313cc6a5f28f69b": {
          "model_module": "@jupyter-widgets/base",
          "model_name": "LayoutModel",
          "state": {
            "_view_name": "LayoutView",
            "grid_template_rows": null,
            "right": null,
            "justify_content": null,
            "_view_module": "@jupyter-widgets/base",
            "overflow": null,
            "_model_module_version": "1.2.0",
            "_view_count": null,
            "flex_flow": null,
            "width": null,
            "min_width": null,
            "border": null,
            "align_items": null,
            "bottom": null,
            "_model_module": "@jupyter-widgets/base",
            "top": null,
            "grid_column": null,
            "overflow_y": null,
            "overflow_x": null,
            "grid_auto_flow": null,
            "grid_area": null,
            "grid_template_columns": null,
            "flex": null,
            "_model_name": "LayoutModel",
            "justify_items": null,
            "grid_row": null,
            "max_height": null,
            "align_content": null,
            "visibility": null,
            "align_self": null,
            "height": null,
            "min_height": null,
            "padding": null,
            "grid_auto_rows": null,
            "grid_gap": null,
            "max_width": null,
            "order": null,
            "_view_module_version": "1.2.0",
            "grid_template_areas": null,
            "object_position": null,
            "object_fit": null,
            "grid_auto_columns": null,
            "margin": null,
            "display": null,
            "left": null
          }
        },
        "e0edcab60bab4bcbacc7d773a3e0c8db": {
          "model_module": "@jupyter-widgets/controls",
          "model_name": "HBoxModel",
          "state": {
            "_view_name": "HBoxView",
            "_dom_classes": [],
            "_model_name": "HBoxModel",
            "_view_module": "@jupyter-widgets/controls",
            "_model_module_version": "1.5.0",
            "_view_count": null,
            "_view_module_version": "1.5.0",
            "box_style": "",
            "layout": "IPY_MODEL_96aa97b340804c19a710d4b10c7d02b7",
            "_model_module": "@jupyter-widgets/controls",
            "children": [
              "IPY_MODEL_1a5f10fb879b4404a91b736885e4df6d",
              "IPY_MODEL_c0341b57aa8943f38d11301c2bc0361e"
            ]
          }
        },
        "96aa97b340804c19a710d4b10c7d02b7": {
          "model_module": "@jupyter-widgets/base",
          "model_name": "LayoutModel",
          "state": {
            "_view_name": "LayoutView",
            "grid_template_rows": null,
            "right": null,
            "justify_content": null,
            "_view_module": "@jupyter-widgets/base",
            "overflow": null,
            "_model_module_version": "1.2.0",
            "_view_count": null,
            "flex_flow": null,
            "width": null,
            "min_width": null,
            "border": null,
            "align_items": null,
            "bottom": null,
            "_model_module": "@jupyter-widgets/base",
            "top": null,
            "grid_column": null,
            "overflow_y": null,
            "overflow_x": null,
            "grid_auto_flow": null,
            "grid_area": null,
            "grid_template_columns": null,
            "flex": null,
            "_model_name": "LayoutModel",
            "justify_items": null,
            "grid_row": null,
            "max_height": null,
            "align_content": null,
            "visibility": null,
            "align_self": null,
            "height": null,
            "min_height": null,
            "padding": null,
            "grid_auto_rows": null,
            "grid_gap": null,
            "max_width": null,
            "order": null,
            "_view_module_version": "1.2.0",
            "grid_template_areas": null,
            "object_position": null,
            "object_fit": null,
            "grid_auto_columns": null,
            "margin": null,
            "display": null,
            "left": null
          }
        },
        "1a5f10fb879b4404a91b736885e4df6d": {
          "model_module": "@jupyter-widgets/controls",
          "model_name": "FloatProgressModel",
          "state": {
            "_view_name": "ProgressView",
            "style": "IPY_MODEL_94baa1dabc304f2d83c490dea5e7722c",
            "_dom_classes": [],
            "description": "",
            "_model_name": "FloatProgressModel",
            "bar_style": "success",
            "max": 29515,
            "_view_module": "@jupyter-widgets/controls",
            "_model_module_version": "1.5.0",
            "value": 29515,
            "_view_count": null,
            "_view_module_version": "1.5.0",
            "orientation": "horizontal",
            "min": 0,
            "description_tooltip": null,
            "_model_module": "@jupyter-widgets/controls",
            "layout": "IPY_MODEL_9fa0f7cc000d4714a455c46889350e7e"
          }
        },
        "c0341b57aa8943f38d11301c2bc0361e": {
          "model_module": "@jupyter-widgets/controls",
          "model_name": "HTMLModel",
          "state": {
            "_view_name": "HTMLView",
            "style": "IPY_MODEL_3e77104b3c644b62a59ea0386d4c1106",
            "_dom_classes": [],
            "description": "",
            "_model_name": "HTMLModel",
            "placeholder": "​",
            "_view_module": "@jupyter-widgets/controls",
            "_model_module_version": "1.5.0",
            "value": " 29696/? [00:01&lt;00:00, 23767.29it/s]",
            "_view_count": null,
            "_view_module_version": "1.5.0",
            "description_tooltip": null,
            "_model_module": "@jupyter-widgets/controls",
            "layout": "IPY_MODEL_d4780571157c4696acbde8d48ace53f3"
          }
        },
        "94baa1dabc304f2d83c490dea5e7722c": {
          "model_module": "@jupyter-widgets/controls",
          "model_name": "ProgressStyleModel",
          "state": {
            "_view_name": "StyleView",
            "_model_name": "ProgressStyleModel",
            "description_width": "initial",
            "_view_module": "@jupyter-widgets/base",
            "_model_module_version": "1.5.0",
            "_view_count": null,
            "_view_module_version": "1.2.0",
            "bar_color": null,
            "_model_module": "@jupyter-widgets/controls"
          }
        },
        "9fa0f7cc000d4714a455c46889350e7e": {
          "model_module": "@jupyter-widgets/base",
          "model_name": "LayoutModel",
          "state": {
            "_view_name": "LayoutView",
            "grid_template_rows": null,
            "right": null,
            "justify_content": null,
            "_view_module": "@jupyter-widgets/base",
            "overflow": null,
            "_model_module_version": "1.2.0",
            "_view_count": null,
            "flex_flow": null,
            "width": null,
            "min_width": null,
            "border": null,
            "align_items": null,
            "bottom": null,
            "_model_module": "@jupyter-widgets/base",
            "top": null,
            "grid_column": null,
            "overflow_y": null,
            "overflow_x": null,
            "grid_auto_flow": null,
            "grid_area": null,
            "grid_template_columns": null,
            "flex": null,
            "_model_name": "LayoutModel",
            "justify_items": null,
            "grid_row": null,
            "max_height": null,
            "align_content": null,
            "visibility": null,
            "align_self": null,
            "height": null,
            "min_height": null,
            "padding": null,
            "grid_auto_rows": null,
            "grid_gap": null,
            "max_width": null,
            "order": null,
            "_view_module_version": "1.2.0",
            "grid_template_areas": null,
            "object_position": null,
            "object_fit": null,
            "grid_auto_columns": null,
            "margin": null,
            "display": null,
            "left": null
          }
        },
        "3e77104b3c644b62a59ea0386d4c1106": {
          "model_module": "@jupyter-widgets/controls",
          "model_name": "DescriptionStyleModel",
          "state": {
            "_view_name": "StyleView",
            "_model_name": "DescriptionStyleModel",
            "description_width": "",
            "_view_module": "@jupyter-widgets/base",
            "_model_module_version": "1.5.0",
            "_view_count": null,
            "_view_module_version": "1.2.0",
            "_model_module": "@jupyter-widgets/controls"
          }
        },
        "d4780571157c4696acbde8d48ace53f3": {
          "model_module": "@jupyter-widgets/base",
          "model_name": "LayoutModel",
          "state": {
            "_view_name": "LayoutView",
            "grid_template_rows": null,
            "right": null,
            "justify_content": null,
            "_view_module": "@jupyter-widgets/base",
            "overflow": null,
            "_model_module_version": "1.2.0",
            "_view_count": null,
            "flex_flow": null,
            "width": null,
            "min_width": null,
            "border": null,
            "align_items": null,
            "bottom": null,
            "_model_module": "@jupyter-widgets/base",
            "top": null,
            "grid_column": null,
            "overflow_y": null,
            "overflow_x": null,
            "grid_auto_flow": null,
            "grid_area": null,
            "grid_template_columns": null,
            "flex": null,
            "_model_name": "LayoutModel",
            "justify_items": null,
            "grid_row": null,
            "max_height": null,
            "align_content": null,
            "visibility": null,
            "align_self": null,
            "height": null,
            "min_height": null,
            "padding": null,
            "grid_auto_rows": null,
            "grid_gap": null,
            "max_width": null,
            "order": null,
            "_view_module_version": "1.2.0",
            "grid_template_areas": null,
            "object_position": null,
            "object_fit": null,
            "grid_auto_columns": null,
            "margin": null,
            "display": null,
            "left": null
          }
        },
        "e4ec9e4b8b9a4ac9b799bec00c6a7275": {
          "model_module": "@jupyter-widgets/controls",
          "model_name": "HBoxModel",
          "state": {
            "_view_name": "HBoxView",
            "_dom_classes": [],
            "_model_name": "HBoxModel",
            "_view_module": "@jupyter-widgets/controls",
            "_model_module_version": "1.5.0",
            "_view_count": null,
            "_view_module_version": "1.5.0",
            "box_style": "",
            "layout": "IPY_MODEL_029098b82f5e40e1be4c3b6ddced28ab",
            "_model_module": "@jupyter-widgets/controls",
            "children": [
              "IPY_MODEL_4943b60befc04f2694754d6f490cb947",
              "IPY_MODEL_4369460ae17648869f8fe6afb3bea806"
            ]
          }
        },
        "029098b82f5e40e1be4c3b6ddced28ab": {
          "model_module": "@jupyter-widgets/base",
          "model_name": "LayoutModel",
          "state": {
            "_view_name": "LayoutView",
            "grid_template_rows": null,
            "right": null,
            "justify_content": null,
            "_view_module": "@jupyter-widgets/base",
            "overflow": null,
            "_model_module_version": "1.2.0",
            "_view_count": null,
            "flex_flow": null,
            "width": null,
            "min_width": null,
            "border": null,
            "align_items": null,
            "bottom": null,
            "_model_module": "@jupyter-widgets/base",
            "top": null,
            "grid_column": null,
            "overflow_y": null,
            "overflow_x": null,
            "grid_auto_flow": null,
            "grid_area": null,
            "grid_template_columns": null,
            "flex": null,
            "_model_name": "LayoutModel",
            "justify_items": null,
            "grid_row": null,
            "max_height": null,
            "align_content": null,
            "visibility": null,
            "align_self": null,
            "height": null,
            "min_height": null,
            "padding": null,
            "grid_auto_rows": null,
            "grid_gap": null,
            "max_width": null,
            "order": null,
            "_view_module_version": "1.2.0",
            "grid_template_areas": null,
            "object_position": null,
            "object_fit": null,
            "grid_auto_columns": null,
            "margin": null,
            "display": null,
            "left": null
          }
        },
        "4943b60befc04f2694754d6f490cb947": {
          "model_module": "@jupyter-widgets/controls",
          "model_name": "FloatProgressModel",
          "state": {
            "_view_name": "ProgressView",
            "style": "IPY_MODEL_d12d47197db841d485e3efd8a0afab07",
            "_dom_classes": [],
            "description": "",
            "_model_name": "FloatProgressModel",
            "bar_style": "success",
            "max": 4422102,
            "_view_module": "@jupyter-widgets/controls",
            "_model_module_version": "1.5.0",
            "value": 4422102,
            "_view_count": null,
            "_view_module_version": "1.5.0",
            "orientation": "horizontal",
            "min": 0,
            "description_tooltip": null,
            "_model_module": "@jupyter-widgets/controls",
            "layout": "IPY_MODEL_2156fdd37d05456faba57ce7d876069a"
          }
        },
        "4369460ae17648869f8fe6afb3bea806": {
          "model_module": "@jupyter-widgets/controls",
          "model_name": "HTMLModel",
          "state": {
            "_view_name": "HTMLView",
            "style": "IPY_MODEL_a263e66d90844835bfbab87a0df8eadd",
            "_dom_classes": [],
            "description": "",
            "_model_name": "HTMLModel",
            "placeholder": "​",
            "_view_module": "@jupyter-widgets/controls",
            "_model_module_version": "1.5.0",
            "value": " 4422656/? [54:17&lt;00:00, 1357.72it/s]",
            "_view_count": null,
            "_view_module_version": "1.5.0",
            "description_tooltip": null,
            "_model_module": "@jupyter-widgets/controls",
            "layout": "IPY_MODEL_0482162d9153429e861114316e4e4b95"
          }
        },
        "d12d47197db841d485e3efd8a0afab07": {
          "model_module": "@jupyter-widgets/controls",
          "model_name": "ProgressStyleModel",
          "state": {
            "_view_name": "StyleView",
            "_model_name": "ProgressStyleModel",
            "description_width": "initial",
            "_view_module": "@jupyter-widgets/base",
            "_model_module_version": "1.5.0",
            "_view_count": null,
            "_view_module_version": "1.2.0",
            "bar_color": null,
            "_model_module": "@jupyter-widgets/controls"
          }
        },
        "2156fdd37d05456faba57ce7d876069a": {
          "model_module": "@jupyter-widgets/base",
          "model_name": "LayoutModel",
          "state": {
            "_view_name": "LayoutView",
            "grid_template_rows": null,
            "right": null,
            "justify_content": null,
            "_view_module": "@jupyter-widgets/base",
            "overflow": null,
            "_model_module_version": "1.2.0",
            "_view_count": null,
            "flex_flow": null,
            "width": null,
            "min_width": null,
            "border": null,
            "align_items": null,
            "bottom": null,
            "_model_module": "@jupyter-widgets/base",
            "top": null,
            "grid_column": null,
            "overflow_y": null,
            "overflow_x": null,
            "grid_auto_flow": null,
            "grid_area": null,
            "grid_template_columns": null,
            "flex": null,
            "_model_name": "LayoutModel",
            "justify_items": null,
            "grid_row": null,
            "max_height": null,
            "align_content": null,
            "visibility": null,
            "align_self": null,
            "height": null,
            "min_height": null,
            "padding": null,
            "grid_auto_rows": null,
            "grid_gap": null,
            "max_width": null,
            "order": null,
            "_view_module_version": "1.2.0",
            "grid_template_areas": null,
            "object_position": null,
            "object_fit": null,
            "grid_auto_columns": null,
            "margin": null,
            "display": null,
            "left": null
          }
        },
        "a263e66d90844835bfbab87a0df8eadd": {
          "model_module": "@jupyter-widgets/controls",
          "model_name": "DescriptionStyleModel",
          "state": {
            "_view_name": "StyleView",
            "_model_name": "DescriptionStyleModel",
            "description_width": "",
            "_view_module": "@jupyter-widgets/base",
            "_model_module_version": "1.5.0",
            "_view_count": null,
            "_view_module_version": "1.2.0",
            "_model_module": "@jupyter-widgets/controls"
          }
        },
        "0482162d9153429e861114316e4e4b95": {
          "model_module": "@jupyter-widgets/base",
          "model_name": "LayoutModel",
          "state": {
            "_view_name": "LayoutView",
            "grid_template_rows": null,
            "right": null,
            "justify_content": null,
            "_view_module": "@jupyter-widgets/base",
            "overflow": null,
            "_model_module_version": "1.2.0",
            "_view_count": null,
            "flex_flow": null,
            "width": null,
            "min_width": null,
            "border": null,
            "align_items": null,
            "bottom": null,
            "_model_module": "@jupyter-widgets/base",
            "top": null,
            "grid_column": null,
            "overflow_y": null,
            "overflow_x": null,
            "grid_auto_flow": null,
            "grid_area": null,
            "grid_template_columns": null,
            "flex": null,
            "_model_name": "LayoutModel",
            "justify_items": null,
            "grid_row": null,
            "max_height": null,
            "align_content": null,
            "visibility": null,
            "align_self": null,
            "height": null,
            "min_height": null,
            "padding": null,
            "grid_auto_rows": null,
            "grid_gap": null,
            "max_width": null,
            "order": null,
            "_view_module_version": "1.2.0",
            "grid_template_areas": null,
            "object_position": null,
            "object_fit": null,
            "grid_auto_columns": null,
            "margin": null,
            "display": null,
            "left": null
          }
        },
        "b08d6a556dfe4a4c8a6b1ad0b4e8cdb1": {
          "model_module": "@jupyter-widgets/controls",
          "model_name": "HBoxModel",
          "state": {
            "_view_name": "HBoxView",
            "_dom_classes": [],
            "_model_name": "HBoxModel",
            "_view_module": "@jupyter-widgets/controls",
            "_model_module_version": "1.5.0",
            "_view_count": null,
            "_view_module_version": "1.5.0",
            "box_style": "",
            "layout": "IPY_MODEL_36a62acf4d734cfca4f8b90518697d43",
            "_model_module": "@jupyter-widgets/controls",
            "children": [
              "IPY_MODEL_64db5dd6d2c441c9ac7a39ba36123f14",
              "IPY_MODEL_298caf8b9e3d4f9a995e7dacc97f66c2"
            ]
          }
        },
        "36a62acf4d734cfca4f8b90518697d43": {
          "model_module": "@jupyter-widgets/base",
          "model_name": "LayoutModel",
          "state": {
            "_view_name": "LayoutView",
            "grid_template_rows": null,
            "right": null,
            "justify_content": null,
            "_view_module": "@jupyter-widgets/base",
            "overflow": null,
            "_model_module_version": "1.2.0",
            "_view_count": null,
            "flex_flow": null,
            "width": null,
            "min_width": null,
            "border": null,
            "align_items": null,
            "bottom": null,
            "_model_module": "@jupyter-widgets/base",
            "top": null,
            "grid_column": null,
            "overflow_y": null,
            "overflow_x": null,
            "grid_auto_flow": null,
            "grid_area": null,
            "grid_template_columns": null,
            "flex": null,
            "_model_name": "LayoutModel",
            "justify_items": null,
            "grid_row": null,
            "max_height": null,
            "align_content": null,
            "visibility": null,
            "align_self": null,
            "height": null,
            "min_height": null,
            "padding": null,
            "grid_auto_rows": null,
            "grid_gap": null,
            "max_width": null,
            "order": null,
            "_view_module_version": "1.2.0",
            "grid_template_areas": null,
            "object_position": null,
            "object_fit": null,
            "grid_auto_columns": null,
            "margin": null,
            "display": null,
            "left": null
          }
        },
        "64db5dd6d2c441c9ac7a39ba36123f14": {
          "model_module": "@jupyter-widgets/controls",
          "model_name": "FloatProgressModel",
          "state": {
            "_view_name": "ProgressView",
            "style": "IPY_MODEL_043805a806334f2c8d820f3f5c9230b6",
            "_dom_classes": [],
            "description": "",
            "_model_name": "FloatProgressModel",
            "bar_style": "success",
            "max": 5148,
            "_view_module": "@jupyter-widgets/controls",
            "_model_module_version": "1.5.0",
            "value": 5148,
            "_view_count": null,
            "_view_module_version": "1.5.0",
            "orientation": "horizontal",
            "min": 0,
            "description_tooltip": null,
            "_model_module": "@jupyter-widgets/controls",
            "layout": "IPY_MODEL_128d4ba366f04b52892e7b3cc6a19fdc"
          }
        },
        "298caf8b9e3d4f9a995e7dacc97f66c2": {
          "model_module": "@jupyter-widgets/controls",
          "model_name": "HTMLModel",
          "state": {
            "_view_name": "HTMLView",
            "style": "IPY_MODEL_aad3542c7d3949168ec472c4bfd6b9ee",
            "_dom_classes": [],
            "description": "",
            "_model_name": "HTMLModel",
            "placeholder": "​",
            "_view_module": "@jupyter-widgets/controls",
            "_model_module_version": "1.5.0",
            "value": " 6144/? [00:05&lt;00:00, 1097.29it/s]",
            "_view_count": null,
            "_view_module_version": "1.5.0",
            "description_tooltip": null,
            "_model_module": "@jupyter-widgets/controls",
            "layout": "IPY_MODEL_bf771351bf5a466cbc16fc545dac3e80"
          }
        },
        "043805a806334f2c8d820f3f5c9230b6": {
          "model_module": "@jupyter-widgets/controls",
          "model_name": "ProgressStyleModel",
          "state": {
            "_view_name": "StyleView",
            "_model_name": "ProgressStyleModel",
            "description_width": "initial",
            "_view_module": "@jupyter-widgets/base",
            "_model_module_version": "1.5.0",
            "_view_count": null,
            "_view_module_version": "1.2.0",
            "bar_color": null,
            "_model_module": "@jupyter-widgets/controls"
          }
        },
        "128d4ba366f04b52892e7b3cc6a19fdc": {
          "model_module": "@jupyter-widgets/base",
          "model_name": "LayoutModel",
          "state": {
            "_view_name": "LayoutView",
            "grid_template_rows": null,
            "right": null,
            "justify_content": null,
            "_view_module": "@jupyter-widgets/base",
            "overflow": null,
            "_model_module_version": "1.2.0",
            "_view_count": null,
            "flex_flow": null,
            "width": null,
            "min_width": null,
            "border": null,
            "align_items": null,
            "bottom": null,
            "_model_module": "@jupyter-widgets/base",
            "top": null,
            "grid_column": null,
            "overflow_y": null,
            "overflow_x": null,
            "grid_auto_flow": null,
            "grid_area": null,
            "grid_template_columns": null,
            "flex": null,
            "_model_name": "LayoutModel",
            "justify_items": null,
            "grid_row": null,
            "max_height": null,
            "align_content": null,
            "visibility": null,
            "align_self": null,
            "height": null,
            "min_height": null,
            "padding": null,
            "grid_auto_rows": null,
            "grid_gap": null,
            "max_width": null,
            "order": null,
            "_view_module_version": "1.2.0",
            "grid_template_areas": null,
            "object_position": null,
            "object_fit": null,
            "grid_auto_columns": null,
            "margin": null,
            "display": null,
            "left": null
          }
        },
        "aad3542c7d3949168ec472c4bfd6b9ee": {
          "model_module": "@jupyter-widgets/controls",
          "model_name": "DescriptionStyleModel",
          "state": {
            "_view_name": "StyleView",
            "_model_name": "DescriptionStyleModel",
            "description_width": "",
            "_view_module": "@jupyter-widgets/base",
            "_model_module_version": "1.5.0",
            "_view_count": null,
            "_view_module_version": "1.2.0",
            "_model_module": "@jupyter-widgets/controls"
          }
        },
        "bf771351bf5a466cbc16fc545dac3e80": {
          "model_module": "@jupyter-widgets/base",
          "model_name": "LayoutModel",
          "state": {
            "_view_name": "LayoutView",
            "grid_template_rows": null,
            "right": null,
            "justify_content": null,
            "_view_module": "@jupyter-widgets/base",
            "overflow": null,
            "_model_module_version": "1.2.0",
            "_view_count": null,
            "flex_flow": null,
            "width": null,
            "min_width": null,
            "border": null,
            "align_items": null,
            "bottom": null,
            "_model_module": "@jupyter-widgets/base",
            "top": null,
            "grid_column": null,
            "overflow_y": null,
            "overflow_x": null,
            "grid_auto_flow": null,
            "grid_area": null,
            "grid_template_columns": null,
            "flex": null,
            "_model_name": "LayoutModel",
            "justify_items": null,
            "grid_row": null,
            "max_height": null,
            "align_content": null,
            "visibility": null,
            "align_self": null,
            "height": null,
            "min_height": null,
            "padding": null,
            "grid_auto_rows": null,
            "grid_gap": null,
            "max_width": null,
            "order": null,
            "_view_module_version": "1.2.0",
            "grid_template_areas": null,
            "object_position": null,
            "object_fit": null,
            "grid_auto_columns": null,
            "margin": null,
            "display": null,
            "left": null
          }
        }
      }
    }
  },
  "cells": [
    {
      "cell_type": "markdown",
      "metadata": {
        "id": "view-in-github",
        "colab_type": "text"
      },
      "source": [
        "<a href=\"https://colab.research.google.com/github/akash-agni/DeepLearning/blob/main/Learning_PyTorch_Basics.ipynb\" target=\"_parent\"><img src=\"https://colab.research.google.com/assets/colab-badge.svg\" alt=\"Open In Colab\"/></a>"
      ]
    },
    {
      "cell_type": "code",
      "metadata": {
        "id": "OStTYT82oHjz"
      },
      "source": [
        "import torch\r\n",
        "from torch import nn\r\n",
        "from torch.utils.data import DataLoader\r\n",
        "from torchvision import datasets\r\n",
        "from torchvision.transforms import ToTensor, Lambda, Compose\r\n",
        "import matplotlib.pyplot as plt\r\n",
        "import numpy as np"
      ],
      "execution_count": 1,
      "outputs": []
    },
    {
      "cell_type": "code",
      "metadata": {
        "colab": {
          "base_uri": "https://localhost:8080/",
          "height": 455,
          "referenced_widgets": [
            "9ef4f4ca3f394ad084c8e6f9214b5004",
            "bb491c504a624d0ca6186b3ee32b29ec",
            "b74c0d752cd64dc18bd58b154f58fc7b",
            "f2c382b13edc4284b1373e8604acdc9f",
            "f933ad271136459390fdd9468d1e1c89",
            "8855bee1e445422da2b628ec46d37fda",
            "c847bbdb1dbc4fed8979b6c772527e41",
            "8adf193412fb45dc9313cc6a5f28f69b",
            "e0edcab60bab4bcbacc7d773a3e0c8db",
            "96aa97b340804c19a710d4b10c7d02b7",
            "1a5f10fb879b4404a91b736885e4df6d",
            "c0341b57aa8943f38d11301c2bc0361e",
            "94baa1dabc304f2d83c490dea5e7722c",
            "9fa0f7cc000d4714a455c46889350e7e",
            "3e77104b3c644b62a59ea0386d4c1106",
            "d4780571157c4696acbde8d48ace53f3",
            "e4ec9e4b8b9a4ac9b799bec00c6a7275",
            "029098b82f5e40e1be4c3b6ddced28ab",
            "4943b60befc04f2694754d6f490cb947",
            "4369460ae17648869f8fe6afb3bea806",
            "d12d47197db841d485e3efd8a0afab07",
            "2156fdd37d05456faba57ce7d876069a",
            "a263e66d90844835bfbab87a0df8eadd",
            "0482162d9153429e861114316e4e4b95",
            "b08d6a556dfe4a4c8a6b1ad0b4e8cdb1",
            "36a62acf4d734cfca4f8b90518697d43",
            "64db5dd6d2c441c9ac7a39ba36123f14",
            "298caf8b9e3d4f9a995e7dacc97f66c2",
            "043805a806334f2c8d820f3f5c9230b6",
            "128d4ba366f04b52892e7b3cc6a19fdc",
            "aad3542c7d3949168ec472c4bfd6b9ee",
            "bf771351bf5a466cbc16fc545dac3e80"
          ]
        },
        "id": "rTs1we6kodRr",
        "outputId": "fe41cc79-b3d1-4113-9160-a902750fde0a"
      },
      "source": [
        "training_data = datasets.FashionMNIST(\r\n",
        "    root='data',\r\n",
        "    train=True,\r\n",
        "    download=True,\r\n",
        "    transform=ToTensor()\r\n",
        ")\r\n",
        "testing_data = datasets.FashionMNIST(\r\n",
        "    root='data',\r\n",
        "    train=False,\r\n",
        "    download=True,\r\n",
        "    transform=ToTensor()\r\n",
        ")"
      ],
      "execution_count": 2,
      "outputs": [
        {
          "output_type": "stream",
          "text": [
            "Downloading http://fashion-mnist.s3-website.eu-central-1.amazonaws.com/train-images-idx3-ubyte.gz to data/FashionMNIST/raw/train-images-idx3-ubyte.gz\n"
          ],
          "name": "stdout"
        },
        {
          "output_type": "display_data",
          "data": {
            "application/vnd.jupyter.widget-view+json": {
              "model_id": "9ef4f4ca3f394ad084c8e6f9214b5004",
              "version_minor": 0,
              "version_major": 2
            },
            "text/plain": [
              "HBox(children=(FloatProgress(value=0.0, max=26421880.0), HTML(value='')))"
            ]
          },
          "metadata": {
            "tags": []
          }
        },
        {
          "output_type": "stream",
          "text": [
            "\n",
            "Extracting data/FashionMNIST/raw/train-images-idx3-ubyte.gz to data/FashionMNIST/raw\n",
            "Downloading http://fashion-mnist.s3-website.eu-central-1.amazonaws.com/train-labels-idx1-ubyte.gz to data/FashionMNIST/raw/train-labels-idx1-ubyte.gz\n"
          ],
          "name": "stdout"
        },
        {
          "output_type": "display_data",
          "data": {
            "application/vnd.jupyter.widget-view+json": {
              "model_id": "e0edcab60bab4bcbacc7d773a3e0c8db",
              "version_minor": 0,
              "version_major": 2
            },
            "text/plain": [
              "HBox(children=(FloatProgress(value=0.0, max=29515.0), HTML(value='')))"
            ]
          },
          "metadata": {
            "tags": []
          }
        },
        {
          "output_type": "stream",
          "text": [
            "\n",
            "Extracting data/FashionMNIST/raw/train-labels-idx1-ubyte.gz to data/FashionMNIST/raw\n",
            "Downloading http://fashion-mnist.s3-website.eu-central-1.amazonaws.com/t10k-images-idx3-ubyte.gz to data/FashionMNIST/raw/t10k-images-idx3-ubyte.gz\n"
          ],
          "name": "stdout"
        },
        {
          "output_type": "display_data",
          "data": {
            "application/vnd.jupyter.widget-view+json": {
              "model_id": "e4ec9e4b8b9a4ac9b799bec00c6a7275",
              "version_minor": 0,
              "version_major": 2
            },
            "text/plain": [
              "HBox(children=(FloatProgress(value=0.0, max=4422102.0), HTML(value='')))"
            ]
          },
          "metadata": {
            "tags": []
          }
        },
        {
          "output_type": "stream",
          "text": [
            "\n",
            "Extracting data/FashionMNIST/raw/t10k-images-idx3-ubyte.gz to data/FashionMNIST/raw\n",
            "Downloading http://fashion-mnist.s3-website.eu-central-1.amazonaws.com/t10k-labels-idx1-ubyte.gz to data/FashionMNIST/raw/t10k-labels-idx1-ubyte.gz\n"
          ],
          "name": "stdout"
        },
        {
          "output_type": "display_data",
          "data": {
            "application/vnd.jupyter.widget-view+json": {
              "model_id": "b08d6a556dfe4a4c8a6b1ad0b4e8cdb1",
              "version_minor": 0,
              "version_major": 2
            },
            "text/plain": [
              "HBox(children=(FloatProgress(value=0.0, max=5148.0), HTML(value='')))"
            ]
          },
          "metadata": {
            "tags": []
          }
        },
        {
          "output_type": "stream",
          "text": [
            "\n",
            "Extracting data/FashionMNIST/raw/t10k-labels-idx1-ubyte.gz to data/FashionMNIST/raw\n",
            "Processing...\n",
            "Done!\n"
          ],
          "name": "stdout"
        },
        {
          "output_type": "stream",
          "text": [
            "/usr/local/lib/python3.7/dist-packages/torchvision/datasets/mnist.py:479: UserWarning: The given NumPy array is not writeable, and PyTorch does not support non-writeable tensors. This means you can write to the underlying (supposedly non-writeable) NumPy array using the tensor. You may want to copy the array to protect its data or make it writeable before converting it to a tensor. This type of warning will be suppressed for the rest of this program. (Triggered internally at  /pytorch/torch/csrc/utils/tensor_numpy.cpp:143.)\n",
            "  return torch.from_numpy(parsed.astype(m[2], copy=False)).view(*s)\n"
          ],
          "name": "stderr"
        }
      ]
    },
    {
      "cell_type": "code",
      "metadata": {
        "colab": {
          "base_uri": "https://localhost:8080/"
        },
        "id": "KTIl3iljpKtw",
        "outputId": "980b1c0a-2737-4c90-f2fb-a0669c64f6c7"
      },
      "source": [
        "batch_size = 64\r\n",
        "\r\n",
        "training_dataloader = DataLoader(training_data, batch_size=batch_size)\r\n",
        "testing_dataloader = DataLoader(testing_data, batch_size=batch_size)\r\n",
        "\r\n",
        "for X, y in training_dataloader:\r\n",
        "  print(f\"Shape of X [H, C, H, W] is: {X.shape}\")\r\n",
        "  print(f\"Shape of y [N] is: {y.shape}\")\r\n",
        "  break"
      ],
      "execution_count": 3,
      "outputs": [
        {
          "output_type": "stream",
          "text": [
            "Shape of X [H, C, H, W] is: torch.Size([64, 1, 28, 28])\n",
            "Shape of y [N] is: torch.Size([64])\n"
          ],
          "name": "stdout"
        }
      ]
    },
    {
      "cell_type": "code",
      "metadata": {
        "colab": {
          "base_uri": "https://localhost:8080/"
        },
        "id": "_eoXp7Y_pPgy",
        "outputId": "7337655b-9c0d-4984-850e-93caf7720315"
      },
      "source": [
        "device = 'cuda' if torch.cuda.is_available() else 'cpu'\r\n",
        "print(f\"Using {device} for training model\")"
      ],
      "execution_count": 4,
      "outputs": [
        {
          "output_type": "stream",
          "text": [
            "Using cuda for training model\n"
          ],
          "name": "stdout"
        }
      ]
    },
    {
      "cell_type": "code",
      "metadata": {
        "colab": {
          "base_uri": "https://localhost:8080/"
        },
        "id": "2Gd4YbOJq0XO",
        "outputId": "fc298509-a81d-434a-d0cb-542629530425"
      },
      "source": [
        "class NeuralNetwork(nn.Module):\r\n",
        "\r\n",
        "  def __init__(self):\r\n",
        "    super(NeuralNetwork, self).__init__()\r\n",
        "    self.conv1 = nn.Conv2d(1, 8, 7)\r\n",
        "    self.pool1 = nn.MaxPool2d(2, 2)\r\n",
        "    self.conv2 = nn.Conv2d(8, 16, 3)\r\n",
        "    self.conv3 = nn.Conv2d(16, 16, 3)\r\n",
        "    self.flatten = nn.Flatten()\r\n",
        "    self.full1 = nn.Linear(16 * 7 * 7, 64)\r\n",
        "    self.full2 = nn.Linear(64, 32)\r\n",
        "    self.full3 = nn.Linear(32, 10)\r\n",
        "    self.relu = nn.ReLU()\r\n",
        "\r\n",
        "  def forward(self, x):\r\n",
        "    x = self.pool1(self.relu(self.conv1(x)))\r\n",
        "    #print(x.shape)\r\n",
        "    x = self.relu(self.conv3(self.relu(self.conv2(x))))\r\n",
        "    #print(x.shape)\r\n",
        "    x = self.flatten(x)\r\n",
        "    #print(x.shape)\r\n",
        "    x = self.full3(self.relu(self.full2(self.relu(self.full1(x)))))\r\n",
        "    #print(x.shape)\r\n",
        "    logits = x\r\n",
        "    return logits\r\n",
        "\r\n",
        "model = NeuralNetwork().to(device)\r\n",
        "print(model)"
      ],
      "execution_count": 93,
      "outputs": [
        {
          "output_type": "stream",
          "text": [
            "NeuralNetwork(\n",
            "  (conv1): Conv2d(1, 8, kernel_size=(7, 7), stride=(1, 1))\n",
            "  (pool1): MaxPool2d(kernel_size=2, stride=2, padding=0, dilation=1, ceil_mode=False)\n",
            "  (conv2): Conv2d(8, 16, kernel_size=(3, 3), stride=(1, 1))\n",
            "  (conv3): Conv2d(16, 16, kernel_size=(3, 3), stride=(1, 1))\n",
            "  (flatten): Flatten(start_dim=1, end_dim=-1)\n",
            "  (full1): Linear(in_features=784, out_features=64, bias=True)\n",
            "  (full2): Linear(in_features=64, out_features=32, bias=True)\n",
            "  (full3): Linear(in_features=32, out_features=10, bias=True)\n",
            "  (relu): ReLU()\n",
            ")\n"
          ],
          "name": "stdout"
        }
      ]
    },
    {
      "cell_type": "code",
      "metadata": {
        "id": "6jWoHJh5tKJz"
      },
      "source": [
        "def train(dataloader, model, loss_fn, optimizer):\r\n",
        "  size = len(dataloader.dataset)\r\n",
        "  for batch, (X, y) in enumerate(dataloader):\r\n",
        "    X, y = X.to(device), y.to(device)\r\n",
        "\r\n",
        "    pred = model(X)\r\n",
        "    loss = loss_fn(pred, y)\r\n",
        "\r\n",
        "    optimizer.zero_grad()\r\n",
        "    loss.backward()\r\n",
        "    optimizer.step()\r\n",
        "\r\n",
        "    if batch % 100 == 0:\r\n",
        "      loss, current = loss.item(), batch * len(X)\r\n",
        "      print(f\"loss: {loss:>7f}  [{current:>5d}/{size:>5d}]\")"
      ],
      "execution_count": 94,
      "outputs": []
    },
    {
      "cell_type": "code",
      "metadata": {
        "id": "4aq9JkWKtK9i"
      },
      "source": [
        "def test(dataloader, model):\r\n",
        "  size = len(dataloader.dataset)\r\n",
        "  model.eval()\r\n",
        "  test_loss, correct = 0, 0\r\n",
        "  with torch.no_grad():\r\n",
        "    for X, y in dataloader:\r\n",
        "      X, y = X.to(device), y.to(device)\r\n",
        "      pred = model(X)\r\n",
        "      test_loss += loss_fn(pred, y).item()\r\n",
        "      correct += (pred.argmax(1) == y).type(torch.float).sum().item()\r\n",
        "  test_loss /= size\r\n",
        "  correct /= size\r\n",
        "  print(f\"Test Error: \\n Accuracy: {(100*correct):>0.1f}%, Avg loss:{test_loss:>8f} \\n\")"
      ],
      "execution_count": 95,
      "outputs": []
    },
    {
      "cell_type": "code",
      "metadata": {
        "id": "eMcEEgOmshh0"
      },
      "source": [
        "loss_fn = nn.CrossEntropyLoss()\r\n",
        "optimizer = torch.optim.SGD(model.parameters(), lr=1e-2)"
      ],
      "execution_count": 98,
      "outputs": []
    },
    {
      "cell_type": "code",
      "metadata": {
        "colab": {
          "base_uri": "https://localhost:8080/"
        },
        "id": "CI_OhHbqwR03",
        "outputId": "e3d93aa1-ad29-4c69-cfa1-1966f93b87f7"
      },
      "source": [
        "epochs = 10\r\n",
        "for i  in range(epochs):\r\n",
        "  print(f\"Epoch {i+1}\\n-------------------------------\")\r\n",
        "  train(training_dataloader, model, loss_fn, optimizer)\r\n",
        "  test(testing_dataloader, model)\r\n",
        "print('Done!')"
      ],
      "execution_count": 99,
      "outputs": [
        {
          "output_type": "stream",
          "text": [
            "Epoch 1\n",
            "-------------------------------\n",
            "loss: 0.154454  [    0/60000]\n",
            "loss: 0.270978  [ 6400/60000]\n",
            "loss: 0.100711  [12800/60000]\n",
            "loss: 0.201309  [19200/60000]\n",
            "loss: 0.204677  [25600/60000]\n",
            "loss: 0.393324  [32000/60000]\n",
            "loss: 0.228085  [38400/60000]\n",
            "loss: 0.288128  [44800/60000]\n",
            "loss: 0.227167  [51200/60000]\n",
            "loss: 0.195695  [57600/60000]\n",
            "Test Error: \n",
            " Accuracy: 89.2%, Avg loss:0.004882 \n",
            "\n",
            "Epoch 2\n",
            "-------------------------------\n",
            "loss: 0.138460  [    0/60000]\n",
            "loss: 0.252676  [ 6400/60000]\n",
            "loss: 0.078514  [12800/60000]\n",
            "loss: 0.196158  [19200/60000]\n",
            "loss: 0.196175  [25600/60000]\n",
            "loss: 0.367882  [32000/60000]\n",
            "loss: 0.210636  [38400/60000]\n",
            "loss: 0.275664  [44800/60000]\n",
            "loss: 0.224928  [51200/60000]\n",
            "loss: 0.187602  [57600/60000]\n",
            "Test Error: \n",
            " Accuracy: 89.3%, Avg loss:0.004859 \n",
            "\n",
            "Epoch 3\n",
            "-------------------------------\n",
            "loss: 0.132625  [    0/60000]\n",
            "loss: 0.254548  [ 6400/60000]\n",
            "loss: 0.075386  [12800/60000]\n",
            "loss: 0.190225  [19200/60000]\n",
            "loss: 0.190985  [25600/60000]\n",
            "loss: 0.363320  [32000/60000]\n",
            "loss: 0.202148  [38400/60000]\n",
            "loss: 0.264001  [44800/60000]\n",
            "loss: 0.222996  [51200/60000]\n",
            "loss: 0.183945  [57600/60000]\n",
            "Test Error: \n",
            " Accuracy: 89.4%, Avg loss:0.004859 \n",
            "\n",
            "Epoch 4\n",
            "-------------------------------\n",
            "loss: 0.130588  [    0/60000]\n",
            "loss: 0.252830  [ 6400/60000]\n",
            "loss: 0.073492  [12800/60000]\n",
            "loss: 0.185041  [19200/60000]\n",
            "loss: 0.186497  [25600/60000]\n",
            "loss: 0.362024  [32000/60000]\n",
            "loss: 0.197340  [38400/60000]\n",
            "loss: 0.252499  [44800/60000]\n",
            "loss: 0.220056  [51200/60000]\n",
            "loss: 0.177060  [57600/60000]\n",
            "Test Error: \n",
            " Accuracy: 89.4%, Avg loss:0.004860 \n",
            "\n",
            "Epoch 5\n",
            "-------------------------------\n",
            "loss: 0.128449  [    0/60000]\n",
            "loss: 0.249086  [ 6400/60000]\n",
            "loss: 0.071827  [12800/60000]\n",
            "loss: 0.178518  [19200/60000]\n",
            "loss: 0.181056  [25600/60000]\n",
            "loss: 0.362182  [32000/60000]\n",
            "loss: 0.191470  [38400/60000]\n",
            "loss: 0.243455  [44800/60000]\n",
            "loss: 0.213869  [51200/60000]\n",
            "loss: 0.173993  [57600/60000]\n",
            "Test Error: \n",
            " Accuracy: 89.5%, Avg loss:0.004861 \n",
            "\n",
            "Epoch 6\n",
            "-------------------------------\n",
            "loss: 0.124192  [    0/60000]\n",
            "loss: 0.244654  [ 6400/60000]\n",
            "loss: 0.070081  [12800/60000]\n",
            "loss: 0.174848  [19200/60000]\n",
            "loss: 0.179502  [25600/60000]\n",
            "loss: 0.360809  [32000/60000]\n",
            "loss: 0.187612  [38400/60000]\n",
            "loss: 0.234791  [44800/60000]\n",
            "loss: 0.211148  [51200/60000]\n",
            "loss: 0.169159  [57600/60000]\n",
            "Test Error: \n",
            " Accuracy: 89.6%, Avg loss:0.004871 \n",
            "\n",
            "Epoch 7\n",
            "-------------------------------\n",
            "loss: 0.120008  [    0/60000]\n",
            "loss: 0.238099  [ 6400/60000]\n",
            "loss: 0.069751  [12800/60000]\n",
            "loss: 0.169556  [19200/60000]\n",
            "loss: 0.177879  [25600/60000]\n",
            "loss: 0.361154  [32000/60000]\n",
            "loss: 0.184803  [38400/60000]\n",
            "loss: 0.226345  [44800/60000]\n",
            "loss: 0.207721  [51200/60000]\n",
            "loss: 0.164765  [57600/60000]\n",
            "Test Error: \n",
            " Accuracy: 89.6%, Avg loss:0.004883 \n",
            "\n",
            "Epoch 8\n",
            "-------------------------------\n",
            "loss: 0.117959  [    0/60000]\n",
            "loss: 0.234064  [ 6400/60000]\n",
            "loss: 0.069316  [12800/60000]\n",
            "loss: 0.165345  [19200/60000]\n",
            "loss: 0.176591  [25600/60000]\n",
            "loss: 0.363649  [32000/60000]\n",
            "loss: 0.183602  [38400/60000]\n",
            "loss: 0.216728  [44800/60000]\n",
            "loss: 0.203604  [51200/60000]\n",
            "loss: 0.159770  [57600/60000]\n",
            "Test Error: \n",
            " Accuracy: 89.6%, Avg loss:0.004900 \n",
            "\n",
            "Epoch 9\n",
            "-------------------------------\n",
            "loss: 0.116707  [    0/60000]\n",
            "loss: 0.228358  [ 6400/60000]\n",
            "loss: 0.068370  [12800/60000]\n",
            "loss: 0.160608  [19200/60000]\n",
            "loss: 0.175929  [25600/60000]\n",
            "loss: 0.360304  [32000/60000]\n",
            "loss: 0.182599  [38400/60000]\n",
            "loss: 0.209381  [44800/60000]\n",
            "loss: 0.200202  [51200/60000]\n",
            "loss: 0.154453  [57600/60000]\n",
            "Test Error: \n",
            " Accuracy: 89.6%, Avg loss:0.004916 \n",
            "\n",
            "Epoch 10\n",
            "-------------------------------\n",
            "loss: 0.114263  [    0/60000]\n",
            "loss: 0.219818  [ 6400/60000]\n",
            "loss: 0.068401  [12800/60000]\n",
            "loss: 0.156531  [19200/60000]\n",
            "loss: 0.175916  [25600/60000]\n",
            "loss: 0.359476  [32000/60000]\n",
            "loss: 0.179909  [38400/60000]\n",
            "loss: 0.201725  [44800/60000]\n",
            "loss: 0.196476  [51200/60000]\n",
            "loss: 0.150995  [57600/60000]\n",
            "Test Error: \n",
            " Accuracy: 89.6%, Avg loss:0.004928 \n",
            "\n",
            "Done!\n"
          ],
          "name": "stdout"
        }
      ]
    },
    {
      "cell_type": "code",
      "metadata": {
        "colab": {
          "base_uri": "https://localhost:8080/"
        },
        "id": "SFh41Q7Hwwh5",
        "outputId": "5e280b8c-00b6-438b-864b-7025c645febb"
      },
      "source": [
        "torch.save(model.state_dict(), 'model.pth')\r\n",
        "print('Model saved to model.pth')"
      ],
      "execution_count": 100,
      "outputs": [
        {
          "output_type": "stream",
          "text": [
            "Model saved to model.pth\n"
          ],
          "name": "stdout"
        }
      ]
    },
    {
      "cell_type": "code",
      "metadata": {
        "colab": {
          "base_uri": "https://localhost:8080/"
        },
        "id": "RwL3aDn_yEkG",
        "outputId": "a8c253cf-6db6-4d1e-8a71-e4dd52027263"
      },
      "source": [
        "model = NeuralNetwork()\r\n",
        "model.load_state_dict(torch.load('model.pth'))"
      ],
      "execution_count": 101,
      "outputs": [
        {
          "output_type": "execute_result",
          "data": {
            "text/plain": [
              "<All keys matched successfully>"
            ]
          },
          "metadata": {
            "tags": []
          },
          "execution_count": 101
        }
      ]
    },
    {
      "cell_type": "code",
      "metadata": {
        "colab": {
          "base_uri": "https://localhost:8080/",
          "height": 392
        },
        "id": "C36OzRaXyXLa",
        "outputId": "4aec5bc7-dfa7-442a-9507-9efdce7b598a"
      },
      "source": [
        "classes = [\r\n",
        "    \"T-shirt/top\",\r\n",
        "    \"Trouser\",\r\n",
        "    \"Pullover\",\r\n",
        "    \"Dress\",\r\n",
        "    \"Coat\",\r\n",
        "    \"Sandal\",\r\n",
        "    \"Shirt\",\r\n",
        "    \"Sneaker\",\r\n",
        "    \"Bag\",\r\n",
        "    \"Ankle boot\",\r\n",
        "]\r\n",
        "idx = np.random.randint(len(testing_data))\r\n",
        "X, y = testing_data[idx][0], testing_data[idx][1]\r\n",
        "with torch.no_grad():\r\n",
        "  pred = model(X[None,:,:,:])\r\n",
        "  predicted, actual = classes[pred[0].argmax(0)], classes[y]\r\n",
        "  print(f'Predicted: \"{predicted}\", Actual: \"{actual}\"')\r\n",
        "  fig, ax = plt.subplots(figsize=(6,6))\r\n",
        "  ax.imshow(np.reshape(X.numpy(), (28, 28)), cmap='Greys')"
      ],
      "execution_count": 115,
      "outputs": [
        {
          "output_type": "stream",
          "text": [
            "Predicted: \"Pullover\", Actual: \"Pullover\"\n"
          ],
          "name": "stdout"
        },
        {
          "output_type": "display_data",
          "data": {
            "image/png": "[encoded data removed]",
            "text/plain": [
              "<Figure size 432x432 with 1 Axes>"
            ]
          },
          "metadata": {
            "tags": [],
            "needs_background": "light"
          }
        }
      ]
    },
    {
      "cell_type": "code",
      "metadata": {
        "id": "j0S0uKgEzDCC"
      },
      "source": [
        ""
      ],
      "execution_count": null,
      "outputs": []
    }
  ]
}